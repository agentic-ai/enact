{
 "cells": [
  {
   "cell_type": "markdown",
   "metadata": {},
   "source": [
    "# Generic Monte-Carlo Tree Search for Poetry Generation \n",
    "\n",
    "This notebooks shows how enact can be used to instantiate a generic monte-carlo\n",
    "tree search (applicable to any scaffolding program) and apply it to example of\n",
    "line-by-line poetry generation. The result is a search process that spends more\n",
    "time exploring promising poetic direction."
   ]
  },
  {
   "cell_type": "markdown",
   "metadata": {},
   "source": [
    "## Prerequisites and API keys"
   ]
  },
  {
   "cell_type": "code",
   "execution_count": 10,
   "metadata": {},
   "outputs": [
    {
     "name": "stdout",
     "output_type": "stream",
     "text": [
      "\n",
      "\u001b[1m[\u001b[0m\u001b[34;49mnotice\u001b[0m\u001b[1;39;49m]\u001b[0m\u001b[39;49m A new release of pip is available: \u001b[0m\u001b[31;49m24.0\u001b[0m\u001b[39;49m -> \u001b[0m\u001b[32;49m24.1.1\u001b[0m\n",
      "\u001b[1m[\u001b[0m\u001b[34;49mnotice\u001b[0m\u001b[1;39;49m]\u001b[0m\u001b[39;49m To update, run: \u001b[0m\u001b[32;49mpip install --upgrade pip\u001b[0m\n",
      "Note: you may need to restart the kernel to use updated packages.\n",
      "\n",
      "\u001b[1m[\u001b[0m\u001b[34;49mnotice\u001b[0m\u001b[1;39;49m]\u001b[0m\u001b[39;49m A new release of pip is available: \u001b[0m\u001b[31;49m24.0\u001b[0m\u001b[39;49m -> \u001b[0m\u001b[32;49m24.1.1\u001b[0m\n",
      "\u001b[1m[\u001b[0m\u001b[34;49mnotice\u001b[0m\u001b[1;39;49m]\u001b[0m\u001b[39;49m To update, run: \u001b[0m\u001b[32;49mpip install --upgrade pip\u001b[0m\n",
      "Note: you may need to restart the kernel to use updated packages.\n",
      "\n",
      "\u001b[1m[\u001b[0m\u001b[34;49mnotice\u001b[0m\u001b[1;39;49m]\u001b[0m\u001b[39;49m A new release of pip is available: \u001b[0m\u001b[31;49m24.0\u001b[0m\u001b[39;49m -> \u001b[0m\u001b[32;49m24.1.1\u001b[0m\n",
      "\u001b[1m[\u001b[0m\u001b[34;49mnotice\u001b[0m\u001b[1;39;49m]\u001b[0m\u001b[39;49m To update, run: \u001b[0m\u001b[32;49mpip install --upgrade pip\u001b[0m\n",
      "Note: you may need to restart the kernel to use updated packages.\n",
      "\n",
      "\u001b[1m[\u001b[0m\u001b[34;49mnotice\u001b[0m\u001b[1;39;49m]\u001b[0m\u001b[39;49m A new release of pip is available: \u001b[0m\u001b[31;49m24.0\u001b[0m\u001b[39;49m -> \u001b[0m\u001b[32;49m24.1.1\u001b[0m\n",
      "\u001b[1m[\u001b[0m\u001b[34;49mnotice\u001b[0m\u001b[1;39;49m]\u001b[0m\u001b[39;49m To update, run: \u001b[0m\u001b[32;49mpip install --upgrade pip\u001b[0m\n",
      "Note: you may need to restart the kernel to use updated packages.\n"
     ]
    }
   ],
   "source": [
    "%pip install enact --quiet\n",
    "%pip install openai --quiet\n",
    "%pip install randomname --quiet\n",
    "%pip install tqdm --quiet"
   ]
  },
  {
   "cell_type": "code",
   "execution_count": 11,
   "metadata": {},
   "outputs": [],
   "source": [
    "import asyncio\n",
    "import re\n",
    "from typing import Awaitable\n",
    "\n",
    "import enact       # Journaled executions\n",
    "import openai      # GPT API\n",
    "import randomname  # Extra randomness for prompt.\n",
    "import tqdm        # progress bar\n",
    "\n",
    "import common      # API keys\n",
    "\n",
    "\n",
    "# Read from file or env variable.\n",
    "openai.api_key = common.OPENAI_API_KEY.get()\n",
    "\n"
   ]
  },
  {
   "cell_type": "markdown",
   "metadata": {},
   "source": [
    "## Defining a line-by-line poetry generator\n",
    "\n",
    "We first define our scaffolding program: a line-by-line poetry generator which\n",
    "autoregressively calls GPT in a for-loop."
   ]
  },
  {
   "cell_type": "code",
   "execution_count": 19,
   "metadata": {},
   "outputs": [],
   "source": [
    "class Failed(enact.ExceptionResource):\n",
    "  \"\"\"Raised when a subtask fails.\"\"\"\n",
    "\n",
    "\n",
    "@enact.register  # Track this function's execution.\n",
    "async def gpt(prompt: str, temperature: float=1.0, model='gpt-4o') -> str:\n",
    "  \"\"\"Call the GPT completion API\"\"\"\n",
    "  client = openai.AsyncClient()\n",
    "  response = await client.chat.completions.create(\n",
    "    model=model,\n",
    "    messages=[{'role': 'system', 'content': prompt}],\n",
    "    temperature=temperature)\n",
    "  return response.choices[0].message.content\n",
    "\n",
    "\n",
    "@enact.register\n",
    "async def extend_poem(\n",
    "    poem: str, prompt: str, lines: int,\n",
    "    temperature: float = 1.0) -> str:\n",
    "  \"\"\"Extend the poem by one line.\"\"\"\n",
    "  line_index = len(poem.strip().split('\\n'))\n",
    "  gpt_prompt = f'''\n",
    "We are writing a poem for the prompt: {prompt}.\n",
    "\n",
    "This is the poem so far:\n",
    "\n",
    "{poem if poem else '<NEW POEM>'}\n",
    "\n",
    "Extend the poem by one single line. Respond only with the new line and say\n",
    "nothing else. This will be line nr {line_index + 1} out of a total of {lines}\n",
    "lines.\n",
    "\n",
    "Avoid cliches.\n",
    "\n",
    "Respond only with one line.\n",
    "\n",
    "Ignore the following random seed words:\n",
    "{', '.join(randomname.generate('nouns/') for _ in range(10))}\n",
    "'''\n",
    "  result = await gpt(gpt_prompt, temperature)\n",
    "  lines = result.strip().split('\\n')\n",
    "  if len(lines) != 1:\n",
    "    raise Failed('Responded with more than one line')\n",
    "  line: str = lines[0]\n",
    "  line = line.strip('\"\\'').strip()\n",
    "  return poem + f'\\n{line}'\n",
    "\n",
    "@enact.register\n",
    "async def generate_poem(prompt: str, lines: int) -> str:\n",
    "  \"\"\"Generate a poem line by line.\"\"\"\n",
    "  poem = ''\n",
    "  for _ in range(lines):\n",
    "    poem = await extend_poem(poem, prompt, lines)\n",
    "  return poem\n"
   ]
  },
  {
   "cell_type": "markdown",
   "metadata": {},
   "source": [
    "Our poetry generator can be run as follows, although it may sometimes fail,\n",
    "e.g., when GPT produces output in a wrong format."
   ]
  },
  {
   "cell_type": "code",
   "execution_count": 21,
   "metadata": {},
   "outputs": [
    {
     "name": "stdout",
     "output_type": "stream",
     "text": [
      "\n",
      "Dark trees whisper secrets; shadows stretch in cold embrace.\n",
      "Moonlight seeps through branches, dreams lost in labyrinthine space.\n"
     ]
    }
   ],
   "source": [
    "try:\n",
    "  two_line_poem = await generate_poem(\n",
    "    'a two line poem inspired by the cure song \"a forest\"', lines=2)\n",
    "  print(two_line_poem)\n",
    "except Exception as e:\n",
    "  print(f'Failed with \"{e}\". Try again.')"
   ]
  },
  {
   "cell_type": "markdown",
   "metadata": {},
   "source": [
    "## Define a critic\n",
    "\n",
    "We would like to search the space of possible executions of our `generate_poem`\n",
    "function. In order to do so, we need to define a scoring function that can\n",
    "assign a numeric value to generated poems. We use another call to GPT for this."
   ]
  },
  {
   "cell_type": "code",
   "execution_count": 22,
   "metadata": {},
   "outputs": [],
   "source": [
    "DEFAULT_EXAMPLES =\"\"\"\n",
    "Example 1:\n",
    "\n",
    "\"Do not go gentle into that good night,\n",
    "Old age should burn and rave at close of day;\n",
    "Rage, rage against the dying of the light.\n",
    "\n",
    "Though wise men at their end know dark is right,\n",
    "Because their words had forked no lightning they\n",
    "Do not go gentle into that good night.\"\n",
    "\n",
    "SCORE: 10.0\n",
    "\n",
    "Example 2:\n",
    "\n",
    "\"To fling my arms wide\n",
    "In some place of the sun,\n",
    "To whirl and to dance\n",
    "Till the white day is done.\n",
    "Then rest at cool evening\n",
    "Beneath a tall tree\n",
    "While night comes on gently,\n",
    "    Dark like me—\n",
    "That is my dream!\"\n",
    "\n",
    "SCORE: 8.3\n",
    "\n",
    "Example 3:\n",
    "\n",
    "\"A winter wonderland, draped in pure white.\n",
    "The snowflakes dance, in the pale moonlight.\n",
    "Shimmering crystals, glistening so bright.\n",
    "Blankets of snow, whispering secrets of the night.\"\n",
    "\n",
    "SCORE: 3.1\n",
    "\n",
    "\"\"\"\n",
    "\n",
    "@enact.register\n",
    "async def score_poem(poem: str, examples: str=DEFAULT_EXAMPLES) -> float:\n",
    "  gpt_prompt: str = f'''\n",
    "You are a sophisticated poetry critic. Score the following poem on a scale from\n",
    "0 to 10, where 0 is the worst poem and 10 is the best poem. You are a harsh\n",
    "critic and hate awkward, tryhard phrasings. Scores from 4-6 are decent poem\n",
    "written by a english lit major. 7 and above are publishable quality. Use 8 and 9\n",
    "for excellent poems. A score of ten is reserved for masterpieces. You pay\n",
    "particular attention to the rhythm of a poem.\n",
    "\n",
    "{examples}\n",
    "\n",
    "Respond in the following format:\n",
    "\n",
    "<short summary of positive and negatives. no longer than a line>\n",
    "SCORE: <score>\n",
    "\n",
    "This is the poem:\n",
    "{poem}\n",
    "'''\n",
    "  score = await gpt(gpt_prompt, 1.1)\n",
    "  return float(re.search(r'SCORE: ([\\d\\.]+)', score).group(1))\n"
   ]
  },
  {
   "cell_type": "markdown",
   "metadata": {},
   "source": [
    "We can apply our poetry critic to the poem we generated earlier:"
   ]
  },
  {
   "cell_type": "code",
   "execution_count": 23,
   "metadata": {},
   "outputs": [
    {
     "name": "stdout",
     "output_type": "stream",
     "text": [
      "\n",
      "Dark trees whisper secrets; shadows stretch in cold embrace.\n",
      "Moonlight seeps through branches, dreams lost in labyrinthine space.\n",
      "Score: 5.2\n"
     ]
    }
   ],
   "source": [
    "try:\n",
    "  print(two_line_poem)\n",
    "  print(f'Score: {await score_poem(two_line_poem)}')\n",
    "except Exception as e:\n",
    "  print(f'Try again. Scoring failed with: {e}')"
   ]
  },
  {
   "cell_type": "markdown",
   "metadata": {},
   "source": [
    "## Implementing Monte Carlo Tree Search\n",
    "\n",
    "Enact can rewind and replay executions of registered python functions.  We can\n",
    "use this to explore the space of possible program executions using Monte Carlo\n",
    "Tree Search.\n"
   ]
  },
  {
   "cell_type": "code",
   "execution_count": 24,
   "metadata": {},
   "outputs": [],
   "source": [
    "import dataclasses\n",
    "from typing import Callable, Dict, List, Optional\n",
    "import numpy as np\n",
    "\n",
    "\n",
    "# Increase this number for more exploration\n",
    "EXPLORATION_AMOUNT = 3\n",
    "# Increase this to explore more from the root node,\n",
    "# i.e., to create more new poems from scratch.\n",
    "EXPLORE_ROOT_NODE = 1\n",
    "# Conservative quality prior to add for bootstrapped LCB. This penalizes\n",
    "# poems that we haven't thouroughly explored yet.\n",
    "LCB_PRIOR = [1.0]\n",
    "# Sample node with highest UCB at this temperature. If set to 0, always picks\n",
    "# the max UCB node.\n",
    "SAMPLING_TEMPERATURE=0.25\n",
    "\n",
    "# How many parallel calls.\n",
    "PARALLELISM=5\n",
    "\n",
    "\n",
    "@enact.register\n",
    "@dataclasses.dataclass\n",
    "class Node(enact.Resource):\n",
    "  invocation: enact.Invocation  # A (possibly-partial) execution.\n",
    "  parent: Optional['Node']      # The parent node.\n",
    "  scores: List[float]           # List of scores for this subtree.\n",
    "\n",
    "  @property\n",
    "  def tree_ucb(self) -> float:\n",
    "    \"\"\"Computes a heuristic UCB on scores for tree search.\"\"\"\n",
    "    if not self.parent:\n",
    "      num_parent_scores = EXPLORE_ROOT_NODE * len(self.scores)\n",
    "    else:\n",
    "      num_parent_scores = len(self.parent.scores)\n",
    "    return np.mean(self.scores) + EXPLORATION_AMOUNT * np.sqrt(\n",
    "      np.log(1e-2 + num_parent_scores) / len(self.scores))\n",
    "\n",
    "  @property\n",
    "  def lcb(self) -> float:\n",
    "    \"\"\"Computes a lower confidence bound on scores.\"\"\"\n",
    "    scores = self.scores\n",
    "    scores = scores + LCB_PRIOR\n",
    "\n",
    "    return  np.percentile(\n",
    "      np.mean(np.random.choice(\n",
    "        scores, (10000, len(scores))), axis=1),\n",
    "      30.0)\n",
    "\n",
    "\n",
    "@enact.register\n",
    "@dataclasses.dataclass\n",
    "class MCTS(enact.Resource):\n",
    "  \"\"\"A generic implementation for MCTS over abitrary scaffolding programs.\"\"\"\n",
    "  scorer: Callable[[str], Awaitable[float]]\n",
    "  nodes: Dict[str, Node] = dataclasses.field(\n",
    "    default_factory=dict)\n",
    "\n",
    "  async def add(\n",
    "      self,\n",
    "      invocation: enact.Invocation):\n",
    "    \"\"\"Add an invocation to the MCTS tree.\"\"\"\n",
    "    child = None\n",
    "    score = await self.compute_score(invocation)\n",
    "    # Propagate scores up the invocation tree.\n",
    "    while True:\n",
    "      cur = enact.commit(invocation)\n",
    "      node = self.nodes.setdefault(cur.id, Node(invocation, None, []))\n",
    "      node.scores.append(score)\n",
    "      if child:\n",
    "        child.parent = node\n",
    "      child = node\n",
    "      if not invocation.response().children:\n",
    "        break\n",
    "      invocation = invocation.rewind()  # Generate execution prefix.\n",
    "    return score\n",
    "\n",
    "  def next_node(self):\n",
    "    \"\"\"Select next node according to highest UCB.\"\"\"\n",
    "    ucbs = np.array([node.tree_ucb for node in self.nodes.values()])\n",
    "    if not SAMPLING_TEMPERATURE:\n",
    "      idx = np.argmax(ucbs)\n",
    "    else:\n",
    "      softmax_ps = np.exp(ucbs / SAMPLING_TEMPERATURE) / np.sum(\n",
    "        np.exp(ucbs / SAMPLING_TEMPERATURE))\n",
    "      idx = np.random.choice(len(ucbs), p=softmax_ps)\n",
    "    return list(self.nodes.values())[idx]\n",
    "\n",
    "  async def compute_score(self, invocation: enact.Invocation) -> float:\n",
    "    \"\"\"Assign a score to the invocation.\"\"\"\n",
    "    if not invocation.successful():\n",
    "      return -1.0\n",
    "    try:\n",
    "      return await self.scorer(invocation.get_output())\n",
    "    except enact.InputRequest:\n",
    "      raise\n",
    "    except:\n",
    "      raise Failed\n",
    "\n",
    "  @enact.register\n",
    "  async def step(self):\n",
    "    \"\"\"Run one step of MCTS and return generated output and score.\"\"\"\n",
    "    assert self.nodes, 'Please call add before step.'\n",
    "    node = self.next_node()\n",
    "    if node.invocation.response().children:\n",
    "      print(f'\\nContinuing partial invocation:\\n{node.invocation.response().children[-1]().get_output()}')\n",
    "    else:\n",
    "      print(f'\\nCreating new root invocation')\n",
    "    invocation = await self.replay(node.invocation)\n",
    "    score = await self.add(invocation)\n",
    "    if invocation.successful():\n",
    "      print(f'== New invocation:\\n{invocation.get_output()}')\n",
    "      print(f'== Score: {score}')\n",
    "      print()\n",
    "      return invocation.get_output(), score\n",
    "\n",
    "  @enact.register\n",
    "  async def invoke(self, fun: Callable, args=(), kwargs=None):\n",
    "    \"\"\"Wrap invocation in a registered function, since it is non-deterministic.\"\"\"\n",
    "    return await enact.invoke_async(fun, args=args, kwargs=kwargs)\n",
    "\n",
    "  @enact.register\n",
    "  async def replay(self, invocation: enact.Invocation) -> enact.Invocation:\n",
    "    \"\"\"Wrap replay in a registered function, since it is non-deterministic.\"\"\"\n",
    "    return await invocation.replay_async()\n",
    "\n",
    "  @enact.register\n",
    "  async def add_seed(self, fun, args=(), kwargs=None):\n",
    "    \"\"\"Add a seed invocation. Return success.\"\"\"\n",
    "    invocation = await self.invoke(fun, args=args, kwargs=kwargs)\n",
    "    if not invocation.successful():\n",
    "      return False\n",
    "    try:\n",
    "      score = await self.add(invocation)\n",
    "      print(f'== Added seed invocation:\\n{invocation.get_output()}')\n",
    "      print(f'== Score: {score}')\n",
    "      print()\n",
    "    except Failed:\n",
    "      return False\n",
    "    return True\n",
    "\n",
    "  @enact.register\n",
    "  async def run(self, fun, args=(), kwargs=None, seeds=5, iterations=100):\n",
    "    \"\"\"Run MCTS for a given number of iterations.\"\"\"\n",
    "    print('Creating seed poems')\n",
    "    await asyncio.gather(\n",
    "      *[self.add_seed(fun, args=args, kwargs=kwargs)\n",
    "        for _ in range(seeds)])\n",
    "\n",
    "    if not self.nodes:\n",
    "      raise Failed('Could not find a successful seed invocation.')\n",
    "\n",
    "    current_tasks: List[asyncio.Task] = []\n",
    "    for _ in tqdm.trange(max(iterations - PARALLELISM, 1), desc='Running MCTS'):\n",
    "      current_tasks = [t for t in current_tasks if not t.done()]\n",
    "      while len(current_tasks) < PARALLELISM:\n",
    "        current_tasks.append(asyncio.create_task(self.step()))\n",
    "      done, _ = await asyncio.wait(current_tasks, return_when=asyncio.FIRST_COMPLETED)\n",
    "      for d in done:\n",
    "        try:\n",
    "          await d\n",
    "        except Failed:\n",
    "          continue\n",
    "    for t in current_tasks:\n",
    "      try:\n",
    "        await t\n",
    "      except Failed:\n",
    "        continue\n",
    "\n",
    "  def highest_lcb(self):\n",
    "    \"\"\"Return the highest LCB output.\"\"\"\n",
    "    success_nodes = [node for node in self.nodes.values() if node.invocation.successful()]\n",
    "    if not success_nodes:\n",
    "      return None\n",
    "    return max(success_nodes, key=lambda node: node.lcb).invocation.get_output()\n",
    "\n",
    "  def highest_mean(self):\n",
    "    \"\"\"Return the output with the higest mean score.\"\"\"\n",
    "    success_nodes = [node for node in self.nodes.values() if node.invocation.successful()]\n",
    "    if not success_nodes:\n",
    "      return None\n",
    "    return max(success_nodes, key=lambda node: np.mean(node.scores)).invocation.get_output()\n",
    "\n",
    "  def most_visited(self):\n",
    "    \"\"\"Return the output that was visited the most.\"\"\"\n",
    "    success_nodes = [node for node in self.nodes.values() if node.invocation.successful()]\n",
    "    if not success_nodes:\n",
    "      return None\n",
    "    return max(success_nodes, key=lambda node: len(node.scores)).invocation.get_output()"
   ]
  },
  {
   "cell_type": "markdown",
   "metadata": {},
   "source": [
    "Enact requires a store object in which calltraces (including inputs and outputs)\n",
    "are stored."
   ]
  },
  {
   "cell_type": "code",
   "execution_count": 25,
   "metadata": {},
   "outputs": [],
   "source": [
    "store = enact.InMemoryStore()"
   ]
  },
  {
   "cell_type": "markdown",
   "metadata": {},
   "source": [
    "We can now run MCTS for a set number of iterations using our automatic scoring."
   ]
  },
  {
   "cell_type": "code",
   "execution_count": 26,
   "metadata": {},
   "outputs": [
    {
     "name": "stdout",
     "output_type": "stream",
     "text": [
      "Creating seed poems\n",
      "== Added seed invocation:\n",
      "\n",
      "Whispers through the trees like a solemn song\n",
      "The night spreads its cloak, dusk's tendrils drawn.\n",
      "In search of truth where shadows belong.\n",
      "Lost in the maze where memories throng.\n",
      "== Score: 5.2\n",
      "\n",
      "== Added seed invocation:\n",
      "\n",
      "Shadows drape like whispers through the trees\n",
      "Heartbeats sync with the rustling leaves\n",
      "A path unfolds where moonlight deceives\n",
      "Breath of night, an echo no one believes\n",
      "== Score: 5.8\n",
      "\n",
      "== Added seed invocation:\n",
      "\n",
      "Shadows move where light cannot reach,\n",
      "Whispering secrets to the ancient trees,\n",
      "Lost in the labyrinth of the forest's call,\n",
      "Echoes of footsteps that never fall.\n",
      "== Score: 4.3\n",
      "\n",
      "== Added seed invocation:\n",
      "\n",
      "Whispers through trees where shadows play tricks\n",
      "Footsteps fall in patterns, merging with the night\n",
      "A heart beats faster, lost in nature's maze\n",
      "Lured by a phantom that dances just out of sight\n",
      "== Score: 5.2\n",
      "\n",
      "== Added seed invocation:\n",
      "\n",
      "Lost 'neath the tangled canopy of night\n",
      "I wander through shadows, where moonlight lies slight.\n",
      "Each whispering leaf tells secrets in flight,\n",
      "Leading me deeper, far from human sight.\n",
      "== Score: 6.5\n",
      "\n",
      "== Added seed invocation:\n",
      "\n",
      "In the shadows where echoes of whispers grow.\n",
      "Through tangled dreams where moonlit secrets flow.\n",
      "Distant murmurs weave through the midnight's hollow.\n",
      "In the depths of the trees, where lost souls follow.\n",
      "== Score: 5.7\n",
      "\n",
      "== Added seed invocation:\n",
      "\n",
      "Shadows beckon with secrets that we failed to unearth,\n",
      "In the twilight whisper of leaves, our echoes search.\n",
      "Moonlight weaves a tale of longing through the murmuring birch,\n",
      "Beneath the tangled branches, lost paths gently lurch.\n",
      "== Score: 5.7\n",
      "\n",
      "== Added seed invocation:\n",
      "\n",
      "A path unfolds where shadows have dwelled\n",
      "Through the whispering trees, where secrets are held\n",
      "Moonlight dances, ancient stories compelled\n",
      "A forest's heart beats, a mystery unshelled\n",
      "== Score: 5.5\n",
      "\n",
      "== Added seed invocation:\n",
      "\n",
      "In tangled branches, whispers breathe the night,\n",
      "Moonlight weaves a phantom of elusive sight,\n",
      "Shadows dance with secrets in their twilight flight,\n",
      "A siren calls from depths where silent fears ignite.\n",
      "== Score: 6.7\n",
      "\n",
      "== Added seed invocation:\n",
      "\n",
      "A path unraveling under a canopy of whispers,\n",
      "Each step a secret, where shadows cast their sorcery,\n",
      "Through twist and twilight, where night croons its mystery,\n",
      "In the silence between the trees, an ancient longing stirs.\n",
      "== Score: 6.2\n",
      "\n"
     ]
    },
    {
     "name": "stderr",
     "output_type": "stream",
     "text": [
      "Running MCTS:   0%|          | 0/95 [00:00<?, ?it/s]"
     ]
    },
    {
     "name": "stdout",
     "output_type": "stream",
     "text": [
      "\n",
      "Continuing partial invocation:\n",
      "\n",
      "A path unraveling under a canopy of whispers,\n",
      "\n",
      "Continuing partial invocation:\n",
      "\n",
      "Lost 'neath the tangled canopy of night\n",
      "\n",
      "Continuing partial invocation:\n",
      "\n",
      "Lost 'neath the tangled canopy of night\n",
      "\n",
      "Continuing partial invocation:\n",
      "\n",
      "In tangled branches, whispers breathe the night,\n",
      "\n",
      "Continuing partial invocation:\n",
      "\n",
      "In tangled branches, whispers breathe the night,\n"
     ]
    },
    {
     "name": "stderr",
     "output_type": "stream",
     "text": [
      "Running MCTS:   3%|▎         | 3/95 [00:02<01:04,  1.42it/s]"
     ]
    },
    {
     "name": "stdout",
     "output_type": "stream",
     "text": [
      "== New invocation:\n",
      "\n",
      "A path unraveling under a canopy of whispers,\n",
      "Drawing me into a maze where shadows linger.\n",
      "The scent of moss and earth weaving tales of forgotten paths.\n",
      "Moonlight threads through branches, painting silver on secrets untold.\n",
      "== Score: 5.8\n",
      "\n",
      "\n",
      "Continuing partial invocation:\n",
      "\n",
      "In tangled branches, whispers breathe the night,\n",
      "== New invocation:\n",
      "\n",
      "Lost 'neath the tangled canopy of night\n",
      "I wander deeper, whispers pull me tight\n",
      "Shadows twist and dance, obscure my sight\n",
      "Roots conspire unseen in their ancient rite\n",
      "== Score: 6.7\n",
      "\n",
      "\n",
      "Continuing partial invocation:\n",
      "\n",
      "In tangled branches, whispers breathe the night,\n",
      "== New invocation:\n",
      "\n",
      "In tangled branches, whispers breathe the night,\n",
      "A shadowed path where moonlight casts its fright,\n",
      "Between the trees, a haunting song takes flight,\n",
      "Where echoes of the lost and longing wight.\n",
      "== Score: 5.8\n",
      "\n",
      "\n",
      "Continuing partial invocation:\n",
      "\n",
      "A path unfolds where shadows have dwelled\n"
     ]
    },
    {
     "name": "stderr",
     "output_type": "stream",
     "text": [
      "Running MCTS:   5%|▌         | 5/95 [00:03<00:40,  2.24it/s]"
     ]
    },
    {
     "name": "stdout",
     "output_type": "stream",
     "text": [
      "== New invocation:\n",
      "\n",
      "Lost 'neath the tangled canopy of night\n",
      "A whispering maze where moonlight hides its flight\n",
      "Silent steps chase shadows, hearts steeped in fright\n",
      "Hopes flicker like fireflies in an endless rite\n",
      "== Score: 5.0\n",
      "\n",
      "\n",
      "Continuing partial invocation:\n",
      "\n",
      "Shadows drape like whispers through the trees\n",
      "== New invocation:\n",
      "\n",
      "In tangled branches, whispers breathe the night,\n",
      "A distant call through shadowed trees takes flight,\n",
      "Drawing closer as the moon withdraws its light,\n",
      "In a forest dark, where dreams and fears unite.\n",
      "== Score: 6.5\n",
      "\n",
      "\n",
      "Continuing partial invocation:\n",
      "\n",
      "In the shadows where echoes of whispers grow.\n"
     ]
    },
    {
     "name": "stderr",
     "output_type": "stream",
     "text": [
      "Running MCTS:   6%|▋         | 6/95 [00:04<01:14,  1.20it/s]"
     ]
    },
    {
     "name": "stdout",
     "output_type": "stream",
     "text": [
      "== New invocation:\n",
      "\n",
      "A path unfolds where shadows have dwelled\n",
      "Leaves whisper secrets, their stories compelled\n",
      "Beneath the canopy, dreams weave and swell\n",
      "Under the moon’s watch, the silence is quelled\n",
      "== Score: 5.4\n",
      "\n",
      "\n",
      "Continuing partial invocation:\n",
      "\n",
      "Shadows beckon with secrets that we failed to unearth,\n"
     ]
    },
    {
     "name": "stderr",
     "output_type": "stream",
     "text": [
      "Running MCTS:   7%|▋         | 7/95 [00:05<01:05,  1.35it/s]"
     ]
    },
    {
     "name": "stdout",
     "output_type": "stream",
     "text": [
      "== New invocation:\n",
      "\n",
      "Shadows drape like whispers through the trees\n",
      "The moon's glow lost, consumed by ancient leaves\n",
      "Footsteps echo softly, secrets on the breeze\n",
      "An endless search for something that deceives\n",
      "== Score: 5.9\n",
      "\n",
      "\n",
      "Continuing partial invocation:\n",
      "\n",
      "In the shadows where echoes of whispers grow.\n",
      "== New invocation:\n",
      "\n",
      "In tangled branches, whispers breathe the night,\n",
      "A shadowed path where moonlight meets the fright,\n",
      "The heartbeat of the woods, a pulse of ancient might,\n",
      "Silent echoes draw me deep, out of sight.\n",
      "== Score: 5.8\n",
      "\n",
      "\n",
      "Continuing partial invocation:\n",
      "\n",
      "Shadows beckon with secrets that we failed to unearth,\n"
     ]
    },
    {
     "name": "stderr",
     "output_type": "stream",
     "text": [
      "Running MCTS:   9%|▉         | 9/95 [00:05<00:38,  2.25it/s]"
     ]
    },
    {
     "name": "stdout",
     "output_type": "stream",
     "text": [
      "== New invocation:\n",
      "\n",
      "In tangled branches, whispers breathe the night,\n",
      "While shadows dance, eclipsing all but flight,\n",
      "As moonlight filters, painting leaves with fright,\n",
      "Silent paths of longing lead hearts to ignite.\n",
      "== Score: 5.5\n",
      "\n",
      "\n",
      "Continuing partial invocation:\n",
      "\n",
      "In the shadows where echoes of whispers grow.\n"
     ]
    },
    {
     "name": "stderr",
     "output_type": "stream",
     "text": [
      "Running MCTS:  11%|█         | 10/95 [00:05<00:33,  2.50it/s]"
     ]
    },
    {
     "name": "stdout",
     "output_type": "stream",
     "text": [
      "== New invocation:\n",
      "\n",
      "In the shadows where echoes of whispers grow.\n",
      "A tapestry of leaves weaves secrets untold.\n",
      "Through twilight's embrace, the forest exhales its woe.\n",
      "Ancient trees stand as guardians, their stories enrolled.\n",
      "== Score: 5.4\n",
      "\n",
      "\n",
      "Continuing partial invocation:\n",
      "\n",
      "In tangled branches, whispers breathe the night,\n",
      "Moonlight weaves a phantom of elusive sight,\n"
     ]
    },
    {
     "name": "stderr",
     "output_type": "stream",
     "text": [
      "Running MCTS:  13%|█▎        | 12/95 [00:07<00:52,  1.58it/s]"
     ]
    },
    {
     "name": "stdout",
     "output_type": "stream",
     "text": [
      "== New invocation:\n",
      "\n",
      "In the shadows where echoes of whispers grow.\n",
      "Through endless trees, where moonlit secrets flow.\n",
      "Silent pathways twist where memories bestow.\n",
      "Nature's breath beckons, shadows in tow.\n",
      "== Score: 4.5\n",
      "\n",
      "\n",
      "Continuing partial invocation:\n",
      "\n",
      "Shadows beckon with secrets that we failed to unearth,\n",
      "== New invocation:\n",
      "\n",
      "Shadows beckon with secrets that we failed to unearth,\n",
      "Whispers of twilight weave through the tangled mirth,\n",
      "A labyrinth of memories lost in the emerald berth\n",
      "A silent waltz ensnares the night, led by fleeting dearth.\n",
      "== Score: 5.1\n",
      "\n",
      "\n",
      "Continuing partial invocation:\n",
      "\n",
      "Whispers through trees where shadows play tricks\n"
     ]
    },
    {
     "name": "stderr",
     "output_type": "stream",
     "text": [
      "Running MCTS:  14%|█▎        | 13/95 [00:08<00:40,  2.04it/s]"
     ]
    },
    {
     "name": "stdout",
     "output_type": "stream",
     "text": [
      "== New invocation:\n",
      "\n",
      "In tangled branches, whispers breathe the night,\n",
      "Moonlight weaves a phantom of elusive sight,\n",
      "Beneath the canopy's cloak, shadows take flight,\n",
      "Secrets echo in the silence, lost from light.\n",
      "== Score: 6.5\n",
      "\n",
      "\n",
      "Continuing partial invocation:\n",
      "\n",
      "Whispers through the trees like a solemn song\n"
     ]
    },
    {
     "name": "stderr",
     "output_type": "stream",
     "text": [
      "Running MCTS:  15%|█▍        | 14/95 [00:08<00:36,  2.23it/s]"
     ]
    },
    {
     "name": "stdout",
     "output_type": "stream",
     "text": [
      "== New invocation:\n",
      "\n",
      "In the shadows where echoes of whispers grow.\n",
      "Through tangled paths where the moon's silver embers glow.\n",
      "A shiver in branches; secrets the night won't show.\n",
      "Silent, the forest weaves dreams in an undertow.\n",
      "== Score: 5.2\n",
      "\n",
      "\n",
      "Continuing partial invocation:\n",
      "\n",
      "Whispers through trees where shadows play tricks\n",
      "== New invocation:\n",
      "\n",
      "Shadows beckon with secrets that we failed to unearth,\n",
      "Whispers of foliage hint at a path to rebirth,\n",
      "Weaving through branches, our breath joins the earth,\n",
      "Listening to echoes where the green shadows have worth.\n",
      "== Score: 5.6\n",
      "\n",
      "\n",
      "Continuing partial invocation:\n",
      "\n",
      "Lost 'neath the tangled canopy of night\n",
      "I wander deeper, whispers pull me tight\n"
     ]
    },
    {
     "name": "stderr",
     "output_type": "stream",
     "text": [
      "Running MCTS:  17%|█▋        | 16/95 [00:10<00:56,  1.40it/s]"
     ]
    },
    {
     "name": "stdout",
     "output_type": "stream",
     "text": [
      "== New invocation:\n",
      "\n",
      "Whispers through the trees like a solemn song\n",
      "Distant echoes of footsteps lead me along\n",
      "Where shadows dance, a maze where I belong\n",
      "Deeper into the twilight where lost hearts throng\n",
      "== Score: 5.2\n",
      "\n",
      "\n",
      "Continuing partial invocation:\n",
      "\n",
      "Whispers through trees where shadows play tricks\n",
      "== New invocation:\n",
      "\n",
      "Shadows beckon with secrets that we failed to unearth,\n",
      "Beneath a canopy of whispers, fear and wonder birth.\n",
      "Footfalls echo in twilight, lost between worlds unreal.\n",
      "Moonlight sifts through branches, cloaking paths they conceal.\n",
      "== Score: 6.8\n",
      "\n",
      "\n",
      "Continuing partial invocation:\n",
      "\n",
      "Whispers through trees where shadows play tricks\n",
      "== New invocation:\n",
      "\n",
      "Whispers through trees where shadows play tricks\n",
      "Mist draws a path where the moon's glow flickers\n",
      "Branches like fingers, the darkness grows thicker\n",
      "Pulses of secrets in the heart of hallowed woods\n",
      "== Score: 5.8\n",
      "\n",
      "\n",
      "Continuing partial invocation:\n",
      "\n",
      "In tangled branches, whispers breathe the night,\n",
      "A distant call through shadowed trees takes flight,\n"
     ]
    },
    {
     "name": "stderr",
     "output_type": "stream",
     "text": [
      "Running MCTS:  20%|██        | 19/95 [00:10<00:30,  2.49it/s]"
     ]
    },
    {
     "name": "stdout",
     "output_type": "stream",
     "text": [
      "== New invocation:\n",
      "\n",
      "Lost 'neath the tangled canopy of night\n",
      "I wander deeper, whispers pull me tight\n",
      "Shadows stretch long, secrets wrapped in light\n",
      "A flicker of truth in the glade's quiet sight\n",
      "== Score: 5.5\n",
      "\n",
      "\n",
      "Continuing partial invocation:\n",
      "\n",
      "Shadows beckon with secrets that we failed to unearth,\n",
      "Beneath a canopy of whispers, fear and wonder birth.\n"
     ]
    },
    {
     "name": "stderr",
     "output_type": "stream",
     "text": [
      "Running MCTS:  21%|██        | 20/95 [00:11<00:28,  2.59it/s]"
     ]
    },
    {
     "name": "stdout",
     "output_type": "stream",
     "text": [
      "== New invocation:\n",
      "\n",
      "Whispers through trees where shadows play tricks\n",
      "Lost in the maze, as the darkness thickens.\n",
      "A breathless pursuit where reality slips.\n",
      "Dreams intertwine with the night's cryptic mix.\n",
      "== Score: 5.4\n",
      "\n",
      "\n",
      "Continuing partial invocation:\n",
      "\n",
      "In tangled branches, whispers breathe the night,\n",
      "A distant call through shadowed trees takes flight,\n"
     ]
    },
    {
     "name": "stderr",
     "output_type": "stream",
     "text": [
      "Running MCTS:  22%|██▏       | 21/95 [00:12<00:49,  1.51it/s]"
     ]
    },
    {
     "name": "stdout",
     "output_type": "stream",
     "text": [
      "== New invocation:\n",
      "\n",
      "Shadows beckon with secrets that we failed to unearth,\n",
      "Beneath a canopy of whispers, fear and wonder birth.\n",
      "Footsteps, silent echoes, trace the paths of the moon's gentle mirth.\n",
      "Between the ancient trees, a labyrinthine curse reveals its worth.\n",
      "== Score: 5.7\n",
      "\n",
      "\n",
      "Continuing partial invocation:\n",
      "\n",
      "Shadows drape like whispers through the trees\n",
      "== New invocation:\n",
      "\n",
      "Whispers through trees where shadows play tricks\n",
      "Lost in the maze of autumn's eclipse\n",
      "Echoes of footsteps that vanish and mix\n",
      "With the scent of decay, the night's fingers fix\n",
      "== Score: 5.7\n",
      "\n",
      "\n",
      "Continuing partial invocation:\n",
      "\n",
      "Shadows move where light cannot reach,\n"
     ]
    },
    {
     "name": "stderr",
     "output_type": "stream",
     "text": [
      "Running MCTS:  24%|██▍       | 23/95 [00:13<00:32,  2.19it/s]"
     ]
    },
    {
     "name": "stdout",
     "output_type": "stream",
     "text": [
      "== New invocation:\n",
      "\n",
      "In tangled branches, whispers breathe the night,\n",
      "A distant call through shadowed trees takes flight,\n",
      "Drawn to the echoes where illusions come to tease,\n",
      "A labyrinth of verdant depths draws closer in the breeze.\n",
      "== Score: 6.8\n",
      "\n",
      "\n",
      "Continuing partial invocation:\n",
      "\n",
      "In tangled branches, whispers breathe the night,\n",
      "A shadowed path where moonlight meets the fright,\n"
     ]
    },
    {
     "name": "stderr",
     "output_type": "stream",
     "text": [
      "Running MCTS:  25%|██▌       | 24/95 [00:13<00:31,  2.22it/s]"
     ]
    },
    {
     "name": "stdout",
     "output_type": "stream",
     "text": [
      "== New invocation:\n",
      "\n",
      "In tangled branches, whispers breathe the night,\n",
      "A distant call through shadowed trees takes flight,\n",
      "Chasing secrets where the moon won’t cast its light,\n",
      "Lost in a labyrinth where echoes weave their plight.\n",
      "== Score: 7.5\n",
      "\n",
      "\n",
      "Continuing partial invocation:\n",
      "\n",
      "In tangled branches, whispers breathe the night,\n",
      "A distant call through shadowed trees takes flight,\n",
      "Chasing secrets where the moon won’t cast its light,\n"
     ]
    },
    {
     "name": "stderr",
     "output_type": "stream",
     "text": [
      "Running MCTS:  26%|██▋       | 25/95 [00:13<00:29,  2.36it/s]"
     ]
    },
    {
     "name": "stdout",
     "output_type": "stream",
     "text": [
      "== New invocation:\n",
      "\n",
      "Whispers through trees where shadows play tricks\n",
      "In twilight's embrace, our fears intermix\n",
      "Echoes of memories, the darkness inflicts\n",
      "Beneath the moon's gaze, our secrets transfix\n",
      "== Score: 5.2\n",
      "\n",
      "\n",
      "Continuing partial invocation:\n",
      "\n",
      "In tangled branches, whispers breathe the night,\n",
      "A distant call through shadowed trees takes flight,\n",
      "Chasing secrets where the moon won’t cast its light,\n"
     ]
    },
    {
     "name": "stderr",
     "output_type": "stream",
     "text": [
      "Running MCTS:  27%|██▋       | 26/95 [00:14<00:38,  1.78it/s]"
     ]
    },
    {
     "name": "stdout",
     "output_type": "stream",
     "text": [
      "== New invocation:\n",
      "\n",
      "In tangled branches, whispers breathe the night,\n",
      "A distant call through shadowed trees takes flight,\n",
      "Chasing secrets where the moon won’t cast its light,\n",
      "Lost in the depths where silence holds its sight.\n",
      "== Score: 6.5\n",
      "\n",
      "\n",
      "Continuing partial invocation:\n",
      "\n",
      "In tangled branches, whispers breathe the night,\n",
      "A distant call through shadowed trees takes flight,\n",
      "Chasing secrets where the moon won’t cast its light,\n",
      "Lost in a labyrinth where echoes weave their plight.\n",
      "== New invocation:\n",
      "\n",
      "Shadows drape like whispers through the trees\n",
      "Where moonlight flees and secrets tease\n",
      "A silhouette that no one sees\n",
      "Winding paths, where echoes breeze\n",
      "== Score: 5.9\n",
      "\n",
      "\n",
      "Continuing partial invocation:\n",
      "\n",
      "In tangled branches, whispers breathe the night,\n",
      "A distant call through shadowed trees takes flight,\n",
      "Drawn to the echoes where illusions come to tease,\n"
     ]
    },
    {
     "name": "stderr",
     "output_type": "stream",
     "text": [
      "Running MCTS:  29%|██▉       | 28/95 [00:15<00:31,  2.13it/s]"
     ]
    },
    {
     "name": "stdout",
     "output_type": "stream",
     "text": [
      "== New invocation:\n",
      "\n",
      "In tangled branches, whispers breathe the night,\n",
      "A distant call through shadowed trees takes flight,\n",
      "Chasing secrets where the moon won’t cast its light,\n",
      "Lost in a labyrinth where echoes weave their plight.\n",
      "== Score: 6.5\n",
      "\n",
      "\n",
      "Continuing partial invocation:\n",
      "\n",
      "In tangled branches, whispers breathe the night,\n",
      "While shadows dance, eclipsing all but flight,\n",
      "== New invocation:\n",
      "\n",
      "In tangled branches, whispers breathe the night,\n",
      "A distant call through shadowed trees takes flight,\n",
      "Chasing secrets where the moon won’t cast its light,\n",
      "Lost within the twilight, drawn to endless night.\n",
      "== Score: 5.2\n",
      "\n",
      "\n",
      "Continuing partial invocation:\n",
      "\n",
      "In tangled branches, whispers breathe the night,\n",
      "A distant call through shadowed trees takes flight,\n",
      "Drawn to the echoes where illusions come to tease,\n"
     ]
    },
    {
     "name": "stderr",
     "output_type": "stream",
     "text": [
      "Running MCTS:  33%|███▎      | 31/95 [00:16<00:23,  2.69it/s]"
     ]
    },
    {
     "name": "stdout",
     "output_type": "stream",
     "text": [
      "== New invocation:\n",
      "\n",
      "In tangled branches, whispers breathe the night,\n",
      "A shadowed path where moonlight meets the fright,\n",
      "Lost in the labyrinth, where silence meets its height,\n",
      "Dark forms emerge, unseen, the trees hold tight.\n",
      "== Score: 5.8\n",
      "\n",
      "\n",
      "Continuing partial invocation:\n",
      "\n",
      "In tangled branches, whispers breathe the night,\n",
      "A distant call through shadowed trees takes flight,\n",
      "Drawing closer as the moon withdraws its light,\n",
      "== New invocation:\n",
      "\n",
      "In tangled branches, whispers breathe the night,\n",
      "A distant call through shadowed trees takes flight,\n",
      "Drawn to the echoes where illusions come to tease,\n",
      "In this labyrinth of dusk, I chase unseen release.\n",
      "== Score: 5.0\n",
      "\n",
      "\n",
      "Continuing partial invocation:\n",
      "\n",
      "In tangled branches, whispers breathe the night,\n",
      "A distant call through shadowed trees takes flight,\n",
      "Drawing closer as the moon withdraws its light,\n",
      "== New invocation:\n",
      "\n",
      "Shadows move where light cannot reach,\n",
      "In the quiet dance of the trees’ speech,\n",
      "Echoes murmur of secrets we beseech,\n",
      "Through the mist, a haunting call we breach.\n",
      "== Score: 5.8\n",
      "\n",
      "\n",
      "Continuing partial invocation:\n",
      "\n",
      "In tangled branches, whispers breathe the night,\n",
      "While shadows dance, eclipsing all but flight,\n"
     ]
    },
    {
     "name": "stderr",
     "output_type": "stream",
     "text": [
      "Running MCTS:  35%|███▍      | 33/95 [00:16<00:21,  2.86it/s]"
     ]
    },
    {
     "name": "stdout",
     "output_type": "stream",
     "text": [
      "== New invocation:\n",
      "\n",
      "In tangled branches, whispers breathe the night,\n",
      "A distant call through shadowed trees takes flight,\n",
      "Drawn to the echoes where illusions come to tease,\n",
      "I chase a specter lost among the leaves.\n",
      "== Score: 6.7\n",
      "\n",
      "\n",
      "Continuing partial invocation:\n",
      "\n",
      "In tangled branches, whispers breathe the night,\n",
      "While shadows dance, eclipsing all but flight,\n"
     ]
    },
    {
     "name": "stderr",
     "output_type": "stream",
     "text": [
      "Running MCTS:  36%|███▌      | 34/95 [00:17<00:23,  2.57it/s]"
     ]
    },
    {
     "name": "stdout",
     "output_type": "stream",
     "text": [
      "== New invocation:\n",
      "\n",
      "In tangled branches, whispers breathe the night,\n",
      "While shadows dance, eclipsing all but flight,\n",
      "The moon, a ghostly beacon, mourns its light,\n",
      "A forest calls, where silent secrets slept.\n",
      "== Score: 6.5\n",
      "\n",
      "\n",
      "Continuing partial invocation:\n",
      "\n",
      "In tangled branches, whispers breathe the night,\n",
      "A distant call through shadowed trees takes flight,\n",
      "Drawing closer as the moon withdraws its light,\n",
      "== New invocation:\n",
      "\n",
      "In tangled branches, whispers breathe the night,\n",
      "A distant call through shadowed trees takes flight,\n",
      "Drawing closer as the moon withdraws its light,\n",
      "Until the forest holds me in its sight.\n",
      "== Score: 6.9\n",
      "\n",
      "\n",
      "Continuing partial invocation:\n",
      "\n",
      "In tangled branches, whispers breathe the night,\n",
      "A shadowed path where moonlight casts its fright,\n"
     ]
    },
    {
     "name": "stderr",
     "output_type": "stream",
     "text": [
      "Running MCTS:  38%|███▊      | 36/95 [00:18<00:26,  2.23it/s]"
     ]
    },
    {
     "name": "stdout",
     "output_type": "stream",
     "text": [
      "== New invocation:\n",
      "\n",
      "In tangled branches, whispers breathe the night,\n",
      "While shadows dance, eclipsing all but flight,\n",
      "And footsteps lost to endless ageless rite,\n",
      "In twilight's grasp, the forest hides its light.\n",
      "== Score: 7.5\n",
      "\n",
      "\n",
      "Continuing partial invocation:\n",
      "\n",
      "In tangled branches, whispers breathe the night,\n",
      "A shadowed path where moonlight casts its fright,\n",
      "== New invocation:\n",
      "\n",
      "In tangled branches, whispers breathe the night,\n",
      "While shadows dance, eclipsing all but flight,\n",
      "Beneath the moon's pale eye, I chase the silent plight.\n",
      "Through endless twilight realms, my heart’s unyielding sight.\n",
      "== Score: 6.7\n",
      "\n",
      "\n",
      "Continuing partial invocation:\n",
      "\n",
      "In tangled branches, whispers breathe the night,\n",
      "A shadowed path where moonlight casts its fright,\n"
     ]
    },
    {
     "name": "stderr",
     "output_type": "stream",
     "text": [
      "Running MCTS:  40%|████      | 38/95 [00:18<00:18,  3.01it/s]"
     ]
    },
    {
     "name": "stdout",
     "output_type": "stream",
     "text": [
      "== New invocation:\n",
      "\n",
      "In tangled branches, whispers breathe the night,\n",
      "A distant call through shadowed trees takes flight,\n",
      "Drawing closer as the moon withdraws its light,\n",
      "A labyrinth of leaves sways in the fading sight.\n",
      "== Score: 5.2\n",
      "\n",
      "\n",
      "Continuing partial invocation:\n",
      "\n",
      "In tangled branches, whispers breathe the night,\n",
      "While shadows dance, eclipsing all but flight,\n",
      "And footsteps lost to endless ageless rite,\n"
     ]
    },
    {
     "name": "stderr",
     "output_type": "stream",
     "text": [
      "Running MCTS:  41%|████      | 39/95 [00:18<00:17,  3.25it/s]"
     ]
    },
    {
     "name": "stdout",
     "output_type": "stream",
     "text": [
      "== New invocation:\n",
      "\n",
      "In tangled branches, whispers breathe the night,\n",
      "A shadowed path where moonlight casts its fright,\n",
      "Unknown calls from depths beyond the sight,\n",
      "A heartbeat's echo lost in endless flight.\n",
      "== Score: 6.7\n",
      "\n",
      "\n",
      "Continuing partial invocation:\n",
      "\n",
      "In tangled branches, whispers breathe the night,\n",
      "While shadows dance, eclipsing all but flight,\n",
      "And footsteps lost to endless ageless rite,\n"
     ]
    },
    {
     "name": "stderr",
     "output_type": "stream",
     "text": [
      "Running MCTS:  42%|████▏     | 40/95 [00:19<00:17,  3.10it/s]"
     ]
    },
    {
     "name": "stdout",
     "output_type": "stream",
     "text": [
      "== New invocation:\n",
      "\n",
      "In tangled branches, whispers breathe the night,\n",
      "A distant call through shadowed trees takes flight,\n",
      "Drawing closer as the moon withdraws its light,\n",
      "Silent steps on earth, where echoes weave their fright.\n",
      "== Score: 6.5\n",
      "\n",
      "\n",
      "Continuing partial invocation:\n",
      "\n",
      "In tangled branches, whispers breathe the night,\n",
      "While shadows dance, eclipsing all but flight,\n",
      "And footsteps lost to endless ageless rite,\n"
     ]
    },
    {
     "name": "stderr",
     "output_type": "stream",
     "text": [
      "Running MCTS:  43%|████▎     | 41/95 [00:19<00:20,  2.58it/s]"
     ]
    },
    {
     "name": "stdout",
     "output_type": "stream",
     "text": [
      "== New invocation:\n",
      "\n",
      "In tangled branches, whispers breathe the night,\n",
      "While shadows dance, eclipsing all but flight,\n",
      "And footsteps lost to endless ageless rite,\n",
      "A spectral call that draws the soul from light.\n",
      "== Score: 6.2\n",
      "\n",
      "\n",
      "Continuing partial invocation:\n",
      "\n",
      "A path unraveling under a canopy of whispers,\n"
     ]
    },
    {
     "name": "stderr",
     "output_type": "stream",
     "text": [
      "Running MCTS:  45%|████▌     | 43/95 [00:20<00:18,  2.79it/s]"
     ]
    },
    {
     "name": "stdout",
     "output_type": "stream",
     "text": [
      "== New invocation:\n",
      "\n",
      "In tangled branches, whispers breathe the night,\n",
      "While shadows dance, eclipsing all but flight,\n",
      "And footsteps lost to endless ageless rite,\n",
      "Where secrets lurk just out of dreamers' sight.\n",
      "== Score: 5.8\n",
      "\n",
      "\n",
      "Continuing partial invocation:\n",
      "\n",
      "In tangled branches, whispers breathe the night,\n",
      "While shadows dance, eclipsing all but flight,\n",
      "And footsteps lost to endless ageless rite,\n",
      "In twilight's grasp, the forest hides its light.\n",
      "== New invocation:\n",
      "\n",
      "In tangled branches, whispers breathe the night,\n",
      "A shadowed path where moonlight casts its fright,\n",
      "Through twilight veils, the heart begins its flight,\n",
      "As echoes waken dreams of endless height.\n",
      "== Score: 6.7\n",
      "\n",
      "\n",
      "Continuing partial invocation:\n",
      "\n",
      "In tangled branches, whispers breathe the night,\n",
      "While shadows dance, eclipsing all but flight,\n",
      "Beneath the moon's pale eye, I chase the silent plight.\n"
     ]
    },
    {
     "name": "stderr",
     "output_type": "stream",
     "text": [
      "Running MCTS:  47%|████▋     | 45/95 [00:21<00:16,  3.04it/s]"
     ]
    },
    {
     "name": "stdout",
     "output_type": "stream",
     "text": [
      "== New invocation:\n",
      "\n",
      "In tangled branches, whispers breathe the night,\n",
      "While shadows dance, eclipsing all but flight,\n",
      "And footsteps lost to endless ageless rite,\n",
      "Silvered haze enfolds, as moon's soft fingers light.\n",
      "== Score: 6.8\n",
      "\n",
      "\n",
      "Continuing partial invocation:\n",
      "\n",
      "In tangled branches, whispers breathe the night,\n",
      "While shadows dance, eclipsing all but flight,\n",
      "Beneath the moon's pale eye, I chase the silent plight.\n",
      "== New invocation:\n",
      "\n",
      "In tangled branches, whispers breathe the night,\n",
      "While shadows dance, eclipsing all but flight,\n",
      "And footsteps lost to endless ageless rite,\n",
      "In twilight's grasp, the forest hides its light.\n",
      "== Score: 5.9\n",
      "\n",
      "\n",
      "Continuing partial invocation:\n",
      "\n",
      "In tangled branches, whispers breathe the night,\n",
      "While shadows dance, eclipsing all but flight,\n",
      "And footsteps lost to endless ageless rite,\n",
      "Silvered haze enfolds, as moon's soft fingers light.\n"
     ]
    },
    {
     "name": "stderr",
     "output_type": "stream",
     "text": [
      "Running MCTS:  49%|████▉     | 47/95 [00:21<00:14,  3.22it/s]"
     ]
    },
    {
     "name": "stdout",
     "output_type": "stream",
     "text": [
      "== New invocation:\n",
      "\n",
      "In tangled branches, whispers breathe the night,\n",
      "While shadows dance, eclipsing all but flight,\n",
      "Beneath the moon's pale eye, I chase the silent plight.\n",
      "Into the heart of darkness, where echoes blur with fright.\n",
      "== Score: 6.2\n",
      "\n",
      "\n",
      "Continuing partial invocation:\n",
      "\n",
      "In tangled branches, whispers breathe the night,\n",
      "While shadows dance, eclipsing all but flight,\n",
      "The moon, a ghostly beacon, mourns its light,\n",
      "== New invocation:\n",
      "\n",
      "In tangled branches, whispers breathe the night,\n",
      "A shadowed path where moonlight casts its fright,\n",
      "Where ancient echoes dance in silent flight,\n",
      "Lost in the labyrinth, the woods conceal their rite.\n",
      "== Score: 6.5\n",
      "\n",
      "== New invocation:\n",
      "\n",
      "In tangled branches, whispers breathe the night,\n",
      "While shadows dance, eclipsing all but flight,\n",
      "And footsteps lost to endless ageless rite,\n",
      "Silvered haze enfolds, as moon's soft fingers light.\n",
      "== Score: 6.8\n",
      "\n",
      "\n",
      "Continuing partial invocation:\n",
      "\n",
      "In tangled branches, whispers breathe the night,\n",
      "While shadows dance, eclipsing all but flight,\n",
      "The moon, a ghostly beacon, mourns its light,\n",
      "\n",
      "Continuing partial invocation:\n",
      "\n",
      "In tangled branches, whispers breathe the night,\n",
      "A shadowed path where moonlight casts its fright,\n",
      "Unknown calls from depths beyond the sight,\n"
     ]
    },
    {
     "name": "stderr",
     "output_type": "stream",
     "text": [
      "Running MCTS:  52%|█████▏    | 49/95 [00:22<00:12,  3.72it/s]"
     ]
    },
    {
     "name": "stdout",
     "output_type": "stream",
     "text": [
      "== New invocation:\n",
      "\n",
      "In tangled branches, whispers breathe the night,\n",
      "While shadows dance, eclipsing all but flight,\n",
      "Beneath the moon's pale eye, I chase the silent plight.\n",
      "A quest through spectral woods, where echoes fade from sight.\n",
      "== Score: 5.7\n",
      "\n",
      "\n",
      "Continuing partial invocation:\n",
      "\n",
      "In tangled branches, whispers breathe the night,\n",
      "While shadows dance, eclipsing all but flight,\n",
      "The moon, a ghostly beacon, mourns its light,\n"
     ]
    },
    {
     "name": "stderr",
     "output_type": "stream",
     "text": [
      "Running MCTS:  53%|█████▎    | 50/95 [00:23<00:16,  2.80it/s]"
     ]
    },
    {
     "name": "stdout",
     "output_type": "stream",
     "text": [
      "== New invocation:\n",
      "\n",
      "In tangled branches, whispers breathe the night,\n",
      "While shadows dance, eclipsing all but flight,\n",
      "The moon, a ghostly beacon, mourns its light,\n",
      "Guided by the echoes, lost in spectral sight.\n",
      "== Score: 6.8\n",
      "\n",
      "\n",
      "Continuing partial invocation:\n",
      "\n",
      "In tangled branches, whispers breathe the night,\n",
      "A distant call through shadowed trees takes flight,\n",
      "Drawing closer as the moon withdraws its light,\n",
      "Until the forest holds me in its sight.\n",
      "== New invocation:\n",
      "\n",
      "A path unraveling under a canopy of whispers,\n",
      "Moonlit shadows dance, weaving silent lures,\n",
      "Footsteps swallowed by the earth, a heartbeat that endures,\n",
      "Drawn deeper into the ancient hymn, where every echo cures.\n",
      "== Score: 6.8\n",
      "\n"
     ]
    },
    {
     "name": "stderr",
     "output_type": "stream",
     "text": [
      "Running MCTS:  56%|█████▌    | 53/95 [00:23<00:09,  4.49it/s]"
     ]
    },
    {
     "name": "stdout",
     "output_type": "stream",
     "text": [
      "\n",
      "Continuing partial invocation:\n",
      "\n",
      "In tangled branches, whispers breathe the night,\n",
      "A distant call through shadowed trees takes flight,\n",
      "Drawing closer as the moon withdraws its light,\n",
      "Until the forest holds me in its sight.\n",
      "== New invocation:\n",
      "\n",
      "In tangled branches, whispers breathe the night,\n",
      "While shadows dance, eclipsing all but flight,\n",
      "The moon, a ghostly beacon, mourns its light,\n",
      "I wander deeper, lost, erased from sight.\n",
      "== Score: 6.5\n",
      "\n",
      "\n",
      "Continuing partial invocation:\n",
      "\n",
      "In tangled branches, whispers breathe the night,\n",
      "Moonlight weaves a phantom of elusive sight,\n",
      "== New invocation:\n",
      "\n",
      "In tangled branches, whispers breathe the night,\n",
      "A shadowed path where moonlight casts its fright,\n",
      "Unknown calls from depths beyond the sight,\n",
      "Silent echoes lead, hearts pulse in flight.\n",
      "== Score: 6.5\n",
      "\n",
      "\n",
      "Continuing partial invocation:\n",
      "\n",
      "In tangled branches, whispers breathe the night,\n",
      "While shadows dance, eclipsing all but flight,\n",
      "And footsteps lost to endless ageless rite,\n",
      "Where secrets lurk just out of dreamers' sight.\n"
     ]
    },
    {
     "name": "stderr",
     "output_type": "stream",
     "text": [
      "Running MCTS:  57%|█████▋    | 54/95 [00:23<00:08,  5.02it/s]"
     ]
    },
    {
     "name": "stdout",
     "output_type": "stream",
     "text": [
      "== New invocation:\n",
      "\n",
      "In tangled branches, whispers breathe the night,\n",
      "While shadows dance, eclipsing all but flight,\n",
      "The moon, a ghostly beacon, mourns its light,\n",
      "As silence wraps the trees in depths of plight.\n",
      "== Score: 6.8\n",
      "\n",
      "\n",
      "Continuing partial invocation:\n",
      "\n",
      "In tangled branches, whispers breathe the night,\n",
      "A distant call through shadowed trees takes flight,\n",
      "Drawing closer as the moon withdraws its light,\n",
      "Silent steps on earth, where echoes weave their fright.\n"
     ]
    },
    {
     "name": "stderr",
     "output_type": "stream",
     "text": [
      "Running MCTS:  58%|█████▊    | 55/95 [00:23<00:08,  4.87it/s]"
     ]
    },
    {
     "name": "stdout",
     "output_type": "stream",
     "text": [
      "== New invocation:\n",
      "\n",
      "In tangled branches, whispers breathe the night,\n",
      "A distant call through shadowed trees takes flight,\n",
      "Drawing closer as the moon withdraws its light,\n",
      "Until the forest holds me in its sight.\n",
      "== Score: 4.8\n",
      "\n",
      "\n",
      "Continuing partial invocation:\n",
      "\n",
      "In tangled branches, whispers breathe the night,\n",
      "Moonlight weaves a phantom of elusive sight,\n",
      "== New invocation:\n",
      "\n",
      "In tangled branches, whispers breathe the night,\n",
      "A distant call through shadowed trees takes flight,\n",
      "Drawing closer as the moon withdraws its light,\n",
      "Until the forest holds me in its sight.\n",
      "== Score: 7.2\n",
      "\n",
      "\n",
      "Continuing partial invocation:\n",
      "\n",
      "In tangled branches, whispers breathe the night,\n",
      "A shadowed path where moonlight casts its fright,\n",
      "Through twilight veils, the heart begins its flight,\n"
     ]
    },
    {
     "name": "stderr",
     "output_type": "stream",
     "text": [
      "Running MCTS:  61%|██████    | 58/95 [00:24<00:07,  4.70it/s]"
     ]
    },
    {
     "name": "stdout",
     "output_type": "stream",
     "text": [
      "== New invocation:\n",
      "\n",
      "In tangled branches, whispers breathe the night,\n",
      "A distant call through shadowed trees takes flight,\n",
      "Drawing closer as the moon withdraws its light,\n",
      "Silent steps on earth, where echoes weave their fright.\n",
      "== Score: 6.8\n",
      "\n",
      "\n",
      "Continuing partial invocation:\n",
      "\n",
      "In tangled branches, whispers breathe the night,\n",
      "A distant call through shadowed trees takes flight,\n",
      "Drawing closer as the moon withdraws its light,\n",
      "In a forest dark, where dreams and fears unite.\n",
      "== New invocation:\n",
      "\n",
      "In tangled branches, whispers breathe the night,\n",
      "While shadows dance, eclipsing all but flight,\n",
      "And footsteps lost to endless ageless rite,\n",
      "Where secrets lurk just out of dreamers' sight.\n",
      "== Score: 5.8\n",
      "\n",
      "\n",
      "Continuing partial invocation:\n",
      "\n",
      "In tangled branches, whispers breathe the night,\n",
      "Moonlight weaves a phantom of elusive sight,\n"
     ]
    },
    {
     "name": "stderr",
     "output_type": "stream",
     "text": [
      "Running MCTS:  62%|██████▏   | 59/95 [00:24<00:09,  3.71it/s]"
     ]
    },
    {
     "name": "stdout",
     "output_type": "stream",
     "text": [
      "== New invocation:\n",
      "\n",
      "In tangled branches, whispers breathe the night,\n",
      "A distant call through shadowed trees takes flight,\n",
      "Drawing closer as the moon withdraws its light,\n",
      "In a forest dark, where dreams and fears unite.\n",
      "== Score: 6.4\n",
      "\n",
      "\n",
      "Continuing partial invocation:\n",
      "\n",
      "In tangled branches, whispers breathe the night,\n",
      "While shadows dance, eclipsing all but flight,\n",
      "As moonlight filters, painting leaves with fright,\n"
     ]
    },
    {
     "name": "stderr",
     "output_type": "stream",
     "text": [
      "Running MCTS:  64%|██████▍   | 61/95 [00:25<00:08,  4.13it/s]"
     ]
    },
    {
     "name": "stdout",
     "output_type": "stream",
     "text": [
      "== New invocation:\n",
      "\n",
      "In tangled branches, whispers breathe the night,\n",
      "A shadowed path where moonlight casts its fright,\n",
      "Through twilight veils, the heart begins its flight,\n",
      "Lost echoes call, and vanish out of sight.\n",
      "== Score: 5.8\n",
      "\n",
      "\n",
      "Continuing partial invocation:\n",
      "\n",
      "In tangled branches, whispers breathe the night,\n",
      "While shadows dance, eclipsing all but flight,\n",
      "As moonlight filters, painting leaves with fright,\n",
      "== New invocation:\n",
      "\n",
      "In tangled branches, whispers breathe the night,\n",
      "Moonlight weaves a phantom of elusive sight,\n",
      "Where shadows stretch their fingers in a ghostly rite,\n",
      "In the heart of dark where ancient echoes bite.\n",
      "== Score: 6.0\n",
      "\n",
      "\n",
      "Continuing partial invocation:\n",
      "\n",
      "In tangled branches, whispers breathe the night,\n",
      "A distant call through shadowed trees takes flight,\n",
      "Chasing secrets where the moon won’t cast its light,\n",
      "Lost in a labyrinth where echoes weave their plight.\n"
     ]
    },
    {
     "name": "stderr",
     "output_type": "stream",
     "text": [
      "Running MCTS:  65%|██████▌   | 62/95 [00:25<00:09,  3.61it/s]"
     ]
    },
    {
     "name": "stdout",
     "output_type": "stream",
     "text": [
      "== New invocation:\n",
      "\n",
      "In tangled branches, whispers breathe the night,\n",
      "Moonlight weaves a phantom of elusive sight,\n",
      "Steps dissolve in shadows of the endless flight,\n",
      "Where hollow echoes lead, the heart takes fright.\n",
      "== Score: 6.8\n",
      "\n",
      "\n",
      "Continuing partial invocation:\n",
      "\n",
      "In tangled branches, whispers breathe the night,\n",
      "While shadows dance, eclipsing all but flight,\n",
      "The moon, a ghostly beacon, mourns its light,\n",
      "As silence wraps the trees in depths of plight.\n"
     ]
    },
    {
     "name": "stderr",
     "output_type": "stream",
     "text": [
      "Running MCTS:  67%|██████▋   | 64/95 [00:26<00:08,  3.58it/s]"
     ]
    },
    {
     "name": "stdout",
     "output_type": "stream",
     "text": [
      "== New invocation:\n",
      "\n",
      "In tangled branches, whispers breathe the night,\n",
      "A distant call through shadowed trees takes flight,\n",
      "Chasing secrets where the moon won’t cast its light,\n",
      "Lost in a labyrinth where echoes weave their plight.\n",
      "== Score: 6.8\n",
      "\n",
      "\n",
      "Continuing partial invocation:\n",
      "\n",
      "In tangled branches, whispers breathe the night,\n",
      "Moonlight weaves a phantom of elusive sight,\n",
      "Steps dissolve in shadows of the endless flight,\n",
      "== New invocation:\n",
      "\n",
      "In tangled branches, whispers breathe the night,\n",
      "While shadows dance, eclipsing all but flight,\n",
      "As moonlight filters, painting leaves with fright,\n",
      "In haunted depths, the forest holds its blight.\n",
      "== Score: 5.8\n",
      "\n",
      "\n",
      "Continuing partial invocation:\n",
      "\n",
      "In tangled branches, whispers breathe the night,\n",
      "While shadows dance, eclipsing all but flight,\n",
      "The moon, a ghostly beacon, mourns its light,\n",
      "As silence wraps the trees in depths of plight.\n"
     ]
    },
    {
     "name": "stderr",
     "output_type": "stream",
     "text": [
      "Running MCTS:  68%|██████▊   | 65/95 [00:26<00:07,  4.25it/s]"
     ]
    },
    {
     "name": "stdout",
     "output_type": "stream",
     "text": [
      "== New invocation:\n",
      "\n",
      "In tangled branches, whispers breathe the night,\n",
      "While shadows dance, eclipsing all but flight,\n",
      "The moon, a ghostly beacon, mourns its light,\n",
      "As silence wraps the trees in depths of plight.\n",
      "== Score: 6.5\n",
      "\n",
      "\n",
      "Continuing partial invocation:\n",
      "\n",
      "In tangled branches, whispers breathe the night,\n",
      "A distant call through shadowed trees takes flight,\n",
      "Chasing secrets where the moon won’t cast its light,\n",
      "Lost in the depths where silence holds its sight.\n"
     ]
    },
    {
     "name": "stderr",
     "output_type": "stream",
     "text": [
      "Running MCTS:  71%|███████   | 67/95 [00:26<00:05,  4.81it/s]"
     ]
    },
    {
     "name": "stdout",
     "output_type": "stream",
     "text": [
      "== New invocation:\n",
      "\n",
      "In tangled branches, whispers breathe the night,\n",
      "While shadows dance, eclipsing all but flight,\n",
      "As moonlight filters, painting leaves with fright,\n",
      "The forest's secrets sing beneath the light.\n",
      "== Score: 5.8\n",
      "\n",
      "\n",
      "Continuing partial invocation:\n",
      "\n",
      "In tangled branches, whispers breathe the night,\n",
      "While shadows dance, eclipsing all but flight,\n",
      "The moon, a ghostly beacon, mourns its light,\n",
      "Guided by the echoes, lost in spectral sight.\n",
      "== New invocation:\n",
      "\n",
      "In tangled branches, whispers breathe the night,\n",
      "Moonlight weaves a phantom of elusive sight,\n",
      "A lost heart follows shadows through the trees.\n",
      "Within the eerie silence, every footstep flees.\n",
      "== Score: 6.9\n",
      "\n",
      "\n",
      "Continuing partial invocation:\n",
      "\n",
      "In tangled branches, whispers breathe the night,\n",
      "Moonlight weaves a phantom of elusive sight,\n",
      "Shadows dance with secrets in their twilight flight,\n",
      "== New invocation:\n",
      "\n",
      "In tangled branches, whispers breathe the night,\n",
      "While shadows dance, eclipsing all but flight,\n",
      "The moon, a ghostly beacon, mourns its light,\n",
      "As silence wraps the trees in depths of plight.\n",
      "== Score: 5.2\n",
      "\n",
      "\n",
      "Continuing partial invocation:\n",
      "\n",
      "In tangled branches, whispers breathe the night,\n",
      "A shadowed path where moonlight casts its fright,\n",
      "Where ancient echoes dance in silent flight,\n"
     ]
    },
    {
     "name": "stderr",
     "output_type": "stream",
     "text": [
      "Running MCTS:  73%|███████▎  | 69/95 [00:27<00:04,  5.30it/s]"
     ]
    },
    {
     "name": "stdout",
     "output_type": "stream",
     "text": [
      "== New invocation:\n",
      "\n",
      "In tangled branches, whispers breathe the night,\n",
      "A distant call through shadowed trees takes flight,\n",
      "Chasing secrets where the moon won’t cast its light,\n",
      "Lost in the depths where silence holds its sight.\n",
      "== Score: 5.7\n",
      "\n",
      "\n",
      "Continuing partial invocation:\n",
      "\n",
      "In tangled branches, whispers breathe the night,\n",
      "While shadows dance, eclipsing all but flight,\n",
      "The moon, a ghostly beacon, mourns its light,\n",
      "I wander deeper, lost, erased from sight.\n"
     ]
    },
    {
     "name": "stderr",
     "output_type": "stream",
     "text": [
      "Running MCTS:  74%|███████▎  | 70/95 [00:27<00:04,  5.11it/s]"
     ]
    },
    {
     "name": "stdout",
     "output_type": "stream",
     "text": [
      "== New invocation:\n",
      "\n",
      "In tangled branches, whispers breathe the night,\n",
      "While shadows dance, eclipsing all but flight,\n",
      "The moon, a ghostly beacon, mourns its light,\n",
      "Guided by the echoes, lost in spectral sight.\n",
      "== Score: 6.5\n",
      "\n",
      "\n",
      "Continuing partial invocation:\n",
      "\n",
      "In tangled branches, whispers breathe the night,\n",
      "Moonlight weaves a phantom of elusive sight,\n",
      "Steps dissolve in shadows of the endless flight,\n"
     ]
    },
    {
     "name": "stderr",
     "output_type": "stream",
     "text": [
      "Running MCTS:  75%|███████▍  | 71/95 [00:27<00:06,  3.84it/s]"
     ]
    },
    {
     "name": "stdout",
     "output_type": "stream",
     "text": [
      "== New invocation:\n",
      "\n",
      "In tangled branches, whispers breathe the night,\n",
      "Moonlight weaves a phantom of elusive sight,\n",
      "Shadows dance with secrets in their twilight flight,\n",
      "Lost in a maze where echoes tell the plight,\n",
      "== Score: 7.6\n",
      "\n",
      "\n",
      "Continuing partial invocation:\n",
      "\n",
      "In tangled branches, whispers breathe the night,\n",
      "While shadows dance, eclipsing all but flight,\n",
      "The moon, a ghostly beacon, mourns its light,\n",
      "I wander deeper, lost, erased from sight.\n",
      "== New invocation:\n",
      "\n",
      "In tangled branches, whispers breathe the night,\n",
      "Moonlight weaves a phantom of elusive sight,\n",
      "Steps dissolve in shadows of the endless flight,\n",
      "Lost amid the trees, where dreams and fears ignite.\n",
      "== Score: 6.2\n",
      "\n",
      "\n",
      "Continuing partial invocation:\n",
      "\n",
      "In tangled branches, whispers breathe the night,\n",
      "Moonlight weaves a phantom of elusive sight,\n",
      "A lost heart follows shadows through the trees.\n"
     ]
    },
    {
     "name": "stderr",
     "output_type": "stream",
     "text": [
      "Running MCTS:  78%|███████▊  | 74/95 [00:28<00:04,  4.59it/s]"
     ]
    },
    {
     "name": "stdout",
     "output_type": "stream",
     "text": [
      "== New invocation:\n",
      "\n",
      "In tangled branches, whispers breathe the night,\n",
      "While shadows dance, eclipsing all but flight,\n",
      "The moon, a ghostly beacon, mourns its light,\n",
      "I wander deeper, lost, erased from sight.\n",
      "== Score: 5.8\n",
      "\n",
      "\n",
      "Continuing partial invocation:\n",
      "\n",
      "In tangled branches, whispers breathe the night,\n",
      "While shadows dance, eclipsing all but flight,\n",
      "And footsteps lost to endless ageless rite,\n",
      "A spectral call that draws the soul from light.\n",
      "== New invocation:\n",
      "\n",
      "In tangled branches, whispers breathe the night,\n",
      "A shadowed path where moonlight casts its fright,\n",
      "Where ancient echoes dance in silent flight,\n",
      "Through veils of trees, the secrets come to light.\n",
      "== Score: 5.8\n",
      "\n",
      "\n",
      "Continuing partial invocation:\n",
      "\n",
      "In tangled branches, whispers breathe the night,\n",
      "Moonlight weaves a phantom of elusive sight,\n",
      "A lost heart follows shadows through the trees.\n"
     ]
    },
    {
     "name": "stderr",
     "output_type": "stream",
     "text": [
      "Running MCTS:  81%|████████  | 77/95 [00:28<00:03,  5.35it/s]"
     ]
    },
    {
     "name": "stdout",
     "output_type": "stream",
     "text": [
      "== New invocation:\n",
      "\n",
      "In tangled branches, whispers breathe the night,\n",
      "While shadows dance, eclipsing all but flight,\n",
      "And footsteps lost to endless ageless rite,\n",
      "A spectral call that draws the soul from light.\n",
      "== Score: 5.9\n",
      "\n",
      "\n",
      "Continuing partial invocation:\n",
      "\n",
      "In tangled branches, whispers breathe the night,\n",
      "Moonlight weaves a phantom of elusive sight,\n",
      "A lost heart follows shadows through the trees.\n",
      "== New invocation:\n",
      "\n",
      "In tangled branches, whispers breathe the night,\n",
      "While shadows dance, eclipsing all but flight,\n",
      "The moon, a ghostly beacon, mourns its light,\n",
      "I wander deeper, lost, erased from sight.\n",
      "== Score: 6.7\n",
      "\n",
      "\n",
      "Continuing partial invocation:\n",
      "\n",
      "In tangled branches, whispers breathe the night,\n",
      "While shadows dance, eclipsing all but flight,\n",
      "The moon, a ghostly beacon, mourns its light,\n",
      "A forest calls, where silent secrets slept.\n",
      "== New invocation:\n",
      "\n",
      "In tangled branches, whispers breathe the night,\n",
      "Moonlight weaves a phantom of elusive sight,\n",
      "A lost heart follows shadows through the trees.\n",
      "A haunting rhythm pulses with the leaves.\n",
      "== Score: 6.7\n",
      "\n",
      "\n",
      "Continuing partial invocation:\n",
      "\n",
      "In tangled branches, whispers breathe the night,\n",
      "While shadows dance, eclipsing all but flight,\n",
      "The moon, a ghostly beacon, mourns its light,\n",
      "A forest calls, where silent secrets slept.\n"
     ]
    },
    {
     "name": "stderr",
     "output_type": "stream",
     "text": [
      "Running MCTS:  82%|████████▏ | 78/95 [00:29<00:04,  3.60it/s]"
     ]
    },
    {
     "name": "stdout",
     "output_type": "stream",
     "text": [
      "== New invocation:\n",
      "\n",
      "In tangled branches, whispers breathe the night,\n",
      "While shadows dance, eclipsing all but flight,\n",
      "The moon, a ghostly beacon, mourns its light,\n",
      "A forest calls, where silent secrets slept.\n",
      "== Score: 6.8\n",
      "\n",
      "\n",
      "Continuing partial invocation:\n",
      "\n",
      "In tangled branches, whispers breathe the night,\n",
      "Moonlight weaves a phantom of elusive sight,\n",
      "Beneath the canopy's cloak, shadows take flight,\n",
      "== New invocation:\n",
      "\n",
      "In tangled branches, whispers breathe the night,\n",
      "Moonlight weaves a phantom of elusive sight,\n",
      "Steps dissolve in shadows of the endless flight,\n",
      "Where time and fear converge, the cedars writhe in blight.\n",
      "== Score: 6.2\n",
      "\n",
      "\n",
      "Continuing partial invocation:\n",
      "\n",
      "In tangled branches, whispers breathe the night,\n",
      "Moonlight weaves a phantom of elusive sight,\n",
      "Where shadows stretch their fingers in a ghostly rite,\n",
      "== New invocation:\n",
      "\n",
      "In tangled branches, whispers breathe the night,\n",
      "While shadows dance, eclipsing all but flight,\n",
      "The moon, a ghostly beacon, mourns its light,\n",
      "A forest calls, where silent secrets slept.\n",
      "== Score: 5.7\n",
      "\n"
     ]
    },
    {
     "name": "stderr",
     "output_type": "stream",
     "text": [
      "Running MCTS:  84%|████████▍ | 80/95 [00:29<00:03,  4.81it/s]"
     ]
    },
    {
     "name": "stdout",
     "output_type": "stream",
     "text": [
      "\n",
      "Continuing partial invocation:\n",
      "\n",
      "In tangled branches, whispers breathe the night,\n",
      "While shadows dance, eclipsing all but flight,\n",
      "And footsteps lost to endless ageless rite,\n",
      "Silvered haze enfolds, as moon's soft fingers light.\n"
     ]
    },
    {
     "name": "stderr",
     "output_type": "stream",
     "text": [
      "Running MCTS:  85%|████████▌ | 81/95 [00:30<00:03,  4.59it/s]"
     ]
    },
    {
     "name": "stdout",
     "output_type": "stream",
     "text": [
      "== New invocation:\n",
      "\n",
      "In tangled branches, whispers breathe the night,\n",
      "Moonlight weaves a phantom of elusive sight,\n",
      "A lost heart follows shadows through the trees.\n",
      "Silent echoes murmur secrets on the breeze.\n",
      "== Score: 5.7\n",
      "\n",
      "\n",
      "Continuing partial invocation:\n",
      "\n",
      "In tangled branches, whispers breathe the night,\n",
      "Moonlight weaves a phantom of elusive sight,\n",
      "Beneath the canopy's cloak, shadows take flight,\n"
     ]
    },
    {
     "name": "stderr",
     "output_type": "stream",
     "text": [
      "Running MCTS:  87%|████████▋ | 83/95 [00:30<00:02,  4.38it/s]"
     ]
    },
    {
     "name": "stdout",
     "output_type": "stream",
     "text": [
      "== New invocation:\n",
      "\n",
      "In tangled branches, whispers breathe the night,\n",
      "Moonlight weaves a phantom of elusive sight,\n",
      "A lost heart follows shadows through the trees.\n",
      "Hollow echoes lead where no path sees.\n",
      "== Score: 5.7\n",
      "\n",
      "\n",
      "Continuing partial invocation:\n",
      "\n",
      "In tangled branches, whispers breathe the night,\n",
      "Moonlight weaves a phantom of elusive sight,\n",
      "A lost heart follows shadows through the trees.\n",
      "Within the eerie silence, every footstep flees.\n",
      "== New invocation:\n",
      "\n",
      "In tangled branches, whispers breathe the night,\n",
      "While shadows dance, eclipsing all but flight,\n",
      "And footsteps lost to endless ageless rite,\n",
      "Silvered haze enfolds, as moon's soft fingers light.\n",
      "== Score: 6.2\n",
      "\n",
      "\n",
      "Continuing partial invocation:\n",
      "\n",
      "In tangled branches, whispers breathe the night,\n",
      "Moonlight weaves a phantom of elusive sight,\n",
      "Where shadows stretch their fingers in a ghostly rite,\n"
     ]
    },
    {
     "name": "stderr",
     "output_type": "stream",
     "text": [
      "Running MCTS:  89%|████████▉ | 85/95 [00:30<00:02,  4.55it/s]"
     ]
    },
    {
     "name": "stdout",
     "output_type": "stream",
     "text": [
      "== New invocation:\n",
      "\n",
      "In tangled branches, whispers breathe the night,\n",
      "Moonlight weaves a phantom of elusive sight,\n",
      "Where shadows stretch their fingers in a ghostly rite,\n",
      "A labyrinth of longing in the heart's dark light.\n",
      "== Score: 7.2\n",
      "\n",
      "\n",
      "Continuing partial invocation:\n",
      "\n",
      "In tangled branches, whispers breathe the night,\n",
      "Moonlight weaves a phantom of elusive sight,\n",
      "Beneath the canopy's cloak, shadows take flight,\n",
      "== New invocation:\n",
      "\n",
      "In tangled branches, whispers breathe the night,\n",
      "Moonlight weaves a phantom of elusive sight,\n",
      "A lost heart follows shadows through the trees.\n",
      "Within the eerie silence, every footstep flees.\n",
      "== Score: 5.7\n",
      "\n",
      "\n",
      "Continuing partial invocation:\n",
      "\n",
      "In tangled branches, whispers breathe the night,\n",
      "Moonlight weaves a phantom of elusive sight,\n",
      "Beneath the canopy's cloak, shadows take flight,\n",
      "== New invocation:\n",
      "\n",
      "In tangled branches, whispers breathe the night,\n",
      "Moonlight weaves a phantom of elusive sight,\n",
      "Beneath the canopy's cloak, shadows take flight,\n",
      "A timeless echo calls, drawing hearts to the twilight.\n",
      "== Score: 6.8\n",
      "\n",
      "\n",
      "Continuing partial invocation:\n",
      "\n",
      "In tangled branches, whispers breathe the night,\n",
      "Moonlight weaves a phantom of elusive sight,\n",
      "Beneath the canopy's cloak, shadows take flight,\n"
     ]
    },
    {
     "name": "stderr",
     "output_type": "stream",
     "text": [
      "Running MCTS:  92%|█████████▏| 87/95 [00:31<00:01,  4.04it/s]"
     ]
    },
    {
     "name": "stdout",
     "output_type": "stream",
     "text": [
      "== New invocation:\n",
      "\n",
      "In tangled branches, whispers breathe the night,\n",
      "Moonlight weaves a phantom of elusive sight,\n",
      "Beneath the canopy's cloak, shadows take flight,\n",
      "Leading souls astray in their fleeting retreat.\n",
      "== Score: 6.4\n",
      "\n",
      "\n",
      "Continuing partial invocation:\n",
      "\n",
      "Whispers through trees where shadows play tricks\n",
      "Lost in the maze of autumn's eclipse\n"
     ]
    },
    {
     "name": "stderr",
     "output_type": "stream",
     "text": [
      "Running MCTS:  93%|█████████▎| 88/95 [00:31<00:01,  3.94it/s]"
     ]
    },
    {
     "name": "stdout",
     "output_type": "stream",
     "text": [
      "== New invocation:\n",
      "\n",
      "In tangled branches, whispers breathe the night,\n",
      "Moonlight weaves a phantom of elusive sight,\n",
      "Where shadows stretch their fingers in a ghostly rite,\n",
      "Beneath the canopy, the heart's secrets ignite.\n",
      "== Score: 6.2\n",
      "\n",
      "\n",
      "Continuing partial invocation:\n",
      "\n",
      "In tangled branches, whispers breathe the night,\n",
      "Moonlight weaves a phantom of elusive sight,\n",
      "Shadows dance with secrets in their twilight flight,\n"
     ]
    },
    {
     "name": "stderr",
     "output_type": "stream",
     "text": [
      "Running MCTS:  94%|█████████▎| 89/95 [00:32<00:01,  3.80it/s]"
     ]
    },
    {
     "name": "stdout",
     "output_type": "stream",
     "text": [
      "== New invocation:\n",
      "\n",
      "In tangled branches, whispers breathe the night,\n",
      "Moonlight weaves a phantom of elusive sight,\n",
      "Beneath the canopy's cloak, shadows take flight,\n",
      "In the depths of silence, echoes crave the light.\n",
      "== Score: 5.4\n",
      "\n",
      "\n",
      "Continuing partial invocation:\n",
      "\n",
      "A path unfolds where shadows have dwelled\n"
     ]
    },
    {
     "name": "stderr",
     "output_type": "stream",
     "text": [
      "Running MCTS:  95%|█████████▍| 90/95 [00:32<00:01,  3.77it/s]"
     ]
    },
    {
     "name": "stdout",
     "output_type": "stream",
     "text": [
      "== New invocation:\n",
      "\n",
      "In tangled branches, whispers breathe the night,\n",
      "Moonlight weaves a phantom of elusive sight,\n",
      "Beneath the canopy's cloak, shadows take flight,\n",
      "Lost in a maze where fears and dreams unite.\n",
      "== Score: 6.7\n",
      "\n",
      "\n",
      "Continuing partial invocation:\n",
      "\n",
      "In tangled branches, whispers breathe the night,\n",
      "Moonlight weaves a phantom of elusive sight,\n",
      "Beneath the canopy's cloak, shadows take flight,\n",
      "A timeless echo calls, drawing hearts to the twilight.\n",
      "== New invocation:\n",
      "\n",
      "In tangled branches, whispers breathe the night,\n",
      "Moonlight weaves a phantom of elusive sight,\n",
      "Beneath the canopy's cloak, shadows take flight,\n",
      "Echoes of forgotten dreams, caught in the twilight.\n",
      "== Score: 5.5\n",
      "\n",
      "\n",
      "Continuing partial invocation:\n",
      "\n",
      "In tangled branches, whispers breathe the night,\n",
      "Moonlight weaves a phantom of elusive sight,\n",
      "Shadows dance with secrets in their twilight flight,\n"
     ]
    },
    {
     "name": "stderr",
     "output_type": "stream",
     "text": [
      "Running MCTS:  97%|█████████▋| 92/95 [00:33<00:00,  3.40it/s]"
     ]
    },
    {
     "name": "stdout",
     "output_type": "stream",
     "text": [
      "== New invocation:\n",
      "\n",
      "In tangled branches, whispers breathe the night,\n",
      "Moonlight weaves a phantom of elusive sight,\n",
      "Beneath the canopy's cloak, shadows take flight,\n",
      "A timeless echo calls, drawing hearts to the twilight.\n",
      "== Score: 7.4\n",
      "\n",
      "\n",
      "Continuing partial invocation:\n",
      "\n",
      "In tangled branches, whispers breathe the night,\n",
      "Moonlight weaves a phantom of elusive sight,\n",
      "Shadows dance with secrets in their twilight flight,\n"
     ]
    },
    {
     "name": "stderr",
     "output_type": "stream",
     "text": [
      "Running MCTS:  98%|█████████▊| 93/95 [00:33<00:00,  3.55it/s]"
     ]
    },
    {
     "name": "stdout",
     "output_type": "stream",
     "text": [
      "== New invocation:\n",
      "\n",
      "In tangled branches, whispers breathe the night,\n",
      "Moonlight weaves a phantom of elusive sight,\n",
      "Shadows dance with secrets in their twilight flight,\n",
      "A forest dark, where echoes dream in frail sunlight.\n",
      "== Score: 5.2\n",
      "\n",
      "\n",
      "Continuing partial invocation:\n",
      "\n",
      "In tangled branches, whispers breathe the night,\n",
      "A shadowed path where moonlight casts its fright,\n",
      "Between the trees, a haunting song takes flight,\n"
     ]
    },
    {
     "name": "stderr",
     "output_type": "stream",
     "text": [
      "Running MCTS:  99%|█████████▉| 94/95 [00:33<00:00,  3.73it/s]"
     ]
    },
    {
     "name": "stdout",
     "output_type": "stream",
     "text": [
      "== New invocation:\n",
      "\n",
      "Whispers through trees where shadows play tricks\n",
      "Lost in the maze of autumn's eclipse\n",
      "Crimson leaves dance in the twilight's faint glow\n",
      "Echoes of footsteps from decades ago\n",
      "== Score: 6.8\n",
      "\n",
      "\n",
      "Continuing partial invocation:\n",
      "\n",
      "In tangled branches, whispers breathe the night,\n",
      "Moonlight weaves a phantom of elusive sight,\n",
      "Shadows dance with secrets in their twilight flight,\n",
      "Lost in a maze where echoes tell the plight,\n"
     ]
    },
    {
     "name": "stderr",
     "output_type": "stream",
     "text": [
      "Running MCTS: 100%|██████████| 95/95 [00:33<00:00,  2.81it/s]"
     ]
    },
    {
     "name": "stdout",
     "output_type": "stream",
     "text": [
      "== New invocation:\n",
      "\n",
      "In tangled branches, whispers breathe the night,\n",
      "Moonlight weaves a phantom of elusive sight,\n",
      "Shadows dance with secrets in their twilight flight,\n",
      "Lost in the echoes of a distant, haunting rite.\n",
      "== Score: 6.7\n",
      "\n"
     ]
    },
    {
     "name": "stderr",
     "output_type": "stream",
     "text": [
      "\n"
     ]
    },
    {
     "name": "stdout",
     "output_type": "stream",
     "text": [
      "== New invocation:\n",
      "\n",
      "In tangled branches, whispers breathe the night,\n",
      "Moonlight weaves a phantom of elusive sight,\n",
      "Shadows dance with secrets in their twilight flight,\n",
      "Lost in a maze where echoes tell the plight,\n",
      "== Score: 5.5\n",
      "\n",
      "== New invocation:\n",
      "\n",
      "In tangled branches, whispers breathe the night,\n",
      "Moonlight weaves a phantom of elusive sight,\n",
      "Shadows dance with secrets in their twilight flight,\n",
      "Lost in green and darkness, the heart’s only light.\n",
      "== Score: 6.5\n",
      "\n",
      "== New invocation:\n",
      "\n",
      "A path unfolds where shadows have dwelled\n",
      "Moonlight whispers secrets untold\n",
      "Branches like fingers grasp the soul\n",
      "In the heart of the darkness, stories unroll\n",
      "== Score: 5.6\n",
      "\n",
      "== New invocation:\n",
      "\n",
      "In tangled branches, whispers breathe the night,\n",
      "A shadowed path where moonlight casts its fright,\n",
      "Between the trees, a haunting song takes flight,\n",
      "Drawing me deeper into endless twilight.\n",
      "== Score: 7.8\n",
      "\n"
     ]
    }
   ],
   "source": [
    "with store:\n",
    "  mcts = MCTS(score_poem)\n",
    "  await mcts.run(\n",
    "    generate_poem,\n",
    "    args=('A poem inspired by the cure song \"A forest\"', 4),\n",
    "    seeds=10,\n",
    "    iterations=100)\n"
   ]
  },
  {
   "cell_type": "markdown",
   "metadata": {},
   "source": [
    "We now print the best results, both estimated conservatively (using LCB) and\n",
    "estimated using the mean."
   ]
  },
  {
   "cell_type": "code",
   "execution_count": 27,
   "metadata": {},
   "outputs": [
    {
     "name": "stdout",
     "output_type": "stream",
     "text": [
      "\n",
      "Highest LCB:\n",
      "\n",
      "In tangled branches, whispers breathe the night,\n",
      "A distant call through shadowed trees takes flight,\n",
      "Chasing secrets where the moon won’t cast its light,\n",
      "Lost in a labyrinth where echoes weave their plight.\n",
      "\n",
      "Highest mean:\n",
      "\n",
      "In tangled branches, whispers breathe the night,\n",
      "A shadowed path where moonlight casts its fright,\n",
      "Between the trees, a haunting song takes flight,\n",
      "Drawing me deeper into endless twilight.\n",
      "\n",
      "Most visited:\n",
      "\n",
      "In tangled branches, whispers breathe the night,\n",
      "A distant call through shadowed trees takes flight,\n",
      "Chasing secrets where the moon won’t cast its light,\n",
      "Lost in a labyrinth where echoes weave their plight.\n"
     ]
    }
   ],
   "source": [
    "with store:\n",
    "  print(f'\\nHighest LCB:\\n{mcts.highest_lcb()}')\n",
    "  print(f'\\nHighest mean:\\n{mcts.highest_mean()}')\n",
    "  print(f'\\nMost visited:\\n{mcts.most_visited()}')"
   ]
  }
 ],
 "metadata": {
  "kernelspec": {
   "display_name": ".venv",
   "language": "python",
   "name": "python3"
  },
  "language_info": {
   "codemirror_mode": {
    "name": "ipython",
    "version": 3
   },
   "file_extension": ".py",
   "mimetype": "text/x-python",
   "name": "python",
   "nbconvert_exporter": "python",
   "pygments_lexer": "ipython3",
   "version": "3.8.10"
  },
  "orig_nbformat": 4
 },
 "nbformat": 4,
 "nbformat_minor": 2
}
