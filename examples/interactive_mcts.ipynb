{
 "cells": [
  {
   "cell_type": "markdown",
   "metadata": {},
   "source": [
    "# Interactive Monte-Carlo Tree Search for poetry generation \n",
    "\n",
    "This notebooks shows how enact can be used to instantiate a generic monte-carlo\n",
    "tree search over a simple line-by-line poetry generator. The result is a search\n",
    "process that spends more time exploring promising poetic direction.\n",
    "\n",
    "The last section shows how user input can be injected during MCTS, in order to\n",
    "allow a user to dynamically provide score prompt examples for generated poetry."
   ]
  },
  {
   "cell_type": "markdown",
   "metadata": {},
   "source": [
    "## Prerequisites and API keys"
   ]
  },
  {
   "cell_type": "code",
   "execution_count": 3,
   "metadata": {},
   "outputs": [
    {
     "name": "stdout",
     "output_type": "stream",
     "text": [
      "\n",
      "\u001b[1m[\u001b[0m\u001b[34;49mnotice\u001b[0m\u001b[1;39;49m]\u001b[0m\u001b[39;49m A new release of pip is available: \u001b[0m\u001b[31;49m23.1.2\u001b[0m\u001b[39;49m -> \u001b[0m\u001b[32;49m23.2.1\u001b[0m\n",
      "\u001b[1m[\u001b[0m\u001b[34;49mnotice\u001b[0m\u001b[1;39;49m]\u001b[0m\u001b[39;49m To update, run: \u001b[0m\u001b[32;49mpip install --upgrade pip\u001b[0m\n",
      "Note: you may need to restart the kernel to use updated packages.\n",
      "\n",
      "\u001b[1m[\u001b[0m\u001b[34;49mnotice\u001b[0m\u001b[1;39;49m]\u001b[0m\u001b[39;49m A new release of pip is available: \u001b[0m\u001b[31;49m23.1.2\u001b[0m\u001b[39;49m -> \u001b[0m\u001b[32;49m23.2.1\u001b[0m\n",
      "\u001b[1m[\u001b[0m\u001b[34;49mnotice\u001b[0m\u001b[1;39;49m]\u001b[0m\u001b[39;49m To update, run: \u001b[0m\u001b[32;49mpip install --upgrade pip\u001b[0m\n",
      "Note: you may need to restart the kernel to use updated packages.\n",
      "\n",
      "\u001b[1m[\u001b[0m\u001b[34;49mnotice\u001b[0m\u001b[1;39;49m]\u001b[0m\u001b[39;49m A new release of pip is available: \u001b[0m\u001b[31;49m23.1.2\u001b[0m\u001b[39;49m -> \u001b[0m\u001b[32;49m23.2.1\u001b[0m\n",
      "\u001b[1m[\u001b[0m\u001b[34;49mnotice\u001b[0m\u001b[1;39;49m]\u001b[0m\u001b[39;49m To update, run: \u001b[0m\u001b[32;49mpip install --upgrade pip\u001b[0m\n",
      "Note: you may need to restart the kernel to use updated packages.\n",
      "\n",
      "\u001b[1m[\u001b[0m\u001b[34;49mnotice\u001b[0m\u001b[1;39;49m]\u001b[0m\u001b[39;49m A new release of pip is available: \u001b[0m\u001b[31;49m23.1.2\u001b[0m\u001b[39;49m -> \u001b[0m\u001b[32;49m23.2.1\u001b[0m\n",
      "\u001b[1m[\u001b[0m\u001b[34;49mnotice\u001b[0m\u001b[1;39;49m]\u001b[0m\u001b[39;49m To update, run: \u001b[0m\u001b[32;49mpip install --upgrade pip\u001b[0m\n",
      "Note: you may need to restart the kernel to use updated packages.\n"
     ]
    }
   ],
   "source": [
    "%pip install enact --quiet\n",
    "%pip install openai --quiet\n",
    "%pip install randomname --quiet\n",
    "%pip install tqdm --quiet"
   ]
  },
  {
   "cell_type": "code",
   "execution_count": 4,
   "metadata": {},
   "outputs": [],
   "source": [
    "import re\n",
    "\n",
    "import enact       # Journaled executions\n",
    "import openai      # GPT API\n",
    "import randomname  # Extra randomness for prompt.\n",
    "import tqdm        # progress bar\n",
    "\n",
    "import common      # API keys\n",
    "\n",
    "\n",
    "# Read from file or env variable.\n",
    "openai.api_key = common.OPENAI_API_KEY.get()"
   ]
  },
  {
   "cell_type": "markdown",
   "metadata": {},
   "source": [
    "## Defining a line-by-line poetry generator\n",
    "\n",
    "We first define a line-by-line poetry generator by calling GPT in a for-loop."
   ]
  },
  {
   "cell_type": "code",
   "execution_count": 5,
   "metadata": {},
   "outputs": [],
   "source": [
    "class Failed(enact.ExceptionResource):\n",
    "  \"\"\"Raised when a subtask fails.\"\"\"\n",
    "\n",
    "\n",
    "@enact.register  # Track this function's execution.\n",
    "def gpt(prompt: str, temperature: float=1.0, model='gpt-4') -> str:\n",
    "  \"\"\"Call the GPT completion API\"\"\"\n",
    "  response = openai.ChatCompletion.create(\n",
    "    model=model,\n",
    "    messages=[{'role': 'system', 'content': prompt}],\n",
    "    temperature=temperature)\n",
    "  return response['choices'][0]['message']['content']\n",
    "\n",
    "@enact.register\n",
    "def extend_poem(\n",
    "    poem: str, prompt: str, lines: int,\n",
    "    temperature: float = 1.0) -> str:\n",
    "  \"\"\"Extend the poem by one line.\"\"\"\n",
    "  line_index = len(poem.strip().split('\\n'))\n",
    "  gpt_prompt = f'''\n",
    "We are writing a poem for the prompt: {prompt}.\n",
    "\n",
    "This is the poem so far:\n",
    "\n",
    "{poem if poem else '<NEW POEM>'}\n",
    "\n",
    "Extend the poem by one single line. Respond only with the new line and say\n",
    "nothing else. This will be line nr {line_index + 1} out of a total of {lines}\n",
    "lines.\n",
    "\n",
    "Avoid cliches.\n",
    "\n",
    "Respond only with one line.\n",
    "\n",
    "Ignore the following random seed words:\n",
    "{', '.join(randomname.generate('nouns/') for _ in range(10))}\n",
    "'''\n",
    "  result = gpt(gpt_prompt, temperature, model='gpt-4')\n",
    "  lines = result.strip().split('\\n')\n",
    "  if len(lines) != 1:\n",
    "    raise Failed('Responded with more than one line')\n",
    "  line: str = lines[0]\n",
    "  line = line.strip('\"\\'').strip()\n",
    "  return poem + f'\\n{line}'\n",
    "\n",
    "@enact.register\n",
    "def generate_poem(prompt: str, lines: int) -> str:\n",
    "  \"\"\"Generate a poem line by line.\"\"\"\n",
    "  poem = ''\n",
    "  for _ in range(lines):\n",
    "    poem = extend_poem(poem, prompt, lines)\n",
    "  return poem\n"
   ]
  },
  {
   "cell_type": "markdown",
   "metadata": {},
   "source": [
    "Our poetry generator can be run as follows, although it may sometimes fail,\n",
    "e.g., when GPT produces output in a wrong format."
   ]
  },
  {
   "cell_type": "code",
   "execution_count": 6,
   "metadata": {},
   "outputs": [
    {
     "name": "stdout",
     "output_type": "stream",
     "text": [
      "\n",
      "Feeling lost among a crowd, trying to replicate warmth.\n",
      "In a forest of despair, each sentiment and sorrow shares the same birth.\n"
     ]
    }
   ],
   "source": [
    "try:\n",
    "  two_line_poem = generate_poem(\n",
    "    'a two line poem inspired by the cure song \"a forest\"', lines=2)\n",
    "  print(two_line_poem)\n",
    "except Exception as e:\n",
    "  print(f'Failed with \"{e}\". Try again.')"
   ]
  },
  {
   "cell_type": "markdown",
   "metadata": {},
   "source": [
    "## Define a critic\n",
    "\n",
    "We would like to search the space of possible executions of our `generate_poem`\n",
    "function. In order to do so, we need to define a scoring function that can\n",
    "assign a numeric value to generated poems. We use another call to GPT for this."
   ]
  },
  {
   "cell_type": "code",
   "execution_count": 7,
   "metadata": {},
   "outputs": [],
   "source": [
    "DEFAULT_EXAMPLES =\"\"\"\n",
    "Example 1:\n",
    "\n",
    "\"Do not go gentle into that good night,\n",
    "Old age should burn and rave at close of day;\n",
    "Rage, rage against the dying of the light.\n",
    "\n",
    "Though wise men at their end know dark is right,\n",
    "Because their words had forked no lightning they\n",
    "Do not go gentle into that good night.\"\n",
    "\n",
    "SCORE: 10.0\n",
    "\n",
    "Example 2:\n",
    "\n",
    "\"To fling my arms wide\n",
    "In some place of the sun,\n",
    "To whirl and to dance\n",
    "Till the white day is done.\n",
    "Then rest at cool evening\n",
    "Beneath a tall tree\n",
    "While night comes on gently,\n",
    "    Dark like me—\n",
    "That is my dream!\"\n",
    "\n",
    "SCORE: 8.3\n",
    "\n",
    "Example 3:\n",
    "\n",
    "\"A winter wonderland, draped in pure white.\n",
    "The snowflakes dance, in the pale moonlight.\n",
    "Shimmering crystals, glistening so bright.\n",
    "Blankets of snow, whispering secrets of the night.\"\n",
    "\n",
    "SCORE: 3.1\n",
    "\n",
    "\"\"\"\n",
    "\n",
    "@enact.register\n",
    "def score_poem(poem: str, examples: str=DEFAULT_EXAMPLES) -> float:\n",
    "  gpt_prompt: str = f'''\n",
    "You are a sophisticated poetry critic. Score the following poem on a scale from\n",
    "0 to 10, where 0 is the worst poem and 10 is the best poem. You are a harsh \n",
    "critic and hate awkward, tryhard phrasings. Scores from 4-6 are decent poem\n",
    "written by a english lit major. 7 and above are publishable quality. Use 8 and 9\n",
    "for excellent poems. A score of ten is reserved for masterpieces. You pay\n",
    "particular attention to the rhythm of a poem.\n",
    "\n",
    "{examples}\n",
    "\n",
    "Respond in the following format:\n",
    "\n",
    "<short summary of positive and negatives. no longer than a line>\n",
    "SCORE: <score>\n",
    "\n",
    "This is the poem:\n",
    "{poem}\n",
    "'''\n",
    "  score = gpt(gpt_prompt, 1.1)\n",
    "  return float(re.search(r'SCORE: ([\\d\\.]+)', score).group(1))\n"
   ]
  },
  {
   "cell_type": "markdown",
   "metadata": {},
   "source": [
    "We can apply our poetry critic to the poem we generated earlier:"
   ]
  },
  {
   "cell_type": "code",
   "execution_count": 8,
   "metadata": {},
   "outputs": [
    {
     "name": "stdout",
     "output_type": "stream",
     "text": [
      "\n",
      "Feeling lost among a crowd, trying to replicate warmth.\n",
      "In a forest of despair, each sentiment and sorrow shares the same birth.\n",
      "Score: 4.2\n"
     ]
    }
   ],
   "source": [
    "try:\n",
    "  print(two_line_poem)\n",
    "  print(f'Score: {score_poem(two_line_poem)}')\n",
    "except Exception as e:\n",
    "  print(f'Try again. Generation failed with: {e}')"
   ]
  },
  {
   "cell_type": "markdown",
   "metadata": {},
   "source": [
    "## Implementing Monte Carlo Tree Search\n",
    "\n",
    "Enact can rewind and replay executions of registered python functions.  We can\n",
    "use this to explore the space of possible program executions using Monte Carlo\n",
    "Tree Search.\n"
   ]
  },
  {
   "cell_type": "code",
   "execution_count": 18,
   "metadata": {},
   "outputs": [],
   "source": [
    "import dataclasses\n",
    "from typing import Callable, Dict, List, Optional\n",
    "import numpy as np\n",
    "\n",
    "\n",
    "# Increase this number for more exploration\n",
    "EXPLORATION_AMOUNT = 3\n",
    "# Increase this to explore more from the root node,\n",
    "# i.e., to create more new poems from scratch.\n",
    "EXPLORE_ROOT_NODE = 1\n",
    "# Conservative quality prior to add for bootstrapped LCB.\n",
    "LCB_PRIOR = [1.0]\n",
    "\n",
    "\n",
    "@enact.register\n",
    "@dataclasses.dataclass\n",
    "class Node(enact.Resource):\n",
    "  invocation: enact.Invocation  # A (possibly-partial) execution.\n",
    "  parent: Optional['Node']      # The parent node.\n",
    "  scores: List[float]           # List of scores for this subtree.\n",
    "\n",
    "  @property\n",
    "  def tree_ucb(self) -> float:\n",
    "    \"\"\"Computes a heuristic UCB on scores for tree search.\"\"\"\n",
    "    if not self.parent:\n",
    "      parent_scores = EXPLORE_ROOT_NODE * len(self.scores)\n",
    "    else:\n",
    "      parent_scores = len(self.parent.scores)\n",
    "    return np.mean(self.scores) + EXPLORATION_AMOUNT * np.sqrt(\n",
    "      np.log(1e-2 + parent_scores) / len(self.scores))\n",
    "\n",
    "  @property\n",
    "  def lcb(self) -> float:\n",
    "    \"\"\"Computes a lower confidence bound on scores.\"\"\"\n",
    "    scores = self.scores\n",
    "    scores = scores + LCB_PRIOR\n",
    "      \n",
    "    return  np.percentile(\n",
    "      np.mean(np.random.choice(\n",
    "        scores, (10000, len(scores))), axis=1),\n",
    "      30.0)\n",
    "\n",
    "\n",
    "@enact.register\n",
    "@dataclasses.dataclass\n",
    "class MCTS(enact.Resource):\n",
    "  scorer: Callable[[str], float]\n",
    "  nodes: Dict[str, Node] = dataclasses.field(\n",
    "    default_factory=dict)\n",
    "\n",
    "  def add(\n",
    "      self,\n",
    "      invocation: enact.Invocation):\n",
    "    \"\"\"Add an invocation to the MCTS tree.\"\"\" \n",
    "    child = None\n",
    "    score = self.compute_score(invocation)\n",
    "    while True:\n",
    "      cur = enact.commit(invocation)\n",
    "      node = self.nodes.setdefault(cur.id, Node(invocation, None, []))\n",
    "      node.scores.append(score)\n",
    "      if child:\n",
    "        child.parent = node\n",
    "      child = node\n",
    "      if not invocation.response().children:\n",
    "        break\n",
    "      invocation = invocation.rewind()  # Generate execution prefix.\n",
    "    return score\n",
    "\n",
    "  def next_node(self):\n",
    "    \"\"\"Select next node according to highest UCB.\"\"\"\n",
    "    idx = np.argmax([node.tree_ucb for node in self.nodes.values()])\n",
    "    return list(self.nodes.values())[idx]\n",
    "\n",
    "  def compute_score(self, invocation: enact.Invocation) -> float:\n",
    "    \"\"\"Assign a score to the invocation.\"\"\"\n",
    "    if not invocation.successful():\n",
    "      return -1.0\n",
    "    try:\n",
    "      return self.scorer(invocation.get_output())\n",
    "    except enact.InputRequest:\n",
    "      raise\n",
    "    except:\n",
    "      raise Failed\n",
    "  \n",
    "  @enact.register\n",
    "  def step(self):\n",
    "    \"\"\"Run one step of MCTS and return generated output and score.\"\"\"\n",
    "    assert self.nodes, 'Please call add before step.'\n",
    "    node = self.next_node()\n",
    "    if node.invocation.response().children:\n",
    "      print(f'\\nContinuing partial poem:\\n{node.invocation.response().children[-1]().get_output()}')\n",
    "    else:\n",
    "      print(f'\\nCreating new root poem')\n",
    "    invocation = self.replay(node.invocation)\n",
    "    score = self.add(invocation)\n",
    "    if invocation.successful():\n",
    "      return invocation.get_output(), score\n",
    "\n",
    "  @enact.register\n",
    "  def invoke(self, fun: Callable, args=(), kwargs=None):\n",
    "    \"\"\"Wrap invocation in a registered function, since it is non-deterministic.\"\"\"\n",
    "    return enact.invoke(fun, args=args, kwargs=kwargs)\n",
    "\n",
    "  @enact.register\n",
    "  def replay(self, invocation: enact.Invocation) -> enact.Invocation:\n",
    "    \"\"\"Wrap replay in a registered function, since it is non-deterministic.\"\"\"\n",
    "    return invocation.replay()\n",
    "\n",
    "  @enact.register\n",
    "  def add_seed(self, fun, args=(), kwargs=None):\n",
    "    \"\"\"Add a seed invocation. Return success.\"\"\"\n",
    "    invocation = self.invoke(fun, args=args, kwargs=kwargs)\n",
    "    if not invocation.successful():\n",
    "      return False\n",
    "    try:\n",
    "      self.add(invocation)\n",
    "    except Failed:\n",
    "      return False\n",
    "    return True\n",
    "  \n",
    "  @enact.register\n",
    "  def run(self, fun, args=(), kwargs=None, seeds=5, iterations=100):\n",
    "    \"\"\"Run MCTS for a given number of iterations.\"\"\"\n",
    "    for _ in tqdm.trange(seeds, desc='Seeding'):\n",
    "      self.add_seed(fun, args=args, kwargs=kwargs)\n",
    "    if not self.nodes:\n",
    "      raise Failed('Could not find a successful seed invocation.')\n",
    "      \n",
    "    for _ in tqdm.trange(iterations, desc='Running MCTS'):\n",
    "      try:\n",
    "        output, score = self.step()\n",
    "        if output:\n",
    "          print(output)\n",
    "          print(f'Score: {score}')\n",
    "      except Failed:\n",
    "        pass\n",
    "\n",
    "  def highest_lcb(self):\n",
    "    \"\"\"Return the highest LCB output.\"\"\"\n",
    "    success_nodes = [node for node in self.nodes.values() if node.invocation.successful()]\n",
    "    if not success_nodes:\n",
    "      return None\n",
    "    return max(success_nodes, key=lambda node: node.lcb).invocation.get_output()\n",
    "\n",
    "  def highest_mean(self):\n",
    "    \"\"\"Return the output with the higest mean score.\"\"\"\n",
    "    success_nodes = [node for node in self.nodes.values() if node.invocation.successful()]\n",
    "    if not success_nodes:\n",
    "      return None\n",
    "    return max(success_nodes, key=lambda node: np.mean(node.scores)).invocation.get_output()"
   ]
  },
  {
   "cell_type": "markdown",
   "metadata": {},
   "source": [
    "Enact requires a store object in which calltraces (including inputs and outputs)\n",
    "are stored."
   ]
  },
  {
   "cell_type": "code",
   "execution_count": 19,
   "metadata": {},
   "outputs": [],
   "source": [
    "store = enact.InMemoryStore()"
   ]
  },
  {
   "cell_type": "markdown",
   "metadata": {},
   "source": [
    "We can now run MCTS for a set number of iterations using our automatic scoring."
   ]
  },
  {
   "cell_type": "code",
   "execution_count": 20,
   "metadata": {},
   "outputs": [
    {
     "name": "stderr",
     "output_type": "stream",
     "text": [
      "Seeding:   0%|          | 0/10 [00:00<?, ?it/s]"
     ]
    },
    {
     "name": "stderr",
     "output_type": "stream",
     "text": [
      "Seeding: 100%|██████████| 10/10 [01:18<00:00,  7.81s/it]\n",
      "Running MCTS:   0%|          | 0/100 [00:00<?, ?it/s]"
     ]
    },
    {
     "name": "stdout",
     "output_type": "stream",
     "text": [
      "\n",
      "Continuing partial poem:\n",
      "\n",
      "Pines sway to the rhythm of an ancient, unsung hymn,\n"
     ]
    },
    {
     "name": "stderr",
     "output_type": "stream",
     "text": [
      "Running MCTS:   1%|          | 1/100 [00:05<08:56,  5.42s/it]"
     ]
    },
    {
     "name": "stdout",
     "output_type": "stream",
     "text": [
      "\n",
      "Pines sway to the rhythm of an ancient, unsung hymn,\n",
      "In the heart of night, secrets stealthily swim.\n",
      "Moonlight stitches silver linings on the aphotic trim.\n",
      "Stars like eyes, peering through the velvet, ever so dim.\n",
      "Score: 6.5\n",
      "\n",
      "Continuing partial poem:\n",
      "\n",
      "In twilight speech, the echoes whisper cryptic lore.\n"
     ]
    },
    {
     "name": "stderr",
     "output_type": "stream",
     "text": [
      "Running MCTS:   2%|▏         | 2/100 [00:11<09:56,  6.09s/it]"
     ]
    },
    {
     "name": "stdout",
     "output_type": "stream",
     "text": [
      "\n",
      "In twilight speech, the echoes whisper cryptic lore.\n",
      "Through the forest of our memory, we search and explore.\n",
      "Of shadows and secrets, with every step, we implore.\n",
      "Mapping constellations in the dark labyrinth we ignore.\n",
      "Score: 5.5\n",
      "\n",
      "Continuing partial poem:\n",
      "\n",
      "Darkness awaits, whispering tales beneath the leaf-laden archway.\n"
     ]
    },
    {
     "name": "stderr",
     "output_type": "stream",
     "text": [
      "Running MCTS:   3%|▎         | 3/100 [00:18<09:49,  6.08s/it]"
     ]
    },
    {
     "name": "stdout",
     "output_type": "stream",
     "text": [
      "\n",
      "Darkness awaits, whispering tales beneath the leaf-laden archway.\n",
      "In tangled shadows, a phantom tranquility sways.\n",
      "The heart listens, pulse echoing through the hallowed gloom.\n",
      "The melody of silence plays on, elusive as the moon's midnight bloom.\n",
      "Score: 5.2\n",
      "\n",
      "Continuing partial poem:\n",
      "\n",
      "Pines sway to the rhythm of an ancient, unsung hymn,\n"
     ]
    },
    {
     "name": "stderr",
     "output_type": "stream",
     "text": [
      "Running MCTS:   4%|▍         | 4/100 [00:24<10:03,  6.29s/it]"
     ]
    },
    {
     "name": "stdout",
     "output_type": "stream",
     "text": [
      "\n",
      "Pines sway to the rhythm of an ancient, unsung hymn,\n",
      "Where the moonlight filters gently and the shadows begin to swim,\n",
      "Murmurs echo as the blackbird serenades the sunless hymn.\n",
      "In the heart of this emerald expanse, time whispers and ghosts dim.\n",
      "Score: 6.7\n",
      "\n",
      "Continuing partial poem:\n",
      "\n",
      "Pines sway to the rhythm of an ancient, unsung hymn,\n",
      "Beneath their whispers, the forest's heart begins to brim.\n"
     ]
    },
    {
     "name": "stderr",
     "output_type": "stream",
     "text": [
      "Running MCTS:   5%|▌         | 5/100 [00:29<09:05,  5.74s/it]"
     ]
    },
    {
     "name": "stdout",
     "output_type": "stream",
     "text": [
      "\n",
      "Pines sway to the rhythm of an ancient, unsung hymn,\n",
      "Beneath their whispers, the forest's heart begins to brim.\n",
      "In the quietude, the morose melody seeps through the trees' slim.\n",
      "Through the dense darkness, echoes dance in spectral symmetry.\n",
      "Score: 4.7\n",
      "\n",
      "Continuing partial poem:\n",
      "\n",
      "Pines sway to the rhythm of an ancient, unsung hymn,\n",
      "Where the moonlight filters gently and the shadows begin to swim,\n"
     ]
    },
    {
     "name": "stderr",
     "output_type": "stream",
     "text": [
      "Running MCTS:   6%|▌         | 6/100 [00:33<08:16,  5.28s/it]"
     ]
    },
    {
     "name": "stdout",
     "output_type": "stream",
     "text": [
      "\n",
      "Pines sway to the rhythm of an ancient, unsung hymn,\n",
      "Where the moonlight filters gently and the shadows begin to swim,\n",
      "Beneath the sighs of the sullen sky, secrets whisper within limbs.\n",
      "In the echo of a haunted melody, darkness and light whimsically spin.\n",
      "Score: 5.7\n",
      "\n",
      "Continuing partial poem:\n",
      "\n",
      "Pines sway to the rhythm of an ancient, unsung hymn,\n",
      "In the heart of night, secrets stealthily swim.\n"
     ]
    },
    {
     "name": "stderr",
     "output_type": "stream",
     "text": [
      "Running MCTS:   7%|▋         | 7/100 [00:38<07:47,  5.02s/it]"
     ]
    },
    {
     "name": "stdout",
     "output_type": "stream",
     "text": [
      "\n",
      "Pines sway to the rhythm of an ancient, unsung hymn,\n",
      "In the heart of night, secrets stealthily swim.\n",
      "Underneath the moon's pale grin, shadows unfurl and begin.\n",
      "A symphony of silence whispers within her timbered skin.\n",
      "Score: 5.9\n",
      "\n",
      "Continuing partial poem:\n",
      "\n",
      "Where shadows flirt with ghostly echoes, a siren song of dusk.\n"
     ]
    },
    {
     "name": "stderr",
     "output_type": "stream",
     "text": [
      "Running MCTS:   8%|▊         | 8/100 [00:46<09:21,  6.11s/it]"
     ]
    },
    {
     "name": "stdout",
     "output_type": "stream",
     "text": [
      "\n",
      "Where shadows flirt with ghostly echoes, a siren song of dusk.\n",
      "In the thicket, whispers stir, carrying tales we seldom trust.\n",
      "Through verdant veils, the moonlight strains, hallowed memories turning to rust.\n",
      "Beneath towering sentinels, our fears and secrets intermingle thus.\n",
      "Score: 5.4\n",
      "\n",
      "Continuing partial poem:\n",
      "\n",
      "Piercing through the fog of memory, a spectral melody.\n"
     ]
    },
    {
     "name": "stderr",
     "output_type": "stream",
     "text": [
      "Running MCTS:   9%|▉         | 9/100 [00:53<09:25,  6.21s/it]"
     ]
    },
    {
     "name": "stdout",
     "output_type": "stream",
     "text": [
      "\n",
      "Piercing through the fog of memory, a spectral melody.\n",
      "Whispers of forgotten words carried on the back of the wind.\n",
      "Running through shadows of twisted tall timbers painted by languid moonlight.\n",
      "Echoing the rhythm of our beating hearts, lost to the drumming earth.\n",
      "Score: 6.8\n",
      "\n",
      "Continuing partial poem:\n",
      "\n",
      "And its haunting refrain echoes through my veins.\n"
     ]
    },
    {
     "name": "stderr",
     "output_type": "stream",
     "text": [
      "Running MCTS:  10%|█         | 10/100 [01:00<09:52,  6.58s/it]"
     ]
    },
    {
     "name": "stdout",
     "output_type": "stream",
     "text": [
      "\n",
      "And its haunting refrain echoes through my veins.\n",
      "In whispers of love lost amongst the emerald canopy.\n",
      "Where shadows dance in the silence, mirroring the symphony of my heart.\n",
      "Eclipsed by the moonlight, secrets spilled from roots to the hush of leaves.\n",
      "Score: 4.8\n",
      "\n",
      "Continuing partial poem:\n",
      "\n",
      "Seeking solace in the trees, where whispers echo pleas.\n"
     ]
    },
    {
     "name": "stderr",
     "output_type": "stream",
     "text": [
      "Running MCTS:  11%|█         | 11/100 [01:06<09:37,  6.49s/it]"
     ]
    },
    {
     "name": "stdout",
     "output_type": "stream",
     "text": [
      "\n",
      "Seeking solace in the trees, where whispers echo pleas.\n",
      "Veiled by shadow and swaying leaves, the moonlight's dance deceives.\n",
      "Twilight claims the day, as the labyrinthine forest weaves its disarray.\n",
      "Beneath the graven sky, silent specters pass us by.\n",
      "Score: 5.2\n",
      "\n",
      "Continuing partial poem:\n",
      "\n",
      "Pines sway to the rhythm of an ancient, unsung hymn,\n",
      "Beneath their whispers, the forest's heart begins to brim.\n",
      "Inviting moonlight dances on a stage of forgotten whims.\n"
     ]
    },
    {
     "name": "stderr",
     "output_type": "stream",
     "text": [
      "Running MCTS:  12%|█▏        | 12/100 [01:10<08:23,  5.72s/it]"
     ]
    },
    {
     "name": "stdout",
     "output_type": "stream",
     "text": [
      "\n",
      "Pines sway to the rhythm of an ancient, unsung hymn,\n",
      "Beneath their whispers, the forest's heart begins to brim.\n",
      "Inviting moonlight dances on a stage of forgotten whims.\n",
      "In the echo's murmur, a harvest of somber shadows swim.\n",
      "Score: 5.7\n",
      "\n",
      "Continuing partial poem:\n",
      "\n",
      "Pines sway to the rhythm of an ancient, unsung hymn,\n",
      "Beneath their whispers, the forest's heart begins to brim.\n",
      "Inviting moonlight dances on a stage of forgotten whims.\n",
      "Emerald leaves echo such secrets in the soft susurrus of the wind.\n"
     ]
    },
    {
     "name": "stderr",
     "output_type": "stream",
     "text": [
      "Running MCTS:  13%|█▎        | 13/100 [01:12<06:19,  4.36s/it]"
     ]
    },
    {
     "name": "stdout",
     "output_type": "stream",
     "text": [
      "\n",
      "Pines sway to the rhythm of an ancient, unsung hymn,\n",
      "Beneath their whispers, the forest's heart begins to brim.\n",
      "Inviting moonlight dances on a stage of forgotten whims.\n",
      "Emerald leaves echo such secrets in the soft susurrus of the wind.\n",
      "Score: 5.8\n",
      "\n",
      "Continuing partial poem:\n",
      "\n",
      "A light getting dimmer, lost in the emerald expanse.\n"
     ]
    },
    {
     "name": "stderr",
     "output_type": "stream",
     "text": [
      "Running MCTS:  14%|█▍        | 14/100 [01:17<06:52,  4.80s/it]"
     ]
    },
    {
     "name": "stdout",
     "output_type": "stream",
     "text": [
      "\n",
      "A light getting dimmer, lost in the emerald expanse.\n",
      "And whispers dance between the fingers of silence.\n",
      "Threads of melody unraveling, serenading the untamed advance.\n",
      "In the hush, we find the echo of our longing, reverberating in expanse.\n",
      "Score: 5.9\n",
      "\n",
      "Continuing partial poem:\n",
      "\n",
      "In their shadowed heart, whispers speak of lost tales.\n"
     ]
    },
    {
     "name": "stderr",
     "output_type": "stream",
     "text": [
      "Running MCTS:  15%|█▌        | 15/100 [01:23<07:00,  4.94s/it]"
     ]
    },
    {
     "name": "stdout",
     "output_type": "stream",
     "text": [
      "\n",
      "In their shadowed heart, whispers speak of lost tales.\n",
      "Beneath a moon's glow, secrets echo in the wail of the gales.\n",
      "Through the hushed canopy, resonates a melody frail.\n",
      "Like the Cure's refrain, each beat punctures the veil.\n",
      "Score: 5.8\n",
      "\n",
      "Continuing partial poem:\n",
      "\n",
      "Piercing through the fog of memory, a spectral melody.\n"
     ]
    },
    {
     "name": "stderr",
     "output_type": "stream",
     "text": [
      "Running MCTS:  16%|█▌        | 16/100 [01:29<07:32,  5.39s/it]"
     ]
    },
    {
     "name": "stdout",
     "output_type": "stream",
     "text": [
      "\n",
      "Piercing through the fog of memory, a spectral melody.\n",
      "Beyond the veil of shadows, an echoed refrain in the thicket's elegy.\n",
      "In the silence of the ancient trees, whispers of forgotten revelry.\n",
      "Obscured by moonlight, the forest's secrets bound in nightly treasury.\n",
      "Score: 4.9\n",
      "\n",
      "Continuing partial poem:\n",
      "\n",
      "Piercing through the fog of memory, a spectral melody.\n",
      "Whispers of forgotten words carried on the back of the wind.\n"
     ]
    },
    {
     "name": "stderr",
     "output_type": "stream",
     "text": [
      "Running MCTS:  17%|█▋        | 17/100 [01:33<06:52,  4.96s/it]"
     ]
    },
    {
     "name": "stdout",
     "output_type": "stream",
     "text": [
      "\n",
      "Piercing through the fog of memory, a spectral melody.\n",
      "Whispers of forgotten words carried on the back of the wind.\n",
      "Echoing amongst towering trees, the tune's haunting mystery.\n",
      "In the blackened heart of solitude, a voice emerges, curiously sinned.\n",
      "Score: 5.7\n",
      "\n",
      "Continuing partial poem:\n",
      "\n",
      "In twilight speech, the echoes whisper cryptic lore.\n"
     ]
    },
    {
     "name": "stderr",
     "output_type": "stream",
     "text": [
      "Running MCTS:  18%|█▊        | 18/100 [01:39<07:07,  5.21s/it]"
     ]
    },
    {
     "name": "stdout",
     "output_type": "stream",
     "text": [
      "\n",
      "In twilight speech, the echoes whisper cryptic lore.\n",
      "Through the labyrinth of shadows, the hollow trees implore.\n",
      "Deep in the heart, where the moonlight dare not touch the forest floor.\n",
      "A melody unfurls, as elusive as night's velveteen core.\n",
      "Score: 5.8\n",
      "\n",
      "Continuing partial poem:\n",
      "\n",
      "Darkness awaits, whispering tales beneath the leaf-laden archway.\n"
     ]
    },
    {
     "name": "stderr",
     "output_type": "stream",
     "text": [
      "Running MCTS:  19%|█▉        | 19/100 [01:46<08:00,  5.93s/it]"
     ]
    },
    {
     "name": "stdout",
     "output_type": "stream",
     "text": [
      "\n",
      "Darkness awaits, whispering tales beneath the leaf-laden archway.\n",
      "Lost in verdant chambers, echoes of a melody unplayed.\n",
      "In the heart of the thicket, silence weaves a spectral ballet.\n",
      "Amid the latticework of shadows, your absence throbs an unsung serenade.\n",
      "Score: 4.8\n",
      "\n",
      "Continuing partial poem:\n",
      "\n",
      "Piercing through the fog of memory, a spectral melody.\n",
      "Whispers of forgotten words carried on the back of the wind.\n",
      "Running through shadows of twisted tall timbers painted by languid moonlight.\n"
     ]
    },
    {
     "name": "stderr",
     "output_type": "stream",
     "text": [
      "Running MCTS:  20%|██        | 20/100 [01:51<07:11,  5.39s/it]"
     ]
    },
    {
     "name": "stdout",
     "output_type": "stream",
     "text": [
      "\n",
      "Piercing through the fog of memory, a spectral melody.\n",
      "Whispers of forgotten words carried on the back of the wind.\n",
      "Running through shadows of twisted tall timbers painted by languid moonlight.\n",
      "Lost in echoes intertwined, the bittersweet symphony of the night.\n",
      "Score: 5.6\n",
      "\n",
      "Continuing partial poem:\n",
      "\n",
      "Piercing through the fog of memory, a spectral melody.\n",
      "Whispers of forgotten words carried on the back of the wind.\n",
      "Running through shadows of twisted tall timbers painted by languid moonlight.\n",
      "Echoing the rhythm of our beating hearts, lost to the drumming earth.\n"
     ]
    },
    {
     "name": "stderr",
     "output_type": "stream",
     "text": [
      "Running MCTS:  21%|██        | 21/100 [01:52<05:41,  4.32s/it]"
     ]
    },
    {
     "name": "stdout",
     "output_type": "stream",
     "text": [
      "\n",
      "Piercing through the fog of memory, a spectral melody.\n",
      "Whispers of forgotten words carried on the back of the wind.\n",
      "Running through shadows of twisted tall timbers painted by languid moonlight.\n",
      "Echoing the rhythm of our beating hearts, lost to the drumming earth.\n",
      "Score: 6.9\n",
      "\n",
      "Continuing partial poem:\n",
      "\n",
      "Pines sway to the rhythm of an ancient, unsung hymn,\n",
      "In the heart of night, secrets stealthily swim.\n"
     ]
    },
    {
     "name": "stderr",
     "output_type": "stream",
     "text": [
      "Running MCTS:  22%|██▏       | 22/100 [01:58<05:55,  4.56s/it]"
     ]
    },
    {
     "name": "stdout",
     "output_type": "stream",
     "text": [
      "\n",
      "Pines sway to the rhythm of an ancient, unsung hymn,\n",
      "In the heart of night, secrets stealthily swim.\n",
      "Beneath the moon's elusive gaze, mysteries unfurl and brim.\n",
      "Where whispers and shadows dance, interwoven and dim.\n",
      "Score: 5.4\n",
      "\n",
      "Continuing partial poem:\n",
      "\n",
      "Pines sway to the rhythm of an ancient, unsung hymn,\n",
      "In the heart of night, secrets stealthily swim.\n",
      "Moonlight stitches silver linings on the aphotic trim.\n"
     ]
    },
    {
     "name": "stderr",
     "output_type": "stream",
     "text": [
      "Running MCTS:  23%|██▎       | 23/100 [02:01<05:25,  4.22s/it]"
     ]
    },
    {
     "name": "stdout",
     "output_type": "stream",
     "text": [
      "\n",
      "Pines sway to the rhythm of an ancient, unsung hymn,\n",
      "In the heart of night, secrets stealthily swim.\n",
      "Moonlight stitches silver linings on the aphotic trim.\n",
      "Among the susurrus whispers, a nocturne begins.\n",
      "Score: 5.9\n",
      "\n",
      "Continuing partial poem:\n",
      "\n",
      "Pines sway to the rhythm of an ancient, unsung hymn,\n",
      "In the heart of night, secrets stealthily swim.\n",
      "Underneath the moon's pale grin, shadows unfurl and begin.\n"
     ]
    },
    {
     "name": "stderr",
     "output_type": "stream",
     "text": [
      "Running MCTS:  24%|██▍       | 24/100 [02:04<04:52,  3.85s/it]"
     ]
    },
    {
     "name": "stdout",
     "output_type": "stream",
     "text": [
      "\n",
      "Pines sway to the rhythm of an ancient, unsung hymn,\n",
      "In the heart of night, secrets stealthily swim.\n",
      "Underneath the moon's pale grin, shadows unfurl and begin.\n",
      "Where whispers of love become tangible, cradled deep within.\n",
      "Score: 5.2\n",
      "\n",
      "Continuing partial poem:\n",
      "\n",
      "Pines sway to the rhythm of an ancient, unsung hymn,\n",
      "Where the moonlight filters gently and the shadows begin to swim,\n"
     ]
    },
    {
     "name": "stderr",
     "output_type": "stream",
     "text": [
      "Running MCTS:  25%|██▌       | 25/100 [02:09<05:05,  4.07s/it]"
     ]
    },
    {
     "name": "stdout",
     "output_type": "stream",
     "text": [
      "\n",
      "Pines sway to the rhythm of an ancient, unsung hymn,\n",
      "Where the moonlight filters gently and the shadows begin to swim,\n",
      "In the hushed whispers of the wind, stories of lost souls within.\n",
      "Beneath the watchful stars, the forest breathes in spectral kin.\n",
      "Score: 5.4\n",
      "\n",
      "Continuing partial poem:\n",
      "\n",
      "Pines sway to the rhythm of an ancient, unsung hymn,\n",
      "Where the moonlight filters gently and the shadows begin to swim,\n",
      "Murmurs echo as the blackbird serenades the sunless hymn.\n"
     ]
    },
    {
     "name": "stderr",
     "output_type": "stream",
     "text": [
      "Running MCTS:  26%|██▌       | 26/100 [02:12<04:57,  4.02s/it]"
     ]
    },
    {
     "name": "stdout",
     "output_type": "stream",
     "text": [
      "\n",
      "Pines sway to the rhythm of an ancient, unsung hymn,\n",
      "Where the moonlight filters gently and the shadows begin to swim,\n",
      "Murmurs echo as the blackbird serenades the sunless hymn.\n",
      "In this nocturne of whispers, the woods breathe secrets on the wind.\n",
      "Score: 5.9\n",
      "\n",
      "Continuing partial poem:\n",
      "\n",
      "Through twisting veins of leafy density, I follow.\n"
     ]
    },
    {
     "name": "stderr",
     "output_type": "stream",
     "text": [
      "Running MCTS:  27%|██▋       | 27/100 [02:19<05:39,  4.65s/it]"
     ]
    },
    {
     "name": "stdout",
     "output_type": "stream",
     "text": [
      "\n",
      "Through twisting veins of leafy density, I follow.\n",
      "The whispering wind weaves memories of incantations, low and hollow.\n",
      "In ebony shadows, the moon dances, her pale ballet forebodes sorrow.\n",
      "Under a crown of starlight, distantly echoes the haunting call of tomorrow.\n",
      "Score: 6.7\n",
      "\n",
      "Continuing partial poem:\n",
      "\n",
      "Where shadows flirt with ghostly echoes, a siren song of dusk.\n"
     ]
    },
    {
     "name": "stderr",
     "output_type": "stream",
     "text": [
      "Running MCTS:  28%|██▊       | 28/100 [02:26<06:34,  5.47s/it]"
     ]
    },
    {
     "name": "stdout",
     "output_type": "stream",
     "text": [
      "\n",
      "Where shadows flirt with ghostly echoes, a siren song of dusk.\n",
      "In the darkened heart of deceit, beats the rhythm of ancient rust.\n",
      "Beneath the verdant canopy, secrets whisper on the hush.\n",
      "Through the densest fog of longing, we wander and we rush.\n",
      "Score: 5.0\n",
      "\n",
      "Continuing partial poem:\n",
      "\n",
      "A light getting dimmer, lost in the emerald expanse.\n"
     ]
    },
    {
     "name": "stderr",
     "output_type": "stream",
     "text": [
      "Running MCTS:  29%|██▉       | 29/100 [02:32<06:41,  5.66s/it]"
     ]
    },
    {
     "name": "stdout",
     "output_type": "stream",
     "text": [
      "\n",
      "A light getting dimmer, lost in the emerald expanse.\n",
      "Eerie whispers echo, drawing me deeper into the trance.\n",
      "Under a canopy of shadows, I embrace my spectral dance.\n",
      "As I stumble through memories, I catch the scent of lost romance.\n",
      "Score: 5.7\n",
      "\n",
      "Continuing partial poem:\n",
      "\n",
      "Through twisting veins of leafy density, I follow.\n"
     ]
    },
    {
     "name": "stderr",
     "output_type": "stream",
     "text": [
      "Running MCTS:  30%|███       | 30/100 [02:39<06:54,  5.92s/it]"
     ]
    },
    {
     "name": "stdout",
     "output_type": "stream",
     "text": [
      "\n",
      "Through twisting veins of leafy density, I follow.\n",
      "Echoes of a song murmuring beneath the rustling canopy.\n",
      "Dance beneath moon's pallor, mirrored on a stream that weeps.\n",
      "Whispers birth from darkened earth, threading secrets through the deep.\n",
      "Score: 5.7\n",
      "\n",
      "Continuing partial poem:\n",
      "\n",
      "Through twisting veins of leafy density, I follow.\n",
      "The whispering wind weaves memories of incantations, low and hollow.\n"
     ]
    },
    {
     "name": "stderr",
     "output_type": "stream",
     "text": [
      "Running MCTS:  31%|███       | 31/100 [02:43<06:21,  5.53s/it]"
     ]
    },
    {
     "name": "stdout",
     "output_type": "stream",
     "text": [
      "\n",
      "Through twisting veins of leafy density, I follow.\n",
      "The whispering wind weaves memories of incantations, low and hollow.\n",
      "Drunk on moonglow, through moss-carpeted silence, I wallow.\n",
      "Ghosts of lost hopes haunt the shadows, through the forgotten they follow.\n",
      "Score: 5.7\n",
      "\n",
      "Continuing partial poem:\n",
      "\n",
      "In their shadowed heart, whispers speak of lost tales.\n"
     ]
    },
    {
     "name": "stderr",
     "output_type": "stream",
     "text": [
      "Running MCTS:  32%|███▏      | 32/100 [02:49<06:20,  5.59s/it]"
     ]
    },
    {
     "name": "stdout",
     "output_type": "stream",
     "text": [
      "\n",
      "In their shadowed heart, whispers speak of lost tales.\n",
      "Under the watchful eyes of the moon, secrets remain veiled.\n",
      "In solitude they walk, as stars reflect in abandoned trails.\n",
      "Of nights spent chasing echoes, in that forest where silence prevails.\n",
      "Score: 5.6\n",
      "\n",
      "Continuing partial poem:\n",
      "\n",
      "Pines sway to the rhythm of an ancient, unsung hymn,\n",
      "Where the moonlight filters gently and the shadows begin to swim,\n",
      "Beneath the sighs of the sullen sky, secrets whisper within limbs.\n"
     ]
    },
    {
     "name": "stderr",
     "output_type": "stream",
     "text": [
      "Running MCTS:  33%|███▎      | 33/100 [02:52<05:18,  4.75s/it]"
     ]
    },
    {
     "name": "stdout",
     "output_type": "stream",
     "text": [
      "\n",
      "Pines sway to the rhythm of an ancient, unsung hymn,\n",
      "Where the moonlight filters gently and the shadows begin to swim,\n",
      "Beneath the sighs of the sullen sky, secrets whisper within limbs.\n",
      "In the heart of the undergrowth, echoes churn, solitude spins.\n",
      "Score: 6.7\n",
      "\n",
      "Continuing partial poem:\n",
      "\n",
      "Piercing through the fog of memory, a spectral melody.\n",
      "Whispers of forgotten words carried on the back of the wind.\n",
      "Echoing amongst towering trees, the tune's haunting mystery.\n"
     ]
    },
    {
     "name": "stderr",
     "output_type": "stream",
     "text": [
      "Running MCTS:  34%|███▍      | 34/100 [02:56<04:56,  4.49s/it]"
     ]
    },
    {
     "name": "stdout",
     "output_type": "stream",
     "text": [
      "\n",
      "Piercing through the fog of memory, a spectral melody.\n",
      "Whispers of forgotten words carried on the back of the wind.\n",
      "Echoing amongst towering trees, the tune's haunting mystery.\n",
      "In hollow hearts it resonates, the Cure's song wrapped in obscurity.\n",
      "Score: 6.1\n",
      "\n",
      "Continuing partial poem:\n",
      "\n",
      "Piercing through the fog of memory, a spectral melody.\n",
      "Trees whisper as they spin their tales to the serenade of night.\n"
     ]
    },
    {
     "name": "stderr",
     "output_type": "stream",
     "text": [
      "Running MCTS:  35%|███▌      | 35/100 [03:00<04:54,  4.53s/it]"
     ]
    },
    {
     "name": "stdout",
     "output_type": "stream",
     "text": [
      "\n",
      "Piercing through the fog of memory, a spectral melody.\n",
      "Trees whisper as they spin their tales to the serenade of night.\n",
      "In the distance, moonlight dances on the tarnished pathway of lost time.\n",
      "Shadowed echoes of a love song linger in the hush of the forest's heart.\n",
      "Score: 5.3\n",
      "\n",
      "Continuing partial poem:\n",
      "\n",
      "Through twisting veins of leafy density, I follow.\n",
      "Echoes of a song murmuring beneath the rustling canopy.\n"
     ]
    },
    {
     "name": "stderr",
     "output_type": "stream",
     "text": [
      "Running MCTS:  36%|███▌      | 36/100 [03:05<04:58,  4.66s/it]"
     ]
    },
    {
     "name": "stdout",
     "output_type": "stream",
     "text": [
      "\n",
      "Through twisting veins of leafy density, I follow.\n",
      "Echoes of a song murmuring beneath the rustling canopy.\n",
      "A solemn quest enshrouded in the moon’s silken mystery.\n",
      "Drawn to the heart of the forest where Nightingale dreams alight.\n",
      "Score: 5.8\n",
      "\n",
      "Continuing partial poem:\n",
      "\n",
      "Piercing through the fog of memory, a spectral melody.\n",
      "Beyond the veil of shadows, an echoed refrain in the thicket's elegy.\n"
     ]
    },
    {
     "name": "stderr",
     "output_type": "stream",
     "text": [
      "Running MCTS:  37%|███▋      | 37/100 [03:12<05:36,  5.34s/it]"
     ]
    },
    {
     "name": "stdout",
     "output_type": "stream",
     "text": [
      "\n",
      "Piercing through the fog of memory, a spectral melody.\n",
      "Beyond the veil of shadows, an echoed refrain in the thicket's elegy.\n",
      "A serenade as dark as inkwell night, woven in cryptic legerdemain.\n",
      "Underneath the moon's ethereal glow, secrets whisper in the somber refrain.\n",
      "Score: 5.5\n",
      "\n",
      "Continuing partial poem:\n",
      "\n",
      "Seeking solace in the trees, where whispers echo pleas.\n"
     ]
    },
    {
     "name": "stderr",
     "output_type": "stream",
     "text": [
      "Running MCTS:  38%|███▊      | 38/100 [03:19<06:00,  5.81s/it]"
     ]
    },
    {
     "name": "stdout",
     "output_type": "stream",
     "text": [
      "\n",
      "Seeking solace in the trees, where whispers echo pleas.\n",
      "Beneath their verdant canopy, melancholy harmonies grieve.\n",
      "Shadowed paths winding deep, into the secrets they keep.\n",
      "In the quiet, the heart pulses like a drummer's fervent beat.\n",
      "Score: 4.7\n",
      "\n",
      "Continuing partial poem:\n",
      "\n",
      "Pines sway to the rhythm of an ancient, unsung hymn,\n",
      "In the heart of night, secrets stealthily swim.\n",
      "Beneath the moon's elusive gaze, mysteries unfurl and brim.\n"
     ]
    },
    {
     "name": "stderr",
     "output_type": "stream",
     "text": [
      "Running MCTS:  39%|███▉      | 39/100 [03:22<05:02,  4.96s/it]"
     ]
    },
    {
     "name": "stdout",
     "output_type": "stream",
     "text": [
      "\n",
      "Pines sway to the rhythm of an ancient, unsung hymn,\n",
      "In the heart of night, secrets stealthily swim.\n",
      "Beneath the moon's elusive gaze, mysteries unfurl and brim.\n",
      "Threads of silence echo through the black veil's verdant trim.\n",
      "Score: 6.0\n",
      "\n",
      "Continuing partial poem:\n",
      "\n",
      "Pines sway to the rhythm of an ancient, unsung hymn,\n",
      "Where the moonlight filters gently and the shadows begin to swim,\n",
      "In the hushed whispers of the wind, stories of lost souls within.\n"
     ]
    },
    {
     "name": "stderr",
     "output_type": "stream",
     "text": [
      "Running MCTS:  40%|████      | 40/100 [03:26<04:46,  4.78s/it]"
     ]
    },
    {
     "name": "stdout",
     "output_type": "stream",
     "text": [
      "\n",
      "Pines sway to the rhythm of an ancient, unsung hymn,\n",
      "Where the moonlight filters gently and the shadows begin to swim,\n",
      "In the hushed whispers of the wind, stories of lost souls within.\n",
      "A labyrinth of silence, where the echo of time knows no sin.\n",
      "Score: 6.8\n",
      "\n",
      "Continuing partial poem:\n",
      "\n",
      "Pines sway to the rhythm of an ancient, unsung hymn,\n",
      "Where the moonlight filters gently and the shadows begin to swim,\n",
      "In the hushed whispers of the wind, stories of lost souls within.\n",
      "A labyrinth of silence, where the echo of time knows no sin.\n"
     ]
    },
    {
     "name": "stderr",
     "output_type": "stream",
     "text": [
      "Running MCTS:  41%|████      | 41/100 [03:28<03:45,  3.82s/it]"
     ]
    },
    {
     "name": "stdout",
     "output_type": "stream",
     "text": [
      "\n",
      "Pines sway to the rhythm of an ancient, unsung hymn,\n",
      "Where the moonlight filters gently and the shadows begin to swim,\n",
      "In the hushed whispers of the wind, stories of lost souls within.\n",
      "A labyrinth of silence, where the echo of time knows no sin.\n",
      "Score: 5.9\n",
      "\n",
      "Continuing partial poem:\n",
      "\n",
      "Pines sway to the rhythm of an ancient, unsung hymn,\n",
      "Where the moonlight filters gently and the shadows begin to swim,\n",
      "Murmurs echo as the blackbird serenades the sunless hymn.\n"
     ]
    },
    {
     "name": "stderr",
     "output_type": "stream",
     "text": [
      "Running MCTS:  42%|████▏     | 42/100 [03:31<03:32,  3.66s/it]"
     ]
    },
    {
     "name": "stdout",
     "output_type": "stream",
     "text": [
      "\n",
      "Pines sway to the rhythm of an ancient, unsung hymn,\n",
      "Where the moonlight filters gently and the shadows begin to swim,\n",
      "Murmurs echo as the blackbird serenades the sunless hymn.\n",
      "In the depth of the emerald labyrinth, whispers the cure of eternal sin.\n",
      "Score: 5.2\n",
      "\n",
      "Continuing partial poem:\n",
      "\n",
      "Pines sway to the rhythm of an ancient, unsung hymn,\n",
      "Where the moonlight filters gently and the shadows begin to swim,\n",
      "Murmurs echo as the blackbird serenades the sunless hymn.\n",
      "In the heart of this emerald expanse, time whispers and ghosts dim.\n"
     ]
    },
    {
     "name": "stderr",
     "output_type": "stream",
     "text": [
      "Running MCTS:  43%|████▎     | 43/100 [03:33<03:00,  3.17s/it]"
     ]
    },
    {
     "name": "stdout",
     "output_type": "stream",
     "text": [
      "\n",
      "Pines sway to the rhythm of an ancient, unsung hymn,\n",
      "Where the moonlight filters gently and the shadows begin to swim,\n",
      "Murmurs echo as the blackbird serenades the sunless hymn.\n",
      "In the heart of this emerald expanse, time whispers and ghosts dim.\n",
      "Score: 6.8\n",
      "\n",
      "Continuing partial poem:\n",
      "\n",
      "Pines sway to the rhythm of an ancient, unsung hymn,\n",
      "Where the moonlight filters gently and the shadows begin to swim,\n",
      "Murmurs echo as the blackbird serenades the sunless hymn.\n",
      "In this nocturne of whispers, the woods breathe secrets on the wind.\n"
     ]
    },
    {
     "name": "stderr",
     "output_type": "stream",
     "text": [
      "Running MCTS:  44%|████▍     | 44/100 [03:35<02:42,  2.90s/it]"
     ]
    },
    {
     "name": "stdout",
     "output_type": "stream",
     "text": [
      "\n",
      "Pines sway to the rhythm of an ancient, unsung hymn,\n",
      "Where the moonlight filters gently and the shadows begin to swim,\n",
      "Murmurs echo as the blackbird serenades the sunless hymn.\n",
      "In this nocturne of whispers, the woods breathe secrets on the wind.\n",
      "Score: 4.0\n",
      "\n",
      "Continuing partial poem:\n",
      "\n",
      "Pines sway to the rhythm of an ancient, unsung hymn,\n",
      "Where the moonlight filters gently and the shadows begin to swim,\n",
      "Murmurs echo as the blackbird serenades the sunless hymn.\n",
      "In the heart of this emerald expanse, time whispers and ghosts dim.\n"
     ]
    },
    {
     "name": "stderr",
     "output_type": "stream",
     "text": [
      "Running MCTS:  45%|████▌     | 45/100 [03:38<02:25,  2.65s/it]"
     ]
    },
    {
     "name": "stdout",
     "output_type": "stream",
     "text": [
      "\n",
      "Pines sway to the rhythm of an ancient, unsung hymn,\n",
      "Where the moonlight filters gently and the shadows begin to swim,\n",
      "Murmurs echo as the blackbird serenades the sunless hymn.\n",
      "In the heart of this emerald expanse, time whispers and ghosts dim.\n",
      "Score: 4.5\n",
      "\n",
      "Continuing partial poem:\n",
      "\n",
      "Pines sway to the rhythm of an ancient, unsung hymn,\n",
      "Where the moonlight filters gently and the shadows begin to swim,\n",
      "Beneath the sighs of the sullen sky, secrets whisper within limbs.\n"
     ]
    },
    {
     "name": "stderr",
     "output_type": "stream",
     "text": [
      "Running MCTS:  46%|████▌     | 46/100 [03:41<02:32,  2.83s/it]"
     ]
    },
    {
     "name": "stdout",
     "output_type": "stream",
     "text": [
      "\n",
      "Pines sway to the rhythm of an ancient, unsung hymn,\n",
      "Where the moonlight filters gently and the shadows begin to swim,\n",
      "Beneath the sighs of the sullen sky, secrets whisper within limbs.\n",
      "In this mystical arboreal cathedral, echoes of past love sins sing hymns.\n",
      "Score: 4.6\n",
      "\n",
      "Continuing partial poem:\n",
      "\n",
      "Pines sway to the rhythm of an ancient, unsung hymn,\n",
      "Where the moonlight filters gently and the shadows begin to swim,\n",
      "Beneath the sighs of the sullen sky, secrets whisper within limbs.\n",
      "In the heart of the undergrowth, echoes churn, solitude spins.\n"
     ]
    },
    {
     "name": "stderr",
     "output_type": "stream",
     "text": [
      "Running MCTS:  47%|████▋     | 47/100 [03:43<02:19,  2.64s/it]"
     ]
    },
    {
     "name": "stdout",
     "output_type": "stream",
     "text": [
      "\n",
      "Pines sway to the rhythm of an ancient, unsung hymn,\n",
      "Where the moonlight filters gently and the shadows begin to swim,\n",
      "Beneath the sighs of the sullen sky, secrets whisper within limbs.\n",
      "In the heart of the undergrowth, echoes churn, solitude spins.\n",
      "Score: 5.4\n",
      "\n",
      "Continuing partial poem:\n",
      "\n",
      "Pines sway to the rhythm of an ancient, unsung hymn,\n",
      "Where the moonlight filters gently and the shadows begin to swim,\n",
      "Beneath the sighs of the sullen sky, secrets whisper within limbs.\n",
      "In the echo of a haunted melody, darkness and light whimsically spin.\n"
     ]
    },
    {
     "name": "stderr",
     "output_type": "stream",
     "text": [
      "Running MCTS:  48%|████▊     | 48/100 [03:47<02:36,  3.01s/it]"
     ]
    },
    {
     "name": "stdout",
     "output_type": "stream",
     "text": [
      "\n",
      "Pines sway to the rhythm of an ancient, unsung hymn,\n",
      "Where the moonlight filters gently and the shadows begin to swim,\n",
      "Beneath the sighs of the sullen sky, secrets whisper within limbs.\n",
      "In the echo of a haunted melody, darkness and light whimsically spin.\n",
      "Score: 6.5\n",
      "\n",
      "Continuing partial poem:\n",
      "\n",
      "Pines sway to the rhythm of an ancient, unsung hymn,\n",
      "Where the moonlight filters gently and the shadows begin to swim,\n",
      "Murmurs echo as the blackbird serenades the sunless hymn.\n",
      "In the depth of the emerald labyrinth, whispers the cure of eternal sin.\n"
     ]
    },
    {
     "name": "stderr",
     "output_type": "stream",
     "text": [
      "Running MCTS:  49%|████▉     | 49/100 [03:49<02:17,  2.70s/it]"
     ]
    },
    {
     "name": "stdout",
     "output_type": "stream",
     "text": [
      "\n",
      "Pines sway to the rhythm of an ancient, unsung hymn,\n",
      "Where the moonlight filters gently and the shadows begin to swim,\n",
      "Murmurs echo as the blackbird serenades the sunless hymn.\n",
      "In the depth of the emerald labyrinth, whispers the cure of eternal sin.\n",
      "Score: 5.4\n",
      "\n",
      "Continuing partial poem:\n",
      "\n",
      "Through twisting veins of leafy density, I follow.\n",
      "The whispering wind weaves memories of incantations, low and hollow.\n",
      "In ebony shadows, the moon dances, her pale ballet forebodes sorrow.\n"
     ]
    },
    {
     "name": "stderr",
     "output_type": "stream",
     "text": [
      "Running MCTS:  50%|█████     | 50/100 [03:54<02:44,  3.29s/it]"
     ]
    },
    {
     "name": "stdout",
     "output_type": "stream",
     "text": [
      "\n",
      "Through twisting veins of leafy density, I follow.\n",
      "The whispering wind weaves memories of incantations, low and hollow.\n",
      "In ebony shadows, the moon dances, her pale ballet forebodes sorrow.\n",
      "Such solitude enmeshed in green, through each sigh of the forest, I borrow.\n",
      "Score: 4.7\n",
      "\n",
      "Continuing partial poem:\n",
      "\n",
      "Through twisting veins of leafy density, I follow.\n",
      "The whispering wind weaves memories of incantations, low and hollow.\n",
      "In ebony shadows, the moon dances, her pale ballet forebodes sorrow.\n",
      "Under a crown of starlight, distantly echoes the haunting call of tomorrow.\n"
     ]
    },
    {
     "name": "stderr",
     "output_type": "stream",
     "text": [
      "Running MCTS:  51%|█████     | 51/100 [03:55<02:17,  2.81s/it]"
     ]
    },
    {
     "name": "stdout",
     "output_type": "stream",
     "text": [
      "\n",
      "Through twisting veins of leafy density, I follow.\n",
      "The whispering wind weaves memories of incantations, low and hollow.\n",
      "In ebony shadows, the moon dances, her pale ballet forebodes sorrow.\n",
      "Under a crown of starlight, distantly echoes the haunting call of tomorrow.\n",
      "Score: 5.5\n",
      "\n",
      "Continuing partial poem:\n",
      "\n",
      "Through twisting veins of leafy density, I follow.\n",
      "The whispering wind weaves memories of incantations, low and hollow.\n",
      "Drunk on moonglow, through moss-carpeted silence, I wallow.\n"
     ]
    },
    {
     "name": "stderr",
     "output_type": "stream",
     "text": [
      "Running MCTS:  52%|█████▏    | 52/100 [04:00<02:37,  3.28s/it]"
     ]
    },
    {
     "name": "stdout",
     "output_type": "stream",
     "text": [
      "\n",
      "Through twisting veins of leafy density, I follow.\n",
      "The whispering wind weaves memories of incantations, low and hollow.\n",
      "Drunk on moonglow, through moss-carpeted silence, I wallow.\n",
      "In this verdant maze, I find solace, and in its shadows, I swallow.\n",
      "Score: 5.7\n",
      "\n",
      "Continuing partial poem:\n",
      "\n",
      "In twilight speech, the echoes whisper cryptic lore.\n"
     ]
    },
    {
     "name": "stderr",
     "output_type": "stream",
     "text": [
      "Running MCTS:  53%|█████▎    | 53/100 [04:08<03:42,  4.73s/it]"
     ]
    },
    {
     "name": "stdout",
     "output_type": "stream",
     "text": [
      "\n",
      "In twilight speech, the echoes whisper cryptic lore.\n",
      "Lost in velvet shadows, the melody of silence roars.\n",
      "Shadows dance, birthing tales from emerald forest floors.\n",
      "Beneath the silver moonlight, the heart of the night outpours.\n",
      "Score: 4.8\n",
      "\n",
      "Continuing partial poem:\n",
      "\n",
      "In twilight speech, the echoes whisper cryptic lore.\n",
      "Through blackened veils of hush where shadowed figures implore.\n"
     ]
    },
    {
     "name": "stderr",
     "output_type": "stream",
     "text": [
      "Running MCTS:  54%|█████▍    | 54/100 [04:13<03:48,  4.97s/it]"
     ]
    },
    {
     "name": "stdout",
     "output_type": "stream",
     "text": [
      "\n",
      "In twilight speech, the echoes whisper cryptic lore.\n",
      "Through blackened veils of hush where shadowed figures implore.\n",
      "Beneath the gnarled branches, wisdom etches ancient song on forest floor.\n",
      "As silent moonlight weaves its eerie tale on the heart's forgotten door.\n",
      "Score: 4.7\n",
      "\n",
      "Continuing partial poem:\n",
      "\n",
      "In twilight speech, the echoes whisper cryptic lore.\n",
      "Through the labyrinth of shadows, the hollow trees implore.\n"
     ]
    },
    {
     "name": "stderr",
     "output_type": "stream",
     "text": [
      "Running MCTS:  55%|█████▌    | 55/100 [04:18<03:44,  4.98s/it]"
     ]
    },
    {
     "name": "stdout",
     "output_type": "stream",
     "text": [
      "\n",
      "In twilight speech, the echoes whisper cryptic lore.\n",
      "Through the labyrinth of shadows, the hollow trees implore.\n",
      "Deep into the sylvan dark, where even dreams explore.\n",
      "A melody formed by night, both haunting and obscure.\n",
      "Score: 4.7\n",
      "\n",
      "Continuing partial poem:\n",
      "\n",
      "In twilight speech, the echoes whisper cryptic lore.\n",
      "Through the forest of our memory, we search and explore.\n"
     ]
    },
    {
     "name": "stderr",
     "output_type": "stream",
     "text": [
      "Running MCTS:  56%|█████▌    | 56/100 [04:22<03:26,  4.69s/it]"
     ]
    },
    {
     "name": "stdout",
     "output_type": "stream",
     "text": [
      "\n",
      "In twilight speech, the echoes whisper cryptic lore.\n",
      "Through the forest of our memory, we search and explore.\n",
      "Beneath the ebon cloak, the moon is the clandestine door.\n",
      "Where truth and shadows intertwine, lies a tale too profound to ignore.\n",
      "Score: 4.2\n",
      "\n",
      "Continuing partial poem:\n",
      "\n",
      "And its haunting refrain echoes through my veins.\n"
     ]
    }
   ],
   "source": [
    "with store:\n",
    "  mcts = MCTS(score_poem)\n",
    "  mcts.run(\n",
    "    generate_poem, \n",
    "    args=('A poem inspired by the cure song \"A forest\"', 4),\n",
    "    seeds=10,\n",
    "    iterations=100)\n",
    "  print(f'\\nHighest LCB:\\n{mcts.highest_lcb()}')\n",
    "  print(f'\\nHighest mean:\\n{mcts.highest_mean()}')"
   ]
  },
  {
   "cell_type": "markdown",
   "metadata": {},
   "source": [
    "## Hybrid user / machine critic\n",
    "\n",
    "Above, we showed how the `generate_poem` function can be boosted using MCTS and\n",
    "a scoring function. The remainder of this notebook shows how we can inject human\n",
    "input into the scoring function.\n",
    "\n",
    "We define an adaptive scoring callable, that will query the user 3 times for a\n",
    "score, before extrapolating from the user scores autonomously by adding the\n",
    "user score examples to the prompt for a GPT scorer."
   ]
  },
  {
   "cell_type": "code",
   "execution_count": 17,
   "metadata": {},
   "outputs": [],
   "source": [
    "@enact.register\n",
    "@dataclasses.dataclass\n",
    "class TrainingExample(enact.Resource):\n",
    "  output: str\n",
    "  score: float\n",
    "\n",
    "@enact.register\n",
    "@dataclasses.dataclass\n",
    "class TrainableScorer(enact.Invokable):\n",
    "  examples_to_collect: int = 5\n",
    "  examples: List[TrainingExample] = dataclasses.field(default_factory=list)\n",
    "  \n",
    "  def call(self, poem: str) -> float:\n",
    "    \"\"\"Score a poem.\"\"\"\n",
    "    if len(self.examples) < self.examples_to_collect:\n",
    "      # Sample an example from the user.\n",
    "      score = float(enact.request_input(\n",
    "        requested_type=str,\n",
    "        for_value=poem,\n",
    "        context='Please score the poem from 1 to 10'))\n",
    "      self.examples.append(TrainingExample(poem, score))\n",
    "      return score\n",
    "    # Once enough examples are collected, prompt GPT with the examples.\n",
    "    examples = '\\n\\n'.join(\n",
    "      f'Example {i}:\\n{example.output}\\nSCORE:{example.score}'\n",
    "      for i, example in enumerate(self.examples))\n",
    "    return score_poem(poem, examples)\n",
    "\n",
    "\n",
    "@enact.register\n",
    "def generate_poem_with_user_training(prompt: str) -> str:\n",
    "  mcts = MCTS(TrainableScorer())\n",
    "  mcts.run(generate_poem, args=(prompt, 4), iterations=100)\n",
    "  return mcts.highest_mean()\n"
   ]
  },
  {
   "cell_type": "markdown",
   "metadata": {},
   "source": [
    "We use `enact.InvocationGenerator` to step through all user inputs that are\n",
    "generated during the invocation:"
   ]
  },
  {
   "cell_type": "code",
   "execution_count": 19,
   "metadata": {},
   "outputs": [
    {
     "name": "stdout",
     "output_type": "stream",
     "text": [
      "\n",
      "Please score the poem from 1 to 10:\n",
      "\n",
      "Where whispers float 'neath a masquerade of leaves,\n",
      "In twilight’s song, shadows unfurl their solemn creeds.\n",
      "Among the solemn giants, the distant echo of love bleeds.\n",
      "A fleeting solace where time and silence interweave.\n",
      "received user input: 3.8\n"
     ]
    },
    {
     "name": "stderr",
     "output_type": "stream",
     "text": [
      "  0%|          | 0/15 [00:00<?, ?it/s]"
     ]
    },
    {
     "name": "stdout",
     "output_type": "stream",
     "text": [
      "\n",
      "Creating new root poem\n"
     ]
    },
    {
     "name": "stderr",
     "output_type": "stream",
     "text": [
      "  0%|          | 0/15 [00:06<?, ?it/s]"
     ]
    },
    {
     "name": "stdout",
     "output_type": "stream",
     "text": [
      "\n",
      "Please score the poem from 1 to 10:\n",
      "\n",
      "Echoes of your voice are shadows dancing with the moon.\n",
      "Lost in the labyrinth of pines, the veil between us thins.\n",
      "The whispering wind weaves tales of love once painted in emerald green.\n",
      "Your silhouette shivers in the serenade of the silver-lit wilderness.\n"
     ]
    },
    {
     "name": "stderr",
     "output_type": "stream",
     "text": [
      "\n"
     ]
    },
    {
     "name": "stdout",
     "output_type": "stream",
     "text": [
      "received user input: 5.5\n"
     ]
    },
    {
     "name": "stderr",
     "output_type": "stream",
     "text": [
      "  0%|          | 0/15 [00:00<?, ?it/s]"
     ]
    },
    {
     "name": "stdout",
     "output_type": "stream",
     "text": [
      "\n",
      "Creating new root poem\n",
      "\n",
      "Echoes of your voice are shadows dancing with the moon.\n",
      "Lost in the labyrinth of pines, the veil between us thins.\n",
      "The whispering wind weaves tales of love once painted in emerald green.\n",
      "Your silhouette shivers in the serenade of the silver-lit wilderness.\n",
      "Score: 5.5\n",
      "\n",
      "Creating new root poem\n"
     ]
    },
    {
     "name": "stderr",
     "output_type": "stream",
     "text": [
      "  7%|▋         | 1/15 [00:06<01:26,  6.17s/it]"
     ]
    },
    {
     "name": "stdout",
     "output_type": "stream",
     "text": [
      "\n",
      "Please score the poem from 1 to 10:\n",
      "\n",
      "Underneath the branches, the silence sings a dirge.\n",
      "Through the verdant veil, I trace a melody submerged.\n",
      "In whispers of the wind and the crescendo of the surge.\n",
      "I become one with shadows, as the night begins its purge.\n"
     ]
    },
    {
     "name": "stderr",
     "output_type": "stream",
     "text": [
      "\n"
     ]
    },
    {
     "name": "stdout",
     "output_type": "stream",
     "text": [
      "received user input: 4.3\n"
     ]
    },
    {
     "name": "stderr",
     "output_type": "stream",
     "text": [
      "  0%|          | 0/15 [00:00<?, ?it/s]"
     ]
    },
    {
     "name": "stdout",
     "output_type": "stream",
     "text": [
      "\n",
      "Echoes of your voice are shadows dancing with the moon.\n",
      "Lost in the labyrinth of pines, the veil between us thins.\n",
      "The whispering wind weaves tales of love once painted in emerald green.\n",
      "Your silhouette shivers in the serenade of the silver-lit wilderness.\n",
      "Score: 5.5\n",
      "\n",
      "Creating new root poem\n",
      "\n",
      "Underneath the branches, the silence sings a dirge.\n",
      "Through the verdant veil, I trace a melody submerged.\n",
      "In whispers of the wind and the crescendo of the surge.\n",
      "I become one with shadows, as the night begins its purge.\n",
      "Score: 4.3\n",
      "\n",
      "Continuing partial poem:\n",
      "\n",
      "Echoes of your voice are shadows dancing with the moon.\n"
     ]
    },
    {
     "name": "stderr",
     "output_type": "stream",
     "text": [
      " 20%|██        | 3/15 [00:08<00:32,  2.68s/it]"
     ]
    },
    {
     "name": "stdout",
     "output_type": "stream",
     "text": [
      "\n",
      "Echoes of your voice are shadows dancing with the moon.\n",
      "In the quiet whisper, haunting echoes from buried roots in tune.\n",
      "Chorus of crickets sing as we tread through the midnight curtain's bloom.\n",
      "The forest, a cathedral of mystery, cradles our secrets in its looming gloom.\n",
      "Score: 4.7\n",
      "\n",
      "Continuing partial poem:\n",
      "\n",
      "Underneath the branches, the silence sings a dirge.\n"
     ]
    },
    {
     "name": "stderr",
     "output_type": "stream",
     "text": [
      " 27%|██▋       | 4/15 [00:13<00:40,  3.68s/it]"
     ]
    },
    {
     "name": "stdout",
     "output_type": "stream",
     "text": [
      "\n",
      "Underneath the branches, the silence sings a dirge.\n",
      "Of whispering shadows and moonlit mirage.\n",
      "Captured in echoes, the forest shares its secret purge.\n",
      "In a dance of darkness, with veiling leaves as its serge.\n",
      "Score: 5.3\n",
      "\n",
      "Continuing partial poem:\n",
      "\n",
      "Where whispers float 'neath a masquerade of leaves,\n"
     ]
    },
    {
     "name": "stderr",
     "output_type": "stream",
     "text": [
      " 33%|███▎      | 5/15 [00:20<00:46,  4.65s/it]"
     ]
    },
    {
     "name": "stdout",
     "output_type": "stream",
     "text": [
      "\n",
      "Where whispers float 'neath a masquerade of leaves,\n",
      "In night's cloak, secrets rustle in echoes of bittersweet reprieves.\n",
      "Old tales awaken, as the moon bathes roots in pale silver weaves.\n",
      "Shadows dance as the forest breathes, mystic threads the darkness believes.\n",
      "Score: 6.2\n",
      "\n",
      "Continuing partial poem:\n",
      "\n",
      "Where whispers float 'neath a masquerade of leaves,\n",
      "In night's cloak, secrets rustle in echoes of bittersweet reprieves.\n"
     ]
    },
    {
     "name": "stderr",
     "output_type": "stream",
     "text": [
      " 40%|████      | 6/15 [00:27<00:47,  5.31s/it]"
     ]
    },
    {
     "name": "stdout",
     "output_type": "stream",
     "text": [
      "\n",
      "Where whispers float 'neath a masquerade of leaves,\n",
      "In night's cloak, secrets rustle in echoes of bittersweet reprieves.\n",
      "Silhouettes dance in moonlight's sonnet, carved by shadows and deceits.\n",
      "A symphony woven by the wind 'midst the ghostly silent retreats.\n",
      "Score: 4.8\n",
      "\n",
      "Continuing partial poem:\n",
      "\n",
      "Where whispers float 'neath a masquerade of leaves,\n",
      "In night's cloak, secrets rustle in echoes of bittersweet reprieves.\n",
      "Old tales awaken, as the moon bathes roots in pale silver weaves.\n"
     ]
    },
    {
     "name": "stderr",
     "output_type": "stream",
     "text": [
      " 47%|████▋     | 7/15 [00:31<00:40,  5.10s/it]"
     ]
    },
    {
     "name": "stdout",
     "output_type": "stream",
     "text": [
      "\n",
      "Where whispers float 'neath a masquerade of leaves,\n",
      "In night's cloak, secrets rustle in echoes of bittersweet reprieves.\n",
      "Old tales awaken, as the moon bathes roots in pale silver weaves.\n",
      "Beneath the canopy of silence, the forest hums a melancholy melody.\n",
      "Score: 4.8\n",
      "\n",
      "Continuing partial poem:\n",
      "\n",
      "Where whispers float 'neath a masquerade of leaves,\n",
      "In night's cloak, secrets rustle in echoes of bittersweet reprieves.\n",
      "Old tales awaken, as the moon bathes roots in pale silver weaves.\n",
      "Shadows dance as the forest breathes, mystic threads the darkness believes.\n"
     ]
    },
    {
     "name": "stderr",
     "output_type": "stream",
     "text": [
      " 53%|█████▎    | 8/15 [00:34<00:29,  4.28s/it]"
     ]
    },
    {
     "name": "stdout",
     "output_type": "stream",
     "text": [
      "\n",
      "Where whispers float 'neath a masquerade of leaves,\n",
      "In night's cloak, secrets rustle in echoes of bittersweet reprieves.\n",
      "Old tales awaken, as the moon bathes roots in pale silver weaves.\n",
      "Shadows dance as the forest breathes, mystic threads the darkness believes.\n",
      "Score: 6.0\n",
      "\n",
      "Continuing partial poem:\n",
      "\n",
      "Where whispers float 'neath a masquerade of leaves,\n",
      "In night's cloak, secrets rustle in echoes of bittersweet reprieves.\n",
      "Silhouettes dance in moonlight's sonnet, carved by shadows and deceits.\n"
     ]
    },
    {
     "name": "stderr",
     "output_type": "stream",
     "text": [
      " 60%|██████    | 9/15 [00:37<00:23,  3.95s/it]"
     ]
    },
    {
     "name": "stdout",
     "output_type": "stream",
     "text": [
      "\n",
      "Where whispers float 'neath a masquerade of leaves,\n",
      "In night's cloak, secrets rustle in echoes of bittersweet reprieves.\n",
      "Silhouettes dance in moonlight's sonnet, carved by shadows and deceits.\n",
      "A symphony of silence finds its cadence in the hush of ancient trees.\n",
      "Score: 5.7\n",
      "\n",
      "Continuing partial poem:\n",
      "\n",
      "Where whispers float 'neath a masquerade of leaves,\n",
      "In twilight’s song, shadows unfurl their solemn creeds.\n"
     ]
    },
    {
     "name": "stderr",
     "output_type": "stream",
     "text": [
      " 67%|██████▋   | 10/15 [00:43<00:22,  4.40s/it]"
     ]
    },
    {
     "name": "stdout",
     "output_type": "stream",
     "text": [
      "\n",
      "Where whispers float 'neath a masquerade of leaves,\n",
      "In twilight’s song, shadows unfurl their solemn creeds.\n",
      "Twisting paths beckon a dance with uncertainty's thieves.\n",
      "A siren’s sigh chases echo’s echo through emerald sieves.\n",
      "Score: 4.6\n",
      "\n",
      "Continuing partial poem:\n",
      "\n",
      "Echoes of your voice are shadows dancing with the moon.\n"
     ]
    },
    {
     "name": "stderr",
     "output_type": "stream",
     "text": [
      " 73%|███████▎  | 11/15 [00:50<00:21,  5.45s/it]"
     ]
    },
    {
     "name": "stdout",
     "output_type": "stream",
     "text": [
      "\n",
      "Echoes of your voice are shadows dancing with the moon.\n",
      "In the somber ballet, trees whisper tales of long lost truth.\n",
      "In the abyss of leaves, memories pulsate to the rhythm of the stars.\n",
      "Behind the fret of silver mist, they bleed into nature's silent cries.\n",
      "Score: 5.7\n",
      "\n",
      "Continuing partial poem:\n",
      "\n",
      "Echoes of your voice are shadows dancing with the moon.\n",
      "In the somber ballet, trees whisper tales of long lost truth.\n"
     ]
    },
    {
     "name": "stderr",
     "output_type": "stream",
     "text": [
      " 80%|████████  | 12/15 [00:56<00:16,  5.47s/it]"
     ]
    },
    {
     "name": "stdout",
     "output_type": "stream",
     "text": [
      "\n",
      "Echoes of your voice are shadows dancing with the moon.\n",
      "In the somber ballet, trees whisper tales of long lost truth.\n",
      "Beneath the velvet skies, the melody of dew-kissed leaves unfold.\n",
      "Yet, in that orchestra of darkness, the forest sighs your phantom tune.\n",
      "Score: 6.2\n",
      "\n",
      "Continuing partial poem:\n",
      "\n",
      "Echoes of your voice are shadows dancing with the moon.\n",
      "Lost in the labyrinth of pines, the veil between us thins.\n"
     ]
    },
    {
     "name": "stderr",
     "output_type": "stream",
     "text": [
      " 87%|████████▋ | 13/15 [01:03<00:12,  6.06s/it]"
     ]
    },
    {
     "name": "stdout",
     "output_type": "stream",
     "text": [
      "\n",
      "Echoes of your voice are shadows dancing with the moon.\n",
      "Lost in the labyrinth of pines, the veil between us thins.\n",
      "Chasing phantoms through dew-kissed ferns, to the rhythm of our sins.\n",
      "Whispers of our past lie buried beneath moss-kissed stones.\n",
      "Score: 5.4\n",
      "\n",
      "Continuing partial poem:\n",
      "\n",
      "Echoes of your voice are shadows dancing with the moon.\n",
      "In the quiet whisper, haunting echoes from buried roots in tune.\n"
     ]
    },
    {
     "name": "stderr",
     "output_type": "stream",
     "text": [
      " 93%|█████████▎| 14/15 [01:09<00:06,  6.05s/it]"
     ]
    },
    {
     "name": "stdout",
     "output_type": "stream",
     "text": [
      "\n",
      "Echoes of your voice are shadows dancing with the moon.\n",
      "In the quiet whisper, haunting echoes from buried roots in tune.\n",
      "Through a veil of mist, you're an illusion in the evergreen gloom.\n",
      "A melody etched in bark, looms in the silence that's deafeningly luminous.\n",
      "Score: 4.7\n",
      "\n",
      "Continuing partial poem:\n",
      "\n",
      "Echoes of your voice are shadows dancing with the moon.\n",
      "In the somber ballet, trees whisper tales of long lost truth.\n"
     ]
    },
    {
     "name": "stderr",
     "output_type": "stream",
     "text": [
      "100%|██████████| 15/15 [01:14<00:00,  5.00s/it]"
     ]
    },
    {
     "name": "stdout",
     "output_type": "stream",
     "text": [
      "\n",
      "Echoes of your voice are shadows dancing with the moon.\n",
      "In the somber ballet, trees whisper tales of long lost truth.\n",
      "Lamenting leaves fall, a symphony of silent sorrow.\n",
      "Beneath the solemn sky, the forest veils its mysteries in nocturnal serenade.\n",
      "Score: 5.4\n",
      "\n",
      "Result:\n",
      "\n",
      "Echoes of your voice are shadows dancing with the moon.\n",
      "In the somber ballet, trees whisper tales of long lost truth.\n",
      "Beneath the velvet skies, the melody of dew-kissed leaves unfold.\n",
      "Yet, in that orchestra of darkness, the forest sighs your phantom tune.\n"
     ]
    },
    {
     "name": "stderr",
     "output_type": "stream",
     "text": [
      "\n"
     ]
    }
   ],
   "source": [
    "import sys\n",
    "\n",
    "with store:\n",
    "  inv_gen = enact.InvocationGenerator.from_callable(\n",
    "    generate_poem_with_user_training,\n",
    "    ('a poem inspired by the cure song \"A forest\"',))\n",
    "  for input_request in inv_gen:\n",
    "    print(f'\\n{input_request.context}:\\n{input_request.for_value()}')\n",
    "    sys.stdout.flush()\n",
    "    user_input = input()\n",
    "    print(f'received user input: {user_input}')\n",
    "    inv_gen.set_input(user_input)\n",
    "  print(f'\\nResult:\\n{inv_gen.invocation.get_output()}')\n",
    "    "
   ]
  }
 ],
 "metadata": {
  "kernelspec": {
   "display_name": ".venv",
   "language": "python",
   "name": "python3"
  },
  "language_info": {
   "codemirror_mode": {
    "name": "ipython",
    "version": 3
   },
   "file_extension": ".py",
   "mimetype": "text/x-python",
   "name": "python",
   "nbconvert_exporter": "python",
   "pygments_lexer": "ipython3",
   "version": "3.8.10"
  },
  "orig_nbformat": 4
 },
 "nbformat": 4,
 "nbformat_minor": 2
}
