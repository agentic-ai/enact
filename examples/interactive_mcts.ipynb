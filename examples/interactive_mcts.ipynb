{
 "cells": [
  {
   "cell_type": "markdown",
   "metadata": {},
   "source": [
    "# Interactive Monte-Carlo Tree Search for poetry generation \n",
    "\n",
    "This notebooks shows how enact can be used to instantiate a generic monte-carlo\n",
    "tree search over a simple line-by-line poetry generator. The result is a search\n",
    "process that spends more time exploring promising poetic direction.\n",
    "\n",
    "The last section shows how user input can be injected during MCTS, in order to\n",
    "allow a user to dynamically provide score prompt examples for generated poetry."
   ]
  },
  {
   "cell_type": "markdown",
   "metadata": {},
   "source": [
    "## Prerequisites and API keys"
   ]
  },
  {
   "cell_type": "code",
   "execution_count": 1,
   "metadata": {},
   "outputs": [
    {
     "name": "stdout",
     "output_type": "stream",
     "text": [
      "\n",
      "\u001b[1m[\u001b[0m\u001b[34;49mnotice\u001b[0m\u001b[1;39;49m]\u001b[0m\u001b[39;49m A new release of pip is available: \u001b[0m\u001b[31;49m23.1.2\u001b[0m\u001b[39;49m -> \u001b[0m\u001b[32;49m23.2.1\u001b[0m\n",
      "\u001b[1m[\u001b[0m\u001b[34;49mnotice\u001b[0m\u001b[1;39;49m]\u001b[0m\u001b[39;49m To update, run: \u001b[0m\u001b[32;49mpip install --upgrade pip\u001b[0m\n",
      "Note: you may need to restart the kernel to use updated packages.\n",
      "\n",
      "\u001b[1m[\u001b[0m\u001b[34;49mnotice\u001b[0m\u001b[1;39;49m]\u001b[0m\u001b[39;49m A new release of pip is available: \u001b[0m\u001b[31;49m23.1.2\u001b[0m\u001b[39;49m -> \u001b[0m\u001b[32;49m23.2.1\u001b[0m\n",
      "\u001b[1m[\u001b[0m\u001b[34;49mnotice\u001b[0m\u001b[1;39;49m]\u001b[0m\u001b[39;49m To update, run: \u001b[0m\u001b[32;49mpip install --upgrade pip\u001b[0m\n",
      "Note: you may need to restart the kernel to use updated packages.\n",
      "\n",
      "\u001b[1m[\u001b[0m\u001b[34;49mnotice\u001b[0m\u001b[1;39;49m]\u001b[0m\u001b[39;49m A new release of pip is available: \u001b[0m\u001b[31;49m23.1.2\u001b[0m\u001b[39;49m -> \u001b[0m\u001b[32;49m23.2.1\u001b[0m\n",
      "\u001b[1m[\u001b[0m\u001b[34;49mnotice\u001b[0m\u001b[1;39;49m]\u001b[0m\u001b[39;49m To update, run: \u001b[0m\u001b[32;49mpip install --upgrade pip\u001b[0m\n",
      "Note: you may need to restart the kernel to use updated packages.\n",
      "\n",
      "\u001b[1m[\u001b[0m\u001b[34;49mnotice\u001b[0m\u001b[1;39;49m]\u001b[0m\u001b[39;49m A new release of pip is available: \u001b[0m\u001b[31;49m23.1.2\u001b[0m\u001b[39;49m -> \u001b[0m\u001b[32;49m23.2.1\u001b[0m\n",
      "\u001b[1m[\u001b[0m\u001b[34;49mnotice\u001b[0m\u001b[1;39;49m]\u001b[0m\u001b[39;49m To update, run: \u001b[0m\u001b[32;49mpip install --upgrade pip\u001b[0m\n",
      "Note: you may need to restart the kernel to use updated packages.\n"
     ]
    }
   ],
   "source": [
    "%pip install enact --quiet\n",
    "%pip install openai --quiet\n",
    "%pip install randomname --quiet\n",
    "%pip install tqdm --quiet"
   ]
  },
  {
   "cell_type": "code",
   "execution_count": 2,
   "metadata": {},
   "outputs": [],
   "source": [
    "import re\n",
    "\n",
    "import enact       # Journaled executions\n",
    "import openai      # GPT API\n",
    "import randomname  # Extra randomness for prompt.\n",
    "import tqdm        # progress bar\n",
    "\n",
    "import common      # API keys\n",
    "\n",
    "\n",
    "# Read from file or env variable.\n",
    "openai.api_key = common.OPENAI_API_KEY.get()"
   ]
  },
  {
   "cell_type": "markdown",
   "metadata": {},
   "source": [
    "## Defining a line-by-line poetry generator\n",
    "\n",
    "We first define a line-by-line poetry generator by calling GPT in a for-loop."
   ]
  },
  {
   "cell_type": "code",
   "execution_count": 3,
   "metadata": {},
   "outputs": [],
   "source": [
    "class Failed(enact.ExceptionResource):\n",
    "  \"\"\"Raised when a subtask fails.\"\"\"\n",
    "\n",
    "\n",
    "@enact.register  # Track this function's execution.\n",
    "def gpt(prompt: str, temperature: float=1.0, model='gpt-4') -> str:\n",
    "  \"\"\"Call the GPT completion API\"\"\"\n",
    "  response = openai.ChatCompletion.create(\n",
    "    model=model,\n",
    "    messages=[{'role': 'system', 'content': prompt}],\n",
    "    temperature=temperature)\n",
    "  return response['choices'][0]['message']['content']\n",
    "\n",
    "@enact.register\n",
    "def extend_poem(\n",
    "    poem: str, prompt: str, lines: int,\n",
    "    temperature: float = 1.0) -> str:\n",
    "  \"\"\"Extend the poem by one line.\"\"\"\n",
    "  line_index = len(poem.strip().split('\\n'))\n",
    "  gpt_prompt = f'''\n",
    "We are writing a poem for the prompt: {prompt}.\n",
    "\n",
    "This is the poem so far:\n",
    "\n",
    "{poem if poem else '<NEW POEM>'}\n",
    "\n",
    "Extend the poem by one single line. Respond only with the new line and say\n",
    "nothing else. This will be line nr {line_index + 1} out of a total of {lines}\n",
    "lines.\n",
    "\n",
    "Avoid cliches.\n",
    "\n",
    "Respond only with one line.\n",
    "\n",
    "Ignore the following random seed words:\n",
    "{', '.join(randomname.generate('nouns/') for _ in range(10))}\n",
    "'''\n",
    "  result = gpt(gpt_prompt, temperature, model='gpt-4')\n",
    "  lines = result.strip().split('\\n')\n",
    "  if len(lines) != 1:\n",
    "    raise Failed('Responded with more than one line')\n",
    "  line: str = lines[0]\n",
    "  line = line.strip('\"\\'').strip()\n",
    "  return poem + f'\\n{line}'\n",
    "\n",
    "@enact.register\n",
    "def generate_poem(prompt: str, lines: int) -> str:\n",
    "  \"\"\"Generate a poem line by line.\"\"\"\n",
    "  poem = ''\n",
    "  for _ in range(lines):\n",
    "    poem = extend_poem(poem, prompt, lines)\n",
    "  return poem\n"
   ]
  },
  {
   "cell_type": "markdown",
   "metadata": {},
   "source": [
    "Our poetry generator can be run as follows, although it may sometimes fail,\n",
    "e.g., when GPT produces output in a wrong format."
   ]
  },
  {
   "cell_type": "code",
   "execution_count": 4,
   "metadata": {},
   "outputs": [
    {
     "name": "stdout",
     "output_type": "stream",
     "text": [
      "\n",
      "Through the misty black, echoes the silence of our heart's lost track.\n",
      "In the swallowing darkness, we find truth amongst the trees, unseen yet intact.\n"
     ]
    }
   ],
   "source": [
    "try:\n",
    "  two_line_poem = generate_poem(\n",
    "    'a two line poem inspired by the cure song \"a forest\"', lines=2)\n",
    "  print(two_line_poem)\n",
    "except Exception as e:\n",
    "  print(f'Failed with \"{e}\". Try again.')"
   ]
  },
  {
   "cell_type": "markdown",
   "metadata": {},
   "source": [
    "## Define a critic\n",
    "\n",
    "We would like to search the space of possible executions of our `generate_poem`\n",
    "function. In order to do so, we need to define a scoring function that can\n",
    "assign a numeric value to generated poems. We use another call to GPT for this."
   ]
  },
  {
   "cell_type": "code",
   "execution_count": 5,
   "metadata": {},
   "outputs": [],
   "source": [
    "DEFAULT_EXAMPLES =\"\"\"\n",
    "Example 1:\n",
    "\n",
    "\"Do not go gentle into that good night,\n",
    "Old age should burn and rave at close of day;\n",
    "Rage, rage against the dying of the light.\n",
    "\n",
    "Though wise men at their end know dark is right,\n",
    "Because their words had forked no lightning they\n",
    "Do not go gentle into that good night.\"\n",
    "\n",
    "SCORE: 10.0\n",
    "\n",
    "Example 2:\n",
    "\n",
    "\"To fling my arms wide\n",
    "In some place of the sun,\n",
    "To whirl and to dance\n",
    "Till the white day is done.\n",
    "Then rest at cool evening\n",
    "Beneath a tall tree\n",
    "While night comes on gently,\n",
    "    Dark like me—\n",
    "That is my dream!\"\n",
    "\n",
    "SCORE: 8.3\n",
    "\n",
    "Example 3:\n",
    "\n",
    "\"A winter wonderland, draped in pure white.\n",
    "The snowflakes dance, in the pale moonlight.\n",
    "Shimmering crystals, glistening so bright.\n",
    "Blankets of snow, whispering secrets of the night.\"\n",
    "\n",
    "SCORE: 3.1\n",
    "\n",
    "\"\"\"\n",
    "\n",
    "@enact.register\n",
    "def score_poem(poem: str, examples: str=DEFAULT_EXAMPLES) -> float:\n",
    "  gpt_prompt: str = f'''\n",
    "You are a sophisticated poetry critic. Score the following poem on a scale from\n",
    "0 to 10, where 0 is the worst poem and 10 is the best poem. You are a harsh \n",
    "critic and hate awkward, tryhard phrasings. Scores from 4-6 are decent poem\n",
    "written by a english lit major. 7 and above are publishable quality. Use 8 and 9\n",
    "for excellent poems. A score of ten is reserved for masterpieces. You pay\n",
    "particular attention to the rhythm of a poem.\n",
    "\n",
    "{examples}\n",
    "\n",
    "Respond in the following format:\n",
    "\n",
    "<short summary of positive and negatives. no longer than a line>\n",
    "SCORE: <score>\n",
    "\n",
    "This is the poem:\n",
    "{poem}\n",
    "'''\n",
    "  score = gpt(gpt_prompt, 1.1)\n",
    "  return float(re.search(r'SCORE: ([\\d\\.]+)', score).group(1))\n"
   ]
  },
  {
   "cell_type": "markdown",
   "metadata": {},
   "source": [
    "We can apply our poetry critic to the poem we generated earlier:"
   ]
  },
  {
   "cell_type": "code",
   "execution_count": 6,
   "metadata": {},
   "outputs": [
    {
     "name": "stdout",
     "output_type": "stream",
     "text": [
      "\n",
      "Through the misty black, echoes the silence of our heart's lost track.\n",
      "In the swallowing darkness, we find truth amongst the trees, unseen yet intact.\n",
      "Score: 4.5\n"
     ]
    }
   ],
   "source": [
    "try:\n",
    "  print(two_line_poem)\n",
    "  print(f'Score: {score_poem(two_line_poem)}')\n",
    "except Exception as e:\n",
    "  print(f'Try again. Generation failed with: {e}')"
   ]
  },
  {
   "cell_type": "markdown",
   "metadata": {},
   "source": [
    "## Implementing Monte Carlo Tree Search\n",
    "\n",
    "Enact can rewind and replay executions of registered python functions.  We can\n",
    "use this to explore the space of possible program executions using Monte Carlo\n",
    "Tree Search.\n"
   ]
  },
  {
   "cell_type": "code",
   "execution_count": 13,
   "metadata": {},
   "outputs": [],
   "source": [
    "import dataclasses\n",
    "from typing import Callable, Dict, List, Optional\n",
    "import numpy as np\n",
    "\n",
    "\n",
    "# Increase this number for more exploration\n",
    "EXPLORATION_AMOUNT = 5\n",
    "# Increase this to explore more from the root node,\n",
    "# i.e., to create more new poems from scratch.\n",
    "EXPLORE_ROOT_NODE = 8\n",
    "# Conservative quality prior to add for bootstrapped LCB.\n",
    "LCB_PRIOR = [1.0]\n",
    "\n",
    "\n",
    "@enact.register\n",
    "@dataclasses.dataclass\n",
    "class Node(enact.Resource):\n",
    "  invocation: enact.Invocation  # A (possibly-partial) execution.\n",
    "  parent: Optional['Node']      # The parent node.\n",
    "  scores: List[float]           # List of scores for this subtree.\n",
    "\n",
    "  @property\n",
    "  def tree_ucb(self) -> float:\n",
    "    \"\"\"Computes a heuristic UCB on scores for tree search.\"\"\"\n",
    "    if not self.parent:\n",
    "      parent_scores = EXPLORE_ROOT_NODE * len(self.scores)\n",
    "    else:\n",
    "      parent_scores = len(self.parent.scores)\n",
    "    return np.mean(self.scores) + EXPLORATION_AMOUNT * np.sqrt(\n",
    "      np.log(1e-2 + parent_scores) / len(self.scores))\n",
    "\n",
    "  @property\n",
    "  def lcb(self) -> float:\n",
    "    \"\"\"Computes a lower confidence bound on scores.\"\"\"\n",
    "    scores = self.scores\n",
    "    scores = scores + LCB_PRIOR\n",
    "      \n",
    "    return  np.percentile(\n",
    "      np.mean(np.random.choice(\n",
    "        scores, (10000, len(scores))), axis=1),\n",
    "      30.0)\n",
    "\n",
    "\n",
    "@enact.register\n",
    "@dataclasses.dataclass\n",
    "class MCTS(enact.Resource):\n",
    "  scorer: Callable[[str], float]\n",
    "  nodes: Dict[str, Node] = dataclasses.field(\n",
    "    default_factory=dict)\n",
    "\n",
    "  def add(\n",
    "      self,\n",
    "      invocation: enact.Invocation):\n",
    "    \"\"\"Add an invocation to the MCTS tree.\"\"\" \n",
    "    child = None\n",
    "    score = self.compute_score(invocation)\n",
    "    if not score:\n",
    "      raise Failed('Could not compute score.')\n",
    "    while True:\n",
    "      cur = enact.commit(invocation)\n",
    "      node = self.nodes.setdefault(cur.id, Node(invocation, None, []))\n",
    "      node.scores.append(score)\n",
    "      if child:\n",
    "        child.parent = node\n",
    "      child = node\n",
    "      if not invocation.response().children:\n",
    "        break\n",
    "      invocation = invocation.rewind()  # Generate execution prefix.\n",
    "    return score\n",
    "\n",
    "  def next_node(self):\n",
    "    \"\"\"Select next node according to highest UCB.\"\"\"\n",
    "    idx = np.argmax([node.tree_ucb for node in self.nodes.values()])\n",
    "    return list(self.nodes.values())[idx]\n",
    "\n",
    "  def compute_score(self, invocation: enact.Invocation) -> Optional[float]:\n",
    "    \"\"\"Assign a score to the invocation.\"\"\"\n",
    "    if not invocation.successful():\n",
    "      return -1.0\n",
    "    return self.scorer(invocation.get_output())\n",
    "  \n",
    "  @enact.register\n",
    "  def step(self):\n",
    "    \"\"\"Run one step of MCTS and return generated output and score.\"\"\"\n",
    "    assert self.nodes, 'Please call add before step.'\n",
    "    node = self.next_node()\n",
    "    if node.invocation.response().children:\n",
    "      print(f'\\nContinuing partial poem:\\n{node.invocation.response().children[-1]().get_output()}')\n",
    "    else:\n",
    "      print(f'\\nCreating new root poem')\n",
    "    invocation = self.replay(node.invocation)\n",
    "    score = self.add(invocation)\n",
    "    if invocation.successful():\n",
    "      return invocation.get_output(), score\n",
    "\n",
    "  @enact.register\n",
    "  def invoke(self, fun: Callable, args=(), kwargs=None):\n",
    "    \"\"\"Wrap invocation in a registered function, since it is non-deterministic.\"\"\"\n",
    "    return enact.invoke(fun, args=args, kwargs=kwargs)\n",
    "\n",
    "  @enact.register\n",
    "  def replay(self, invocation: enact.Invocation) -> enact.Invocation:\n",
    "    \"\"\"Wrap replay in a registered function, since it is non-deterministic.\"\"\"\n",
    "    return invocation.replay()\n",
    "\n",
    "  @enact.register\n",
    "  def add_seed(self, fun, args=(), kwargs=None):\n",
    "    \"\"\"Add a seed invocation. Return success.\"\"\"\n",
    "    invocation = self.invoke(fun, args=args, kwargs=kwargs)\n",
    "    if not invocation.successful():\n",
    "      return False\n",
    "    try:\n",
    "      score = self.add(invocation)\n",
    "    except Failed:\n",
    "      return False\n",
    "    return score is not None\n",
    "  \n",
    "  @enact.register\n",
    "  def run(self, fun, args=(), kwargs=None, iterations=100):\n",
    "    \"\"\"Run MCTS for a given number of iterations.\"\"\"\n",
    "    for _ in range(10):\n",
    "      if self.add_seed(fun, args=args, kwargs=kwargs):\n",
    "        break\n",
    "    else:\n",
    "      raise Failed('Could not find a successful seed invocation.')\n",
    "      \n",
    "    for _ in tqdm.trange(iterations):\n",
    "      try:\n",
    "        output, score = self.step()\n",
    "        if output:\n",
    "          print(output)\n",
    "          print(f'Score: {score}')\n",
    "      except Failed:\n",
    "        pass\n",
    "\n",
    "  def highest_lcb(self):\n",
    "    \"\"\"Return the highest LCB output.\"\"\"\n",
    "    success_nodes = [node for node in self.nodes.values() if node.invocation.successful()]\n",
    "    if not success_nodes:\n",
    "      return None\n",
    "    return max(success_nodes, key=lambda node: node.lcb).invocation.get_output()\n",
    "\n",
    "  def highest_mean(self):\n",
    "    \"\"\"Return the output with the higest mean score.\"\"\"\n",
    "    success_nodes = [node for node in self.nodes.values() if node.invocation.successful()]\n",
    "    if not success_nodes:\n",
    "      return None\n",
    "    return max(success_nodes, key=lambda node: np.mean(node.scores)).invocation.get_output()"
   ]
  },
  {
   "cell_type": "markdown",
   "metadata": {},
   "source": [
    "Enact requires a store object in which calltraces (including inputs and outputs)\n",
    "are stored."
   ]
  },
  {
   "cell_type": "code",
   "execution_count": 14,
   "metadata": {},
   "outputs": [],
   "source": [
    "store = enact.InMemoryStore()"
   ]
  },
  {
   "cell_type": "markdown",
   "metadata": {},
   "source": [
    "We can now run MCTS for a set number of iterations using our automatic scoring."
   ]
  },
  {
   "cell_type": "code",
   "execution_count": 16,
   "metadata": {},
   "outputs": [
    {
     "name": "stderr",
     "output_type": "stream",
     "text": [
      "  0%|          | 0/10 [00:00<?, ?it/s]"
     ]
    },
    {
     "name": "stdout",
     "output_type": "stream",
     "text": [
      "\n",
      "Creating new root poem\n"
     ]
    },
    {
     "name": "stderr",
     "output_type": "stream",
     "text": [
      " 10%|█         | 1/10 [00:09<01:23,  9.31s/it]"
     ]
    },
    {
     "name": "stdout",
     "output_type": "stream",
     "text": [
      "\n",
      "Through twisted branches, age-old remembrance of song\n",
      "Creaking under the burden of time, silent whispers among the moss.\n",
      "In shadows deep, where paths meander lost, under starless cloth embossed.\n",
      "I walk, ensnared in twilight's mire, chasing echoes of your ghost.\n",
      "Score: 4.7\n",
      "\n",
      "Creating new root poem\n"
     ]
    },
    {
     "name": "stderr",
     "output_type": "stream",
     "text": [
      " 20%|██        | 2/10 [00:20<01:22, 10.35s/it]"
     ]
    },
    {
     "name": "stdout",
     "output_type": "stream",
     "text": [
      "\n",
      "Through the sable veils of timeless morn and evening's mist,\n",
      "In the hush of darkened woods, where silence and shadows persist.\n",
      "A hallowed echo whispers, cradled by the wind in its mournful tryst.\n",
      "Here, beneath the moon’s haunting visage, both loneliness and mystery exist.\n",
      "Score: 4.5\n",
      "\n",
      "Continuing partial poem:\n",
      "\n",
      "Through twisted branches, age-old remembrance of song\n"
     ]
    },
    {
     "name": "stderr",
     "output_type": "stream",
     "text": [
      " 30%|███       | 3/10 [00:28<01:04,  9.14s/it]"
     ]
    },
    {
     "name": "stdout",
     "output_type": "stream",
     "text": [
      "\n",
      "Through twisted branches, age-old remembrance of song\n",
      "Underneath the veil of unraveling fog, the moon hums along.\n",
      "When the stars bloom, whispers dare to dart between the pine bark throng.\n",
      "Silken wind threads into lullabies, as it rustles the cradle of the night's strong.\n",
      "Score: 5.9\n",
      "\n",
      "Continuing partial poem:\n",
      "\n",
      "Where silhouettes of trees, do silent ghosts entwine,\n"
     ]
    },
    {
     "name": "stderr",
     "output_type": "stream",
     "text": [
      " 40%|████      | 4/10 [00:36<00:52,  8.69s/it]"
     ]
    },
    {
     "name": "stdout",
     "output_type": "stream",
     "text": [
      "\n",
      "Where silhouettes of trees, do silent ghosts entwine,\n",
      "In the hushed whispers of the wind, secrets are assigned.\n",
      "The moonlight's intimate scripture, illuminously scribed on leaves behind.\n",
      "Echoing through the forest, a nocturne spun from the pine.\n",
      "Score: 5.2\n",
      "\n",
      "Continuing partial poem:\n",
      "\n",
      "Through the sable veils of timeless morn and evening's mist,\n"
     ]
    },
    {
     "name": "stderr",
     "output_type": "stream",
     "text": [
      " 50%|█████     | 5/10 [00:44<00:42,  8.50s/it]"
     ]
    },
    {
     "name": "stdout",
     "output_type": "stream",
     "text": [
      "\n",
      "Through the sable veils of timeless morn and evening's mist,\n",
      "A spectral echo weaving tales in the emerald abyss.\n",
      "Drawn by the melody of solitude, finding rhythm in the remiss.\n",
      "Blackened trees form an unholy choir, murmuring secrets they dismiss.\n",
      "Score: 4.9\n",
      "\n",
      "Continuing partial poem:\n",
      "\n",
      "Through twisted branches, age-old remembrance of song\n",
      "Underneath the veil of unraveling fog, the moon hums along.\n"
     ]
    },
    {
     "name": "stderr",
     "output_type": "stream",
     "text": [
      " 60%|██████    | 6/10 [00:49<00:29,  7.35s/it]"
     ]
    },
    {
     "name": "stdout",
     "output_type": "stream",
     "text": [
      "\n",
      "Through twisted branches, age-old remembrance of song\n",
      "Underneath the veil of unraveling fog, the moon hums along.\n",
      "Whispers of shadows echo, merging in the symphony so long.\n",
      "Drifting leaves of twilight serenade the ancient, mournful throng.\n",
      "Score: 4.4\n",
      "\n",
      "Continuing partial poem:\n",
      "\n",
      "Through twisted branches, age-old remembrance of song\n",
      "Underneath the veil of unraveling fog, the moon hums along.\n",
      "When the stars bloom, whispers dare to dart between the pine bark throng.\n"
     ]
    },
    {
     "name": "stderr",
     "output_type": "stream",
     "text": [
      " 70%|███████   | 7/10 [00:54<00:19,  6.47s/it]"
     ]
    },
    {
     "name": "stdout",
     "output_type": "stream",
     "text": [
      "\n",
      "Through twisted branches, age-old remembrance of song\n",
      "Underneath the veil of unraveling fog, the moon hums along.\n",
      "When the stars bloom, whispers dare to dart between the pine bark throng.\n",
      "Emerging life from shadow's arms, dances wild, ancient fears to tame.\n",
      "Score: 4.7\n",
      "\n",
      "Continuing partial poem:\n",
      "\n",
      "Through twisted branches, age-old remembrance of song\n",
      "Creaking under the burden of time, silent whispers among the moss.\n"
     ]
    },
    {
     "name": "stderr",
     "output_type": "stream",
     "text": [
      " 80%|████████  | 8/10 [01:00<00:13,  6.53s/it]"
     ]
    },
    {
     "name": "stdout",
     "output_type": "stream",
     "text": [
      "\n",
      "Through twisted branches, age-old remembrance of song\n",
      "Creaking under the burden of time, silent whispers among the moss.\n",
      "Echoing footfall in the hollowed demesne, so stark in its loss.\n",
      "A spectral presence whispered through the leaves, guard of the haunted dark.\n",
      "Score: 4.5\n",
      "\n",
      "Continuing partial poem:\n",
      "\n",
      "Where silhouettes of trees, do silent ghosts entwine,\n"
     ]
    },
    {
     "name": "stderr",
     "output_type": "stream",
     "text": [
      " 90%|█████████ | 9/10 [01:08<00:06,  6.85s/it]"
     ]
    },
    {
     "name": "stdout",
     "output_type": "stream",
     "text": [
      "\n",
      "Where silhouettes of trees, do silent ghosts entwine,\n",
      "In shadows deep and whispers of an echoing song, divine.\n",
      "Between the ancient grains of time, my footsteps tread yet find no sign.\n",
      "Of mysteries untold, that blooms in the enigma of night, confined.\n",
      "Score: 4.9\n",
      "\n",
      "Continuing partial poem:\n",
      "\n",
      "Where silhouettes of trees, do silent ghosts entwine,\n",
      "In the hushed whispers of the wind, secrets are assigned.\n"
     ]
    },
    {
     "name": "stderr",
     "output_type": "stream",
     "text": [
      "100%|██████████| 10/10 [01:14<00:00,  7.47s/it]"
     ]
    },
    {
     "name": "stdout",
     "output_type": "stream",
     "text": [
      "\n",
      "Where silhouettes of trees, do silent ghosts entwine,\n",
      "In the hushed whispers of the wind, secrets are assigned.\n",
      "Beneath the moonlight’s dappled shroud, in icicles faith is confined.\n",
      "Where shadows reign and time is consigned.\n",
      "Score: 5.6\n",
      "\n",
      "Highest LCB:\n",
      "\n",
      "Through twisted branches, age-old remembrance of song\n",
      "Underneath the veil of unraveling fog, the moon hums along.\n",
      "When the stars bloom, whispers dare to dart between the pine bark throng.\n",
      "Silken wind threads into lullabies, as it rustles the cradle of the night's strong.\n",
      "\n",
      "Highest mean:\n",
      "\n",
      "Through twisted branches, age-old remembrance of song\n",
      "Underneath the veil of unraveling fog, the moon hums along.\n",
      "When the stars bloom, whispers dare to dart between the pine bark throng.\n",
      "Silken wind threads into lullabies, as it rustles the cradle of the night's strong.\n"
     ]
    },
    {
     "name": "stderr",
     "output_type": "stream",
     "text": [
      "\n"
     ]
    }
   ],
   "source": [
    "with store:\n",
    "  mcts = MCTS(score_poem)\n",
    "  mcts.run(\n",
    "    generate_poem, \n",
    "    args=('A poem inspired by the cure song \"A forest\" '\n",
    "          'in the style of Robert Frost', 4),\n",
    "    iterations=10)\n",
    "  print(f'\\nHighest LCB:\\n{mcts.highest_lcb()}')\n",
    "  print(f'\\nHighest mean:\\n{mcts.highest_mean()}')"
   ]
  },
  {
   "cell_type": "markdown",
   "metadata": {},
   "source": [
    "## Hybrid user / machine critic\n",
    "\n",
    "Above, we showed how the `generate_poem` function can be boosted using MCTS and\n",
    "a scoring function. The remainder of this notebook shows how we can inject human\n",
    "input into the scoring function.\n",
    "\n",
    "We define an adaptive scoring callable, that will query the user 3 times for a\n",
    "score, before extrapolating from the user scores autonomously by adding the\n",
    "user score examples to the prompt for a GPT scorer."
   ]
  },
  {
   "cell_type": "code",
   "execution_count": 17,
   "metadata": {},
   "outputs": [],
   "source": [
    "@enact.register\n",
    "@dataclasses.dataclass\n",
    "class TrainingExample(enact.Resource):\n",
    "  output: str\n",
    "  score: float\n",
    "\n",
    "@enact.register\n",
    "@dataclasses.dataclass\n",
    "class TrainableScorer(enact.Invokable):\n",
    "  examples_to_collect: int = 3\n",
    "  examples: List[TrainingExample] = dataclasses.field(default_factory=list)\n",
    "  \n",
    "  def call(self, poem: str) -> float:\n",
    "    \"\"\"Score a poem.\"\"\"\n",
    "    if len(self.examples) < self.examples_to_collect:\n",
    "      # Sample an example from the user.\n",
    "      score = float(enact.request_input(\n",
    "        requested_type=str,\n",
    "        for_value=poem,\n",
    "        context='Please score the poem from 1 to 10'))\n",
    "      self.examples.append(TrainingExample(poem, score))\n",
    "      return score\n",
    "    # Once enough examples are collected, prompt GPT with the examples.\n",
    "    examples = '\\n\\n'.join(\n",
    "      f'Example {i}:\\n{example.output}\\nSCORE:{example.score}'\n",
    "      for i, example in enumerate(self.examples))\n",
    "    return score_poem(poem, examples)\n",
    "\n",
    "\n",
    "@enact.register\n",
    "def generate_poem_with_user_training(prompt: str) -> str:\n",
    "  mcts = MCTS(TrainableScorer())\n",
    "  mcts.run(generate_poem, args=(prompt, 4), iterations=15)\n",
    "  return mcts.highest_mean()\n"
   ]
  },
  {
   "cell_type": "markdown",
   "metadata": {},
   "source": [
    "We use `enact.InvocationGenerator` to step through all user inputs that are\n",
    "generated during the invocation:"
   ]
  },
  {
   "cell_type": "code",
   "execution_count": 19,
   "metadata": {},
   "outputs": [
    {
     "name": "stdout",
     "output_type": "stream",
     "text": [
      "\n",
      "Please score the poem from 1 to 10:\n",
      "\n",
      "Where whispers float 'neath a masquerade of leaves,\n",
      "In twilight’s song, shadows unfurl their solemn creeds.\n",
      "Among the solemn giants, the distant echo of love bleeds.\n",
      "A fleeting solace where time and silence interweave.\n",
      "received user input: 3.8\n"
     ]
    },
    {
     "name": "stderr",
     "output_type": "stream",
     "text": [
      "  0%|          | 0/15 [00:00<?, ?it/s]"
     ]
    },
    {
     "name": "stdout",
     "output_type": "stream",
     "text": [
      "\n",
      "Creating new root poem\n"
     ]
    },
    {
     "name": "stderr",
     "output_type": "stream",
     "text": [
      "  0%|          | 0/15 [00:06<?, ?it/s]"
     ]
    },
    {
     "name": "stdout",
     "output_type": "stream",
     "text": [
      "\n",
      "Please score the poem from 1 to 10:\n",
      "\n",
      "Echoes of your voice are shadows dancing with the moon.\n",
      "Lost in the labyrinth of pines, the veil between us thins.\n",
      "The whispering wind weaves tales of love once painted in emerald green.\n",
      "Your silhouette shivers in the serenade of the silver-lit wilderness.\n"
     ]
    },
    {
     "name": "stderr",
     "output_type": "stream",
     "text": [
      "\n"
     ]
    },
    {
     "name": "stdout",
     "output_type": "stream",
     "text": [
      "received user input: 5.5\n"
     ]
    },
    {
     "name": "stderr",
     "output_type": "stream",
     "text": [
      "  0%|          | 0/15 [00:00<?, ?it/s]"
     ]
    },
    {
     "name": "stdout",
     "output_type": "stream",
     "text": [
      "\n",
      "Creating new root poem\n",
      "\n",
      "Echoes of your voice are shadows dancing with the moon.\n",
      "Lost in the labyrinth of pines, the veil between us thins.\n",
      "The whispering wind weaves tales of love once painted in emerald green.\n",
      "Your silhouette shivers in the serenade of the silver-lit wilderness.\n",
      "Score: 5.5\n",
      "\n",
      "Creating new root poem\n"
     ]
    },
    {
     "name": "stderr",
     "output_type": "stream",
     "text": [
      "  7%|▋         | 1/15 [00:06<01:26,  6.17s/it]"
     ]
    },
    {
     "name": "stdout",
     "output_type": "stream",
     "text": [
      "\n",
      "Please score the poem from 1 to 10:\n",
      "\n",
      "Underneath the branches, the silence sings a dirge.\n",
      "Through the verdant veil, I trace a melody submerged.\n",
      "In whispers of the wind and the crescendo of the surge.\n",
      "I become one with shadows, as the night begins its purge.\n"
     ]
    },
    {
     "name": "stderr",
     "output_type": "stream",
     "text": [
      "\n"
     ]
    },
    {
     "name": "stdout",
     "output_type": "stream",
     "text": [
      "received user input: 4.3\n"
     ]
    },
    {
     "name": "stderr",
     "output_type": "stream",
     "text": [
      "  0%|          | 0/15 [00:00<?, ?it/s]"
     ]
    },
    {
     "name": "stdout",
     "output_type": "stream",
     "text": [
      "\n",
      "Echoes of your voice are shadows dancing with the moon.\n",
      "Lost in the labyrinth of pines, the veil between us thins.\n",
      "The whispering wind weaves tales of love once painted in emerald green.\n",
      "Your silhouette shivers in the serenade of the silver-lit wilderness.\n",
      "Score: 5.5\n",
      "\n",
      "Creating new root poem\n",
      "\n",
      "Underneath the branches, the silence sings a dirge.\n",
      "Through the verdant veil, I trace a melody submerged.\n",
      "In whispers of the wind and the crescendo of the surge.\n",
      "I become one with shadows, as the night begins its purge.\n",
      "Score: 4.3\n",
      "\n",
      "Continuing partial poem:\n",
      "\n",
      "Echoes of your voice are shadows dancing with the moon.\n"
     ]
    },
    {
     "name": "stderr",
     "output_type": "stream",
     "text": [
      " 20%|██        | 3/15 [00:08<00:32,  2.68s/it]"
     ]
    },
    {
     "name": "stdout",
     "output_type": "stream",
     "text": [
      "\n",
      "Echoes of your voice are shadows dancing with the moon.\n",
      "In the quiet whisper, haunting echoes from buried roots in tune.\n",
      "Chorus of crickets sing as we tread through the midnight curtain's bloom.\n",
      "The forest, a cathedral of mystery, cradles our secrets in its looming gloom.\n",
      "Score: 4.7\n",
      "\n",
      "Continuing partial poem:\n",
      "\n",
      "Underneath the branches, the silence sings a dirge.\n"
     ]
    },
    {
     "name": "stderr",
     "output_type": "stream",
     "text": [
      " 27%|██▋       | 4/15 [00:13<00:40,  3.68s/it]"
     ]
    },
    {
     "name": "stdout",
     "output_type": "stream",
     "text": [
      "\n",
      "Underneath the branches, the silence sings a dirge.\n",
      "Of whispering shadows and moonlit mirage.\n",
      "Captured in echoes, the forest shares its secret purge.\n",
      "In a dance of darkness, with veiling leaves as its serge.\n",
      "Score: 5.3\n",
      "\n",
      "Continuing partial poem:\n",
      "\n",
      "Where whispers float 'neath a masquerade of leaves,\n"
     ]
    },
    {
     "name": "stderr",
     "output_type": "stream",
     "text": [
      " 33%|███▎      | 5/15 [00:20<00:46,  4.65s/it]"
     ]
    },
    {
     "name": "stdout",
     "output_type": "stream",
     "text": [
      "\n",
      "Where whispers float 'neath a masquerade of leaves,\n",
      "In night's cloak, secrets rustle in echoes of bittersweet reprieves.\n",
      "Old tales awaken, as the moon bathes roots in pale silver weaves.\n",
      "Shadows dance as the forest breathes, mystic threads the darkness believes.\n",
      "Score: 6.2\n",
      "\n",
      "Continuing partial poem:\n",
      "\n",
      "Where whispers float 'neath a masquerade of leaves,\n",
      "In night's cloak, secrets rustle in echoes of bittersweet reprieves.\n"
     ]
    },
    {
     "name": "stderr",
     "output_type": "stream",
     "text": [
      " 40%|████      | 6/15 [00:27<00:47,  5.31s/it]"
     ]
    },
    {
     "name": "stdout",
     "output_type": "stream",
     "text": [
      "\n",
      "Where whispers float 'neath a masquerade of leaves,\n",
      "In night's cloak, secrets rustle in echoes of bittersweet reprieves.\n",
      "Silhouettes dance in moonlight's sonnet, carved by shadows and deceits.\n",
      "A symphony woven by the wind 'midst the ghostly silent retreats.\n",
      "Score: 4.8\n",
      "\n",
      "Continuing partial poem:\n",
      "\n",
      "Where whispers float 'neath a masquerade of leaves,\n",
      "In night's cloak, secrets rustle in echoes of bittersweet reprieves.\n",
      "Old tales awaken, as the moon bathes roots in pale silver weaves.\n"
     ]
    },
    {
     "name": "stderr",
     "output_type": "stream",
     "text": [
      " 47%|████▋     | 7/15 [00:31<00:40,  5.10s/it]"
     ]
    },
    {
     "name": "stdout",
     "output_type": "stream",
     "text": [
      "\n",
      "Where whispers float 'neath a masquerade of leaves,\n",
      "In night's cloak, secrets rustle in echoes of bittersweet reprieves.\n",
      "Old tales awaken, as the moon bathes roots in pale silver weaves.\n",
      "Beneath the canopy of silence, the forest hums a melancholy melody.\n",
      "Score: 4.8\n",
      "\n",
      "Continuing partial poem:\n",
      "\n",
      "Where whispers float 'neath a masquerade of leaves,\n",
      "In night's cloak, secrets rustle in echoes of bittersweet reprieves.\n",
      "Old tales awaken, as the moon bathes roots in pale silver weaves.\n",
      "Shadows dance as the forest breathes, mystic threads the darkness believes.\n"
     ]
    },
    {
     "name": "stderr",
     "output_type": "stream",
     "text": [
      " 53%|█████▎    | 8/15 [00:34<00:29,  4.28s/it]"
     ]
    },
    {
     "name": "stdout",
     "output_type": "stream",
     "text": [
      "\n",
      "Where whispers float 'neath a masquerade of leaves,\n",
      "In night's cloak, secrets rustle in echoes of bittersweet reprieves.\n",
      "Old tales awaken, as the moon bathes roots in pale silver weaves.\n",
      "Shadows dance as the forest breathes, mystic threads the darkness believes.\n",
      "Score: 6.0\n",
      "\n",
      "Continuing partial poem:\n",
      "\n",
      "Where whispers float 'neath a masquerade of leaves,\n",
      "In night's cloak, secrets rustle in echoes of bittersweet reprieves.\n",
      "Silhouettes dance in moonlight's sonnet, carved by shadows and deceits.\n"
     ]
    },
    {
     "name": "stderr",
     "output_type": "stream",
     "text": [
      " 60%|██████    | 9/15 [00:37<00:23,  3.95s/it]"
     ]
    },
    {
     "name": "stdout",
     "output_type": "stream",
     "text": [
      "\n",
      "Where whispers float 'neath a masquerade of leaves,\n",
      "In night's cloak, secrets rustle in echoes of bittersweet reprieves.\n",
      "Silhouettes dance in moonlight's sonnet, carved by shadows and deceits.\n",
      "A symphony of silence finds its cadence in the hush of ancient trees.\n",
      "Score: 5.7\n",
      "\n",
      "Continuing partial poem:\n",
      "\n",
      "Where whispers float 'neath a masquerade of leaves,\n",
      "In twilight’s song, shadows unfurl their solemn creeds.\n"
     ]
    },
    {
     "name": "stderr",
     "output_type": "stream",
     "text": [
      " 67%|██████▋   | 10/15 [00:43<00:22,  4.40s/it]"
     ]
    },
    {
     "name": "stdout",
     "output_type": "stream",
     "text": [
      "\n",
      "Where whispers float 'neath a masquerade of leaves,\n",
      "In twilight’s song, shadows unfurl their solemn creeds.\n",
      "Twisting paths beckon a dance with uncertainty's thieves.\n",
      "A siren’s sigh chases echo’s echo through emerald sieves.\n",
      "Score: 4.6\n",
      "\n",
      "Continuing partial poem:\n",
      "\n",
      "Echoes of your voice are shadows dancing with the moon.\n"
     ]
    },
    {
     "name": "stderr",
     "output_type": "stream",
     "text": [
      " 73%|███████▎  | 11/15 [00:50<00:21,  5.45s/it]"
     ]
    },
    {
     "name": "stdout",
     "output_type": "stream",
     "text": [
      "\n",
      "Echoes of your voice are shadows dancing with the moon.\n",
      "In the somber ballet, trees whisper tales of long lost truth.\n",
      "In the abyss of leaves, memories pulsate to the rhythm of the stars.\n",
      "Behind the fret of silver mist, they bleed into nature's silent cries.\n",
      "Score: 5.7\n",
      "\n",
      "Continuing partial poem:\n",
      "\n",
      "Echoes of your voice are shadows dancing with the moon.\n",
      "In the somber ballet, trees whisper tales of long lost truth.\n"
     ]
    },
    {
     "name": "stderr",
     "output_type": "stream",
     "text": [
      " 80%|████████  | 12/15 [00:56<00:16,  5.47s/it]"
     ]
    },
    {
     "name": "stdout",
     "output_type": "stream",
     "text": [
      "\n",
      "Echoes of your voice are shadows dancing with the moon.\n",
      "In the somber ballet, trees whisper tales of long lost truth.\n",
      "Beneath the velvet skies, the melody of dew-kissed leaves unfold.\n",
      "Yet, in that orchestra of darkness, the forest sighs your phantom tune.\n",
      "Score: 6.2\n",
      "\n",
      "Continuing partial poem:\n",
      "\n",
      "Echoes of your voice are shadows dancing with the moon.\n",
      "Lost in the labyrinth of pines, the veil between us thins.\n"
     ]
    },
    {
     "name": "stderr",
     "output_type": "stream",
     "text": [
      " 87%|████████▋ | 13/15 [01:03<00:12,  6.06s/it]"
     ]
    },
    {
     "name": "stdout",
     "output_type": "stream",
     "text": [
      "\n",
      "Echoes of your voice are shadows dancing with the moon.\n",
      "Lost in the labyrinth of pines, the veil between us thins.\n",
      "Chasing phantoms through dew-kissed ferns, to the rhythm of our sins.\n",
      "Whispers of our past lie buried beneath moss-kissed stones.\n",
      "Score: 5.4\n",
      "\n",
      "Continuing partial poem:\n",
      "\n",
      "Echoes of your voice are shadows dancing with the moon.\n",
      "In the quiet whisper, haunting echoes from buried roots in tune.\n"
     ]
    },
    {
     "name": "stderr",
     "output_type": "stream",
     "text": [
      " 93%|█████████▎| 14/15 [01:09<00:06,  6.05s/it]"
     ]
    },
    {
     "name": "stdout",
     "output_type": "stream",
     "text": [
      "\n",
      "Echoes of your voice are shadows dancing with the moon.\n",
      "In the quiet whisper, haunting echoes from buried roots in tune.\n",
      "Through a veil of mist, you're an illusion in the evergreen gloom.\n",
      "A melody etched in bark, looms in the silence that's deafeningly luminous.\n",
      "Score: 4.7\n",
      "\n",
      "Continuing partial poem:\n",
      "\n",
      "Echoes of your voice are shadows dancing with the moon.\n",
      "In the somber ballet, trees whisper tales of long lost truth.\n"
     ]
    },
    {
     "name": "stderr",
     "output_type": "stream",
     "text": [
      "100%|██████████| 15/15 [01:14<00:00,  5.00s/it]"
     ]
    },
    {
     "name": "stdout",
     "output_type": "stream",
     "text": [
      "\n",
      "Echoes of your voice are shadows dancing with the moon.\n",
      "In the somber ballet, trees whisper tales of long lost truth.\n",
      "Lamenting leaves fall, a symphony of silent sorrow.\n",
      "Beneath the solemn sky, the forest veils its mysteries in nocturnal serenade.\n",
      "Score: 5.4\n",
      "\n",
      "Result:\n",
      "\n",
      "Echoes of your voice are shadows dancing with the moon.\n",
      "In the somber ballet, trees whisper tales of long lost truth.\n",
      "Beneath the velvet skies, the melody of dew-kissed leaves unfold.\n",
      "Yet, in that orchestra of darkness, the forest sighs your phantom tune.\n"
     ]
    },
    {
     "name": "stderr",
     "output_type": "stream",
     "text": [
      "\n"
     ]
    }
   ],
   "source": [
    "import sys\n",
    "\n",
    "with store:\n",
    "  inv_gen = enact.InvocationGenerator.from_callable(\n",
    "    generate_poem_with_user_training,\n",
    "    ('a poem inspired by the cure song \"A forest\"',))\n",
    "  for input_request in inv_gen:\n",
    "    print(f'\\n{input_request.context}:\\n{input_request.for_value()}')\n",
    "    sys.stdout.flush()\n",
    "    user_input = input()\n",
    "    print(f'received user input: {user_input}')\n",
    "    inv_gen.set_input(user_input)\n",
    "  print(f'\\nResult:\\n{inv_gen.invocation.get_output()}')\n",
    "    "
   ]
  }
 ],
 "metadata": {
  "kernelspec": {
   "display_name": ".venv",
   "language": "python",
   "name": "python3"
  },
  "language_info": {
   "codemirror_mode": {
    "name": "ipython",
    "version": 3
   },
   "file_extension": ".py",
   "mimetype": "text/x-python",
   "name": "python",
   "nbconvert_exporter": "python",
   "pygments_lexer": "ipython3",
   "version": "3.8.10"
  },
  "orig_nbformat": 4
 },
 "nbformat": 4,
 "nbformat_minor": 2
}
