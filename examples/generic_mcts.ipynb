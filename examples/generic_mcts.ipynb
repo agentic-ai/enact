{
 "cells": [
  {
   "cell_type": "markdown",
   "metadata": {},
   "source": [
    "# Generic Monte-Carlo Tree Search for Poetry Generation\n",
    "\n",
    "This notebook shows how enact's rewind / replay functionality can be used\n",
    "to search the space of executions of a python program. This allows us\n",
    "to implement advanced algorithms such as Monte-Carlo Tree Search (MCTS)\n",
    "in a problem-independent manner: MCTS just becomes a particular way in which\n",
    "we want to explore the search space of the scaffolding program.\n",
    "\n",
    "We demonstrate using an MCTS-style tree search using a line-by-line rhyming\n",
    "poetry generator: Rhyming poetry can be viewed as a planning problem, since a\n",
    "bad choice for a rhyme word earlier in the poem can make it difficult to find\n",
    "decent completions. \n",
    "\n",
    "We can model line-by-line poetry generation via the following scaffolding program:\n",
    "```python\n",
    "def extend_line(poem_so_far: str) -> str:\n",
    "  ... # Calls LLM to extend the poem by a single line.\n",
    "\n",
    "def generate_poem() -> str:\n",
    "  poem = ''\n",
    "  for _ in range(N_LINES):\n",
    "    poem = extend_line(poem)\n",
    "```\n",
    "\n",
    "Enact allows us to write algorithms that search the space of executions of a\n",
    "scaffolding program such as `generate_poem`. For example, if we want to generate\n",
    "different last lines for a single poem, we can do the following:\n",
    "\n",
    "```python\n",
    "invocation = enact.invoke(generate_poem)  # Generate initial poem\n",
    "full_poems = [invocation.get_output()]\n",
    "for _ in range(N):\n",
    "  variant = invocation.rewind().replay()  # Reroll the last the extend_line call\n",
    "  full_poems.append(variant.get_output())\n",
    "```\n",
    "\n",
    "The remainder of this notebook shows how enact can be used to implement a generic\n",
    "Monte-Carlo Tree Search (MCTS) that works for any scaffolding program, based on the\n",
    "same principle: By directly searching the tree of executions of the scaffolding\n",
    "program using enact's `rewind` and `replay` functionality.\n",
    "\n",
    "## MCTS\n",
    "\n",
    "Monte-carlo tree search (MCTS) is a search algorithm that uses a critic to focus\n",
    "effort on high-scoring areas of the search space. When applied to line-by-line\n",
    "poetry generation, MCTS will generate a set of complete seed poems. In each\n",
    "search step, it will pick a prefix of a previously completed poem and generate\n",
    "a fresh completion. MCTS will optimistically choose prefixes that do not have\n",
    "many completions or prefixes that lead to high-scoring completions on average.\n",
    "\n",
    "![MCTS](mcts.png)\n",
    "\n",
    "In the (made up) example above, we start with two seed poems, one terrible and one\n",
    "mediocre. MCTS chooses to regenerate a new last line for the mediocre poem, since it\n",
    "seems more promising than the terrible poem.\n",
    "\n",
    "In terms of enact, we can view MCTS as choosing to rewind and replay the invocation\n",
    "of the second poem.\n"
   ]
  },
  {
   "cell_type": "markdown",
   "metadata": {},
   "source": [
    "## Prerequisites and API keys"
   ]
  },
  {
   "cell_type": "code",
   "execution_count": 1,
   "metadata": {},
   "outputs": [
    {
     "name": "stdout",
     "output_type": "stream",
     "text": [
      "Note: you may need to restart the kernel to use updated packages.\n"
     ]
    }
   ],
   "source": [
    "%pip install enact openai randomname tqdm numpy --quiet"
   ]
  },
  {
   "cell_type": "code",
   "execution_count": 2,
   "metadata": {},
   "outputs": [],
   "source": [
    "import asyncio\n",
    "import re\n",
    "from typing import Awaitable\n",
    "\n",
    "import enact       # Journaled executions\n",
    "import openai      # GPT API\n",
    "import randomname  # Extra randomness for prompt.\n",
    "import tqdm        # progress bar\n",
    "\n",
    "import api_keys    # API keys\n",
    "\n",
    "\n",
    "# Read from file or env variable.\n",
    "API_KEY = api_keys.OPENAI_API_KEY.get()\n"
   ]
  },
  {
   "cell_type": "markdown",
   "metadata": {},
   "source": [
    "## Defining a line-by-line poetry generator\n",
    "\n",
    "We first define our scaffolding program: a line-by-line poetry generator which\n",
    "autoregressively calls GPT in a for-loop."
   ]
  },
  {
   "cell_type": "code",
   "execution_count": 3,
   "metadata": {},
   "outputs": [],
   "source": [
    "@enact.register\n",
    "class Failed(enact.ExceptionResource):\n",
    "  \"\"\"Raised when a subtask fails.\"\"\"\n",
    "\n",
    "\n",
    "@enact.register  # Track this function's execution.\n",
    "async def gpt(prompt: str, temperature: float=1.0, model='gpt-4o') -> str:\n",
    "  \"\"\"Call the GPT completion API\"\"\"\n",
    "  client = openai.AsyncClient(api_key=API_KEY)\n",
    "  response = await client.chat.completions.create(\n",
    "    model=model,\n",
    "    messages=[{'role': 'system', 'content': prompt}],\n",
    "    temperature=temperature)\n",
    "  return response.choices[0].message.content\n",
    "\n",
    "\n",
    "@enact.register\n",
    "async def extend_poem(\n",
    "    poem: str, prompt: str, lines: int,\n",
    "    temperature: float = 1.0) -> str:\n",
    "  \"\"\"Extend the poem by one line.\"\"\"\n",
    "  line_index = len(poem.strip().split('\\n'))\n",
    "  gpt_prompt = f'''\n",
    "We are writing a poem for the prompt: {prompt}.\n",
    "\n",
    "This is the poem so far:\n",
    "\n",
    "{poem if poem else '<NEW POEM>'}\n",
    "\n",
    "Extend the poem by one single line. Respond only with the new line and say\n",
    "nothing else. This will be line nr {line_index + 1} out of a total of {lines}\n",
    "lines.\n",
    "\n",
    "Avoid cliches.\n",
    "\n",
    "Respond only with one line in your response and nothing else.\n",
    "\n",
    "Ignore the following random seed words:\n",
    "{', '.join(randomname.generate('nouns/') for _ in range(10))}\n",
    "\n",
    "Be sure to respond only with one line of poetry and nothing else.\n",
    "'''\n",
    "  result = await gpt(gpt_prompt, temperature)\n",
    "  lines = result.strip().split('\\n')\n",
    "  if len(lines) != 1:\n",
    "    raise Failed('Responded with more than one line')\n",
    "  line: str = lines[0]\n",
    "  line = line.strip('\"\\'').strip()\n",
    "  if \"NEW POEM\" in line:\n",
    "    raise Failed('Repeated NEW POEM in line')\n",
    "  return poem + f'\\n{line}'\n",
    "\n",
    "@enact.register\n",
    "async def generate_poem(prompt: str, lines: int) -> str:\n",
    "  \"\"\"Generate a poem line by line.\"\"\"\n",
    "  poem = ''\n",
    "  for _ in range(lines):\n",
    "    poem = await extend_poem(poem, prompt, lines)\n",
    "  return poem\n"
   ]
  },
  {
   "cell_type": "markdown",
   "metadata": {},
   "source": [
    "Our poetry generator can be run as follows, although it may sometimes fail,\n",
    "e.g., when GPT produces output in a wrong format."
   ]
  },
  {
   "cell_type": "code",
   "execution_count": 4,
   "metadata": {},
   "outputs": [
    {
     "name": "stdout",
     "output_type": "stream",
     "text": [
      "\n",
      "In virtue's name, our deepest follies play.\n",
      "To witless pride, our wisdom goes astray.\n"
     ]
    }
   ],
   "source": [
    "try:\n",
    "  two_line_poem = await generate_poem(\n",
    "    'a two line rhyming poem in the style of Alexander Pope', lines=2)\n",
    "  print(two_line_poem)\n",
    "except Exception as e:\n",
    "  print(f'Failed with \"{e}\". Try again.')"
   ]
  },
  {
   "cell_type": "markdown",
   "metadata": {},
   "source": [
    "We can also inspect the call trace by generating an invocation, this\n",
    "requires us to work in the context of a store:"
   ]
  },
  {
   "cell_type": "code",
   "execution_count": 5,
   "metadata": {},
   "outputs": [
    {
     "name": "stdout",
     "output_type": "stream",
     "text": [
      "-><function generate_poem at 0x10791e520>(...) \n",
      "  -><function extend_poem at 0x10791de40>(...) \n",
      "    -><function gpt at 0x10791d4e0>(...) \n",
      "  -><function extend_poem at 0x10791de40>(...) \n",
      "    -><function gpt at 0x10791d4e0>(...) \n",
      "\n",
      "Mysteries unfurl on a tide that knows no shore.\n",
      "Whispers of ancient secrets drift within its roar.\n"
     ]
    }
   ],
   "source": [
    "with enact.InMemoryStore() as store:\n",
    "  invocation = await enact.invoke_async(generate_poem, ('a poem about the sea', 2))\n",
    "  print(enact.invocation_summary(invocation, show_input=False, show_output=False))\n",
    "  print(invocation.get_output())"
   ]
  },
  {
   "cell_type": "markdown",
   "metadata": {},
   "source": [
    "We can regenerate the last line by rewinding and replaying the invocation."
   ]
  },
  {
   "cell_type": "code",
   "execution_count": 6,
   "metadata": {},
   "outputs": [
    {
     "name": "stdout",
     "output_type": "stream",
     "text": [
      "\n",
      "Mysteries unfurl on a tide that knows no shore.\n",
      "Currents weave stories in whispers of salt and brine.\n"
     ]
    }
   ],
   "source": [
    "with store:\n",
    "  invocation = await invocation.rewind().replay_async()\n",
    "  print(invocation.get_output())"
   ]
  },
  {
   "cell_type": "markdown",
   "metadata": {},
   "source": [
    "## Define a critic\n",
    "\n",
    "We would like to search the space of possible executions of our `generate_poem`\n",
    "function. In order to do so, we need to define a scoring function that can\n",
    "assign a numeric value to generated poems. We use another call to GPT for this."
   ]
  },
  {
   "cell_type": "code",
   "execution_count": 7,
   "metadata": {},
   "outputs": [],
   "source": [
    "@enact.register\n",
    "async def score_poem(poem: str) -> float:\n",
    "  gpt_prompt: str = f'''\n",
    "Score the following poem on a scale from 0 to 10, where 0 is the worst poem and\n",
    "10 is the best. Ask yourself the following questions:\n",
    "- Does it have good rhythm?\n",
    "- Does it have natural-sounding rhymes?\n",
    "- Is the poem self-contained and complete?\n",
    "- Does the poem use of cliches?\n",
    "- Does the poem use akward phrasings or forced rhymes?\n",
    "- Does the poem use overelaborate / sophomoric language?\n",
    "\n",
    "Be very critical, a flawed poem should receive a score less than five.\n",
    "Only exceptional poems should receive a high score.\n",
    "\n",
    "Respond in the following format:\n",
    "\n",
    "<very short summary of your critique>\n",
    "SCORE: <score>\n",
    "\n",
    "This is the poem:\n",
    "{poem}\n",
    "'''\n",
    "  score = await gpt(gpt_prompt, 1.1)\n",
    "  return float(re.search(r'SCORE: ([\\d\\.]+)', score).group(1))\n"
   ]
  },
  {
   "cell_type": "markdown",
   "metadata": {},
   "source": [
    "We can apply our poetry critic to the poem we generated earlier:"
   ]
  },
  {
   "cell_type": "code",
   "execution_count": 8,
   "metadata": {},
   "outputs": [
    {
     "name": "stdout",
     "output_type": "stream",
     "text": [
      "\n",
      "In virtue's name, our deepest follies play.\n",
      "To witless pride, our wisdom goes astray.\n",
      "Score: 4.0\n"
     ]
    }
   ],
   "source": [
    "try:\n",
    "  print(two_line_poem)\n",
    "  print(f'Score: {await score_poem(two_line_poem)}')\n",
    "except Exception as e:\n",
    "  print(f'Try again. Scoring failed with: {e}')"
   ]
  },
  {
   "cell_type": "markdown",
   "metadata": {},
   "source": [
    "## Implementing Monte Carlo Tree Search\n",
    "\n",
    "Enact can rewind and replay executions of registered python functions. We can\n",
    "use this to explore the space of possible program executions using Monte Carlo\n",
    "Tree Search."
   ]
  },
  {
   "cell_type": "code",
   "execution_count": 9,
   "metadata": {},
   "outputs": [],
   "source": [
    "import dataclasses\n",
    "import random\n",
    "from typing import Callable, Dict, List, Optional\n",
    "import numpy as np\n",
    "\n",
    "\n",
    "# Increase this number for more exploration\n",
    "EXPLORATION_AMOUNT = 3\n",
    "# We don't use MCTS as policy refinement, but purely as search,\n",
    "# we add a constant chance to expand a given node while traversing\n",
    "# from the root. (This is probably not ideal)\n",
    "EXPAND_CHANCE = 0.20\n",
    "# Conservative quality prior to add for bootstrapped LCB. This penalizes\n",
    "# poems that we haven't thouroughly explored yet.\n",
    "LCB_PRIOR = [1.0]\n",
    "# Sample node with highest UCB at this temperature. If set to 0, always picks\n",
    "# the max UCB node.\n",
    "SAMPLING_TEMPERATURE=0.25\n",
    "\n",
    "# How many parallel calls.\n",
    "PARALLELISM=5\n",
    "\n",
    "\n",
    "@enact.register\n",
    "@dataclasses.dataclass\n",
    "class Node(enact.Resource):\n",
    "  invocation: enact.Invocation  # A (possibly-partial) execution.\n",
    "  children: list['Node']\n",
    "  parent: Optional['Node']      # The parent node.\n",
    "  scores: List[float]           # List of scores for this subtree.\n",
    "\n",
    "  @property\n",
    "  def q(self) -> float:\n",
    "    \"\"\"Compute the Q value of this node relative to the parent.\"\"\"\n",
    "    return np.mean(self.scores)\n",
    "\n",
    "  @property\n",
    "  def tree_ucb(self) -> float:\n",
    "    \"\"\"Computes a heuristic UCB on scores for tree search.\"\"\"\n",
    "    num_parent_scores = len(self.parent.scores)\n",
    "    return np.mean(self.scores) + EXPLORATION_AMOUNT * np.sqrt(\n",
    "      np.log(1e-2 + num_parent_scores) / len(self.scores))\n",
    "\n",
    "  @property\n",
    "  def lcb(self) -> float:\n",
    "    \"\"\"Computes a lower confidence bound (30th percentile).\"\"\"\n",
    "    scores = self.scores\n",
    "    scores = scores + LCB_PRIOR\n",
    "\n",
    "    return  np.percentile(\n",
    "      np.mean(np.random.choice(\n",
    "        scores, (10000, len(scores))), axis=1),\n",
    "      30.0)\n",
    "\n",
    "\n",
    "@enact.register\n",
    "@dataclasses.dataclass\n",
    "class MCTS(enact.Resource):\n",
    "  \"\"\"A generic implementation for MCTS over abitrary scaffolding programs.\"\"\"\n",
    "  scorer: Callable[[str], Awaitable[float]]\n",
    "  nodes: Dict[str, Node] = dataclasses.field(\n",
    "    default_factory=dict)\n",
    "  root: Node | None = None\n",
    "\n",
    "  async def add(\n",
    "      self,\n",
    "      invocation: enact.Invocation):\n",
    "    \"\"\"Add an invocation to the MCTS tree.\"\"\"\n",
    "    child = None\n",
    "    score = await self.compute_score(invocation)\n",
    "    # Propagate scores up the invocation tree.\n",
    "    while True:\n",
    "      cur = enact.commit(invocation)\n",
    "      node = self.nodes.setdefault(cur.id, Node(invocation, [], None, []))\n",
    "      node.scores.append(score)\n",
    "      if child:\n",
    "        node.children.append(child)\n",
    "        child.parent = node\n",
    "      child = node\n",
    "      if not invocation.response().children:\n",
    "        if not self.root:\n",
    "          self.root = node\n",
    "        break\n",
    "      invocation = invocation.rewind()  # Generate execution prefix.\n",
    "    return score\n",
    "\n",
    "  def next_node(self):\n",
    "    \"\"\"Select next node according to highest UCB.\"\"\"\n",
    "    assert self.root, \"Must add at least one seed invocation.\"\n",
    "\n",
    "    cur = self.root\n",
    "    while cur.children:\n",
    "      # Randomly decide to create a new expansion.\n",
    "      if random.random() < EXPAND_CHANCE:\n",
    "        return cur\n",
    "      ucbs = np.array([node.tree_ucb for node in cur.children])\n",
    "      if not SAMPLING_TEMPERATURE:\n",
    "        idx = np.argmax(ucbs)\n",
    "      else:\n",
    "        softmax_ps = np.exp(ucbs / SAMPLING_TEMPERATURE) / np.sum(\n",
    "          np.exp(ucbs / SAMPLING_TEMPERATURE))\n",
    "        idx = np.random.choice(len(ucbs), p=softmax_ps)\n",
    "      cur = cur.children[idx]\n",
    "\n",
    "    return cur\n",
    "\n",
    "  async def compute_score(self, invocation: enact.Invocation) -> float:\n",
    "    \"\"\"Assign a score to the invocation.\"\"\"\n",
    "    if not invocation.successful():\n",
    "      return -1.0\n",
    "    try:\n",
    "      return await self.scorer(invocation.get_output())\n",
    "    except enact.InputRequest:\n",
    "      raise\n",
    "    except:\n",
    "      raise Failed\n",
    "\n",
    "  @enact.register\n",
    "  async def step(self):\n",
    "    \"\"\"Run one step of MCTS and return generated output and score.\"\"\"\n",
    "    assert self.nodes, 'Please call add before step.'\n",
    "    node = self.next_node()\n",
    "    if node.invocation.response().children:\n",
    "      print(f'\\nContinuing partial invocation:\\n{node.invocation.response().children[-1]().get_output()}')\n",
    "    else:\n",
    "      print(f'\\nCreating new root invocation')\n",
    "    invocation = await self.replay(node.invocation)\n",
    "    score = await self.add(invocation)\n",
    "    if invocation.successful():\n",
    "      print(f'== New invocation:\\n{invocation.get_output()}')\n",
    "      print(f'== Score: {score}')\n",
    "      print()\n",
    "      return invocation.get_output(), score\n",
    "\n",
    "  @enact.register\n",
    "  async def invoke(self, fun: Callable, args=(), kwargs=None):\n",
    "    \"\"\"Wrap invocation in a registered function, since it is non-deterministic.\"\"\"\n",
    "    return await enact.invoke_async(fun, args=args, kwargs=kwargs)\n",
    "\n",
    "  @enact.register\n",
    "  async def replay(self, invocation: enact.Invocation) -> enact.Invocation:\n",
    "    \"\"\"Wrap replay in a registered function, since it is non-deterministic.\"\"\"\n",
    "    return await invocation.replay_async()\n",
    "\n",
    "  @enact.register\n",
    "  async def add_seed(self, fun, args=(), kwargs=None):\n",
    "    \"\"\"Add a seed invocation. Return success.\"\"\"\n",
    "    invocation = await self.invoke(fun, args=args, kwargs=kwargs)\n",
    "    if not invocation.successful():\n",
    "      return False\n",
    "    try:\n",
    "      score = await self.add(invocation)\n",
    "      print(f'== Added seed invocation:\\n{invocation.get_output()}')\n",
    "      print(f'== Score: {score}')\n",
    "      print()\n",
    "    except Failed:\n",
    "      return False\n",
    "    return True\n",
    "\n",
    "  @enact.register\n",
    "  async def run(self, fun, args=(), kwargs=None, seeds=5, iterations=100):\n",
    "    \"\"\"Run MCTS for a given number of iterations.\"\"\"\n",
    "    print('Creating seed poems')\n",
    "    await asyncio.gather(\n",
    "      *[self.add_seed(fun, args=args, kwargs=kwargs)\n",
    "        for _ in range(seeds)])\n",
    "\n",
    "    if not self.nodes:\n",
    "      raise Failed('Could not find a successful seed invocation.')\n",
    "\n",
    "    current_tasks: List[asyncio.Task] = []\n",
    "    for _ in tqdm.trange(max(iterations - PARALLELISM, 1), desc='Running MCTS'):\n",
    "      current_tasks = [t for t in current_tasks if not t.done()]\n",
    "      while len(current_tasks) < PARALLELISM:\n",
    "        current_tasks.append(asyncio.create_task(self.step()))\n",
    "      done, _ = await asyncio.wait(current_tasks, return_when=asyncio.FIRST_COMPLETED)\n",
    "      for d in done:\n",
    "        try:\n",
    "          await d\n",
    "        except Failed:\n",
    "          continue\n",
    "    for t in current_tasks:\n",
    "      try:\n",
    "        await t\n",
    "      except Failed:\n",
    "        continue\n",
    "\n",
    "  def highest_lcb(self):\n",
    "    \"\"\"Return the highest LCB output.\"\"\"\n",
    "    success_nodes = [node for node in self.nodes.values() if node.invocation.successful()]\n",
    "    if not success_nodes:\n",
    "      return None\n",
    "    return max(success_nodes, key=lambda node: node.lcb).invocation.get_output()\n",
    "\n",
    "  def highest_mean(self):\n",
    "    \"\"\"Return the output with the higest mean score.\"\"\"\n",
    "    success_nodes = [node for node in self.nodes.values() if node.invocation.successful()]\n",
    "    if not success_nodes:\n",
    "      return None\n",
    "    return max(success_nodes, key=lambda node: np.mean(node.scores)).invocation.get_output()\n",
    "\n",
    "  def most_visited(self):\n",
    "    \"\"\"Return the output that was visited the most.\"\"\"\n",
    "    success_nodes = [node for node in self.nodes.values() if node.invocation.successful()]\n",
    "    if not success_nodes:\n",
    "      return None\n",
    "    return max(success_nodes, key=lambda node: len(node.scores)).invocation.get_output()"
   ]
  },
  {
   "cell_type": "markdown",
   "metadata": {},
   "source": [
    "The above mostly a straightforward implementation of MCTS, but it is worth highlighting\n",
    "that each node in the search tree is associated with a partial execution of the program\n",
    "in the form of an enact `Invocation`.\n",
    "\n",
    "```python\n",
    "class Node(enact.Resource):\n",
    "  invocation: enact.Invocation  # A (possibly-partial) execution.\n",
    "  ...\n",
    "\n",
    "```\n",
    "\n",
    "In each step of the MCTS search, a tree node is picked to be extended, which is accomplished\n",
    "via `node.invocation.replay()`. This results in a completed invocation that extends\n",
    "`node.invocation`."
   ]
  },
  {
   "cell_type": "markdown",
   "metadata": {},
   "source": [
    "## Running MCTS on our poetry generator\n",
    "\n",
    "Note that our implementation of MCTS is *generic* in the sense that it accepts\n",
    "an arbitrary enact-registered python function and scorer. Instead of\n",
    "having to implement a domain-specific search tree where the nodes correspond to\n",
    "partial poems or chess-boards, we can search directly in the space of program\n",
    "executions regardless of the domain in which the underlying program operates. \n",
    "Thus, MCTS can be used as a general purpose refinement-operator that improves\n",
    "the quality of a generative program using a scoring function.\n",
    "\n",
    "Enact requires a `Store` object which records inputs, outputs and call-traces\n",
    "in content addressable memory."
   ]
  },
  {
   "cell_type": "code",
   "execution_count": 10,
   "metadata": {},
   "outputs": [],
   "source": [
    "store = enact.InMemoryStore()"
   ]
  },
  {
   "cell_type": "markdown",
   "metadata": {},
   "source": [
    "We can now run MCTS for a set number of iterations by providing it with\n",
    "the program `generate_poem`, whose execution tree we'd like to search,\n",
    "and our automatic scoring function `score_poem`, which allows us to\n",
    "associate a quality score with outputs."
   ]
  },
  {
   "cell_type": "code",
   "execution_count": 16,
   "metadata": {},
   "outputs": [
    {
     "name": "stdout",
     "output_type": "stream",
     "text": [
      "Creating seed poems\n",
      "== Added seed invocation:\n",
      "\n",
      "In silent spaces, thoughts take wing.\n",
      "In the tangled web of what life brings.\n",
      "A fragile dance of joy and sting.\n",
      "Hearts beat boldly, seeking meaning.\n",
      "== Score: 6.0\n",
      "\n",
      "== Added seed invocation:\n",
      "\n",
      "Life is a journey through fields of grace,\n",
      "Where laughter and tears often change their place,\n",
      "We dance in hope, yet stumble with doubt,\n",
      "Yet still, we rise and find our way out.\n",
      "== Score: 4.0\n",
      "\n",
      "== Added seed invocation:\n",
      "\n",
      "In sunlight's warmth, we chase our dreams,\n",
      "With eager hearts and endless schemes,\n",
      "Fearing what each new day means.\n",
      "We find in love both strength and seams.\n",
      "== Score: 5.0\n",
      "\n"
     ]
    },
    {
     "name": "stderr",
     "output_type": "stream",
     "text": [
      "Running MCTS:   0%|          | 0/95 [00:00<?, ?it/s]"
     ]
    },
    {
     "name": "stdout",
     "output_type": "stream",
     "text": [
      "\n",
      "Continuing partial invocation:\n",
      "\n",
      "In silent spaces, thoughts take wing.\n",
      "\n",
      "Continuing partial invocation:\n",
      "\n",
      "In silent spaces, thoughts take wing.\n",
      "In the tangled web of what life brings.\n",
      "A fragile dance of joy and sting.\n",
      "\n",
      "Continuing partial invocation:\n",
      "\n",
      "In silent spaces, thoughts take wing.\n",
      "In the tangled web of what life brings.\n",
      "\n",
      "Creating new root invocation\n",
      "\n",
      "Continuing partial invocation:\n",
      "\n",
      "In silent spaces, thoughts take wing.\n",
      "In the tangled web of what life brings.\n",
      "A fragile dance of joy and sting.\n",
      "Hearts beat boldly, seeking meaning.\n"
     ]
    },
    {
     "name": "stderr",
     "output_type": "stream",
     "text": [
      "Running MCTS:   1%|          | 1/95 [00:01<03:04,  1.96s/it]"
     ]
    },
    {
     "name": "stdout",
     "output_type": "stream",
     "text": [
      "== New invocation:\n",
      "\n",
      "In silent spaces, thoughts take wing.\n",
      "In the tangled web of what life brings.\n",
      "A fragile dance of joy and sting.\n",
      "Hearts beat boldly, seeking meaning.\n",
      "== Score: 4.0\n",
      "\n",
      "\n",
      "Continuing partial invocation:\n",
      "\n",
      "In sunlight's warmth, we chase our dreams,\n",
      "With eager hearts and endless schemes,\n",
      "Fearing what each new day means.\n",
      "We find in love both strength and seams.\n"
     ]
    },
    {
     "name": "stderr",
     "output_type": "stream",
     "text": [
      "Running MCTS:   2%|▏         | 2/95 [00:02<02:10,  1.41s/it]"
     ]
    },
    {
     "name": "stdout",
     "output_type": "stream",
     "text": [
      "== New invocation:\n",
      "\n",
      "In silent spaces, thoughts take wing.\n",
      "In the tangled web of what life brings.\n",
      "A fragile dance of joy and sting.\n",
      "We seek the light as shadows cling.\n",
      "== Score: 5.0\n",
      "\n",
      "\n",
      "Continuing partial invocation:\n",
      "\n",
      "In sunlight's warmth, we chase our dreams,\n",
      "With eager hearts and endless schemes,\n",
      "Fearing what each new day means.\n",
      "We find in love both strength and seams.\n"
     ]
    },
    {
     "name": "stderr",
     "output_type": "stream",
     "text": [
      "Running MCTS:   3%|▎         | 3/95 [00:03<01:48,  1.18s/it]"
     ]
    },
    {
     "name": "stdout",
     "output_type": "stream",
     "text": [
      "== New invocation:\n",
      "\n",
      "In silent spaces, thoughts take wing.\n",
      "In the tangled web of what life brings.\n",
      "In forests deep, where echoes sing.\n",
      "In hearts that yearn, the silence clings.\n",
      "== Score: 6.0\n",
      "\n",
      "\n",
      "Continuing partial invocation:\n",
      "\n",
      "In sunlight's warmth, we chase our dreams,\n",
      "With eager hearts and endless schemes,\n",
      "Fearing what each new day means.\n",
      "We find in love both strength and seams.\n",
      "== New invocation:\n",
      "\n",
      "In sunlight's warmth, we chase our dreams,\n",
      "With eager hearts and endless schemes,\n",
      "Fearing what each new day means.\n",
      "We find in love both strength and seams.\n",
      "== Score: 4.0\n",
      "\n",
      "\n",
      "Continuing partial invocation:\n",
      "\n",
      "Life is a journey through fields of grace,\n",
      "Where laughter and tears often change their place,\n",
      "We dance in hope, yet stumble with doubt,\n",
      "Yet still, we rise and find our way out.\n"
     ]
    },
    {
     "name": "stderr",
     "output_type": "stream",
     "text": [
      "Running MCTS:   5%|▌         | 5/95 [00:04<00:59,  1.52it/s]"
     ]
    },
    {
     "name": "stdout",
     "output_type": "stream",
     "text": [
      "== New invocation:\n",
      "\n",
      "In silent spaces, thoughts take wing.\n",
      "Crumbling sidewalks where dreams still sing.\n",
      "Where hearts weave tapestries of love and pain.\n",
      "In whispered echoes, we find hope again.\n",
      "== Score: 6.0\n",
      "\n",
      "\n",
      "Continuing partial invocation:\n",
      "\n",
      "Life is a journey through fields of grace,\n",
      "Where laughter and tears often change their place,\n",
      "== New invocation:\n",
      "\n",
      "Life unfolds like a shifting dance,\n",
      "Changing forms with each fleeting glance,\n",
      "Moments of joy weave with threads of strife,\n",
      "In the tapestry of our fragile life.\n",
      "== Score: 5.0\n",
      "\n",
      "\n",
      "Continuing partial invocation:\n",
      "\n",
      "Life unfolds like a shifting dance,\n",
      "Changing forms with each fleeting glance,\n"
     ]
    },
    {
     "name": "stderr",
     "output_type": "stream",
     "text": [
      "Running MCTS:   7%|▋         | 7/95 [00:04<00:41,  2.12it/s]"
     ]
    },
    {
     "name": "stdout",
     "output_type": "stream",
     "text": [
      "== New invocation:\n",
      "\n",
      "In sunlight's warmth, we chase our dreams,\n",
      "With eager hearts and endless schemes,\n",
      "Fearing what each new day means.\n",
      "We find in love both strength and seams.\n",
      "== Score: 4.0\n",
      "\n",
      "\n",
      "Continuing partial invocation:\n",
      "\n",
      "Life unfolds like a shifting dance,\n"
     ]
    },
    {
     "name": "stderr",
     "output_type": "stream",
     "text": [
      "Running MCTS:   8%|▊         | 8/95 [00:05<00:46,  1.87it/s]"
     ]
    },
    {
     "name": "stdout",
     "output_type": "stream",
     "text": [
      "== New invocation:\n",
      "\n",
      "Life is a journey through fields of grace,\n",
      "Where laughter and tears often change their place,\n",
      "We dance in hope, yet stumble with doubt,\n",
      "Yet still, we rise and find our way out.\n",
      "== Score: 6.0\n",
      "\n",
      "\n",
      "Continuing partial invocation:\n",
      "\n",
      "Life unfolds like a shifting dance,\n",
      "Changing forms with each fleeting glance,\n",
      "Moments of joy weave with threads of strife,\n",
      "In the tapestry of our fragile life.\n",
      "== New invocation:\n",
      "\n",
      "In sunlight's warmth, we chase our dreams,\n",
      "With eager hearts and endless schemes,\n",
      "Fearing what each new day means.\n",
      "We find in love both strength and seams.\n",
      "== Score: 4.0\n",
      "\n",
      "\n",
      "Continuing partial invocation:\n",
      "\n",
      "Life unfolds like a shifting dance,\n",
      "Changing forms with each fleeting glance,\n",
      "Moments of joy weave with threads of strife,\n",
      "In the tapestry of our fragile life.\n"
     ]
    },
    {
     "name": "stderr",
     "output_type": "stream",
     "text": [
      "Running MCTS:  12%|█▏        | 11/95 [00:07<00:48,  1.72it/s]"
     ]
    },
    {
     "name": "stdout",
     "output_type": "stream",
     "text": [
      "== New invocation:\n",
      "\n",
      "Life unfolds like a shifting dance,\n",
      "Changing forms with each fleeting glance,\n",
      "Moments of joy weave with threads of strife,\n",
      "In the tapestry of our fragile life.\n",
      "== Score: 6.0\n",
      "\n",
      "\n",
      "Continuing partial invocation:\n",
      "\n",
      "Life unfolds like a shifting dance,\n",
      "Changing forms with each fleeting glance,\n",
      "Moments of joy weave with threads of strife,\n",
      "In the tapestry of our fragile life.\n",
      "== New invocation:\n",
      "\n",
      "Life unfolds like a shifting dance,\n",
      "Changing forms with each fleeting glance,\n",
      "Moments of joy weave with threads of strife,\n",
      "In the tapestry of our fragile life.\n",
      "== Score: 5.0\n",
      "\n",
      "\n",
      "Continuing partial invocation:\n",
      "\n",
      "Life unfolds like a shifting dance,\n",
      "Changing forms with each fleeting glance,\n",
      "Moments of joy weave with threads of strife,\n",
      "In the tapestry of our fragile life.\n",
      "== New invocation:\n",
      "\n",
      "Life is a journey through fields of grace,\n",
      "Where laughter and tears often change their place,\n",
      "Each step we take is an unending chase,\n",
      "To find our own rhythm in time's vast embrace.\n",
      "== Score: 6.0\n",
      "\n",
      "\n",
      "Continuing partial invocation:\n",
      "\n",
      "Life unfolds like a shifting dance,\n",
      "Changing forms with each fleeting glance,\n",
      "Moments of joy weave with threads of strife,\n",
      "In the tapestry of our fragile life.\n"
     ]
    },
    {
     "name": "stderr",
     "output_type": "stream",
     "text": [
      "Running MCTS:  14%|█▎        | 13/95 [00:08<00:36,  2.25it/s]"
     ]
    },
    {
     "name": "stdout",
     "output_type": "stream",
     "text": [
      "== New invocation:\n",
      "\n",
      "Life unfolds like a shifting dance,\n",
      "Changing forms with each fleeting glance,\n",
      "In wonder and in fear we stride,\n",
      "Through shadows and light, our souls abide.\n",
      "== Score: 6.0\n",
      "\n",
      "\n",
      "Continuing partial invocation:\n",
      "\n",
      "In silent spaces, thoughts take wing.\n",
      "Crumbling sidewalks where dreams still sing.\n"
     ]
    },
    {
     "name": "stderr",
     "output_type": "stream",
     "text": [
      "Running MCTS:  15%|█▍        | 14/95 [00:09<00:45,  1.78it/s]"
     ]
    },
    {
     "name": "stdout",
     "output_type": "stream",
     "text": [
      "== New invocation:\n",
      "\n",
      "Life unfolds like a shifting dance,\n",
      "Changing forms with each fleeting glance,\n",
      "Moments of joy weave with threads of strife,\n",
      "In the tapestry of our fragile life.\n",
      "== Score: 6.0\n",
      "\n",
      "== New invocation:\n",
      "\n",
      "Life unfolds like a shifting dance,\n",
      "In pockets of chaos, we find our chance,\n",
      "We weave our stories with fleeting grace,\n",
      "In the shadows of time, our truths embrace.\n",
      "== Score: 6.0\n",
      "\n",
      "\n",
      "Continuing partial invocation:\n",
      "\n",
      "In silent spaces, thoughts take wing.\n",
      "Crumbling sidewalks where dreams still sing.\n",
      "Where hearts weave tapestries of love and pain.\n",
      "\n",
      "Continuing partial invocation:\n",
      "\n",
      "Life is a journey through fields of grace,\n",
      "Where laughter and tears often change their place,\n",
      "Each step we take is an unending chase,\n",
      "To find our own rhythm in time's vast embrace.\n",
      "== New invocation:\n",
      "\n",
      "Life unfolds like a shifting dance,\n",
      "Changing forms with each fleeting glance,\n",
      "Moments of joy weave with threads of strife,\n",
      "In the tapestry of our fragile life.\n",
      "== Score: 6.0\n",
      "\n",
      "\n",
      "Continuing partial invocation:\n",
      "\n",
      "Life is a journey through fields of grace,\n",
      "Where laughter and tears often change their place,\n",
      "Each step we take is an unending chase,\n",
      "To find our own rhythm in time's vast embrace.\n"
     ]
    },
    {
     "name": "stderr",
     "output_type": "stream",
     "text": [
      "Running MCTS:  17%|█▋        | 16/95 [00:09<00:30,  2.55it/s]"
     ]
    },
    {
     "name": "stdout",
     "output_type": "stream",
     "text": [
      "== New invocation:\n",
      "\n",
      "Life unfolds like a shifting dance,\n",
      "Changing forms with each fleeting glance,\n",
      "Moments of joy weave with threads of strife,\n",
      "In the tapestry of our fragile life.\n",
      "== Score: 7.0\n",
      "\n",
      "\n",
      "Continuing partial invocation:\n",
      "\n",
      "Life unfolds like a shifting dance,\n",
      "In pockets of chaos, we find our chance,\n",
      "We weave our stories with fleeting grace,\n",
      "In the shadows of time, our truths embrace.\n"
     ]
    },
    {
     "name": "stderr",
     "output_type": "stream",
     "text": [
      "Running MCTS:  18%|█▊        | 17/95 [00:10<00:49,  1.59it/s]"
     ]
    },
    {
     "name": "stdout",
     "output_type": "stream",
     "text": [
      "== New invocation:\n",
      "\n",
      "Life is a journey through fields of grace,\n",
      "Where laughter and tears often change their place,\n",
      "Each step we take is an unending chase,\n",
      "To find our own rhythm in time's vast embrace.\n",
      "== Score: 6.0\n",
      "\n",
      "\n",
      "Continuing partial invocation:\n",
      "\n",
      "Life is a journey through fields of grace,\n",
      "Where laughter and tears often change their place,\n",
      "Each step we take is an unending chase,\n",
      "To find our own rhythm in time's vast embrace.\n",
      "== New invocation:\n",
      "\n",
      "Life is a journey through fields of grace,\n",
      "Where laughter and tears often change their place,\n",
      "Each step we take is an unending chase,\n",
      "To find our own rhythm in time's vast embrace.\n",
      "== Score: 4.0\n",
      "\n",
      "\n",
      "Continuing partial invocation:\n",
      "\n",
      "Life unfolds like a shifting dance,\n",
      "In pockets of chaos, we find our chance,\n",
      "We weave our stories with fleeting grace,\n",
      "In the shadows of time, our truths embrace.\n"
     ]
    },
    {
     "name": "stderr",
     "output_type": "stream",
     "text": [
      "Running MCTS:  20%|██        | 19/95 [00:11<00:33,  2.26it/s]"
     ]
    },
    {
     "name": "stdout",
     "output_type": "stream",
     "text": [
      "== New invocation:\n",
      "\n",
      "Life unfolds like a shifting dance,\n",
      "In pockets of chaos, we find our chance,\n",
      "We weave our stories with fleeting grace,\n",
      "In the shadows of time, our truths embrace.\n",
      "== Score: 8.0\n",
      "\n",
      "\n",
      "Continuing partial invocation:\n",
      "\n",
      "Life unfolds like a shifting dance,\n",
      "In pockets of chaos, we find our chance,\n",
      "We weave our stories with fleeting grace,\n",
      "In the shadows of time, our truths embrace.\n",
      "== New invocation:\n",
      "\n",
      "In silent spaces, thoughts take wing.\n",
      "Crumbling sidewalks where dreams still sing.\n",
      "Where hearts weave tapestries of love and pain.\n",
      "In whispered stories, hope remains.\n",
      "== Score: 7.0\n",
      "\n"
     ]
    },
    {
     "name": "stderr",
     "output_type": "stream",
     "text": [
      "Running MCTS:  21%|██        | 20/95 [00:11<00:29,  2.56it/s]"
     ]
    },
    {
     "name": "stdout",
     "output_type": "stream",
     "text": [
      "\n",
      "Creating new root invocation\n"
     ]
    },
    {
     "name": "stderr",
     "output_type": "stream",
     "text": [
      "Running MCTS:  22%|██▏       | 21/95 [00:12<00:38,  1.90it/s]"
     ]
    },
    {
     "name": "stdout",
     "output_type": "stream",
     "text": [
      "== New invocation:\n",
      "\n",
      "Life unfolds like a shifting dance,\n",
      "In pockets of chaos, we find our chance,\n",
      "We weave our stories with fleeting grace,\n",
      "In the shadows of time, our truths embrace.\n",
      "== Score: 6.0\n",
      "\n",
      "\n",
      "Creating new root invocation\n"
     ]
    },
    {
     "name": "stderr",
     "output_type": "stream",
     "text": [
      "Running MCTS:  24%|██▍       | 23/95 [00:12<00:28,  2.49it/s]"
     ]
    },
    {
     "name": "stdout",
     "output_type": "stream",
     "text": [
      "== New invocation:\n",
      "\n",
      "Life unfolds like a shifting dance,\n",
      "In pockets of chaos, we find our chance,\n",
      "We weave our stories with fleeting grace,\n",
      "In the shadows of time, our truths embrace.\n",
      "== Score: 7.0\n",
      "\n",
      "\n",
      "Continuing partial invocation:\n",
      "\n",
      "Life unfolds like a shifting dance,\n",
      "In pockets of chaos, we find our chance,\n",
      "We weave our stories with fleeting grace,\n",
      "In the shadows of time, our truths embrace.\n",
      "== New invocation:\n",
      "\n",
      "Life is a journey through fields of grace,\n",
      "Where laughter and tears often change their place,\n",
      "Each step we take is an unending chase,\n",
      "To find our own rhythm in time's vast embrace.\n",
      "== Score: 5.0\n",
      "\n",
      "\n",
      "Creating new root invocation\n"
     ]
    },
    {
     "name": "stderr",
     "output_type": "stream",
     "text": [
      "Running MCTS:  25%|██▌       | 24/95 [00:14<00:52,  1.36it/s]"
     ]
    },
    {
     "name": "stdout",
     "output_type": "stream",
     "text": [
      "== New invocation:\n",
      "\n",
      "Life unfolds like a shifting dance,\n",
      "In pockets of chaos, we find our chance,\n",
      "We weave our stories with fleeting grace,\n",
      "In the shadows of time, our truths embrace.\n",
      "== Score: 5.0\n",
      "\n",
      "\n",
      "Continuing partial invocation:\n",
      "\n",
      "In silent spaces, thoughts take wing.\n",
      "Crumbling sidewalks where dreams still sing.\n",
      "Where hearts weave tapestries of love and pain.\n",
      "In whispered stories, hope remains.\n"
     ]
    },
    {
     "name": "stderr",
     "output_type": "stream",
     "text": [
      "Running MCTS:  26%|██▋       | 25/95 [00:16<01:12,  1.04s/it]"
     ]
    },
    {
     "name": "stdout",
     "output_type": "stream",
     "text": [
      "== New invocation:\n",
      "\n",
      "We strive for joy, we dance through pain,\n",
      "We search for meaning, again and again,\n",
      "Our hearts connect, yet oft in vain,\n",
      "Life's ebb and flow, a fragile chain.\n",
      "== Score: 4.0\n",
      "\n",
      "== New invocation:\n",
      "\n",
      "In silent spaces, thoughts take wing.\n",
      "Crumbling sidewalks where dreams still sing.\n",
      "Where hearts weave tapestries of love and pain.\n",
      "In whispered stories, hope remains.\n",
      "== Score: 6.0\n",
      "\n",
      "\n",
      "Continuing partial invocation:\n",
      "\n",
      "We strive for joy, we dance through pain,\n",
      "\n",
      "Continuing partial invocation:\n",
      "\n",
      "We strive for joy, we dance through pain,\n",
      "We search for meaning, again and again,\n"
     ]
    },
    {
     "name": "stderr",
     "output_type": "stream",
     "text": [
      "Running MCTS:  27%|██▋       | 26/95 [00:17<01:06,  1.04it/s]"
     ]
    },
    {
     "name": "stdout",
     "output_type": "stream",
     "text": [
      "== New invocation:\n",
      "\n",
      "We walk through days with dreams and doubt,\n",
      "We weave through time in search of route,\n",
      "Our hearts seek warmth amidst the cold,\n",
      "In this brief life, our tales unfold.\n",
      "== Score: 6.0\n",
      "\n",
      "\n",
      "Continuing partial invocation:\n",
      "\n",
      "We walk through days with dreams and doubt,\n",
      "We weave through time in search of route,\n",
      "Our hearts seek warmth amidst the cold,\n",
      "In this brief life, our tales unfold.\n"
     ]
    },
    {
     "name": "stderr",
     "output_type": "stream",
     "text": [
      "Running MCTS:  28%|██▊       | 27/95 [00:17<00:51,  1.32it/s]"
     ]
    },
    {
     "name": "stdout",
     "output_type": "stream",
     "text": [
      "== New invocation:\n",
      "\n",
      "Life's a dance in the pouring rain,\n",
      "Beauty and sorrow, joy and pain,\n",
      "We search for meaning, time's endless train,\n",
      "In fragile moments, we're all the same.\n",
      "== Score: 5.0\n",
      "\n",
      "\n",
      "Creating new root invocation\n"
     ]
    },
    {
     "name": "stderr",
     "output_type": "stream",
     "text": [
      "Running MCTS:  29%|██▉       | 28/95 [00:17<00:46,  1.45it/s]"
     ]
    },
    {
     "name": "stdout",
     "output_type": "stream",
     "text": [
      "== New invocation:\n",
      "\n",
      "In silent spaces, thoughts take wing.\n",
      "Crumbling sidewalks where dreams still sing.\n",
      "Rain-soaked shadows where hope takes root.\n",
      "Whispers of life, both tender and brute.\n",
      "== Score: 8.0\n",
      "\n",
      "\n",
      "Continuing partial invocation:\n",
      "\n",
      "We walk through days with dreams and doubt,\n",
      "We weave through time in search of route,\n",
      "Our hearts seek warmth amidst the cold,\n",
      "In this brief life, our tales unfold.\n"
     ]
    },
    {
     "name": "stderr",
     "output_type": "stream",
     "text": [
      "Running MCTS:  31%|███       | 29/95 [00:18<00:39,  1.67it/s]"
     ]
    },
    {
     "name": "stdout",
     "output_type": "stream",
     "text": [
      "\n",
      "Continuing partial invocation:\n",
      "\n",
      "We walk through days with dreams and doubt,\n",
      "We weave through time in search of route,\n",
      "Our hearts seek warmth amidst the cold,\n",
      "In this brief life, our tales unfold.\n"
     ]
    },
    {
     "name": "stderr",
     "output_type": "stream",
     "text": [
      "Running MCTS:  32%|███▏      | 30/95 [00:18<00:41,  1.58it/s]"
     ]
    },
    {
     "name": "stdout",
     "output_type": "stream",
     "text": [
      "== New invocation:\n",
      "\n",
      "We walk through days with dreams and doubt,\n",
      "We weave through time in search of route,\n",
      "Our hearts seek warmth amidst the cold,\n",
      "In this brief life, our tales unfold.\n",
      "== Score: 6.0\n",
      "\n",
      "\n",
      "Continuing partial invocation:\n",
      "\n",
      "Life's a dance in the pouring rain,\n",
      "Beauty and sorrow, joy and pain,\n",
      "We search for meaning, time's endless train,\n"
     ]
    },
    {
     "name": "stderr",
     "output_type": "stream",
     "text": [
      "Running MCTS:  34%|███▎      | 32/95 [00:19<00:29,  2.12it/s]"
     ]
    },
    {
     "name": "stdout",
     "output_type": "stream",
     "text": [
      "== New invocation:\n",
      "\n",
      "We strive for joy, we dance through pain,\n",
      "We search for meaning, again and again,\n",
      "Our hearts seek light through the shadow's reign,\n",
      "In each small moment, we live, we wane.\n",
      "== Score: 6.0\n",
      "\n",
      "\n",
      "Continuing partial invocation:\n",
      "\n",
      "We walk through days with dreams and doubt,\n",
      "We weave through time in search of route,\n",
      "Our hearts seek warmth amidst the cold,\n",
      "== New invocation:\n",
      "\n",
      "We walk through days with dreams and doubt,\n",
      "We weave through time in search of route,\n",
      "Our hearts seek warmth amidst the cold,\n",
      "In this brief life, our tales unfold.\n",
      "== Score: 6.0\n",
      "\n",
      "\n",
      "Creating new root invocation\n"
     ]
    },
    {
     "name": "stderr",
     "output_type": "stream",
     "text": [
      "Running MCTS:  35%|███▍      | 33/95 [00:20<00:28,  2.17it/s]"
     ]
    },
    {
     "name": "stdout",
     "output_type": "stream",
     "text": [
      "== New invocation:\n",
      "\n",
      "We walk through days with dreams and doubt,\n",
      "We weave through time in search of route,\n",
      "Our hearts seek warmth amidst the cold,\n",
      "In this brief life, our tales unfold.\n",
      "== Score: 5.0\n",
      "\n",
      "\n",
      "Continuing partial invocation:\n",
      "\n",
      "Life's a dance in the pouring rain,\n",
      "Beauty and sorrow, joy and pain,\n",
      "We search for meaning, time's endless train,\n",
      "In fragile moments, we're all the same.\n",
      "== New invocation:\n",
      "\n",
      "We strive for joy, we dance through pain,\n",
      "Through endless quests, we seek to gain,\n",
      "In hearts of hope, in skies of gray,\n",
      "We face the dawn, come what may.\n",
      "== Score: 6.0\n",
      "\n",
      "\n",
      "Continuing partial invocation:\n",
      "\n",
      "Life's a dance in the pouring rain,\n"
     ]
    },
    {
     "name": "stderr",
     "output_type": "stream",
     "text": [
      "Running MCTS:  38%|███▊      | 36/95 [00:21<00:29,  1.99it/s]"
     ]
    },
    {
     "name": "stdout",
     "output_type": "stream",
     "text": [
      "== New invocation:\n",
      "\n",
      "We walk through days with dreams and doubt,\n",
      "We weave through time in search of route,\n",
      "Our hearts seek warmth amidst the cold,\n",
      "With stories whispered, yet untold.\n",
      "== Score: 4.0\n",
      "\n",
      "\n",
      "Continuing partial invocation:\n",
      "\n",
      "Life's a dance in the pouring rain,\n",
      "== New invocation:\n",
      "\n",
      "Life's a dance in the pouring rain,\n",
      "Beauty and sorrow, joy and pain,\n",
      "We search for meaning, time's endless train,\n",
      "In heartbeats fleeting, we hope, we feign.\n",
      "== Score: 4.0\n",
      "\n",
      "\n",
      "Continuing partial invocation:\n",
      "\n",
      "We walk through days with dreams and doubt,\n",
      "We weave through time in search of route,\n",
      "Our hearts seek warmth amidst the cold,\n",
      "With stories whispered, yet untold.\n"
     ]
    },
    {
     "name": "stderr",
     "output_type": "stream",
     "text": [
      "Running MCTS:  39%|███▉      | 37/95 [00:22<00:24,  2.38it/s]"
     ]
    },
    {
     "name": "stdout",
     "output_type": "stream",
     "text": [
      "== New invocation:\n",
      "\n",
      "Life's a dance in the pouring rain,\n",
      "Beauty and sorrow, joy and pain,\n",
      "We search for meaning, time's endless train,\n",
      "In fragile moments, we're all the same.\n",
      "== Score: 5.0\n",
      "\n",
      "\n",
      "Continuing partial invocation:\n",
      "\n",
      "We strive for joy, we dance through pain,\n"
     ]
    },
    {
     "name": "stderr",
     "output_type": "stream",
     "text": [
      "Running MCTS:  40%|████      | 38/95 [00:23<00:44,  1.28it/s]"
     ]
    },
    {
     "name": "stdout",
     "output_type": "stream",
     "text": [
      "== New invocation:\n",
      "\n",
      "We walk through days with dreams and doubt,\n",
      "We weave through time in search of route,\n",
      "Our hearts seek warmth amidst the cold,\n",
      "With stories whispered, yet untold.\n",
      "== Score: 5.0\n",
      "\n",
      "\n",
      "Continuing partial invocation:\n",
      "\n",
      "We strive for joy, we dance through pain,\n",
      "Through endless quests, we seek to gain,\n",
      "In hearts of hope, in skies of gray,\n",
      "We face the dawn, come what may.\n"
     ]
    },
    {
     "name": "stderr",
     "output_type": "stream",
     "text": [
      "Running MCTS:  41%|████      | 39/95 [00:24<00:39,  1.43it/s]"
     ]
    },
    {
     "name": "stdout",
     "output_type": "stream",
     "text": [
      "== New invocation:\n",
      "\n",
      "Life's a dance in the pouring rain,\n",
      "Joy and sorrow, we meet them again,\n",
      "Moments fleeting, like a silent train,\n",
      "We seek the sun, but embrace the pain.\n",
      "== Score: 5.0\n",
      "\n",
      "\n",
      "Continuing partial invocation:\n",
      "\n",
      "We strive for joy, we dance through pain,\n",
      "Through endless quests, we seek to gain,\n",
      "== New invocation:\n",
      "\n",
      "We strive for joy amidst the pain,\n",
      "We stumble through the wind and rain,\n",
      "But hope's small flame will still remain,\n",
      "In tangled webs of fear and gain.\n",
      "== Score: 4.0\n",
      "\n",
      "\n",
      "Continuing partial invocation:\n",
      "\n",
      "We strive for joy amidst the pain,\n",
      "We stumble through the wind and rain,\n",
      "But hope's small flame will still remain,\n",
      "In tangled webs of fear and gain.\n"
     ]
    },
    {
     "name": "stderr",
     "output_type": "stream",
     "text": [
      "Running MCTS:  44%|████▍     | 42/95 [00:25<00:30,  1.75it/s]"
     ]
    },
    {
     "name": "stdout",
     "output_type": "stream",
     "text": [
      "== New invocation:\n",
      "\n",
      "We strive for joy, we dance through pain,\n",
      "Through endless quests, we seek to gain,\n",
      "In hearts of hope, in skies of gray,\n",
      "We face the dawn, come what may.\n",
      "== Score: 6.0\n",
      "\n",
      "\n",
      "Continuing partial invocation:\n",
      "\n",
      "We strive for joy amidst the pain,\n",
      "We stumble through the wind and rain,\n",
      "But hope's small flame will still remain,\n",
      "In tangled webs of fear and gain.\n",
      "== New invocation:\n",
      "\n",
      "Life's a dance in the pouring rain,\n",
      "We laugh and love through joy and pain,\n",
      "Our hearts move forward, then back again,\n",
      "Each step a story, woven from chain.\n",
      "== Score: 4.0\n",
      "\n",
      "\n",
      "Continuing partial invocation:\n",
      "\n",
      "We strive for joy amidst the pain,\n",
      "We stumble through the wind and rain,\n",
      "But hope's small flame will still remain,\n"
     ]
    },
    {
     "name": "stderr",
     "output_type": "stream",
     "text": [
      "Running MCTS:  45%|████▌     | 43/95 [00:26<00:25,  2.01it/s]"
     ]
    },
    {
     "name": "stdout",
     "output_type": "stream",
     "text": [
      "== New invocation:\n",
      "\n",
      "We strive for joy amidst the pain,\n",
      "We stumble through the wind and rain,\n",
      "But hope's small flame will still remain,\n",
      "In tangled webs of fear and gain.\n",
      "== Score: 6.0\n",
      "\n",
      "\n",
      "Creating new root invocation\n"
     ]
    },
    {
     "name": "stderr",
     "output_type": "stream",
     "text": [
      "Running MCTS:  46%|████▋     | 44/95 [00:27<00:36,  1.41it/s]"
     ]
    },
    {
     "name": "stdout",
     "output_type": "stream",
     "text": [
      "== New invocation:\n",
      "\n",
      "We strive for joy, we dance through pain,\n",
      "In endless cycles we seek and gain,\n",
      "Through fleeting moments, our truths we feign,\n",
      "Till days whisper secrets we can't explain.\n",
      "== Score: 6.5\n",
      "\n",
      "\n",
      "Creating new root invocation\n"
     ]
    },
    {
     "name": "stderr",
     "output_type": "stream",
     "text": [
      "Running MCTS:  47%|████▋     | 45/95 [00:27<00:31,  1.59it/s]"
     ]
    },
    {
     "name": "stdout",
     "output_type": "stream",
     "text": [
      "== New invocation:\n",
      "\n",
      "We strive for joy, we dance through pain,\n",
      "Through endless quests, we seek to gain,\n",
      "With open hearts, we break the chain,\n",
      "In fleeting time, we find our lane.\n",
      "== Score: 6.0\n",
      "\n",
      "\n",
      "Creating new root invocation\n"
     ]
    },
    {
     "name": "stderr",
     "output_type": "stream",
     "text": [
      "Running MCTS:  48%|████▊     | 46/95 [00:28<00:26,  1.82it/s]"
     ]
    },
    {
     "name": "stdout",
     "output_type": "stream",
     "text": [
      "== New invocation:\n",
      "\n",
      "We strive for joy amidst the pain,\n",
      "We stumble through the wind and rain,\n",
      "But hope's small flame will still remain,\n",
      "In hearts that love, we find our gain.\n",
      "== Score: 6.0\n",
      "\n",
      "\n",
      "Continuing partial invocation:\n",
      "\n",
      "In silent spaces, thoughts take wing.\n"
     ]
    },
    {
     "name": "stderr",
     "output_type": "stream",
     "text": [
      "Running MCTS:  49%|████▉     | 47/95 [00:29<00:36,  1.32it/s]"
     ]
    },
    {
     "name": "stdout",
     "output_type": "stream",
     "text": [
      "== New invocation:\n",
      "\n",
      "We strive for joy amidst the pain,\n",
      "We stumble through the wind and rain,\n",
      "But hope's small flame will still remain,\n",
      "In tangled webs of fear and gain.\n",
      "== Score: 4.0\n",
      "\n",
      "\n",
      "Continuing partial invocation:\n",
      "\n",
      "We strive for joy, we dance through pain,\n",
      "In endless cycles we seek and gain,\n",
      "Through fleeting moments, our truths we feign,\n",
      "Till days whisper secrets we can't explain.\n"
     ]
    },
    {
     "name": "stderr",
     "output_type": "stream",
     "text": [
      "Running MCTS:  51%|█████     | 48/95 [00:30<00:41,  1.12it/s]"
     ]
    },
    {
     "name": "stdout",
     "output_type": "stream",
     "text": [
      "== New invocation:\n",
      "\n",
      "We laugh and cry through each moment's play,\n",
      "As night turns to dawn, we find our way,\n",
      "Through fields of dreams, we gently sway,\n",
      "In the dance of life, we spin and stay.\n",
      "== Score: 5.0\n",
      "\n",
      "\n",
      "Continuing partial invocation:\n",
      "\n",
      "We laugh and cry through each moment's play,\n",
      "As night turns to dawn, we find our way,\n",
      "Through fields of dreams, we gently sway,\n",
      "In the dance of life, we spin and stay.\n"
     ]
    },
    {
     "name": "stderr",
     "output_type": "stream",
     "text": [
      "Running MCTS:  52%|█████▏    | 49/95 [00:31<00:37,  1.22it/s]"
     ]
    },
    {
     "name": "stdout",
     "output_type": "stream",
     "text": [
      "== New invocation:\n",
      "\n",
      "We strive for joy, we dance through pain,\n",
      "In endless cycles we seek and gain,\n",
      "Through fleeting moments, our truths we feign,\n",
      "Till days whisper secrets we can't explain.\n",
      "== Score: 5.0\n",
      "\n",
      "\n",
      "Continuing partial invocation:\n",
      "\n",
      "We laugh and cry through each moment's play,\n",
      "== New invocation:\n",
      "\n",
      "Hearts weigh heavy with silent fears,\n",
      "Dreams flicker dimly through the years,\n",
      "Hope clings softly, smiles through tears,\n",
      "We find warmth in others' cheers.\n",
      "== Score: 7.0\n",
      "\n",
      "\n",
      "Continuing partial invocation:\n",
      "\n",
      "Hearts weigh heavy with silent fears,\n",
      "Dreams flicker dimly through the years,\n",
      "Hope clings softly, smiles through tears,\n",
      "We find warmth in others' cheers.\n"
     ]
    },
    {
     "name": "stderr",
     "output_type": "stream",
     "text": [
      "Running MCTS:  54%|█████▎    | 51/95 [00:32<00:27,  1.61it/s]"
     ]
    },
    {
     "name": "stdout",
     "output_type": "stream",
     "text": [
      "== New invocation:\n",
      "\n",
      "In silent spaces, thoughts take wing.\n",
      "In fragile hearts, emotions sing.\n",
      "Questions linger, seeking truth.\n",
      "In moments fleeting, lies our youth.\n",
      "== Score: 8.0\n",
      "\n",
      "\n",
      "Continuing partial invocation:\n",
      "\n",
      "Hearts weigh heavy with silent fears,\n",
      "Dreams flicker dimly through the years,\n",
      "Hope clings softly, smiles through tears,\n"
     ]
    },
    {
     "name": "stderr",
     "output_type": "stream",
     "text": [
      "Running MCTS:  55%|█████▍    | 52/95 [00:32<00:26,  1.61it/s]"
     ]
    },
    {
     "name": "stdout",
     "output_type": "stream",
     "text": [
      "== New invocation:\n",
      "\n",
      "We laugh and cry through each moment's play,\n",
      "As night turns to dawn, we find our way,\n",
      "Through fields of dreams, we gently sway,\n",
      "In the dance of life, we spin and stay.\n",
      "== Score: 6.0\n",
      "\n",
      "\n",
      "Creating new root invocation\n"
     ]
    },
    {
     "name": "stderr",
     "output_type": "stream",
     "text": [
      "Running MCTS:  57%|█████▋    | 54/95 [00:33<00:18,  2.21it/s]"
     ]
    },
    {
     "name": "stdout",
     "output_type": "stream",
     "text": [
      "== New invocation:\n",
      "\n",
      "Life dances in circles under the sun,\n",
      "Time's thread unravels, and new weaves begun,\n",
      "Dreams whisper secrets when daylight is done,\n",
      "Yet hearts yearn for solace where none can be spun.\n",
      "== Score: 6.5\n",
      "\n",
      "\n",
      "Continuing partial invocation:\n",
      "\n",
      "Hearts weigh heavy with silent fears,\n",
      "Dreams flicker dimly through the years,\n",
      "Hope clings softly, smiles through tears,\n",
      "We find warmth in others' cheers.\n",
      "== New invocation:\n",
      "\n",
      "Hearts weigh heavy with silent fears,\n",
      "Dreams flicker dimly through the years,\n",
      "Hope clings softly, smiles through tears,\n",
      "We find warmth in others' cheers.\n",
      "== Score: 5.0\n",
      "\n",
      "\n",
      "Continuing partial invocation:\n",
      "\n",
      "Life dances in circles under the sun,\n",
      "Time's thread unravels, and new weaves begun,\n",
      "Dreams whisper secrets when daylight is done,\n",
      "Yet hearts yearn for solace where none can be spun.\n"
     ]
    },
    {
     "name": "stderr",
     "output_type": "stream",
     "text": [
      "Running MCTS:  58%|█████▊    | 55/95 [00:34<00:29,  1.36it/s]"
     ]
    },
    {
     "name": "stdout",
     "output_type": "stream",
     "text": [
      "== New invocation:\n",
      "\n",
      "Hearts weigh heavy with silent fears,\n",
      "Dreams flicker dimly through the years,\n",
      "Hope clings softly, smiles through tears,\n",
      "While time whispers all it hears.\n",
      "== Score: 6.0\n",
      "\n",
      "\n",
      "Creating new root invocation\n"
     ]
    },
    {
     "name": "stderr",
     "output_type": "stream",
     "text": [
      "Running MCTS:  59%|█████▉    | 56/95 [00:34<00:23,  1.68it/s]"
     ]
    },
    {
     "name": "stdout",
     "output_type": "stream",
     "text": [
      "== New invocation:\n",
      "\n",
      "Hearts weigh heavy with silent fears,\n",
      "Dreams flicker dimly through the years,\n",
      "Hope clings softly, smiles through tears,\n",
      "We find warmth in others' cheers.\n",
      "== Score: 6.0\n",
      "\n",
      "\n",
      "Continuing partial invocation:\n",
      "\n",
      "Life dances in circles under the sun,\n"
     ]
    },
    {
     "name": "stderr",
     "output_type": "stream",
     "text": [
      "Running MCTS:  60%|██████    | 57/95 [00:35<00:23,  1.60it/s]"
     ]
    },
    {
     "name": "stdout",
     "output_type": "stream",
     "text": [
      "== New invocation:\n",
      "\n",
      "Life dances in circles under the sun,\n",
      "Time's thread unravels, and new weaves begun,\n",
      "Dreams whisper secrets when daylight is done,\n",
      "Yet hearts yearn for solace where none can be spun.\n",
      "== Score: 4.0\n",
      "\n",
      "\n",
      "Continuing partial invocation:\n",
      "\n",
      "We laugh and cry through each moment's play,\n"
     ]
    },
    {
     "name": "stderr",
     "output_type": "stream",
     "text": [
      "Running MCTS:  61%|██████    | 58/95 [00:37<00:37,  1.01s/it]"
     ]
    },
    {
     "name": "stdout",
     "output_type": "stream",
     "text": [
      "== New invocation:\n",
      "\n",
      "We laugh and cry through each moment's play,\n",
      "The sun will set, yet rise again each day,\n",
      "Our dreams whisper secrets that guide our way,\n",
      "Our hearts seek warmth like birds in soft array.\n",
      "== Score: 6.0\n",
      "\n",
      "\n",
      "Continuing partial invocation:\n",
      "\n",
      "Life dances in circles under the sun,\n",
      "Time's thread unravels, and new weaves begun,\n",
      "Dreams whisper secrets when daylight is done,\n",
      "Yet hearts yearn for solace where none can be spun.\n"
     ]
    },
    {
     "name": "stderr",
     "output_type": "stream",
     "text": [
      "Running MCTS:  62%|██████▏   | 59/95 [00:38<00:32,  1.10it/s]"
     ]
    },
    {
     "name": "stdout",
     "output_type": "stream",
     "text": [
      "== New invocation:\n",
      "\n",
      "A laugh, a tear, a fleeting chance to grow,\n",
      "A shadowed path where light and darkness flow,\n",
      "Each heartbeat whispers secrets we don't know,\n",
      "In fragile hands, we shape what seeds we sow.\n",
      "== Score: 5.0\n",
      "\n",
      "\n",
      "Continuing partial invocation:\n",
      "\n",
      "A laugh, a tear, a fleeting chance to grow,\n",
      "A shadowed path where light and darkness flow,\n",
      "Each heartbeat whispers secrets we don't know,\n",
      "In fragile hands, we shape what seeds we sow.\n"
     ]
    },
    {
     "name": "stderr",
     "output_type": "stream",
     "text": [
      "Running MCTS:  63%|██████▎   | 60/95 [00:38<00:27,  1.26it/s]"
     ]
    },
    {
     "name": "stdout",
     "output_type": "stream",
     "text": [
      "== New invocation:\n",
      "\n",
      "Life dances in circles under the sun,\n",
      "Fragile hearts beat as hopes are spun,\n",
      "Dreams whisper secrets to everyone.\n",
      "Yet shadows remind us of battles not won.\n",
      "== Score: 4.0\n",
      "\n",
      "\n",
      "Continuing partial invocation:\n",
      "\n",
      "A laugh, a tear, a fleeting chance to grow,\n",
      "A shadowed path where light and darkness flow,\n",
      "Each heartbeat whispers secrets we don't know,\n",
      "In fragile hands, we shape what seeds we sow.\n"
     ]
    },
    {
     "name": "stderr",
     "output_type": "stream",
     "text": [
      "Running MCTS:  64%|██████▍   | 61/95 [00:39<00:27,  1.23it/s]"
     ]
    },
    {
     "name": "stdout",
     "output_type": "stream",
     "text": [
      "== New invocation:\n",
      "\n",
      "Life dances in circles under the sun,\n",
      "Time's thread unravels, and new weaves begun,\n",
      "Dreams whisper secrets when daylight is done,\n",
      "Yet hearts yearn for solace where none can be spun.\n",
      "== Score: 6.0\n",
      "\n",
      "\n",
      "Creating new root invocation\n",
      "== New invocation:\n",
      "\n",
      "Where shadows meet the shining sun,\n",
      "Life’s battles are both lost and won,\n",
      "Each soul must find its way to cope,\n",
      "In endless dance with fear and hope.\n",
      "== Score: 6.0\n",
      "\n",
      "\n",
      "Continuing partial invocation:\n",
      "\n",
      "Where shadows meet the shining sun,\n",
      "Life’s battles are both lost and won,\n",
      "Each soul must find its way to cope,\n"
     ]
    },
    {
     "name": "stderr",
     "output_type": "stream",
     "text": [
      "Running MCTS:  66%|██████▋   | 63/95 [00:40<00:20,  1.58it/s]"
     ]
    },
    {
     "name": "stdout",
     "output_type": "stream",
     "text": [
      "== New invocation:\n",
      "\n",
      "A laugh, a tear, a fleeting chance to grow,\n",
      "A shadowed path where light and darkness flow,\n",
      "Each heartbeat whispers secrets we don't know,\n",
      "In fragile hands, we shape what seeds we sow.\n",
      "== Score: 6.0\n",
      "\n",
      "\n",
      "Continuing partial invocation:\n",
      "\n",
      "Where shadows meet the shining sun,\n",
      "Life’s battles are both lost and won,\n",
      "Each soul must find its way to cope,\n",
      "In endless dance with fear and hope.\n",
      "== New invocation:\n",
      "\n",
      "We laugh and cry through each moment's play,\n",
      "We seek and search in life's grand ballet,\n",
      "The sun will rise, our path to stay.\n",
      "In time we learn, we dance our way.\n",
      "== Score: 3.0\n",
      "\n",
      "\n",
      "Continuing partial invocation:\n",
      "\n",
      "Where shadows meet the shining sun,\n",
      "Life’s battles are both lost and won,\n",
      "Each soul must find its way to cope,\n",
      "In endless dance with fear and hope.\n"
     ]
    },
    {
     "name": "stderr",
     "output_type": "stream",
     "text": [
      "Running MCTS:  69%|██████▉   | 66/95 [00:40<00:10,  2.73it/s]"
     ]
    },
    {
     "name": "stdout",
     "output_type": "stream",
     "text": [
      "== New invocation:\n",
      "\n",
      "A laugh, a tear, a fleeting chance to grow,\n",
      "A shadowed path where light and darkness flow,\n",
      "Each heartbeat whispers secrets we don't know,\n",
      "In fragile hands, we shape what seeds we sow.\n",
      "== Score: 6.0\n",
      "\n",
      "\n",
      "Creating new root invocation\n",
      "\n",
      "Creating new root invocation\n"
     ]
    },
    {
     "name": "stderr",
     "output_type": "stream",
     "text": [
      "Running MCTS:  72%|███████▏  | 68/95 [00:42<00:13,  1.93it/s]"
     ]
    },
    {
     "name": "stdout",
     "output_type": "stream",
     "text": [
      "== New invocation:\n",
      "\n",
      "Where shadows meet the shining sun,\n",
      "Life’s battles are both lost and won,\n",
      "Each soul must find its way to cope,\n",
      "In endless dance with fear and hope.\n",
      "== Score: 7.0\n",
      "\n",
      "\n",
      "Continuing partial invocation:\n",
      "\n",
      "Where shadows meet the shining sun,\n",
      "== New invocation:\n",
      "\n",
      "Where shadows meet the shining sun,\n",
      "Life’s battles are both lost and won,\n",
      "Each soul must find its way to cope,\n",
      "In endless dance with fear and hope.\n",
      "== Score: 6.0\n",
      "\n",
      "\n",
      "Continuing partial invocation:\n",
      "\n",
      "Where shadows meet the shining sun,\n",
      "Life’s battles are both lost and won,\n",
      "Each soul must find its way to cope,\n",
      "In endless dance with fear and hope.\n"
     ]
    },
    {
     "name": "stderr",
     "output_type": "stream",
     "text": [
      "Running MCTS:  73%|███████▎  | 69/95 [00:43<00:15,  1.67it/s]"
     ]
    },
    {
     "name": "stdout",
     "output_type": "stream",
     "text": [
      "== New invocation:\n",
      "\n",
      "Where shadows meet the shining sun,\n",
      "Life’s battles are both lost and won,\n",
      "Each soul must find its way to cope,\n",
      "In whispered dreams, we cling to hope.\n",
      "== Score: 6.0\n",
      "\n",
      "\n",
      "Continuing partial invocation:\n",
      "\n",
      "A laugh, a tear, a fleeting chance to grow,\n",
      "A shadowed path where light and darkness flow,\n",
      "Each heartbeat whispers secrets we don't know,\n",
      "In fragile hands, we shape what seeds we sow.\n"
     ]
    },
    {
     "name": "stderr",
     "output_type": "stream",
     "text": [
      "Running MCTS:  74%|███████▎  | 70/95 [00:45<00:22,  1.10it/s]"
     ]
    },
    {
     "name": "stdout",
     "output_type": "stream",
     "text": [
      "== New invocation:\n",
      "\n",
      "A laugh, a tear, a fleeting chance to grow,\n",
      "A shadowed path where light and darkness flow,\n",
      "Each heartbeat whispers secrets we don't know,\n",
      "In fragile hands, we shape what seeds we sow.\n",
      "== Score: 8.0\n",
      "\n",
      "== New invocation:\n",
      "\n",
      "Where shadows meet the shining sun,\n",
      "Life’s battles are both lost and won,\n",
      "Each soul must find its way to cope,\n",
      "In endless dance with fear and hope.\n",
      "== Score: 6.0\n",
      "\n",
      "\n",
      "Continuing partial invocation:\n",
      "\n",
      "A laugh, a tear, a fleeting chance to grow,\n",
      "A shadowed path where light and darkness flow,\n",
      "\n",
      "Continuing partial invocation:\n",
      "\n",
      "Hearts weigh heavy with silent fears,\n",
      "Dreams flicker dimly through the years,\n",
      "Hope clings softly, smiles through tears,\n",
      "While time whispers all it hears.\n"
     ]
    },
    {
     "name": "stderr",
     "output_type": "stream",
     "text": [
      "Running MCTS:  75%|███████▍  | 71/95 [00:45<00:17,  1.34it/s]"
     ]
    },
    {
     "name": "stdout",
     "output_type": "stream",
     "text": [
      "== New invocation:\n",
      "\n",
      "Life's tangled web we all embroider,\n",
      "Intertwined with joys and disorder,\n",
      "Threads of hope and fear we barter,\n",
      "Within the loom of time, we alter.\n",
      "== Score: 6.0\n",
      "\n",
      "\n",
      "Creating new root invocation\n",
      "== New invocation:\n",
      "\n",
      "We're all tangled in time's embrace,\n",
      "Trying to find meaning in life's endless race,\n",
      "Our hearts grasp for hope in each fleeting trace,\n",
      "As we weave through the shadows of our shared space.\n",
      "== Score: 4.0\n",
      "\n",
      "\n",
      "Continuing partial invocation:\n",
      "\n",
      "Life's tangled web we all embroider,\n",
      "Intertwined with joys and disorder,\n",
      "Threads of hope and fear we barter,\n",
      "Within the loom of time, we alter.\n"
     ]
    },
    {
     "name": "stderr",
     "output_type": "stream",
     "text": [
      "Running MCTS:  78%|███████▊  | 74/95 [00:46<00:12,  1.68it/s]"
     ]
    },
    {
     "name": "stdout",
     "output_type": "stream",
     "text": [
      "== New invocation:\n",
      "\n",
      "Hearts weigh heavy with silent fears,\n",
      "Dreams flicker dimly through the years,\n",
      "Hope clings softly, smiles through tears,\n",
      "While time whispers all it hears.\n",
      "== Score: 6.0\n",
      "\n",
      "\n",
      "Continuing partial invocation:\n",
      "\n",
      "Life's tangled web we all embroider,\n",
      "== New invocation:\n",
      "\n",
      "Life's tangled web we all embroider,\n",
      "Intertwined with joys and disorder,\n",
      "Threads of hope and fear we barter,\n",
      "Within the loom of time, we alter.\n",
      "== Score: 6.5\n",
      "\n",
      "\n",
      "Continuing partial invocation:\n",
      "\n",
      "Life's tangled web we all embroider,\n",
      "Intertwined with joys and disorder,\n",
      "Threads of hope and fear we barter,\n",
      "Within the loom of time, we alter.\n"
     ]
    },
    {
     "name": "stderr",
     "output_type": "stream",
     "text": [
      "Running MCTS:  79%|███████▉  | 75/95 [00:47<00:11,  1.80it/s]"
     ]
    },
    {
     "name": "stdout",
     "output_type": "stream",
     "text": [
      "== New invocation:\n",
      "\n",
      "Where shadows meet the shining sun,\n",
      "The dance of joy and sorrow's run,\n",
      "Life's fragile thread, yet strongly spun,\n",
      "In heartbeats shared, our stories won.\n",
      "== Score: 5.0\n",
      "\n",
      "\n",
      "Continuing partial invocation:\n",
      "\n",
      "Life's tangled web we all embroider,\n",
      "Intertwined with joys and disorder,\n",
      "Threads of hope and fear we barter,\n",
      "Within the loom of time, we alter.\n",
      "== New invocation:\n",
      "\n",
      "A laugh, a tear, a fleeting chance to grow,\n",
      "A shadowed path where light and darkness flow,\n",
      "In shared embrace, we find what makes us whole,\n",
      "Together weaving tapestries of soul.\n",
      "== Score: 7.0\n",
      "\n",
      "\n",
      "Continuing partial invocation:\n",
      "\n",
      "Life's tangled web we all embroider,\n",
      "Intertwined with joys and disorder,\n",
      "Threads of hope and fear we barter,\n",
      "Within the loom of time, we alter.\n"
     ]
    },
    {
     "name": "stderr",
     "output_type": "stream",
     "text": [
      "Running MCTS:  81%|████████  | 77/95 [00:48<00:10,  1.65it/s]"
     ]
    },
    {
     "name": "stdout",
     "output_type": "stream",
     "text": [
      "== New invocation:\n",
      "\n",
      "Life's tangled web we all embroider,\n",
      "Intertwined with joys and disorder,\n",
      "Threads of hope and fear we barter,\n",
      "Within the loom of time, we alter.\n",
      "== Score: 6.0\n",
      "\n",
      "\n",
      "Creating new root invocation\n"
     ]
    },
    {
     "name": "stderr",
     "output_type": "stream",
     "text": [
      "Running MCTS:  82%|████████▏ | 78/95 [00:49<00:10,  1.68it/s]"
     ]
    },
    {
     "name": "stdout",
     "output_type": "stream",
     "text": [
      "== New invocation:\n",
      "\n",
      "Life's tangled web we all embroider,\n",
      "Intertwined with joys and disorder,\n",
      "Threads of hope and fear we barter,\n",
      "Within the loom of time, we alter.\n",
      "== Score: 6.0\n",
      "\n",
      "\n",
      "Continuing partial invocation:\n",
      "\n",
      "We're all tangled in time's embrace,\n"
     ]
    },
    {
     "name": "stderr",
     "output_type": "stream",
     "text": [
      "Running MCTS:  84%|████████▍ | 80/95 [00:49<00:06,  2.41it/s]"
     ]
    },
    {
     "name": "stdout",
     "output_type": "stream",
     "text": [
      "== New invocation:\n",
      "\n",
      "People strive and people fall,\n",
      "Some find peace, some face the wall,\n",
      "Some pursue dreams, others stall,\n",
      "But all stand equal where shadows fall.\n",
      "== Score: 6.0\n",
      "\n",
      "\n",
      "Continuing partial invocation:\n",
      "\n",
      "People strive and people fall,\n",
      "== New invocation:\n",
      "\n",
      "Life's tangled web we all embroider,\n",
      "Intertwined with joys and disorder,\n",
      "Threads of hope and fear we barter,\n",
      "Within the loom of time, we alter.\n",
      "== Score: 6.0\n",
      "\n",
      "\n",
      "Continuing partial invocation:\n",
      "\n",
      "People strive and people fall,\n",
      "Some find peace, some face the wall,\n",
      "Some pursue dreams, others stall,\n",
      "But all stand equal where shadows fall.\n"
     ]
    },
    {
     "name": "stderr",
     "output_type": "stream",
     "text": [
      "Running MCTS:  85%|████████▌ | 81/95 [00:50<00:08,  1.62it/s]"
     ]
    },
    {
     "name": "stdout",
     "output_type": "stream",
     "text": [
      "== New invocation:\n",
      "\n",
      "Life's tangled web we all embroider,\n",
      "Threads of hope and threads of disorder,\n",
      "Through joy and pain, we learn to abide,\n",
      "In dreams and deeds, humanity resides.\n",
      "== Score: 6.0\n",
      "\n",
      "\n",
      "Continuing partial invocation:\n",
      "\n",
      "People strive and people fall,\n",
      "Some find peace, some face the wall,\n"
     ]
    },
    {
     "name": "stderr",
     "output_type": "stream",
     "text": [
      "Running MCTS:  86%|████████▋ | 82/95 [00:51<00:09,  1.34it/s]"
     ]
    },
    {
     "name": "stdout",
     "output_type": "stream",
     "text": [
      "== New invocation:\n",
      "\n",
      "People strive and people fall,\n",
      "Some find peace, some face the wall,\n",
      "Some pursue dreams, others stall,\n",
      "But all stand equal where shadows fall.\n",
      "== Score: 5.0\n",
      "\n",
      "\n",
      "Continuing partial invocation:\n",
      "\n",
      "We're all tangled in time's embrace,\n"
     ]
    },
    {
     "name": "stderr",
     "output_type": "stream",
     "text": [
      "Running MCTS:  87%|████████▋ | 83/95 [00:53<00:10,  1.15it/s]"
     ]
    },
    {
     "name": "stdout",
     "output_type": "stream",
     "text": [
      "== New invocation:\n",
      "\n",
      "People strive and people fall,\n",
      "Through laughter's rise and sorrow's call,\n",
      "Each soul seeks meaning in it all,\n",
      "As time's short whispers gently call.\n",
      "== Score: 6.0\n",
      "\n",
      "\n",
      "Continuing partial invocation:\n",
      "\n",
      "Life's tangled web we all embroider,\n",
      "Threads of hope and threads of disorder,\n",
      "Through joy and pain, we learn to abide,\n",
      "In dreams and deeds, humanity resides.\n"
     ]
    },
    {
     "name": "stderr",
     "output_type": "stream",
     "text": [
      "Running MCTS:  88%|████████▊ | 84/95 [00:53<00:08,  1.37it/s]"
     ]
    },
    {
     "name": "stdout",
     "output_type": "stream",
     "text": [
      "== New invocation:\n",
      "\n",
      "The sun shines bright on joys and fears,\n",
      "Shadows dance as hopes draw near.\n",
      "Beneath the stars, we laugh and cry,\n",
      "Holding dreams against the sky.\n",
      "== Score: 6.0\n",
      "\n",
      "\n",
      "Continuing partial invocation:\n",
      "\n",
      "The sun shines bright on joys and fears,\n"
     ]
    },
    {
     "name": "stderr",
     "output_type": "stream",
     "text": [
      "Running MCTS:  91%|█████████ | 86/95 [00:54<00:04,  1.96it/s]"
     ]
    },
    {
     "name": "stdout",
     "output_type": "stream",
     "text": [
      "== New invocation:\n",
      "\n",
      "We're all tangled in time's embrace,\n",
      "Searching for meaning in life's long race,\n",
      "Every heartbeats a whisper, a fleeting trace,\n",
      "In the tapestry of life, we find our place.\n",
      "== Score: 5.0\n",
      "\n",
      "\n",
      "Continuing partial invocation:\n",
      "\n",
      "The sun shines bright on joys and fears,\n",
      "== New invocation:\n",
      "\n",
      "People strive and people fall,\n",
      "Some find peace, some face the wall,\n",
      "Some laugh and dance, while others crawl,\n",
      "The path is wide, yet seams so small.\n",
      "== Score: 5.0\n",
      "\n",
      "\n",
      "Continuing partial invocation:\n",
      "\n",
      "The sun shines bright on joys and fears,\n",
      "Shadows dance as hopes draw near.\n"
     ]
    },
    {
     "name": "stderr",
     "output_type": "stream",
     "text": [
      "Running MCTS:  92%|█████████▏| 87/95 [00:55<00:05,  1.45it/s]"
     ]
    },
    {
     "name": "stdout",
     "output_type": "stream",
     "text": [
      "== New invocation:\n",
      "\n",
      "Life's tangled web we all embroider,\n",
      "Threads of hope and threads of disorder,\n",
      "Through joy and pain, we learn to abide,\n",
      "In dreams and deeds, humanity resides.\n",
      "== Score: 6.0\n",
      "\n",
      "\n",
      "Continuing partial invocation:\n",
      "\n",
      "The sun shines bright on joys and fears,\n",
      "Shadows dance as hopes draw near.\n",
      "Beneath the stars, we laugh and cry,\n",
      "Holding dreams against the sky.\n"
     ]
    },
    {
     "name": "stderr",
     "output_type": "stream",
     "text": [
      "Running MCTS:  93%|█████████▎| 88/95 [00:56<00:05,  1.26it/s]"
     ]
    },
    {
     "name": "stdout",
     "output_type": "stream",
     "text": [
      "== New invocation:\n",
      "\n",
      "We're all tangled in time's embrace,\n",
      "Our hopes and dreams leave a fleeting trace,\n",
      "As we're spun in life's ever-turning race,\n",
      "In the dance of joy and sorrow we find our place.\n",
      "== Score: 4.0\n",
      "\n",
      "\n",
      "Continuing partial invocation:\n",
      "\n",
      "The sun shines bright on joys and fears,\n",
      "Shadows dance as hopes draw near.\n",
      "Beneath the stars, we laugh and cry,\n",
      "Holding dreams against the sky.\n"
     ]
    },
    {
     "name": "stderr",
     "output_type": "stream",
     "text": [
      "Running MCTS:  94%|█████████▎| 89/95 [00:57<00:04,  1.30it/s]"
     ]
    },
    {
     "name": "stdout",
     "output_type": "stream",
     "text": [
      "== New invocation:\n",
      "\n",
      "The sun shines bright on joys and fears,\n",
      "Shadows dance as hopes draw near.\n",
      "Beneath the stars, we laugh and cry,\n",
      "Holding dreams against the sky.\n",
      "== Score: 6.0\n",
      "\n",
      "\n",
      "Continuing partial invocation:\n",
      "\n",
      "Hearts weigh heavy with silent fears,\n",
      "Dreams flicker dimly through the years,\n",
      "Hope clings softly, smiles through tears,\n"
     ]
    },
    {
     "name": "stderr",
     "output_type": "stream",
     "text": [
      "Running MCTS:  95%|█████████▍| 90/95 [00:57<00:03,  1.57it/s]"
     ]
    },
    {
     "name": "stdout",
     "output_type": "stream",
     "text": [
      "== New invocation:\n",
      "\n",
      "The sun shines bright on joys and fears,\n",
      "Shadows dance as hopes draw near.\n",
      "Fragile hearts beat time, ticking clear.\n",
      "Yet souls persist, despite doubt's leer.\n",
      "== Score: 7.0\n",
      "\n",
      "\n",
      "Continuing partial invocation:\n",
      "\n",
      "The sun shines bright on joys and fears,\n",
      "Shadows dance as hopes draw near.\n",
      "Fragile hearts beat time, ticking clear.\n",
      "Yet souls persist, despite doubt's leer.\n"
     ]
    },
    {
     "name": "stderr",
     "output_type": "stream",
     "text": [
      "Running MCTS:  96%|█████████▌| 91/95 [00:57<00:02,  1.84it/s]"
     ]
    },
    {
     "name": "stdout",
     "output_type": "stream",
     "text": [
      "== New invocation:\n",
      "\n",
      "The sun shines bright on joys and fears,\n",
      "As life's river flows through our years,\n",
      "In every heart, a silent fight.\n",
      "Seeking solace in the night.\n",
      "== Score: 4.0\n",
      "\n",
      "\n",
      "Continuing partial invocation:\n",
      "\n",
      "A laugh, a tear, a fleeting chance to grow,\n"
     ]
    },
    {
     "name": "stderr",
     "output_type": "stream",
     "text": [
      "Running MCTS:  97%|█████████▋| 92/95 [00:58<00:01,  1.80it/s]"
     ]
    },
    {
     "name": "stdout",
     "output_type": "stream",
     "text": [
      "== New invocation:\n",
      "\n",
      "The sun shines bright on joys and fears,\n",
      "Shadows dance as hopes draw near.\n",
      "Beneath the stars, we laugh and cry,\n",
      "Holding dreams against the sky.\n",
      "== Score: 6.0\n",
      "\n",
      "\n",
      "Continuing partial invocation:\n",
      "\n",
      "A laugh, a tear, a fleeting chance to grow,\n",
      "A shadowed path where light and darkness flow,\n",
      "In shared embrace, we find what makes us whole,\n",
      "Together weaving tapestries of soul.\n"
     ]
    },
    {
     "name": "stderr",
     "output_type": "stream",
     "text": [
      "Running MCTS:  98%|█████████▊| 93/95 [00:58<00:01,  1.66it/s]"
     ]
    },
    {
     "name": "stdout",
     "output_type": "stream",
     "text": [
      "== New invocation:\n",
      "\n",
      "The sun shines bright on joys and fears,\n",
      "Shadows dance as hopes draw near.\n",
      "Fragile hearts beat time, ticking clear.\n",
      "Yet souls persist, despite doubt's leer.\n",
      "== Score: 7.0\n",
      "\n",
      "\n",
      "Continuing partial invocation:\n",
      "\n",
      "A laugh, a tear, a fleeting chance to grow,\n",
      "A shadowed path where light and darkness flow,\n"
     ]
    },
    {
     "name": "stderr",
     "output_type": "stream",
     "text": [
      "Running MCTS: 100%|██████████| 95/95 [00:59<00:00,  1.59it/s]"
     ]
    },
    {
     "name": "stdout",
     "output_type": "stream",
     "text": [
      "== New invocation:\n",
      "\n",
      "The sun shines bright on joys and fears,\n",
      "Through laughter and cries, it shapes our years,\n",
      "Through moments of rain, our dreams appear,\n",
      "In scars and smiles, we persevere.\n",
      "== Score: 8.0\n",
      "\n",
      "\n",
      "Continuing partial invocation:\n",
      "\n",
      "A laugh, a tear, a fleeting chance to grow,\n",
      "A shadowed path where light and darkness flow,\n",
      "In shared embrace, we find what makes us whole,\n",
      "Together weaving tapestries of soul.\n",
      "== New invocation:\n",
      "\n",
      "Hearts weigh heavy with silent fears,\n",
      "Dreams flicker dimly through the years,\n",
      "Hope clings softly, smiles through tears,\n",
      "We weave connections, fragile yet sincere.\n",
      "== Score: 6.0\n",
      "\n"
     ]
    },
    {
     "name": "stderr",
     "output_type": "stream",
     "text": [
      "\n"
     ]
    },
    {
     "name": "stdout",
     "output_type": "stream",
     "text": [
      "== New invocation:\n",
      "\n",
      "A laugh, a tear, a fleeting chance to grow,\n",
      "A shadowed path where light and darkness flow,\n",
      "In shared embrace, we find what makes us whole,\n",
      "Together weaving tapestries of soul.\n",
      "== Score: 7.0\n",
      "\n",
      "== New invocation:\n",
      "\n",
      "A laugh, a tear, a fleeting chance to grow,\n",
      "A shadowed path where light and darkness flow,\n",
      "In shared embrace, we find what makes us whole,\n",
      "Together weaving tapestries of soul.\n",
      "== Score: 6.0\n",
      "\n",
      "== New invocation:\n",
      "\n",
      "A laugh, a tear, a fleeting chance to grow,\n",
      "A heart's soft whisper, winds of change that blow,\n",
      "We dream of skies where endless rivers flow,\n",
      "We search for meaning in the seeds we sow.\n",
      "== Score: 4.0\n",
      "\n",
      "== New invocation:\n",
      "\n",
      "A laugh, a tear, a fleeting chance to grow,\n",
      "A shadowed path where light and darkness flow,\n",
      "Where hopes ignite, yet silently lie low,\n",
      "An endless quest we wander to and fro.\n",
      "== Score: 4.0\n",
      "\n"
     ]
    }
   ],
   "source": [
    "with store:\n",
    "  mcts = MCTS(score_poem)\n",
    "  await mcts.run(\n",
    "    generate_poem,\n",
    "    args=('A short rhyming poem about the human condition using simple language', 4),\n",
    "    seeds=3,\n",
    "    iterations=100)"
   ]
  },
  {
   "cell_type": "markdown",
   "metadata": {},
   "source": [
    "We now print the best results, estimated in different ways."
   ]
  },
  {
   "cell_type": "code",
   "execution_count": 17,
   "metadata": {},
   "outputs": [
    {
     "name": "stdout",
     "output_type": "stream",
     "text": [
      "\n",
      "Most visited:\n",
      "\n",
      "Life unfolds like a shifting dance,\n",
      "Changing forms with each fleeting glance,\n",
      "Moments of joy weave with threads of strife,\n",
      "In the tapestry of our fragile life.\n",
      "\n",
      "Highest mean score:\n",
      "\n",
      "In silent spaces, thoughts take wing.\n",
      "Crumbling sidewalks where dreams still sing.\n",
      "Rain-soaked shadows where hope takes root.\n",
      "Whispers of life, both tender and brute.\n",
      "\n",
      "Highest LCB:\n",
      "\n",
      "Life unfolds like a shifting dance,\n",
      "In pockets of chaos, we find our chance,\n",
      "We weave our stories with fleeting grace,\n",
      "In the shadows of time, our truths embrace.\n"
     ]
    }
   ],
   "source": [
    "with store:\n",
    "  print(f'\\nMost visited:\\n{mcts.most_visited()}')\n",
    "  print(f'\\nHighest mean score:\\n{mcts.highest_mean()}')\n",
    "  print(f'\\nHighest LCB:\\n{mcts.highest_lcb()}')"
   ]
  }
 ],
 "metadata": {
  "kernelspec": {
   "display_name": ".venv",
   "language": "python",
   "name": "python3"
  },
  "language_info": {
   "codemirror_mode": {
    "name": "ipython",
    "version": 3
   },
   "file_extension": ".py",
   "mimetype": "text/x-python",
   "name": "python",
   "nbconvert_exporter": "python",
   "pygments_lexer": "ipython3",
   "version": "3.13.1"
  },
  "orig_nbformat": 4
 },
 "nbformat": 4,
 "nbformat_minor": 2
}
