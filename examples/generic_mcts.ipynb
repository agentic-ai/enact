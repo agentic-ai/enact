{
 "cells": [
  {
   "cell_type": "markdown",
   "metadata": {},
   "source": [
    "# Generic Monte-Carlo Tree Search for Poetry Generation\n",
    "\n",
    "This notebook shows how enact's rewind / replay functionality can be used\n",
    "to search the space of executions of a python program. This allows us\n",
    "to implement advanced algorithms such as Monte-Carlo Tree Search (MCTS)\n",
    "in a problem-independent manner: MCTS just becomes a particular way in which\n",
    "we want to explore the search space of the scaffolding program.\n",
    "\n",
    "We demonstrate using a line-by-line rhyming poetry generator: Rhyming poetry can\n",
    "be viewed as a planning problem, since a bad choice for a rhyme word earlier in\n",
    "the poem can make it difficult to find decent completions. \n",
    "\n",
    "We can model line-by-line poetry generation via the following scaffolding program:\n",
    "```python\n",
    "def extend_line(poem_so_far: str) -> str:\n",
    "  ... # Calls LLM to extend the poem by a single line.\n",
    "\n",
    "def generate_poem() -> str:\n",
    "  poem = ''\n",
    "  for _ in range(N_LINES):\n",
    "    poem = extend_line(poem)\n",
    "```\n",
    "\n",
    "Enact allows us to write algorithms that search the space of executions of a\n",
    "scaffolding program such as `generate_poem`. For example, if we want to generate\n",
    "different last lines for a single poem, we can do the following:\n",
    "\n",
    "```python\n",
    "invocation = enact.invoke(generate_poem)  # Generate initial poem\n",
    "full_poems = [invocation.get_output()]\n",
    "for _ in range(N):\n",
    "  variant = invocation.rewind().replay()  # Reroll the last the extend_line call\n",
    "  full_poems.append(variant.get_output())\n",
    "```\n",
    "\n",
    "The remainder of this notebook shows how enact can be used to implement a generic\n",
    "Monte-Carlo Tree Search (MCTS) that works for any scaffolding program, based on the\n",
    "same principle: By directly searching the tree of executions of the scaffolding\n",
    "program using enact's `rewind` and `replay` functionality.\n",
    "\n",
    "## MCTS\n",
    "\n",
    "Monte-carlo tree search (MCTS) is a search algorithm that uses a critic to focus\n",
    "effort on high-scoring areas of the search space. When applied to line-by-line\n",
    "poetry generation, MCTS will generate a set of complete seed poems. In each\n",
    "search step, it will pick a prefix of a previously completed poem and generate\n",
    "a fresh completion. MCTS will optimistically choose prefixes that do not have\n",
    "many completions or prefixes that lead to high-scoring completions on average.\n",
    "\n",
    "![MCTS](mcts.png)\n",
    "\n",
    "In the (made up) example above, we start with two seed poems, one terrible and one\n",
    "mediocre. MCTS chooses to regenerate a new last line for the mediocre poem, since it\n",
    "seems more promising than the terrible poem.\n",
    "\n",
    "In terms of enact, we can view MCTS as choosing to rewind and replay the invocation\n",
    "of the second poem.\n"
   ]
  },
  {
   "cell_type": "markdown",
   "metadata": {},
   "source": [
    "## Prerequisites and API keys"
   ]
  },
  {
   "cell_type": "code",
   "execution_count": 1,
   "metadata": {},
   "outputs": [
    {
     "name": "stdout",
     "output_type": "stream",
     "text": [
      "\n",
      "\u001b[1m[\u001b[0m\u001b[34;49mnotice\u001b[0m\u001b[1;39;49m]\u001b[0m\u001b[39;49m A new release of pip is available: \u001b[0m\u001b[31;49m23.2.1\u001b[0m\u001b[39;49m -> \u001b[0m\u001b[32;49m24.3.1\u001b[0m\n",
      "\u001b[1m[\u001b[0m\u001b[34;49mnotice\u001b[0m\u001b[1;39;49m]\u001b[0m\u001b[39;49m To update, run: \u001b[0m\u001b[32;49mpip install --upgrade pip\u001b[0m\n",
      "Note: you may need to restart the kernel to use updated packages.\n"
     ]
    }
   ],
   "source": [
    "%pip install enact openai randomname tqdm numpy --quiet"
   ]
  },
  {
   "cell_type": "code",
   "execution_count": 1,
   "metadata": {},
   "outputs": [],
   "source": [
    "import asyncio\n",
    "import re\n",
    "from typing import Awaitable\n",
    "\n",
    "import enact       # Journaled executions\n",
    "import openai      # GPT API\n",
    "import randomname  # Extra randomness for prompt.\n",
    "import tqdm        # progress bar\n",
    "\n",
    "import api_keys    # API keys\n",
    "\n",
    "\n",
    "# Read from file or env variable.\n",
    "API_KEY = api_keys.OPENAI_API_KEY.get()\n"
   ]
  },
  {
   "cell_type": "markdown",
   "metadata": {},
   "source": [
    "## Defining a line-by-line poetry generator\n",
    "\n",
    "We first define our scaffolding program: a line-by-line poetry generator which\n",
    "autoregressively calls GPT in a for-loop."
   ]
  },
  {
   "cell_type": "code",
   "execution_count": 2,
   "metadata": {},
   "outputs": [],
   "source": [
    "@enact.register\n",
    "class Failed(enact.ExceptionResource):\n",
    "  \"\"\"Raised when a subtask fails.\"\"\"\n",
    "\n",
    "\n",
    "@enact.register  # Track this function's execution.\n",
    "async def gpt(prompt: str, temperature: float=1.0, model='gpt-4o') -> str:\n",
    "  \"\"\"Call the GPT completion API\"\"\"\n",
    "  client = openai.AsyncClient(api_key=API_KEY)\n",
    "  response = await client.chat.completions.create(\n",
    "    model=model,\n",
    "    messages=[{'role': 'system', 'content': prompt}],\n",
    "    temperature=temperature)\n",
    "  return response.choices[0].message.content\n",
    "\n",
    "\n",
    "@enact.register\n",
    "async def extend_poem(\n",
    "    poem: str, prompt: str, lines: int,\n",
    "    temperature: float = 1.0) -> str:\n",
    "  \"\"\"Extend the poem by one line.\"\"\"\n",
    "  line_index = len(poem.strip().split('\\n'))\n",
    "  gpt_prompt = f'''\n",
    "We are writing a poem for the prompt: {prompt}.\n",
    "\n",
    "This is the poem so far:\n",
    "\n",
    "{poem if poem else '<NEW POEM>'}\n",
    "\n",
    "Extend the poem by one single line. Respond only with the new line and say\n",
    "nothing else. This will be line nr {line_index + 1} out of a total of {lines}\n",
    "lines.\n",
    "\n",
    "Avoid cliches.\n",
    "\n",
    "Respond only with one line.\n",
    "\n",
    "Ignore the following random seed words:\n",
    "{', '.join(randomname.generate('nouns/') for _ in range(10))}\n",
    "\n",
    "Be sure to respond only with one line of poetry and nothing else.\n",
    "'''\n",
    "  result = await gpt(gpt_prompt, temperature)\n",
    "  lines = result.strip().split('\\n')\n",
    "  if len(lines) != 1:\n",
    "    raise Failed('Responded with more than one line')\n",
    "  line: str = lines[0]\n",
    "  line = line.strip('\"\\'').strip()\n",
    "  return poem + f'\\n{line}'\n",
    "\n",
    "@enact.register\n",
    "async def generate_poem(prompt: str, lines: int) -> str:\n",
    "  \"\"\"Generate a poem line by line.\"\"\"\n",
    "  poem = ''\n",
    "  for _ in range(lines):\n",
    "    poem = await extend_poem(poem, prompt, lines)\n",
    "  return poem\n"
   ]
  },
  {
   "cell_type": "markdown",
   "metadata": {},
   "source": [
    "Our poetry generator can be run as follows, although it may sometimes fail,\n",
    "e.g., when GPT produces output in a wrong format."
   ]
  },
  {
   "cell_type": "code",
   "execution_count": 4,
   "metadata": {},
   "outputs": [
    {
     "name": "stdout",
     "output_type": "stream",
     "text": [
      "\n",
      "The heavens mock man's schemes with silent grace.\n",
      "With folly's pride, he runs a fruitless race.\n"
     ]
    }
   ],
   "source": [
    "try:\n",
    "  two_line_poem = await generate_poem(\n",
    "    'a two line rhyming poem in the style of Alexander Pope', lines=2)\n",
    "  print(two_line_poem)\n",
    "except Exception as e:\n",
    "  print(f'Failed with \"{e}\". Try again.')"
   ]
  },
  {
   "cell_type": "markdown",
   "metadata": {},
   "source": [
    "We can also inspect the call trace by generating an invocation, this\n",
    "requires us to work in the context of a store:"
   ]
  },
  {
   "cell_type": "code",
   "execution_count": 4,
   "metadata": {},
   "outputs": [
    {
     "name": "stdout",
     "output_type": "stream",
     "text": [
      "-><function generate_poem at 0x7f28ad8f6ca0>(...) \n",
      "  -><function extend_poem at 0x7f28ad8f6700>(...) \n",
      "    -><function gpt at 0x7f28ad8f6040>(...) \n",
      "  -><function extend_poem at 0x7f28ad8f6700>(...) \n",
      "    -><function gpt at 0x7f28ad8f6040>(...) \n",
      "\n",
      "Dunes of whispers echo where waves undress the shore,\n",
      "Seafoam fingers linger, tracing secrets once stored.\n"
     ]
    }
   ],
   "source": [
    "with enact.InMemoryStore() as store:\n",
    "  invocation = await enact.invoke_async(generate_poem, ('a poem about the sea', 2))\n",
    "  print(enact.invocation_summary(invocation, show_input=False, show_output=False))\n",
    "  print(invocation.get_output())"
   ]
  },
  {
   "cell_type": "markdown",
   "metadata": {},
   "source": [
    "We can regenerate the last line by rewinding and replaying the invocation."
   ]
  },
  {
   "cell_type": "code",
   "execution_count": 5,
   "metadata": {},
   "outputs": [
    {
     "name": "stdout",
     "output_type": "stream",
     "text": [
      "\n",
      "Dunes of whispers echo where waves undress the shore,\n",
      "Seagulls sketch their stories on boundless blue canvas skies.\n"
     ]
    }
   ],
   "source": [
    "with store:\n",
    "  invocation = await invocation.rewind().replay_async()\n",
    "  print(invocation.get_output())"
   ]
  },
  {
   "cell_type": "markdown",
   "metadata": {},
   "source": [
    "## Define a critic\n",
    "\n",
    "We would like to search the space of possible executions of our `generate_poem`\n",
    "function. In order to do so, we need to define a scoring function that can\n",
    "assign a numeric value to generated poems. We use another call to GPT for this."
   ]
  },
  {
   "cell_type": "code",
   "execution_count": 5,
   "metadata": {},
   "outputs": [],
   "source": [
    "@enact.register\n",
    "async def score_poem(poem: str) -> float:\n",
    "  gpt_prompt: str = f'''\n",
    "Score the following poem on a scale from 0 to 10, where 0 is the worst poem and\n",
    "10 is the best. Ask yourself the following questions:\n",
    "- Does it have good rhythm?\n",
    "- Does it have natural-sounding rhymes?\n",
    "- Is the poem self-contained and complete?\n",
    "- Does the poem use of cliches?\n",
    "- Does the poem use akward phrasings or forced rhymes?\n",
    "- Does the poem use overelaborate / sophomoric language?\n",
    "\n",
    "Respond in the following format:\n",
    "\n",
    "<very short summary of your critique>\n",
    "SCORE: <score>\n",
    "\n",
    "This is the poem:\n",
    "{poem}\n",
    "'''\n",
    "  score = await gpt(gpt_prompt, 1.1)\n",
    "  return float(re.search(r'SCORE: ([\\d\\.]+)', score).group(1))\n"
   ]
  },
  {
   "cell_type": "markdown",
   "metadata": {},
   "source": [
    "We can apply our poetry critic to the poem we generated earlier:"
   ]
  },
  {
   "cell_type": "code",
   "execution_count": 6,
   "metadata": {},
   "outputs": [
    {
     "name": "stdout",
     "output_type": "stream",
     "text": [
      "\n",
      "The heavens mock man's schemes with silent grace.\n",
      "With folly's pride, he runs a fruitless race.\n",
      "Score: 8.0\n"
     ]
    }
   ],
   "source": [
    "try:\n",
    "  print(two_line_poem)\n",
    "  print(f'Score: {await score_poem(two_line_poem)}')\n",
    "except Exception as e:\n",
    "  print(f'Try again. Scoring failed with: {e}')"
   ]
  },
  {
   "cell_type": "markdown",
   "metadata": {},
   "source": [
    "## Implementing Monte Carlo Tree Search\n",
    "\n",
    "Enact can rewind and replay executions of registered python functions. We can\n",
    "use this to explore the space of possible program executions using Monte Carlo\n",
    "Tree Search."
   ]
  },
  {
   "cell_type": "code",
   "execution_count": 7,
   "metadata": {},
   "outputs": [],
   "source": [
    "import dataclasses\n",
    "from typing import Callable, Dict, List, Optional\n",
    "import numpy as np\n",
    "\n",
    "\n",
    "# Increase this number for more exploration\n",
    "EXPLORATION_AMOUNT = 3\n",
    "# Increase this to explore more from the root node,\n",
    "# i.e., to create more new poems from scratch.\n",
    "EXPLORE_ROOT_NODE = 1\n",
    "# Conservative quality prior to add for bootstrapped LCB. This penalizes\n",
    "# poems that we haven't thouroughly explored yet.\n",
    "LCB_PRIOR = [1.0]\n",
    "# Sample node with highest UCB at this temperature. If set to 0, always picks\n",
    "# the max UCB node.\n",
    "SAMPLING_TEMPERATURE=0.25\n",
    "\n",
    "# How many parallel calls.\n",
    "PARALLELISM=5\n",
    "\n",
    "\n",
    "@enact.register\n",
    "@dataclasses.dataclass\n",
    "class Node(enact.Resource):\n",
    "  invocation: enact.Invocation  # A (possibly-partial) execution.\n",
    "  parent: Optional['Node']      # The parent node.\n",
    "  scores: List[float]           # List of scores for this subtree.\n",
    "\n",
    "  @property\n",
    "  def tree_ucb(self) -> float:\n",
    "    \"\"\"Computes a heuristic UCB on scores for tree search.\"\"\"\n",
    "    if not self.parent:\n",
    "      num_parent_scores = EXPLORE_ROOT_NODE * len(self.scores)\n",
    "    else:\n",
    "      num_parent_scores = len(self.parent.scores)\n",
    "    return np.mean(self.scores) + EXPLORATION_AMOUNT * np.sqrt(\n",
    "      np.log(1e-2 + num_parent_scores) / len(self.scores))\n",
    "\n",
    "  @property\n",
    "  def lcb(self) -> float:\n",
    "    \"\"\"Computes a lower confidence bound (30th percentile).\"\"\"\n",
    "    scores = self.scores\n",
    "    scores = scores + LCB_PRIOR\n",
    "\n",
    "    return  np.percentile(\n",
    "      np.mean(np.random.choice(\n",
    "        scores, (10000, len(scores))), axis=1),\n",
    "      30.0)\n",
    "\n",
    "\n",
    "@enact.register\n",
    "@dataclasses.dataclass\n",
    "class MCTS(enact.Resource):\n",
    "  \"\"\"A generic implementation for MCTS over abitrary scaffolding programs.\"\"\"\n",
    "  scorer: Callable[[str], Awaitable[float]]\n",
    "  nodes: Dict[str, Node] = dataclasses.field(\n",
    "    default_factory=dict)\n",
    "\n",
    "  async def add(\n",
    "      self,\n",
    "      invocation: enact.Invocation):\n",
    "    \"\"\"Add an invocation to the MCTS tree.\"\"\"\n",
    "    child = None\n",
    "    score = await self.compute_score(invocation)\n",
    "    # Propagate scores up the invocation tree.\n",
    "    while True:\n",
    "      cur = enact.commit(invocation)\n",
    "      node = self.nodes.setdefault(cur.id, Node(invocation, None, []))\n",
    "      node.scores.append(score)\n",
    "      if child:\n",
    "        child.parent = node\n",
    "      child = node\n",
    "      if not invocation.response().children:\n",
    "        break\n",
    "      invocation = invocation.rewind()  # Generate execution prefix.\n",
    "    return score\n",
    "\n",
    "  def next_node(self):\n",
    "    \"\"\"Select next node according to highest UCB.\"\"\"\n",
    "    ucbs = np.array([node.tree_ucb for node in self.nodes.values()])\n",
    "    if not SAMPLING_TEMPERATURE:\n",
    "      idx = np.argmax(ucbs)\n",
    "    else:\n",
    "      softmax_ps = np.exp(ucbs / SAMPLING_TEMPERATURE) / np.sum(\n",
    "        np.exp(ucbs / SAMPLING_TEMPERATURE))\n",
    "      idx = np.random.choice(len(ucbs), p=softmax_ps)\n",
    "    return list(self.nodes.values())[idx]\n",
    "\n",
    "  async def compute_score(self, invocation: enact.Invocation) -> float:\n",
    "    \"\"\"Assign a score to the invocation.\"\"\"\n",
    "    if not invocation.successful():\n",
    "      return -1.0\n",
    "    try:\n",
    "      return await self.scorer(invocation.get_output())\n",
    "    except enact.InputRequest:\n",
    "      raise\n",
    "    except:\n",
    "      raise Failed\n",
    "\n",
    "  @enact.register\n",
    "  async def step(self):\n",
    "    \"\"\"Run one step of MCTS and return generated output and score.\"\"\"\n",
    "    assert self.nodes, 'Please call add before step.'\n",
    "    node = self.next_node()\n",
    "    if node.invocation.response().children:\n",
    "      print(f'\\nContinuing partial invocation:\\n{node.invocation.response().children[-1]().get_output()}')\n",
    "    else:\n",
    "      print(f'\\nCreating new root invocation')\n",
    "    invocation = await self.replay(node.invocation)\n",
    "    score = await self.add(invocation)\n",
    "    if invocation.successful():\n",
    "      print(f'== New invocation:\\n{invocation.get_output()}')\n",
    "      print(f'== Score: {score}')\n",
    "      print()\n",
    "      return invocation.get_output(), score\n",
    "\n",
    "  @enact.register\n",
    "  async def invoke(self, fun: Callable, args=(), kwargs=None):\n",
    "    \"\"\"Wrap invocation in a registered function, since it is non-deterministic.\"\"\"\n",
    "    return await enact.invoke_async(fun, args=args, kwargs=kwargs)\n",
    "\n",
    "  @enact.register\n",
    "  async def replay(self, invocation: enact.Invocation) -> enact.Invocation:\n",
    "    \"\"\"Wrap replay in a registered function, since it is non-deterministic.\"\"\"\n",
    "    return await invocation.replay_async()\n",
    "\n",
    "  @enact.register\n",
    "  async def add_seed(self, fun, args=(), kwargs=None):\n",
    "    \"\"\"Add a seed invocation. Return success.\"\"\"\n",
    "    invocation = await self.invoke(fun, args=args, kwargs=kwargs)\n",
    "    if not invocation.successful():\n",
    "      return False\n",
    "    try:\n",
    "      score = await self.add(invocation)\n",
    "      print(f'== Added seed invocation:\\n{invocation.get_output()}')\n",
    "      print(f'== Score: {score}')\n",
    "      print()\n",
    "    except Failed:\n",
    "      return False\n",
    "    return True\n",
    "\n",
    "  @enact.register\n",
    "  async def run(self, fun, args=(), kwargs=None, seeds=5, iterations=100):\n",
    "    \"\"\"Run MCTS for a given number of iterations.\"\"\"\n",
    "    print('Creating seed poems')\n",
    "    await asyncio.gather(\n",
    "      *[self.add_seed(fun, args=args, kwargs=kwargs)\n",
    "        for _ in range(seeds)])\n",
    "\n",
    "    if not self.nodes:\n",
    "      raise Failed('Could not find a successful seed invocation.')\n",
    "\n",
    "    current_tasks: List[asyncio.Task] = []\n",
    "    for _ in tqdm.trange(max(iterations - PARALLELISM, 1), desc='Running MCTS'):\n",
    "      current_tasks = [t for t in current_tasks if not t.done()]\n",
    "      while len(current_tasks) < PARALLELISM:\n",
    "        current_tasks.append(asyncio.create_task(self.step()))\n",
    "      done, _ = await asyncio.wait(current_tasks, return_when=asyncio.FIRST_COMPLETED)\n",
    "      for d in done:\n",
    "        try:\n",
    "          await d\n",
    "        except Failed:\n",
    "          continue\n",
    "    for t in current_tasks:\n",
    "      try:\n",
    "        await t\n",
    "      except Failed:\n",
    "        continue\n",
    "\n",
    "  def highest_lcb(self):\n",
    "    \"\"\"Return the highest LCB output.\"\"\"\n",
    "    success_nodes = [node for node in self.nodes.values() if node.invocation.successful()]\n",
    "    if not success_nodes:\n",
    "      return None\n",
    "    return max(success_nodes, key=lambda node: node.lcb).invocation.get_output()\n",
    "\n",
    "  def highest_mean(self):\n",
    "    \"\"\"Return the output with the higest mean score.\"\"\"\n",
    "    success_nodes = [node for node in self.nodes.values() if node.invocation.successful()]\n",
    "    if not success_nodes:\n",
    "      return None\n",
    "    return max(success_nodes, key=lambda node: np.mean(node.scores)).invocation.get_output()\n",
    "\n",
    "  def most_visited(self):\n",
    "    \"\"\"Return the output that was visited the most.\"\"\"\n",
    "    success_nodes = [node for node in self.nodes.values() if node.invocation.successful()]\n",
    "    if not success_nodes:\n",
    "      return None\n",
    "    return max(success_nodes, key=lambda node: len(node.scores)).invocation.get_output()"
   ]
  },
  {
   "cell_type": "markdown",
   "metadata": {},
   "source": [
    "The above mostly a straightforward implementation of MCTS, but it is worth highlighting\n",
    "that each node in the search tree is associated with a partial execution of the program\n",
    "in the form of an enact `Invocation`.\n",
    "\n",
    "```python\n",
    "class Node(enact.Resource):\n",
    "  invocation: enact.Invocation  # A (possibly-partial) execution.\n",
    "  ...\n",
    "\n",
    "```\n",
    "\n",
    "In each step of the MCTS search, a tree node is picked to be extended, which is accomplished\n",
    "via `node.invocation.replay()`. This results in a completed invocation that extends\n",
    "`node.invocation`."
   ]
  },
  {
   "cell_type": "markdown",
   "metadata": {},
   "source": [
    "## Running MCTS on our poetry generator\n",
    "\n",
    "Note that our implementation of MCTS is *generic* in the sense that it accepts\n",
    "an arbitrary enact-registered python function and scorer. Instead of\n",
    "having to implement a domain-specific search tree where the nodes correspond to\n",
    "partial poems or chess-boards, we can search directly in the space of program\n",
    "executions regardless of the domain in which the underlying program operates. \n",
    "Thus, MCTS can be used as a general purpose refinement-operator that improves\n",
    "the quality of a generative program using a scoring function.\n",
    "\n",
    "Enact requires a `Store` object which records inputs, outputs and call-traces\n",
    "in content addressable memory."
   ]
  },
  {
   "cell_type": "code",
   "execution_count": 8,
   "metadata": {},
   "outputs": [],
   "source": [
    "store = enact.InMemoryStore()"
   ]
  },
  {
   "cell_type": "markdown",
   "metadata": {},
   "source": [
    "We can now run MCTS for a set number of iterations by providing it with\n",
    "the program `generate_poem`, whose execution tree we'd like to search,\n",
    "and our automatic scoring function `score_poem`, which allows us to\n",
    "associate a quality score with outputs."
   ]
  },
  {
   "cell_type": "code",
   "execution_count": 10,
   "metadata": {},
   "outputs": [
    {
     "name": "stdout",
     "output_type": "stream",
     "text": [
      "Creating seed poems\n",
      "== Added seed invocation:\n",
      "\n",
      "Hearts that soar yet stumble too,\n",
      "Dreams collide in skies of blue,\n",
      "Tears that water seeds of pain,\n",
      "Hope emerges through the rain.\n",
      "== Score: 8.0\n",
      "\n",
      "== Added seed invocation:\n",
      "\n",
      "Hearts that yearn for joy anew,\n",
      "Eyes that seek what's real and true,\n",
      "Hands that work and minds that grow,\n",
      "Souls that wander through the blue.\n",
      "== Score: 7.0\n",
      "\n",
      "== Added seed invocation:\n",
      "\n",
      "People laugh and people cry,\n",
      "Some will question, others sigh,\n",
      "Dreams are born and then they die,\n",
      "Life moves on, like clouds that fly.\n",
      "== Score: 6.0\n",
      "\n",
      "== Added seed invocation:\n",
      "\n",
      "Sometimes smiles hide the deepest fears,\n",
      "While tears can speak what no one hears,\n",
      "Dreams may hold our highest hopes dear,\n",
      "In laughter's warmth, we all persevere.\n",
      "== Score: 8.0\n",
      "\n",
      "== Added seed invocation:\n",
      "\n",
      "We laugh, we cry, we seek, we strive,\n",
      "We dance through storms, yet stay alive,\n",
      "Our fragile bonds through darkness shine,\n",
      "In fleeting moments, souls entwine.\n",
      "== Score: 9.0\n",
      "\n",
      "== Added seed invocation:\n",
      "\n",
      "We laugh and we cry, we lose and we gain,\n",
      "A dance in the sun, a walk in the rain,\n",
      "So many questions float without aim,\n",
      "A whisper of hope, a shadow of shame.\n",
      "== Score: 7.0\n",
      "\n",
      "== Added seed invocation:\n",
      "\n",
      "We strive for joy yet wrestle doubt,\n",
      "Trying to find what life's about,\n",
      "As years pass by, time runs out,\n",
      "Though love and loss intertwine, we shout.\n",
      "== Score: 7.0\n",
      "\n",
      "== Added seed invocation:\n",
      "\n",
      "Life is a journey of joy and pain,\n",
      "With hope as our lantern, we seek and gain,\n",
      "Connections we form, the treasures we find,\n",
      "Lonely hearts seeking compassion, entwined.\n",
      "== Score: 7.0\n",
      "\n",
      "== Added seed invocation:\n",
      "\n",
      "Tears fall unnoticed in the rain,\n",
      "Pain whispers softly through the stain,\n",
      "Lonely footsteps on a crowded street,\n",
      "Echoes of lost voices blink and meet.\n",
      "== Score: 8.0\n",
      "\n",
      "== Added seed invocation:\n",
      "\n",
      "We laugh and we cry under endless skies,\n",
      "We seek the truth and believe the lies,\n",
      "We journey through time with wonder and scars,\n",
      "Finding solace in stars and life in the bars.\n",
      "== Score: 6.0\n",
      "\n"
     ]
    },
    {
     "name": "stderr",
     "output_type": "stream",
     "text": [
      "Running MCTS:   0%|          | 0/95 [00:00<?, ?it/s]"
     ]
    },
    {
     "name": "stdout",
     "output_type": "stream",
     "text": [
      "\n",
      "Continuing partial invocation:\n",
      "\n",
      "We laugh, we cry, we seek, we strive,\n",
      "\n",
      "Continuing partial invocation:\n",
      "\n",
      "We laugh, we cry, we seek, we strive,\n",
      "\n",
      "Continuing partial invocation:\n",
      "\n",
      "We laugh, we cry, we seek, we strive,\n",
      "\n",
      "Continuing partial invocation:\n",
      "\n",
      "We laugh, we cry, we seek, we strive,\n",
      "\n",
      "Continuing partial invocation:\n",
      "\n",
      "We laugh, we cry, we seek, we strive,\n"
     ]
    },
    {
     "name": "stderr",
     "output_type": "stream",
     "text": [
      "Running MCTS:   1%|          | 1/95 [00:03<05:37,  3.59s/it]"
     ]
    },
    {
     "name": "stdout",
     "output_type": "stream",
     "text": [
      "== New invocation:\n",
      "\n",
      "We laugh, we cry, we seek, we strive,\n",
      "We dream of more, just to survive,\n",
      "In tangled paths, we learn to cope,\n",
      "We hold on tight, with threads of hope.\n",
      "== Score: 8.0\n",
      "\n",
      "\n",
      "Continuing partial invocation:\n",
      "\n",
      "Hearts that soar yet stumble too,\n",
      "== New invocation:\n",
      "\n",
      "We laugh, we cry, we seek, we strive,\n",
      "We share our dreams, we fight to thrive,\n",
      "We build our houses, walk our roads,\n",
      "Beneath the stars, our stories unfold.\n",
      "== Score: 8.0\n",
      "\n",
      "\n",
      "Continuing partial invocation:\n",
      "\n",
      "We laugh, we cry, we seek, we strive,\n",
      "We dance through storms, yet stay alive,\n"
     ]
    },
    {
     "name": "stderr",
     "output_type": "stream",
     "text": [
      "Running MCTS:   3%|▎         | 3/95 [00:03<01:38,  1.07s/it]"
     ]
    },
    {
     "name": "stdout",
     "output_type": "stream",
     "text": [
      "== New invocation:\n",
      "\n",
      "We laugh, we cry, we seek, we strive,\n",
      "With hopes and dreams that keep us alive,\n",
      "We wander paths both dark and bright,\n",
      "To find the truth in endless night.\n",
      "== Score: 8.0\n",
      "\n",
      "\n",
      "Continuing partial invocation:\n",
      "\n",
      "Tears fall unnoticed in the rain,\n"
     ]
    },
    {
     "name": "stderr",
     "output_type": "stream",
     "text": [
      "Running MCTS:   4%|▍         | 4/95 [00:04<01:14,  1.23it/s]"
     ]
    },
    {
     "name": "stdout",
     "output_type": "stream",
     "text": [
      "== New invocation:\n",
      "\n",
      "We laugh, we cry, we seek, we strive,\n",
      "We love, we lose, we keep alive,\n",
      "Our hearts, they bear the weight of time,\n",
      "Yet still, with hope, anew we climb.\n",
      "== Score: 8.0\n",
      "\n",
      "\n",
      "Continuing partial invocation:\n",
      "\n",
      "Sometimes smiles hide the deepest fears,\n"
     ]
    },
    {
     "name": "stderr",
     "output_type": "stream",
     "text": [
      "Running MCTS:   5%|▌         | 5/95 [00:06<01:51,  1.24s/it]"
     ]
    },
    {
     "name": "stdout",
     "output_type": "stream",
     "text": [
      "== New invocation:\n",
      "\n",
      "We laugh, we cry, we seek, we strive,\n",
      "Together we learn what it means to be alive,\n",
      "Our dreams weave patterns as we survive,\n",
      "A dance of moments, as we collide.\n",
      "== Score: 8.0\n",
      "\n",
      "\n",
      "Continuing partial invocation:\n",
      "\n",
      "Hearts that soar yet stumble too,\n",
      "== New invocation:\n",
      "\n",
      "We laugh, we cry, we seek, we strive,\n",
      "We dance through storms, yet stay alive,\n",
      "We build and break, then start anew,\n",
      "With hopes and dreams that we pursue.\n",
      "== Score: 8.0\n",
      "\n",
      "\n",
      "Continuing partial invocation:\n",
      "\n",
      "Hearts that soar yet stumble too,\n"
     ]
    },
    {
     "name": "stderr",
     "output_type": "stream",
     "text": [
      "Running MCTS:   7%|▋         | 7/95 [00:07<01:12,  1.22it/s]"
     ]
    },
    {
     "name": "stdout",
     "output_type": "stream",
     "text": [
      "== New invocation:\n",
      "\n",
      "Hearts that soar yet stumble too,\n",
      "Dreams unfold in shades of blue,\n",
      "Joys that bloom, then fade from view,\n",
      "Renewed by hope in spite of rue.\n",
      "== Score: 7.0\n",
      "\n",
      "\n",
      "Continuing partial invocation:\n",
      "\n",
      "Tears fall unnoticed in the rain,\n"
     ]
    },
    {
     "name": "stderr",
     "output_type": "stream",
     "text": [
      "Running MCTS:   9%|▉         | 9/95 [00:07<00:47,  1.82it/s]"
     ]
    },
    {
     "name": "stdout",
     "output_type": "stream",
     "text": [
      "== New invocation:\n",
      "\n",
      "Sometimes smiles hide the deepest fears,\n",
      "Sometimes laughter masks our hidden tears,\n",
      "Beneath the calm, hearts echo silent pleas,\n",
      "In this dance of life, we're all caught in the breeze.\n",
      "== Score: 8.0\n",
      "\n",
      "\n",
      "Continuing partial invocation:\n",
      "\n",
      "Tears fall unnoticed in the rain,\n",
      "== New invocation:\n",
      "\n",
      "Tears fall unnoticed in the rain,\n",
      "As laughter echoes through the pain,\n",
      "Hearts will mend and break again,\n",
      "Life's dance, a fragile, vibrant chain.\n",
      "== Score: 9.0\n",
      "\n",
      "\n",
      "Continuing partial invocation:\n",
      "\n",
      "We laugh, we cry, we seek, we strive,\n",
      "We share our dreams, we fight to thrive,\n"
     ]
    },
    {
     "name": "stderr",
     "output_type": "stream",
     "text": [
      "Running MCTS:  11%|█         | 10/95 [00:09<01:14,  1.14it/s]"
     ]
    },
    {
     "name": "stdout",
     "output_type": "stream",
     "text": [
      "== New invocation:\n",
      "\n",
      "Hearts that soar yet stumble too,\n",
      "Dreams that fade, yet dreams renew,\n",
      "Whispers lost amidst the noise,\n",
      "Hope returns, life's silent voice.\n",
      "== Score: 8.0\n",
      "\n",
      "\n",
      "Continuing partial invocation:\n",
      "\n",
      "We laugh, we cry, we seek, we strive,\n",
      "We love, we lose, we keep alive,\n"
     ]
    },
    {
     "name": "stderr",
     "output_type": "stream",
     "text": [
      "Running MCTS:  12%|█▏        | 11/95 [00:09<01:02,  1.35it/s]"
     ]
    },
    {
     "name": "stdout",
     "output_type": "stream",
     "text": [
      "== New invocation:\n",
      "\n",
      "Hearts that soar yet stumble too,\n",
      "Dreams that fade as days accrue,\n",
      "Tangled paths we journey through,\n",
      "Through each trial, hope will renew.\n",
      "== Score: 7.0\n",
      "\n",
      "\n",
      "Continuing partial invocation:\n",
      "\n",
      "Life is a journey of joy and pain,\n"
     ]
    },
    {
     "name": "stderr",
     "output_type": "stream",
     "text": [
      "Running MCTS:  13%|█▎        | 12/95 [00:10<01:01,  1.34it/s]"
     ]
    },
    {
     "name": "stdout",
     "output_type": "stream",
     "text": [
      "== New invocation:\n",
      "\n",
      "We laugh, we cry, we seek, we strive,\n",
      "We share our dreams, we fight to thrive,\n",
      "Our days are brief, like sparks they fly,\n",
      "And in the end, we close our eyes.\n",
      "== Score: 8.0\n",
      "\n",
      "\n",
      "Continuing partial invocation:\n",
      "\n",
      "We laugh, we cry, we seek, we strive,\n",
      "We dream of more, just to survive,\n"
     ]
    },
    {
     "name": "stderr",
     "output_type": "stream",
     "text": [
      "Running MCTS:  14%|█▎        | 13/95 [00:11<00:57,  1.43it/s]"
     ]
    },
    {
     "name": "stdout",
     "output_type": "stream",
     "text": [
      "== New invocation:\n",
      "\n",
      "Tears fall unnoticed in the rain,\n",
      "Faces hide their silent pain,\n",
      "Hearts yearn for warmth, but break in vain,\n",
      "Yet hope flickers like a small flame.\n",
      "== Score: 9.0\n",
      "\n",
      "\n",
      "Continuing partial invocation:\n",
      "\n",
      "We laugh, we cry, we seek, we strive,\n",
      "Together we learn what it means to be alive,\n"
     ]
    },
    {
     "name": "stderr",
     "output_type": "stream",
     "text": [
      "Running MCTS:  15%|█▍        | 14/95 [00:12<01:05,  1.23it/s]"
     ]
    },
    {
     "name": "stdout",
     "output_type": "stream",
     "text": [
      "== New invocation:\n",
      "\n",
      "Tears fall unnoticed in the rain,\n",
      "Hearts grasp softly at the pain,\n",
      "Hope flickers like a gentle flame,\n",
      "But still, we rise to love's refrain.\n",
      "== Score: 8.0\n",
      "\n",
      "\n",
      "Continuing partial invocation:\n",
      "\n",
      "Tears fall unnoticed in the rain,\n",
      "Faces hide their silent pain,\n",
      "== New invocation:\n",
      "\n",
      "We laugh, we cry, we seek, we strive,\n",
      "We love, we lose, we keep alive,\n",
      "We're searching for the peace inside\n",
      "Finding grace in wounds we hide.\n",
      "== Score: 8.0\n",
      "\n",
      "\n",
      "Continuing partial invocation:\n",
      "\n",
      "Life is a journey of joy and pain,\n"
     ]
    },
    {
     "name": "stderr",
     "output_type": "stream",
     "text": [
      "Running MCTS:  17%|█▋        | 16/95 [00:14<01:08,  1.15it/s]"
     ]
    },
    {
     "name": "stdout",
     "output_type": "stream",
     "text": [
      "== New invocation:\n",
      "\n",
      "We laugh, we cry, we seek, we strive,\n",
      "We dream of more, just to survive,\n",
      "Yet still, we wander, hearts alive,\n",
      "We find our place where dreams do thrive.\n",
      "== Score: 8.0\n",
      "\n",
      "\n",
      "Continuing partial invocation:\n",
      "\n",
      "Life is a journey of joy and pain,\n"
     ]
    },
    {
     "name": "stderr",
     "output_type": "stream",
     "text": [
      "Running MCTS:  18%|█▊        | 17/95 [00:14<00:58,  1.33it/s]"
     ]
    },
    {
     "name": "stdout",
     "output_type": "stream",
     "text": [
      "== New invocation:\n",
      "\n",
      "Life is a journey of joy and pain,\n",
      "We find our balance, break and sustain,\n",
      "We love and lose, yet try again,\n",
      "While seeking meaning, we bear the strain.\n",
      "== Score: 7.0\n",
      "\n",
      "\n",
      "Continuing partial invocation:\n",
      "\n",
      "We laugh, we cry, we seek, we strive,\n",
      "Together we learn what it means to be alive,\n",
      "== New invocation:\n",
      "\n",
      "We laugh, we cry, we seek, we strive,\n",
      "Together we learn what it means to be alive,\n",
      "Holding hands as we wander through time,\n",
      "Sharing dreams in the dance of life’s climb.\n",
      "== Score: 8.0\n",
      "\n",
      "\n",
      "Continuing partial invocation:\n",
      "\n",
      "Hearts that yearn for joy anew,\n"
     ]
    },
    {
     "name": "stderr",
     "output_type": "stream",
     "text": [
      "Running MCTS:  20%|██        | 19/95 [00:15<00:52,  1.45it/s]"
     ]
    },
    {
     "name": "stdout",
     "output_type": "stream",
     "text": [
      "== New invocation:\n",
      "\n",
      "Tears fall unnoticed in the rain,\n",
      "Faces hide their silent pain,\n",
      "Hearts yearn for joy they can't explain,\n",
      "Yet find solace in the mundane.\n",
      "== Score: 8.0\n",
      "\n",
      "\n",
      "Continuing partial invocation:\n",
      "\n",
      "We strive for joy yet wrestle doubt,\n"
     ]
    },
    {
     "name": "stderr",
     "output_type": "stream",
     "text": [
      "Running MCTS:  21%|██        | 20/95 [00:17<01:09,  1.08it/s]"
     ]
    },
    {
     "name": "stdout",
     "output_type": "stream",
     "text": [
      "== New invocation:\n",
      "\n",
      "Hearts that yearn for joy anew,\n",
      "Hopes and dreams will see us through,\n",
      "Through the trials, we find our view,\n",
      "In quiet moments, truths accrue.\n",
      "== Score: 8.0\n",
      "\n",
      "\n",
      "Continuing partial invocation:\n",
      "\n",
      "We strive for joy yet wrestle doubt,\n"
     ]
    },
    {
     "name": "stderr",
     "output_type": "stream",
     "text": [
      "Running MCTS:  22%|██▏       | 21/95 [00:17<00:58,  1.27it/s]"
     ]
    },
    {
     "name": "stdout",
     "output_type": "stream",
     "text": [
      "== New invocation:\n",
      "\n",
      "Life is a journey of joy and pain,\n",
      "We search for meaning with each gain and drain,\n",
      "We seek connection through sun and rain,\n",
      "In the dance of moments, we rise and wane.\n",
      "== Score: 7.0\n",
      "\n",
      "\n",
      "Continuing partial invocation:\n",
      "\n",
      "We laugh, we cry, we seek, we strive,\n",
      "With hopes and dreams that keep us alive,\n"
     ]
    },
    {
     "name": "stderr",
     "output_type": "stream",
     "text": [
      "Running MCTS:  23%|██▎       | 22/95 [00:18<00:53,  1.36it/s]"
     ]
    },
    {
     "name": "stdout",
     "output_type": "stream",
     "text": [
      "== New invocation:\n",
      "\n",
      "Life is a journey of joy and pain,\n",
      "We dance in sunlight and hide from the rain,\n",
      "In moments of struggle, we seek to regain,\n",
      "We find solace in whispers and dreams that remain.\n",
      "== Score: 7.0\n",
      "\n",
      "\n",
      "Continuing partial invocation:\n",
      "\n",
      "We strive for joy yet wrestle doubt,\n"
     ]
    },
    {
     "name": "stderr",
     "output_type": "stream",
     "text": [
      "Running MCTS:  24%|██▍       | 23/95 [00:18<00:44,  1.61it/s]"
     ]
    },
    {
     "name": "stdout",
     "output_type": "stream",
     "text": [
      "== New invocation:\n",
      "\n",
      "We strive for joy yet wrestle doubt,\n",
      "Our hearts are full, while time runs out,\n",
      "Our minds seek peace, but still they roam,\n",
      "We learn to love and call it home.\n",
      "== Score: 8.0\n",
      "\n",
      "\n",
      "Continuing partial invocation:\n",
      "\n",
      "We laugh, we cry, we seek, we strive,\n",
      "With hopes and dreams that keep us alive,\n"
     ]
    },
    {
     "name": "stderr",
     "output_type": "stream",
     "text": [
      "Running MCTS:  25%|██▌       | 24/95 [00:19<00:56,  1.25it/s]"
     ]
    },
    {
     "name": "stdout",
     "output_type": "stream",
     "text": [
      "== New invocation:\n",
      "\n",
      "We laugh, we cry, we seek, we strive,\n",
      "Together we learn what it means to be alive,\n",
      "Through joys and sorrows, we continue to grow,\n",
      "Sharing love and dreams as life’s rivers flow.\n",
      "== Score: 7.0\n",
      "\n",
      "\n",
      "Continuing partial invocation:\n",
      "\n",
      "We laugh and we cry, we lose and we gain,\n"
     ]
    },
    {
     "name": "stderr",
     "output_type": "stream",
     "text": [
      "Running MCTS:  26%|██▋       | 25/95 [00:20<00:56,  1.24it/s]"
     ]
    },
    {
     "name": "stdout",
     "output_type": "stream",
     "text": [
      "== New invocation:\n",
      "\n",
      "We laugh, we cry, we seek, we strive,\n",
      "With hopes and dreams that keep us alive,\n",
      "We stumble, we rise, in this dance we dive,\n",
      "To find meaning in the moments we contrive.\n",
      "== Score: 7.0\n",
      "\n",
      "\n",
      "Continuing partial invocation:\n",
      "\n",
      "We laugh and we cry, we lose and we gain,\n"
     ]
    },
    {
     "name": "stderr",
     "output_type": "stream",
     "text": [
      "Running MCTS:  27%|██▋       | 26/95 [00:21<00:47,  1.45it/s]"
     ]
    },
    {
     "name": "stdout",
     "output_type": "stream",
     "text": [
      "== New invocation:\n",
      "\n",
      "We laugh, we cry, we seek, we strive,\n",
      "With hopes and dreams that keep us alive,\n",
      "In the tangled web of love, we thrive,\n",
      "In fleeting moments, our souls derive.\n",
      "== Score: 6.0\n",
      "\n",
      "\n",
      "Continuing partial invocation:\n",
      "\n",
      "Tears fall unnoticed in the rain,\n",
      "As laughter echoes through the pain,\n"
     ]
    },
    {
     "name": "stderr",
     "output_type": "stream",
     "text": [
      "Running MCTS:  28%|██▊       | 27/95 [00:22<00:51,  1.31it/s]"
     ]
    },
    {
     "name": "stdout",
     "output_type": "stream",
     "text": [
      "== New invocation:\n",
      "\n",
      "We strive for joy yet wrestle doubt,\n",
      "We chase the light but fear the night,\n",
      "Our hearts seek peace while minds spar fights,\n",
      "We yearn for love, yet guard with might.\n",
      "== Score: 8.0\n",
      "\n",
      "\n",
      "Continuing partial invocation:\n",
      "\n",
      "We laugh and we cry, we lose and we gain,\n"
     ]
    },
    {
     "name": "stderr",
     "output_type": "stream",
     "text": [
      "Running MCTS:  29%|██▉       | 28/95 [00:23<00:59,  1.12it/s]"
     ]
    },
    {
     "name": "stdout",
     "output_type": "stream",
     "text": [
      "== New invocation:\n",
      "\n",
      "We laugh and we cry, we lose and we gain,\n",
      "Life's dance is both pleasure and pain,\n",
      "We wander through shadows, yet reach for the light,\n",
      "In the puzzle of time, we're all pieces unite.\n",
      "== Score: 8.0\n",
      "\n",
      "\n",
      "Continuing partial invocation:\n",
      "\n",
      "Tears fall unnoticed in the rain,\n",
      "As laughter echoes through the pain,\n"
     ]
    },
    {
     "name": "stderr",
     "output_type": "stream",
     "text": [
      "Running MCTS:  31%|███       | 29/95 [00:23<00:50,  1.31it/s]"
     ]
    },
    {
     "name": "stdout",
     "output_type": "stream",
     "text": [
      "== New invocation:\n",
      "\n",
      "We strive for joy yet wrestle doubt,\n",
      "To find our place, we search throughout,\n",
      "The path is blurred with shadowed shouts,\n",
      "Yet in this dance, we figure out.\n",
      "== Score: 7.0\n",
      "\n",
      "\n",
      "Continuing partial invocation:\n",
      "\n",
      "Tears fall unnoticed in the rain,\n",
      "As laughter echoes through the pain,\n"
     ]
    },
    {
     "name": "stderr",
     "output_type": "stream",
     "text": [
      "Running MCTS:  32%|███▏      | 30/95 [00:24<00:55,  1.17it/s]"
     ]
    },
    {
     "name": "stdout",
     "output_type": "stream",
     "text": [
      "== New invocation:\n",
      "\n",
      "Tears fall unnoticed in the rain,\n",
      "As laughter echoes through the pain,\n",
      "Yet hearts beat on, despite the strain,\n",
      "Dreams persist like whispered refrain.\n",
      "== Score: 8.0\n",
      "\n",
      "\n",
      "Continuing partial invocation:\n",
      "\n",
      "Sometimes smiles hide the deepest fears,\n"
     ]
    },
    {
     "name": "stderr",
     "output_type": "stream",
     "text": [
      "Running MCTS:  33%|███▎      | 31/95 [00:25<00:53,  1.20it/s]"
     ]
    },
    {
     "name": "stdout",
     "output_type": "stream",
     "text": [
      "== New invocation:\n",
      "\n",
      "We laugh and we cry, we lose and we gain,\n",
      "In the dance of our days, joy mingles with pain,\n",
      "We search for the meaning, though much is in vain,\n",
      "As threads in the fabric, we struggle and strain.\n",
      "== Score: 8.0\n",
      "\n",
      "\n",
      "Continuing partial invocation:\n",
      "\n",
      "We laugh, we cry, we seek, we strive,\n",
      "We dance through storms, yet stay alive,\n",
      "== New invocation:\n",
      "\n",
      "We laugh and we cry, we lose and we gain,\n",
      "We wander through questions, exploring the pain,\n",
      "Searching for meaning, in sunshine and rain,\n",
      "And dance in the moonlight, embracing the strain.\n",
      "== Score: 8.0\n",
      "\n",
      "\n",
      "Continuing partial invocation:\n",
      "\n",
      "Tears fall unnoticed in the rain,\n",
      "Pain whispers softly through the stain,\n"
     ]
    },
    {
     "name": "stderr",
     "output_type": "stream",
     "text": [
      "Running MCTS:  36%|███▌      | 34/95 [00:27<00:40,  1.49it/s]"
     ]
    },
    {
     "name": "stdout",
     "output_type": "stream",
     "text": [
      "== New invocation:\n",
      "\n",
      "Tears fall unnoticed in the rain,\n",
      "As laughter echoes through the pain,\n",
      "Hearts search for shelter amid the storm,\n",
      "Hope flickers in the darkest form.\n",
      "== Score: 7.0\n",
      "\n",
      "\n",
      "Continuing partial invocation:\n",
      "\n",
      "Tears fall unnoticed in the rain,\n",
      "As laughter echoes through the pain,\n",
      "Hearts will mend and break again,\n",
      "== New invocation:\n",
      "\n",
      "Sometimes smiles hide the deepest fears,\n",
      "Where laughter mingles with silent tears,\n",
      "A heart that beats yet feels unclear,\n",
      "In whispers lost and longing near.\n",
      "== Score: 8.0\n",
      "\n",
      "\n",
      "Continuing partial invocation:\n",
      "\n",
      "Hearts that soar yet stumble too,\n",
      "Dreams collide in skies of blue,\n"
     ]
    },
    {
     "name": "stderr",
     "output_type": "stream",
     "text": [
      "Running MCTS:  37%|███▋      | 35/95 [00:27<00:34,  1.74it/s]"
     ]
    },
    {
     "name": "stdout",
     "output_type": "stream",
     "text": [
      "== New invocation:\n",
      "\n",
      "Tears fall unnoticed in the rain,\n",
      "As laughter echoes through the pain,\n",
      "Hearts break in rhythm, beats remain,\n",
      "We dance through daylight's fleeting chain.\n",
      "== Score: 7.0\n",
      "\n",
      "\n",
      "Continuing partial invocation:\n",
      "\n",
      "Tears fall unnoticed in the rain,\n",
      "As laughter echoes through the pain,\n",
      "Hearts will mend and break again,\n"
     ]
    },
    {
     "name": "stderr",
     "output_type": "stream",
     "text": [
      "Running MCTS:  38%|███▊      | 36/95 [00:28<00:41,  1.42it/s]"
     ]
    },
    {
     "name": "stdout",
     "output_type": "stream",
     "text": [
      "== New invocation:\n",
      "\n",
      "We laugh, we cry, we seek, we strive,\n",
      "We dance through storms, yet stay alive,\n",
      "In tangled webs of truth and lies,\n",
      "Our whispers linger as time flies.\n",
      "== Score: 7.0\n",
      "\n",
      "\n",
      "Continuing partial invocation:\n",
      "\n",
      "Tears fall unnoticed in the rain,\n",
      "As laughter echoes through the pain,\n",
      "Hearts will mend and break again,\n"
     ]
    },
    {
     "name": "stderr",
     "output_type": "stream",
     "text": [
      "Running MCTS:  39%|███▉      | 37/95 [00:29<00:38,  1.51it/s]"
     ]
    },
    {
     "name": "stdout",
     "output_type": "stream",
     "text": [
      "== New invocation:\n",
      "\n",
      "Tears fall unnoticed in the rain,\n",
      "Pain whispers softly through the stain,\n",
      "Lonely hearts sing their silent refrain,\n",
      "A fleeting joy through each tiny gain.\n",
      "== Score: 6.0\n",
      "\n",
      "\n",
      "Continuing partial invocation:\n",
      "\n",
      "Tears fall unnoticed in the rain,\n",
      "As laughter echoes through the pain,\n",
      "Hearts will mend and break again,\n"
     ]
    },
    {
     "name": "stderr",
     "output_type": "stream",
     "text": [
      "Running MCTS:  40%|████      | 38/95 [00:30<00:38,  1.50it/s]"
     ]
    },
    {
     "name": "stdout",
     "output_type": "stream",
     "text": [
      "== New invocation:\n",
      "\n",
      "Hearts that soar yet stumble too,\n",
      "Dreams collide in skies of blue,\n",
      "In whispers soft, our truths unfold,\n",
      "In fragile hands, we cradle gold.\n",
      "== Score: 9.0\n",
      "\n",
      "\n",
      "Continuing partial invocation:\n",
      "\n",
      "Tears fall unnoticed in the rain,\n",
      "Hearts grasp softly at the pain,\n"
     ]
    },
    {
     "name": "stderr",
     "output_type": "stream",
     "text": [
      "Running MCTS:  41%|████      | 39/95 [00:31<00:44,  1.27it/s]"
     ]
    },
    {
     "name": "stdout",
     "output_type": "stream",
     "text": [
      "== New invocation:\n",
      "\n",
      "Tears fall unnoticed in the rain,\n",
      "As laughter echoes through the pain,\n",
      "Hearts will mend and break again,\n",
      "In endless cycles we remain.\n",
      "== Score: 8.0\n",
      "\n",
      "\n",
      "Continuing partial invocation:\n",
      "\n",
      "Tears fall unnoticed in the rain,\n",
      "Hearts grasp softly at the pain,\n"
     ]
    },
    {
     "name": "stderr",
     "output_type": "stream",
     "text": [
      "Running MCTS:  42%|████▏     | 40/95 [00:31<00:39,  1.40it/s]"
     ]
    },
    {
     "name": "stdout",
     "output_type": "stream",
     "text": [
      "== New invocation:\n",
      "\n",
      "Tears fall unnoticed in the rain,\n",
      "As laughter echoes through the pain,\n",
      "Hearts will mend and break again,\n",
      "Hope blooms brighter after strife.\n",
      "== Score: 7.0\n",
      "\n",
      "\n",
      "Continuing partial invocation:\n",
      "\n",
      "Tears fall unnoticed in the rain,\n",
      "Hearts grasp softly at the pain,\n"
     ]
    },
    {
     "name": "stderr",
     "output_type": "stream",
     "text": [
      "Running MCTS:  43%|████▎     | 41/95 [00:32<00:34,  1.58it/s]"
     ]
    },
    {
     "name": "stdout",
     "output_type": "stream",
     "text": [
      "== New invocation:\n",
      "\n",
      "Tears fall unnoticed in the rain,\n",
      "As laughter echoes through the pain,\n",
      "Hearts will mend and break again,\n",
      "Hope flickers dim, yet doesn't wane.\n",
      "== Score: 8.0\n",
      "\n",
      "\n",
      "Continuing partial invocation:\n",
      "\n",
      "We laugh, we cry, we seek, we strive,\n",
      "We dance through storms, yet stay alive,\n",
      "Our fragile bonds through darkness shine,\n"
     ]
    },
    {
     "name": "stderr",
     "output_type": "stream",
     "text": [
      "Running MCTS:  44%|████▍     | 42/95 [00:32<00:32,  1.62it/s]"
     ]
    },
    {
     "name": "stdout",
     "output_type": "stream",
     "text": [
      "== New invocation:\n",
      "\n",
      "Tears fall unnoticed in the rain,\n",
      "As laughter echoes through the pain,\n",
      "Hearts will mend and break again,\n",
      "Time moves on, a fragile chain.\n",
      "== Score: 6.0\n",
      "\n",
      "\n",
      "Continuing partial invocation:\n",
      "\n",
      "Tears fall unnoticed in the rain,\n",
      "Hearts grasp softly at the pain,\n"
     ]
    },
    {
     "name": "stderr",
     "output_type": "stream",
     "text": [
      "Running MCTS:  45%|████▌     | 43/95 [00:33<00:32,  1.58it/s]"
     ]
    },
    {
     "name": "stdout",
     "output_type": "stream",
     "text": [
      "== New invocation:\n",
      "\n",
      "Tears fall unnoticed in the rain,\n",
      "Hearts grasp softly at the pain,\n",
      "Yet kindness blooms where hope is lain,\n",
      "In quiet strength, love will sustain.\n",
      "== Score: 7.0\n",
      "\n",
      "\n",
      "Continuing partial invocation:\n",
      "\n",
      "Tears fall unnoticed in the rain,\n",
      "As laughter echoes through the pain,\n",
      "Hearts will mend and break again,\n",
      "Life's dance, a fragile, vibrant chain.\n"
     ]
    },
    {
     "name": "stderr",
     "output_type": "stream",
     "text": [
      "Running MCTS:  46%|████▋     | 44/95 [00:33<00:27,  1.84it/s]"
     ]
    },
    {
     "name": "stdout",
     "output_type": "stream",
     "text": [
      "== New invocation:\n",
      "\n",
      "We laugh, we cry, we seek, we strive,\n",
      "We dance through storms, yet stay alive,\n",
      "Our fragile bonds through darkness shine,\n",
      "In shared stories, our lives entwine.\n",
      "== Score: 8.0\n",
      "\n",
      "\n",
      "Continuing partial invocation:\n",
      "\n",
      "Tears fall unnoticed in the rain,\n",
      "As laughter echoes through the pain,\n",
      "Hearts will mend and break again,\n",
      "Life's dance, a fragile, vibrant chain.\n"
     ]
    },
    {
     "name": "stderr",
     "output_type": "stream",
     "text": [
      "Running MCTS:  47%|████▋     | 45/95 [00:35<00:46,  1.08it/s]"
     ]
    },
    {
     "name": "stdout",
     "output_type": "stream",
     "text": [
      "== New invocation:\n",
      "\n",
      "Tears fall unnoticed in the rain,\n",
      "Hearts grasp softly at the pain,\n",
      "Hope flickers in the silent night,\n",
      "As stars reveal their whispered light.\n",
      "== Score: 8.0\n",
      "\n",
      "\n",
      "Continuing partial invocation:\n",
      "\n",
      "Tears fall unnoticed in the rain,\n",
      "As laughter echoes through the pain,\n",
      "Hearts will mend and break again,\n",
      "Life's dance, a fragile, vibrant chain.\n"
     ]
    },
    {
     "name": "stderr",
     "output_type": "stream",
     "text": [
      "Running MCTS:  48%|████▊     | 46/95 [00:36<00:40,  1.22it/s]"
     ]
    },
    {
     "name": "stdout",
     "output_type": "stream",
     "text": [
      "== New invocation:\n",
      "\n",
      "Tears fall unnoticed in the rain,\n",
      "As laughter echoes through the pain,\n",
      "Hearts will mend and break again,\n",
      "Life's dance, a fragile, vibrant chain.\n",
      "== Score: 7.0\n",
      "\n",
      "\n",
      "Continuing partial invocation:\n",
      "\n",
      "Tears fall unnoticed in the rain,\n",
      "Faces hide their silent pain,\n",
      "Hearts yearn for warmth, but break in vain,\n",
      "== New invocation:\n",
      "\n",
      "Tears fall unnoticed in the rain,\n",
      "Hearts grasp softly at the pain,\n",
      "Hope flickers gently through the gloom,\n",
      "Souls seek comfort in the room.\n",
      "== Score: 8.0\n",
      "\n",
      "\n",
      "Continuing partial invocation:\n",
      "\n",
      "Tears fall unnoticed in the rain,\n",
      "As laughter echoes through the pain,\n",
      "Yet hearts beat on, despite the strain,\n"
     ]
    },
    {
     "name": "stderr",
     "output_type": "stream",
     "text": [
      "Running MCTS:  51%|█████     | 48/95 [00:37<00:34,  1.38it/s]"
     ]
    },
    {
     "name": "stdout",
     "output_type": "stream",
     "text": [
      "== New invocation:\n",
      "\n",
      "Tears fall unnoticed in the rain,\n",
      "As laughter echoes through the pain,\n",
      "Hearts will mend and break again,\n",
      "Life's dance, a fragile, vibrant chain.\n",
      "== Score: 5.0\n",
      "\n",
      "\n",
      "Continuing partial invocation:\n",
      "\n",
      "We strive for joy yet wrestle doubt,\n",
      "Our hearts are full, while time runs out,\n"
     ]
    },
    {
     "name": "stderr",
     "output_type": "stream",
     "text": [
      "Running MCTS:  52%|█████▏    | 49/95 [00:37<00:29,  1.56it/s]"
     ]
    },
    {
     "name": "stdout",
     "output_type": "stream",
     "text": [
      "== New invocation:\n",
      "\n",
      "Tears fall unnoticed in the rain,\n",
      "Hearts grasp softly at the pain,\n",
      "Fingers reach for dreams in vain,\n",
      "Yet still, we find the strength to fight.\n",
      "== Score: 6.0\n",
      "\n",
      "\n",
      "Continuing partial invocation:\n",
      "\n",
      "Tears fall unnoticed in the rain,\n",
      "As laughter echoes through the pain,\n",
      "Hearts will mend and break again,\n",
      "In endless cycles we remain.\n"
     ]
    },
    {
     "name": "stderr",
     "output_type": "stream",
     "text": [
      "Running MCTS:  53%|█████▎    | 50/95 [00:38<00:26,  1.73it/s]"
     ]
    },
    {
     "name": "stdout",
     "output_type": "stream",
     "text": [
      "== New invocation:\n",
      "\n",
      "Tears fall unnoticed in the rain,\n",
      "Faces hide their silent pain,\n",
      "Hearts yearn for warmth, but break in vain,\n",
      "As we seek the light, shadows remain.\n",
      "== Score: 9.0\n",
      "\n",
      "\n",
      "Continuing partial invocation:\n",
      "\n",
      "Hearts that soar yet stumble too,\n",
      "Dreams that fade, yet dreams renew,\n"
     ]
    },
    {
     "name": "stderr",
     "output_type": "stream",
     "text": [
      "Running MCTS:  54%|█████▎    | 51/95 [00:38<00:27,  1.61it/s]"
     ]
    },
    {
     "name": "stdout",
     "output_type": "stream",
     "text": [
      "== New invocation:\n",
      "\n",
      "Tears fall unnoticed in the rain,\n",
      "As laughter echoes through the pain,\n",
      "Yet hearts beat on, despite the strain,\n",
      "In our shared struggle, we remain.\n",
      "== Score: 8.0\n",
      "\n",
      "\n",
      "Continuing partial invocation:\n",
      "\n",
      "Tears fall unnoticed in the rain,\n",
      "As laughter echoes through the pain,\n",
      "Hearts will mend and break again,\n",
      "In endless cycles we remain.\n"
     ]
    },
    {
     "name": "stderr",
     "output_type": "stream",
     "text": [
      "Running MCTS:  55%|█████▍    | 52/95 [00:39<00:27,  1.59it/s]"
     ]
    },
    {
     "name": "stdout",
     "output_type": "stream",
     "text": [
      "== New invocation:\n",
      "\n",
      "Tears fall unnoticed in the rain,\n",
      "As laughter echoes through the pain,\n",
      "Hearts will mend and break again,\n",
      "In endless cycles we remain.\n",
      "== Score: 8.0\n",
      "\n",
      "\n",
      "Continuing partial invocation:\n",
      "\n",
      "Tears fall unnoticed in the rain,\n",
      "As laughter echoes through the pain,\n",
      "Hearts will mend and break again,\n",
      "Hope flickers dim, yet doesn't wane.\n",
      "== New invocation:\n",
      "\n",
      "Tears fall unnoticed in the rain,\n",
      "As laughter echoes through the pain,\n",
      "Hearts will mend and break again,\n",
      "Life's dance, a fragile, vibrant chain.\n",
      "== Score: 7.0\n",
      "\n",
      "\n",
      "Continuing partial invocation:\n",
      "\n",
      "We laugh and we cry under endless skies,\n"
     ]
    },
    {
     "name": "stderr",
     "output_type": "stream",
     "text": [
      "Running MCTS:  57%|█████▋    | 54/95 [00:40<00:25,  1.60it/s]"
     ]
    },
    {
     "name": "stdout",
     "output_type": "stream",
     "text": [
      "== New invocation:\n",
      "\n",
      "Tears fall unnoticed in the rain,\n",
      "As laughter echoes through the pain,\n",
      "Hearts will mend and break again,\n",
      "In endless cycles we remain.\n",
      "== Score: 7.0\n",
      "\n",
      "\n",
      "Continuing partial invocation:\n",
      "\n",
      "We laugh and we cry under endless skies,\n"
     ]
    },
    {
     "name": "stderr",
     "output_type": "stream",
     "text": [
      "Running MCTS:  58%|█████▊    | 55/95 [00:41<00:21,  1.85it/s]"
     ]
    },
    {
     "name": "stdout",
     "output_type": "stream",
     "text": [
      "== New invocation:\n",
      "\n",
      "Hearts that soar yet stumble too,\n",
      "Dreams that fade, yet dreams renew,\n",
      "Paths we weave of joy and pain,\n",
      "Connections made in sun and rain.\n",
      "== Score: 8.0\n",
      "\n",
      "\n",
      "Continuing partial invocation:\n",
      "\n",
      "Tears fall unnoticed in the rain,\n",
      "As laughter echoes through the pain,\n",
      "Hearts will mend and break again,\n",
      "Hope flickers dim, yet doesn't wane.\n"
     ]
    },
    {
     "name": "stderr",
     "output_type": "stream",
     "text": [
      "Running MCTS:  59%|█████▉    | 56/95 [00:41<00:18,  2.11it/s]"
     ]
    },
    {
     "name": "stdout",
     "output_type": "stream",
     "text": [
      "== New invocation:\n",
      "\n",
      "Tears fall unnoticed in the rain,\n",
      "As laughter echoes through the pain,\n",
      "Hearts will mend and break again,\n",
      "Hope flickers dim, yet doesn't wane.\n",
      "== Score: 7.0\n",
      "\n",
      "\n",
      "Continuing partial invocation:\n",
      "\n",
      "Tears fall unnoticed in the rain,\n",
      "As laughter echoes through the pain,\n",
      "Hearts break in rhythm, beats remain,\n"
     ]
    },
    {
     "name": "stderr",
     "output_type": "stream",
     "text": [
      "Running MCTS:  60%|██████    | 57/95 [00:42<00:23,  1.64it/s]"
     ]
    },
    {
     "name": "stdout",
     "output_type": "stream",
     "text": [
      "== New invocation:\n",
      "\n",
      "We strive for joy yet wrestle doubt,\n",
      "Our hearts are full, while time runs out,\n",
      "We seek connection in the night,\n",
      "In fleeting moments, find what's right.\n",
      "== Score: 8.0\n",
      "\n",
      "\n",
      "Continuing partial invocation:\n",
      "\n",
      "People laugh and people cry,\n"
     ]
    },
    {
     "name": "stderr",
     "output_type": "stream",
     "text": [
      "Running MCTS:  61%|██████    | 58/95 [00:42<00:18,  2.00it/s]"
     ]
    },
    {
     "name": "stdout",
     "output_type": "stream",
     "text": [
      "== New invocation:\n",
      "\n",
      "Tears fall unnoticed in the rain,\n",
      "As laughter echoes through the pain,\n",
      "Hearts will mend and break again,\n",
      "Hope flickers dim, yet doesn't wane.\n",
      "== Score: 8.0\n",
      "\n",
      "\n",
      "Continuing partial invocation:\n",
      "\n",
      "We strive for joy yet wrestle doubt,\n",
      "We chase the light but fear the night,\n"
     ]
    },
    {
     "name": "stderr",
     "output_type": "stream",
     "text": [
      "Running MCTS:  62%|██████▏   | 59/95 [00:43<00:18,  1.91it/s]"
     ]
    },
    {
     "name": "stdout",
     "output_type": "stream",
     "text": [
      "== New invocation:\n",
      "\n",
      "We laugh and we cry under endless skies,\n",
      "We seek simple truths, and live woven lies,\n",
      "We dance through chaos, with hope in our eyes,\n",
      "We dream in whispers, while silence replies.\n",
      "== Score: 8.5\n",
      "\n",
      "\n",
      "Continuing partial invocation:\n",
      "\n",
      "Tears fall unnoticed in the rain,\n",
      "Faces hide their silent pain,\n",
      "Hearts yearn for warmth, but break in vain,\n"
     ]
    },
    {
     "name": "stderr",
     "output_type": "stream",
     "text": [
      "Running MCTS:  63%|██████▎   | 60/95 [00:43<00:22,  1.59it/s]"
     ]
    },
    {
     "name": "stdout",
     "output_type": "stream",
     "text": [
      "== New invocation:\n",
      "\n",
      "Tears fall unnoticed in the rain,\n",
      "As laughter echoes through the pain,\n",
      "Hearts break in rhythm, beats remain,\n",
      "Dreams float away like leaves untamed.\n",
      "== Score: 8.0\n",
      "\n",
      "\n",
      "Continuing partial invocation:\n",
      "\n",
      "We laugh and we cry, we lose and we gain,\n",
      "Life's dance is both pleasure and pain,\n"
     ]
    },
    {
     "name": "stderr",
     "output_type": "stream",
     "text": [
      "Running MCTS:  64%|██████▍   | 61/95 [00:44<00:19,  1.76it/s]"
     ]
    },
    {
     "name": "stdout",
     "output_type": "stream",
     "text": [
      "== New invocation:\n",
      "\n",
      "We laugh and we cry under endless skies,\n",
      "Hopefully seeking what never satisfies,\n",
      "In the dance of our days, where all living things rise,\n",
      "Yet in simple moments, true wonder lies.\n",
      "== Score: 8.0\n",
      "\n",
      "\n",
      "Continuing partial invocation:\n",
      "\n",
      "People laugh and people cry,\n"
     ]
    },
    {
     "name": "stderr",
     "output_type": "stream",
     "text": [
      "Running MCTS:  65%|██████▌   | 62/95 [00:45<00:20,  1.58it/s]"
     ]
    },
    {
     "name": "stdout",
     "output_type": "stream",
     "text": [
      "== New invocation:\n",
      "\n",
      "People laugh and people cry,\n",
      "They live and love, then wonder why,\n",
      "The stars above keep shining high.\n",
      "The river flows, as time goes by.\n",
      "== Score: 6.0\n",
      "\n",
      "\n",
      "Continuing partial invocation:\n",
      "\n",
      "Hearts that soar yet stumble too,\n",
      "Dreams collide in skies of blue,\n"
     ]
    },
    {
     "name": "stderr",
     "output_type": "stream",
     "text": [
      "Running MCTS:  66%|██████▋   | 63/95 [00:45<00:18,  1.70it/s]"
     ]
    },
    {
     "name": "stdout",
     "output_type": "stream",
     "text": [
      "== New invocation:\n",
      "\n",
      "Tears fall unnoticed in the rain,\n",
      "Faces hide their silent pain,\n",
      "Hearts yearn for warmth, but break in vain,\n",
      "Hope whispers softly through the strain.\n",
      "== Score: 7.0\n",
      "\n",
      "\n",
      "Continuing partial invocation:\n",
      "\n",
      "We laugh and we cry under endless skies,\n"
     ]
    },
    {
     "name": "stderr",
     "output_type": "stream",
     "text": [
      "Running MCTS:  67%|██████▋   | 64/95 [00:46<00:20,  1.55it/s]"
     ]
    },
    {
     "name": "stdout",
     "output_type": "stream",
     "text": [
      "== New invocation:\n",
      "\n",
      "We strive for joy yet wrestle doubt,\n",
      "We chase the light but fear the night,\n",
      "We seek our truths when lost in dreams,\n",
      "We build our worlds with fragile schemes.\n",
      "== Score: 8.0\n",
      "\n",
      "\n",
      "Continuing partial invocation:\n",
      "\n",
      "Tears fall unnoticed in the rain,\n",
      "Faces hide their silent pain,\n",
      "Hearts yearn for joy they can't explain,\n"
     ]
    },
    {
     "name": "stderr",
     "output_type": "stream",
     "text": [
      "Running MCTS:  68%|██████▊   | 65/95 [00:47<00:20,  1.49it/s]"
     ]
    },
    {
     "name": "stdout",
     "output_type": "stream",
     "text": [
      "== New invocation:\n",
      "\n",
      "We laugh and we cry, we lose and we gain,\n",
      "Life's dance is both pleasure and pain,\n",
      "From the cradle to grave, it's a puzzling chain,\n",
      "We search for our meaning, yet shadows remain.\n",
      "== Score: 7.0\n",
      "\n",
      "\n",
      "Continuing partial invocation:\n",
      "\n",
      "We laugh, we cry, we seek, we strive,\n",
      "We share our dreams, we fight to thrive,\n"
     ]
    },
    {
     "name": "stderr",
     "output_type": "stream",
     "text": [
      "Running MCTS:  69%|██████▉   | 66/95 [00:47<00:17,  1.69it/s]"
     ]
    },
    {
     "name": "stdout",
     "output_type": "stream",
     "text": [
      "== New invocation:\n",
      "\n",
      "People laugh and people cry,\n",
      "Living life as moments fly,\n",
      "Some find love and some feel strife,\n",
      "Whispers echo through a life.\n",
      "== Score: 8.0\n",
      "\n",
      "\n",
      "Continuing partial invocation:\n",
      "\n",
      "Tears fall unnoticed in the rain,\n",
      "Faces hide their silent pain,\n",
      "Hearts yearn for warmth, but break in vain,\n",
      "Yet hope flickers like a small flame.\n"
     ]
    },
    {
     "name": "stderr",
     "output_type": "stream",
     "text": [
      "Running MCTS:  71%|███████   | 67/95 [00:48<00:18,  1.55it/s]"
     ]
    },
    {
     "name": "stdout",
     "output_type": "stream",
     "text": [
      "== New invocation:\n",
      "\n",
      "Tears fall unnoticed in the rain,\n",
      "Faces hide their silent pain,\n",
      "Hearts yearn for joy they can't explain,\n",
      "Yet every dawn whispers hope again.\n",
      "== Score: 9.0\n",
      "\n",
      "\n",
      "Continuing partial invocation:\n",
      "\n",
      "Tears fall unnoticed in the rain,\n",
      "As laughter echoes through the pain,\n",
      "Hearts search for shelter amid the storm,\n"
     ]
    },
    {
     "name": "stderr",
     "output_type": "stream",
     "text": [
      "Running MCTS:  72%|███████▏  | 68/95 [00:48<00:15,  1.76it/s]"
     ]
    },
    {
     "name": "stdout",
     "output_type": "stream",
     "text": [
      "== New invocation:\n",
      "\n",
      "Hearts that soar yet stumble too,\n",
      "Dreams collide in skies of blue,\n",
      "Hopes like whispers, fading, new,\n",
      "Tears like rain, yet skies break through.\n",
      "== Score: 6.0\n",
      "\n",
      "\n",
      "Continuing partial invocation:\n",
      "\n",
      "Hearts that soar yet stumble too,\n",
      "Dreams collide in skies of blue,\n",
      "In whispers soft, our truths unfold,\n"
     ]
    },
    {
     "name": "stderr",
     "output_type": "stream",
     "text": [
      "Running MCTS:  73%|███████▎  | 69/95 [00:48<00:12,  2.16it/s]"
     ]
    },
    {
     "name": "stdout",
     "output_type": "stream",
     "text": [
      "== New invocation:\n",
      "\n",
      "We laugh and we cry under endless skies,\n",
      "Dream of tomorrow as today slips by,\n",
      "Walk the winding paths while chasing why.\n",
      "In the mirror's gaze, face truths we deny.\n",
      "== Score: 8.0\n",
      "\n",
      "\n",
      "Continuing partial invocation:\n",
      "\n",
      "Tears fall unnoticed in the rain,\n",
      "Faces hide their silent pain,\n",
      "Hearts yearn for warmth, but break in vain,\n",
      "As we seek the light, shadows remain.\n"
     ]
    },
    {
     "name": "stderr",
     "output_type": "stream",
     "text": [
      "Running MCTS:  74%|███████▎  | 70/95 [00:49<00:12,  1.95it/s]"
     ]
    },
    {
     "name": "stdout",
     "output_type": "stream",
     "text": [
      "== New invocation:\n",
      "\n",
      "Tears fall unnoticed in the rain,\n",
      "Faces hide their silent pain,\n",
      "Hearts yearn for warmth, but break in vain,\n",
      "Yet hope flickers like a small flame.\n",
      "== Score: 7.0\n",
      "\n",
      "\n",
      "Continuing partial invocation:\n",
      "\n",
      "Hearts that yearn for joy anew,\n",
      "== New invocation:\n",
      "\n",
      "We laugh, we cry, we seek, we strive,\n",
      "We share our dreams, we fight to thrive,\n",
      "We love, we lose, we learn to cope,\n",
      "Together we hold onto hope.\n",
      "== Score: 7.0\n",
      "\n",
      "\n",
      "Continuing partial invocation:\n",
      "\n",
      "Tears fall unnoticed in the rain,\n",
      "Faces hide their silent pain,\n",
      "Hearts yearn for warmth, but break in vain,\n",
      "As we seek the light, shadows remain.\n"
     ]
    },
    {
     "name": "stderr",
     "output_type": "stream",
     "text": [
      "Running MCTS:  76%|███████▌  | 72/95 [00:50<00:11,  2.08it/s]"
     ]
    },
    {
     "name": "stdout",
     "output_type": "stream",
     "text": [
      "== New invocation:\n",
      "\n",
      "Hearts that soar yet stumble too,\n",
      "Dreams collide in skies of blue,\n",
      "In whispers soft, our truths unfold,\n",
      "As shadows dance with stories told.\n",
      "== Score: 8.0\n",
      "\n",
      "\n",
      "Continuing partial invocation:\n",
      "\n",
      "Tears fall unnoticed in the rain,\n",
      "Faces hide their silent pain,\n",
      "Hearts yearn for warmth, but break in vain,\n",
      "As we seek the light, shadows remain.\n"
     ]
    },
    {
     "name": "stderr",
     "output_type": "stream",
     "text": [
      "Running MCTS:  78%|███████▊  | 74/95 [00:50<00:07,  2.76it/s]"
     ]
    },
    {
     "name": "stdout",
     "output_type": "stream",
     "text": [
      "== New invocation:\n",
      "\n",
      "Tears fall unnoticed in the rain,\n",
      "As laughter echoes through the pain,\n",
      "Hearts search for shelter amid the storm,\n",
      "Together we glimpse our fragile form.\n",
      "== Score: 8.0\n",
      "\n",
      "\n",
      "Continuing partial invocation:\n",
      "\n",
      "Tears fall unnoticed in the rain,\n",
      "Faces hide their silent pain,\n",
      "Hearts yearn for warmth, but break in vain,\n",
      "As we seek the light, shadows remain.\n",
      "== New invocation:\n",
      "\n",
      "Tears fall unnoticed in the rain,\n",
      "Faces hide their silent pain,\n",
      "Hearts yearn for warmth, but break in vain,\n",
      "As we seek the light, shadows remain.\n",
      "== Score: 7.0\n",
      "\n",
      "\n",
      "Continuing partial invocation:\n",
      "\n",
      "We laugh and we cry, we lose and we gain,\n",
      "In the dance of our days, joy mingles with pain,\n"
     ]
    },
    {
     "name": "stderr",
     "output_type": "stream",
     "text": [
      "Running MCTS:  79%|███████▉  | 75/95 [00:52<00:13,  1.44it/s]"
     ]
    },
    {
     "name": "stdout",
     "output_type": "stream",
     "text": [
      "== New invocation:\n",
      "\n",
      "Tears fall unnoticed in the rain,\n",
      "Faces hide their silent pain,\n",
      "Hearts yearn for warmth, but break in vain,\n",
      "As we seek the light, shadows remain.\n",
      "== Score: 8.0\n",
      "\n",
      "\n",
      "Continuing partial invocation:\n",
      "\n",
      "Tears fall unnoticed in the rain,\n",
      "Hearts grasp softly at the pain,\n",
      "Hope flickers like a gentle flame,\n",
      "== New invocation:\n",
      "\n",
      "Tears fall unnoticed in the rain,\n",
      "Faces hide their silent pain,\n",
      "Hearts yearn for warmth, but break in vain,\n",
      "As we seek the light, shadows remain.\n",
      "== Score: 8.0\n",
      "\n",
      "\n",
      "Continuing partial invocation:\n",
      "\n",
      "We laugh and we cry, we lose and we gain,\n",
      "We wander through questions, exploring the pain,\n",
      "== New invocation:\n",
      "\n",
      "Tears fall unnoticed in the rain,\n",
      "Faces hide their silent pain,\n",
      "Hearts yearn for warmth, but break in vain,\n",
      "As we seek the light, shadows remain.\n",
      "== Score: 8.0\n",
      "\n"
     ]
    },
    {
     "name": "stderr",
     "output_type": "stream",
     "text": [
      "Running MCTS:  81%|████████  | 77/95 [00:52<00:07,  2.32it/s]"
     ]
    },
    {
     "name": "stdout",
     "output_type": "stream",
     "text": [
      "\n",
      "Continuing partial invocation:\n",
      "\n",
      "Tears fall unnoticed in the rain,\n",
      "Faces hide their silent pain,\n",
      "Hearts yearn for joy they can't explain,\n"
     ]
    },
    {
     "name": "stderr",
     "output_type": "stream",
     "text": [
      "Running MCTS:  82%|████████▏ | 78/95 [00:53<00:07,  2.27it/s]"
     ]
    },
    {
     "name": "stdout",
     "output_type": "stream",
     "text": [
      "== New invocation:\n",
      "\n",
      "Hearts that yearn for joy anew,\n",
      "In shadows deep, they wander through,\n",
      "Sometimes lost, but never still,\n",
      "With dreams to weave and time to fill.\n",
      "== Score: 8.0\n",
      "\n",
      "\n",
      "Continuing partial invocation:\n",
      "\n",
      "Tears fall unnoticed in the rain,\n",
      "Hearts grasp softly at the pain,\n",
      "Hope flickers gently through the gloom,\n"
     ]
    },
    {
     "name": "stderr",
     "output_type": "stream",
     "text": [
      "Running MCTS:  83%|████████▎ | 79/95 [00:54<00:09,  1.67it/s]"
     ]
    },
    {
     "name": "stdout",
     "output_type": "stream",
     "text": [
      "== New invocation:\n",
      "\n",
      "We laugh and we cry, we lose and we gain,\n",
      "In the dance of our days, joy mingles with pain,\n",
      "We search for connections in chaos, in vain,\n",
      "Yet within each moment, a truth to reclaim.\n",
      "== Score: 7.0\n",
      "\n",
      "\n",
      "Continuing partial invocation:\n",
      "\n",
      "We laugh and we cry under endless skies,\n",
      "Dream of tomorrow as today slips by,\n"
     ]
    },
    {
     "name": "stderr",
     "output_type": "stream",
     "text": [
      "Running MCTS:  84%|████████▍ | 80/95 [00:54<00:08,  1.67it/s]"
     ]
    },
    {
     "name": "stdout",
     "output_type": "stream",
     "text": [
      "== New invocation:\n",
      "\n",
      "Tears fall unnoticed in the rain,\n",
      "Hearts grasp softly at the pain,\n",
      "Hope flickers like a gentle flame,\n",
      "As dreams and doubts entwine the same.\n",
      "== Score: 7.0\n",
      "\n",
      "\n",
      "Continuing partial invocation:\n",
      "\n",
      "Hearts that soar yet stumble too,\n",
      "Dreams unfold in shades of blue,\n"
     ]
    },
    {
     "name": "stderr",
     "output_type": "stream",
     "text": [
      "Running MCTS:  85%|████████▌ | 81/95 [00:55<00:07,  1.85it/s]"
     ]
    },
    {
     "name": "stdout",
     "output_type": "stream",
     "text": [
      "== New invocation:\n",
      "\n",
      "Tears fall unnoticed in the rain,\n",
      "Faces hide their silent pain,\n",
      "Hearts yearn for joy they can't explain,\n",
      "Dreams linger like a fleeting train.\n",
      "== Score: 8.0\n",
      "\n",
      "\n",
      "Continuing partial invocation:\n",
      "\n",
      "Tears fall unnoticed in the rain,\n",
      "Faces hide their silent pain,\n",
      "Hearts yearn for joy they can't explain,\n",
      "Yet every dawn whispers hope again.\n"
     ]
    },
    {
     "name": "stderr",
     "output_type": "stream",
     "text": [
      "Running MCTS:  88%|████████▊ | 84/95 [00:56<00:04,  2.49it/s]"
     ]
    },
    {
     "name": "stdout",
     "output_type": "stream",
     "text": [
      "== New invocation:\n",
      "\n",
      "We laugh and we cry, we lose and we gain,\n",
      "We wander through questions, exploring the pain,\n",
      "Seeking connection in a world that's untamed,\n",
      "Embracing our flaws, in shared light unashamed.\n",
      "== Score: 8.0\n",
      "\n",
      "\n",
      "Continuing partial invocation:\n",
      "\n",
      "Tears fall unnoticed in the rain,\n",
      "Hearts grasp softly at the pain,\n",
      "Hope flickers gently through the gloom,\n",
      "== New invocation:\n",
      "\n",
      "Tears fall unnoticed in the rain,\n",
      "Hearts grasp softly at the pain,\n",
      "Hope flickers gently through the gloom,\n",
      "And dreams take root despite the doom.\n",
      "== Score: 8.0\n",
      "\n",
      "\n",
      "Continuing partial invocation:\n",
      "\n",
      "Hearts that soar yet stumble too,\n",
      "Dreams collide in skies of blue,\n",
      "In whispers soft, our truths unfold,\n",
      "In fragile hands, we cradle gold.\n",
      "== New invocation:\n",
      "\n",
      "Tears fall unnoticed in the rain,\n",
      "Faces hide their silent pain,\n",
      "Hearts yearn for joy they can't explain,\n",
      "Yet every dawn whispers hope again.\n",
      "== Score: 8.0\n",
      "\n",
      "\n",
      "Continuing partial invocation:\n",
      "\n",
      "Tears fall unnoticed in the rain,\n",
      "Hearts grasp softly at the pain,\n",
      "Hope flickers in the silent night,\n"
     ]
    },
    {
     "name": "stderr",
     "output_type": "stream",
     "text": [
      "Running MCTS:  89%|████████▉ | 85/95 [00:56<00:03,  2.60it/s]"
     ]
    },
    {
     "name": "stdout",
     "output_type": "stream",
     "text": [
      "== New invocation:\n",
      "\n",
      "We laugh and we cry under endless skies,\n",
      "Dream of tomorrow as today slips by,\n",
      "We seek distant stars, yet fear what's nigh,\n",
      "In the quiet of night, we ponder the why.\n",
      "== Score: 8.0\n",
      "\n",
      "\n",
      "Continuing partial invocation:\n",
      "\n",
      "Hearts that soar yet stumble too,\n",
      "Dreams collide in skies of blue,\n",
      "In whispers soft, our truths unfold,\n",
      "In fragile hands, we cradle gold.\n"
     ]
    },
    {
     "name": "stderr",
     "output_type": "stream",
     "text": [
      "Running MCTS:  92%|█████████▏| 87/95 [00:57<00:02,  2.90it/s]"
     ]
    },
    {
     "name": "stdout",
     "output_type": "stream",
     "text": [
      "== New invocation:\n",
      "\n",
      "Hearts that soar yet stumble too,\n",
      "Dreams unfold in shades of blue,\n",
      "Words of hope guide us anew,\n",
      "We search for meaning in the view.\n",
      "== Score: 6.0\n",
      "\n",
      "\n",
      "Continuing partial invocation:\n",
      "\n",
      "We laugh and we cry under endless skies,\n",
      "We seek simple truths, and live woven lies,\n",
      "== New invocation:\n",
      "\n",
      "Hearts that soar yet stumble too,\n",
      "Dreams collide in skies of blue,\n",
      "In whispers soft, our truths unfold,\n",
      "In fragile hands, we cradle gold.\n",
      "== Score: 8.0\n",
      "\n",
      "\n",
      "Continuing partial invocation:\n",
      "\n",
      "Tears fall unnoticed in the rain,\n",
      "Hearts grasp softly at the pain,\n",
      "Hope flickers in the silent night,\n"
     ]
    },
    {
     "name": "stderr",
     "output_type": "stream",
     "text": [
      "Running MCTS:  93%|█████████▎| 88/95 [00:57<00:02,  2.82it/s]"
     ]
    },
    {
     "name": "stdout",
     "output_type": "stream",
     "text": [
      "== New invocation:\n",
      "\n",
      "Hearts that soar yet stumble too,\n",
      "Dreams collide in skies of blue,\n",
      "In whispers soft, our truths unfold,\n",
      "In fragile hands, we cradle gold.\n",
      "== Score: 8.0\n",
      "\n",
      "\n",
      "Continuing partial invocation:\n",
      "\n",
      "Tears fall unnoticed in the rain,\n",
      "Faces hide their silent pain,\n",
      "Hearts yearn for joy they can't explain,\n",
      "Dreams linger like a fleeting train.\n"
     ]
    },
    {
     "name": "stderr",
     "output_type": "stream",
     "text": [
      "Running MCTS:  94%|█████████▎| 89/95 [00:58<00:02,  2.19it/s]"
     ]
    },
    {
     "name": "stdout",
     "output_type": "stream",
     "text": [
      "== New invocation:\n",
      "\n",
      "Tears fall unnoticed in the rain,\n",
      "Hearts grasp softly at the pain,\n",
      "Hope flickers gently through the gloom,\n",
      "Time whispers, healing's quiet bloom.\n",
      "== Score: 8.0\n",
      "\n",
      "\n",
      "Continuing partial invocation:\n",
      "\n",
      "We laugh and we cry under endless skies,\n",
      "We seek simple truths, and live woven lies,\n",
      "== New invocation:\n",
      "\n",
      "Tears fall unnoticed in the rain,\n",
      "Hearts grasp softly at the pain,\n",
      "Hope flickers in the silent night,\n",
      "As dreams take fragile flight.\n",
      "== Score: 6.0\n",
      "\n",
      "\n",
      "Continuing partial invocation:\n",
      "\n",
      "We laugh and we cry under endless skies,\n",
      "We seek simple truths, and live woven lies,\n"
     ]
    },
    {
     "name": "stderr",
     "output_type": "stream",
     "text": [
      "Running MCTS:  97%|█████████▋| 92/95 [00:59<00:01,  2.55it/s]"
     ]
    },
    {
     "name": "stdout",
     "output_type": "stream",
     "text": [
      "== New invocation:\n",
      "\n",
      "Tears fall unnoticed in the rain,\n",
      "Hearts grasp softly at the pain,\n",
      "Hope flickers in the silent night,\n",
      "Walking a path towards the light.\n",
      "== Score: 8.0\n",
      "\n",
      "\n",
      "Continuing partial invocation:\n",
      "\n",
      "We laugh and we cry under endless skies,\n",
      "We seek simple truths, and live woven lies,\n",
      "== New invocation:\n",
      "\n",
      "Tears fall unnoticed in the rain,\n",
      "Faces hide their silent pain,\n",
      "Hearts yearn for joy they can't explain,\n",
      "Dreams linger like a fleeting train.\n",
      "== Score: 6.0\n",
      "\n",
      "\n",
      "Continuing partial invocation:\n",
      "\n",
      "We laugh and we cry under endless skies,\n",
      "We seek simple truths, and live woven lies,\n"
     ]
    },
    {
     "name": "stderr",
     "output_type": "stream",
     "text": [
      "Running MCTS:  98%|█████████▊| 93/95 [01:00<00:01,  1.63it/s]"
     ]
    },
    {
     "name": "stdout",
     "output_type": "stream",
     "text": [
      "== New invocation:\n",
      "\n",
      "We laugh and we cry under endless skies,\n",
      "We seek simple truths, and live woven lies,\n",
      "We learn and unlearn, as time quickly flies,\n",
      "Our dreams whisper softly, in muted disguise.\n",
      "== Score: 8.0\n",
      "\n",
      "\n",
      "Continuing partial invocation:\n",
      "\n",
      "Tears fall unnoticed in the rain,\n",
      "As laughter echoes through the pain,\n",
      "Hearts will mend and break again,\n",
      "Hope blooms brighter after strife.\n"
     ]
    },
    {
     "name": "stderr",
     "output_type": "stream",
     "text": [
      "Running MCTS:  99%|█████████▉| 94/95 [01:00<00:00,  2.01it/s]"
     ]
    },
    {
     "name": "stdout",
     "output_type": "stream",
     "text": [
      "== New invocation:\n",
      "\n",
      "We laugh and we cry under endless skies,\n",
      "We seek simple truths, and live woven lies,\n",
      "Our hearts beat in rhythm, yet question the ties,\n",
      "In silent surrender, the sunset replies.\n",
      "== Score: 8.0\n",
      "\n",
      "\n",
      "Continuing partial invocation:\n",
      "\n",
      "Tears fall unnoticed in the rain,\n",
      "As laughter echoes through the pain,\n",
      "Yet hearts beat on, despite the strain,\n"
     ]
    },
    {
     "name": "stderr",
     "output_type": "stream",
     "text": [
      "Running MCTS: 100%|██████████| 95/95 [01:01<00:00,  1.56it/s]"
     ]
    },
    {
     "name": "stdout",
     "output_type": "stream",
     "text": [
      "== New invocation:\n",
      "\n",
      "We laugh and we cry under endless skies,\n",
      "We seek simple truths, and live woven lies,\n",
      "We dance through the questions that none can define,\n",
      "In the heart’s quiet corners, we search for a sign.\n",
      "== Score: 9.0\n",
      "\n"
     ]
    },
    {
     "name": "stderr",
     "output_type": "stream",
     "text": [
      "\n"
     ]
    },
    {
     "name": "stdout",
     "output_type": "stream",
     "text": [
      "== New invocation:\n",
      "\n",
      "We laugh and we cry under endless skies,\n",
      "We seek simple truths, and live woven lies,\n",
      "Our hearts dance in rhythm to life's ebbing sighs,\n",
      "In the beauty and frailty of life, we rise.\n",
      "== Score: 8.0\n",
      "\n",
      "== New invocation:\n",
      "\n",
      "We laugh and we cry under endless skies,\n",
      "We seek simple truths, and live woven lies,\n",
      "We dream and we doubt, in the world we devise,\n",
      "We dance with the stars, yet fear our own ties.\n",
      "== Score: 8.0\n",
      "\n",
      "== New invocation:\n",
      "\n",
      "Tears fall unnoticed in the rain,\n",
      "As laughter echoes through the pain,\n",
      "Hearts will mend and break again,\n",
      "Hope blooms brighter after strife.\n",
      "== Score: 7.0\n",
      "\n",
      "== New invocation:\n",
      "\n",
      "Tears fall unnoticed in the rain,\n",
      "As laughter echoes through the pain,\n",
      "Yet hearts beat on, despite the strain,\n",
      "Hope arises, like a small flame.\n",
      "== Score: 7.0\n",
      "\n"
     ]
    }
   ],
   "source": [
    "with store:\n",
    "  mcts = MCTS(score_poem)\n",
    "  await mcts.run(\n",
    "    generate_poem,\n",
    "    args=('A short rhyming poem about the human condition using simple language', 4),\n",
    "    seeds=10,\n",
    "    iterations=100)"
   ]
  },
  {
   "cell_type": "markdown",
   "metadata": {},
   "source": [
    "We now print the best results, estimated in different ways."
   ]
  },
  {
   "cell_type": "code",
   "execution_count": 11,
   "metadata": {},
   "outputs": [
    {
     "name": "stdout",
     "output_type": "stream",
     "text": [
      "\n",
      "Most visited:\n",
      "\n",
      "Tears fall unnoticed in the rain,\n",
      "Faces hide their silent pain,\n",
      "Hearts yearn for warmth, but break in vain,\n",
      "As we seek the light, shadows remain.\n",
      "\n",
      "Highest mean score:\n",
      "\n",
      "We laugh, we cry, we seek, we strive,\n",
      "We dance through storms, yet stay alive,\n",
      "Our fragile bonds through darkness shine,\n",
      "In fleeting moments, souls entwine.\n",
      "\n",
      "Highest LCB:\n",
      "\n",
      "Tears fall unnoticed in the rain,\n",
      "Faces hide their silent pain,\n",
      "Hearts yearn for warmth, but break in vain,\n",
      "As we seek the light, shadows remain.\n"
     ]
    }
   ],
   "source": [
    "with store:\n",
    "  print(f'\\nMost visited:\\n{mcts.most_visited()}')\n",
    "  print(f'\\nHighest mean score:\\n{mcts.highest_mean()}')\n",
    "  print(f'\\nHighest LCB:\\n{mcts.highest_lcb()}')"
   ]
  }
 ],
 "metadata": {
  "kernelspec": {
   "display_name": "enact-WtUQHUKb",
   "language": "python",
   "name": "python3"
  },
  "language_info": {
   "codemirror_mode": {
    "name": "ipython",
    "version": 3
   },
   "file_extension": ".py",
   "mimetype": "text/x-python",
   "name": "python",
   "nbconvert_exporter": "python",
   "pygments_lexer": "ipython3",
   "version": "3.8.20"
  },
  "orig_nbformat": 4
 },
 "nbformat": 4,
 "nbformat_minor": 2
}
