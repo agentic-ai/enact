{
 "cells": [
  {
   "cell_type": "markdown",
   "metadata": {},
   "source": [
    "# Enact Concepts\n",
    "\n",
    "\n",
    "\n",
    "## Resources and Resource Wrappers\n",
    "\n",
    "Enact is a framework for generative software, which offers the ability to track\n",
    "python programs and their executions. To this end, any tracked object in the\n",
    "enact framework is an instance of a `Resource`, including data, executable\n",
    "components and journaled executions.\n",
    "\n",
    "New resources can be defined and registered with the enact framework as follows:"
   ]
  },
  {
   "cell_type": "code",
   "execution_count": 5,
   "metadata": {},
   "outputs": [],
   "source": [
    "import enact\n",
    "\n",
    "import dataclasses\n",
    "\n",
    "@enact.register\n",
    "@dataclasses.dataclass\n",
    "class MyResource(enact.Resource):\n",
    "  my_field: str\n",
    "  my_other_field: int"
   ]
  },
  {
   "cell_type": "markdown",
   "metadata": {},
   "source": [
    "A `Resource` subclass defines a unique type ID and an interface to access field\n",
    "names and their values:"
   ]
  },
  {
   "cell_type": "code",
   "execution_count": 6,
   "metadata": {},
   "outputs": [
    {
     "name": "stdout",
     "output_type": "stream",
     "text": [
      "TypeID of MyResource: '{\"digest\": \"a46cd7bf341ef134fe8fd7e97e564f0f84425c747c3c55850cd599f1249b97f5\", \"name\": \"__main__.MyResource\"}'\n",
      "Fields of my_resource: ['my_field', 'my_other_field']\n",
      "Value of my_field: hello\n",
      "Value of my_other_field: 42\n",
      "Field values of the resource: ['hello', 42]\n",
      "Field items: [('my_field', 'hello'), ('my_other_field', 42)]\n"
     ]
    }
   ],
   "source": [
    "print(f'TypeID of MyResource: {repr(MyResource.type_id())}')\n",
    "print(f'Fields of my_resource: {list(MyResource.field_names())}')\n",
    "\n",
    "my_resource = MyResource('hello', 42)\n",
    "print(f'Value of my_field: {my_resource.my_field}')\n",
    "print(f'Value of my_other_field: {my_resource.my_other_field}')\n",
    "print(f'Field values of the resource: {list(my_resource.field_values())}')\n",
    "print(f'Field items: {list(my_resource.field_items())}')"
   ]
  },
  {
   "cell_type": "markdown",
   "metadata": {},
   "source": [
    "Resources may be nested and they can contain maps and lists, but the\n",
    "leaf types are limited to:\n",
    "* Python primitives of type `int`, `float`, `bool`, `str`, `bytes`, `bool`,\n",
    "* the `None` value,\n",
    "* other resources (i.e., instances of `ResourceBase`),\n",
    "* types of resources (i.e., subclasses of `ResourceBase`).\n",
    "\n",
    "Python maps and lists are allowed and may be nested, but map keys must be of type `str`.\n",
    "\n",
    "In addition to the above types, fields may be of a native python types that have\n",
    "a registered `ResouceWrapper`."
   ]
  },
  {
   "cell_type": "code",
   "execution_count": 7,
   "metadata": {},
   "outputs": [
    {
     "data": {
      "text/plain": [
       "{'primitives': [1, 2.0, False, None, 'test', b'bytes'],\n",
       " 'map_value': {'hello': {'my_field': 'hello', 'my_other_field': 69}},\n",
       " 'nested_resource': {'my_field': 'hola', 'my_other_field': 42},\n",
       " 'resource_type': __main__.MyResource}"
      ]
     },
     "execution_count": 7,
     "metadata": {},
     "output_type": "execute_result"
    }
   ],
   "source": [
    "from typing import Dict, List, Union, Type\n",
    "\n",
    "@dataclasses.dataclass\n",
    "class ComplexResource(enact.Resource):\n",
    "  primitives: List[Union[int, float, bool, str, bytes, bool, type(None)]]\n",
    "  map_value: Dict[str, MyResource]\n",
    "  nested_resource: MyResource\n",
    "  resource_type: Type[MyResource]\n",
    "\n",
    "ComplexResource(\n",
    "  primitives=[1, 2.0, False, None, 'test', b'bytes'],\n",
    "  map_value={'hello': MyResource('hello', 69)},\n",
    "  nested_resource=MyResource('hola', 42),\n",
    "  resource_type=MyResource).to_resource_dict()"
   ]
  },
  {
   "cell_type": "markdown",
   "metadata": {},
   "source": [
    "In some cases in can be more convenient to define a `ResourceWrapper` for an\n",
    "existing type instead of defining a new resource. A `ResourceWrapper` is a\n",
    "resource that has special interface functions to wrap and unwrap the custom\n",
    "class."
   ]
  },
  {
   "cell_type": "code",
   "execution_count": 8,
   "metadata": {},
   "outputs": [
    {
     "name": "stdout",
     "output_type": "stream",
     "text": [
      "MyCounterWrapper(count=1)\n"
     ]
    }
   ],
   "source": [
    "class MyCounter:\n",
    "  def __init__(self):\n",
    "    self._i = 0\n",
    "\n",
    "  def add(self) -> int:\n",
    "    self._i += 1\n",
    "    return self._i\n",
    "\n",
    "\n",
    "@enact.register\n",
    "@dataclasses.dataclass\n",
    "class MyCounterWrapper(enact.ResourceWrapper):\n",
    "  count: int\n",
    "\n",
    "  @classmethod\n",
    "  def wrapped_type(cls):\n",
    "    return MyCounter\n",
    "\n",
    "  @classmethod\n",
    "  def wrap(cls, value):\n",
    "    return MyCounterWrapper(value._i)\n",
    "\n",
    "  def unwrap(self):\n",
    "    counter = MyCounter()\n",
    "    counter._i = self.count\n",
    "    return counter\n",
    "\n",
    "counter = MyCounter()\n",
    "counter.add()\n",
    "wrapped = enact.wrap(counter)\n",
    "print(wrapped)"
   ]
  },
  {
   "cell_type": "markdown",
   "metadata": {},
   "source": [
    "Wrapped types can be used as field types in other resources. The framework will\n",
    "automatically wrap them before returning them through enact-relevant interface\n",
    "functions."
   ]
  },
  {
   "cell_type": "code",
   "execution_count": 9,
   "metadata": {},
   "outputs": [
    {
     "name": "stdout",
     "output_type": "stream",
     "text": [
      "[MyCounterWrapper(count=0)]\n"
     ]
    }
   ],
   "source": [
    "@enact.register\n",
    "@dataclasses.dataclass\n",
    "class Nested(enact.Resource):\n",
    "  counter: MyCounter\n",
    "  \n",
    "print(list(Nested(MyCounter()).field_values()))"
   ]
  },
  {
   "cell_type": "markdown",
   "metadata": {},
   "source": [
    "## Stores and References\n",
    "\n",
    "`Resource` instances can be committed to a store which yields an\n",
    "immutable reference to the instance in its current state. References\n",
    "can be checked out of the store."
   ]
  },
  {
   "cell_type": "code",
   "execution_count": 10,
   "metadata": {},
   "outputs": [
    {
     "name": "stdout",
     "output_type": "stream",
     "text": [
      "<Ref: 947051f773d0e01ed76be7506fe4cfde5be54d35eef91f10b488d3e8b789ee3b>\n",
      "MyResource(my_field='hello', my_other_field=42)\n"
     ]
    }
   ],
   "source": [
    "with enact.InMemoryStore() as store:\n",
    "  # Enter the context of the store.\n",
    "  my_resource = MyResource('hello', 42)\n",
    "  ref = enact.commit(my_resource)  # commits the resource to the active store.\n",
    "  print(ref)\n",
    "  print(ref.checkout())"
   ]
  },
  {
   "cell_type": "markdown",
   "metadata": {},
   "source": [
    "Since checking out references is a common operation, `ref.checkout()`\n",
    "may be abbreviated to simply `ref()`."
   ]
  },
  {
   "cell_type": "code",
   "execution_count": 11,
   "metadata": {},
   "outputs": [
    {
     "name": "stdout",
     "output_type": "stream",
     "text": [
      "MyResource(my_field='hello', my_other_field=42)\n"
     ]
    }
   ],
   "source": [
    "with store:\n",
    "  print(ref())"
   ]
  },
  {
   "cell_type": "markdown",
   "metadata": {},
   "source": [
    "References point to resources, but they are also resources themselves. This\n",
    "means that resources can have fields that reference other resources."
   ]
  },
  {
   "cell_type": "code",
   "execution_count": 12,
   "metadata": {},
   "outputs": [
    {
     "name": "stdout",
     "output_type": "stream",
     "text": [
      "MyResource(my_field='hola', my_other_field=69)\n",
      "MyResource(my_field='hello', my_other_field=42)\n"
     ]
    }
   ],
   "source": [
    "from typing import Optional\n",
    "\n",
    "\n",
    "@enact.register\n",
    "@dataclasses.dataclass\n",
    "class LinkedList(enact.Resource):\n",
    "  \"\"\"A linked list of resources.\"\"\"\n",
    "  value: enact.FieldValue\n",
    "  next: Optional[enact.Ref['LinkedList']] = None\n",
    "\n",
    "with store:\n",
    "  # Create a linked list with two nodes.\n",
    "  l = enact.commit(LinkedList(value=my_resource))\n",
    "  l = enact.commit(LinkedList(value=MyResource('hola', 69), next=l))\n",
    "  # Iterate through the list.\n",
    "  while l != None:\n",
    "    print(l().value)\n",
    "    l = l().next"
   ]
  },
  {
   "cell_type": "markdown",
   "metadata": {},
   "source": [
    "## Functions and Invokables\n",
    "\n",
    "`Invokable` objects are resources that have an associated call function, which\n",
    "takes at most one argument."
   ]
  },
  {
   "cell_type": "code",
   "execution_count": 13,
   "metadata": {},
   "outputs": [],
   "source": [
    "import random\n",
    "\n",
    "@enact.register\n",
    "@dataclasses.dataclass\n",
    "class RollDie(enact.Invokable):\n",
    "  sides: int = 6\n",
    "  \n",
    "  def call(self):\n",
    "    return random.randint(1, 6)"
   ]
  },
  {
   "cell_type": "markdown",
   "metadata": {},
   "source": [
    "Simple functions without parameters can directly be registered with enact, as\n",
    "long as the input and output types are supported enact types or have associated\n",
    "ResourceWrappers."
   ]
  },
  {
   "cell_type": "code",
   "execution_count": 14,
   "metadata": {},
   "outputs": [],
   "source": [
    "from typing import Callable\n",
    "\n",
    "@enact.register\n",
    "def roll_dice(dice: List[Callable[[], int]]):\n",
    "  return sum(die() for die in dice)"
   ]
  },
  {
   "cell_type": "markdown",
   "metadata": {},
   "source": [
    "Invokables and registered functions can be _invoked_ with `enact.invoke`, which\n",
    "produces an `Invocation` object that represents the execution history.\n",
    "Invocations must be performed in the context of a `Store`, where all inputs and\n",
    "outputs are persisted."
   ]
  },
  {
   "cell_type": "code",
   "execution_count": 15,
   "metadata": {},
   "outputs": [
    {
     "name": "stdout",
     "output_type": "stream",
     "text": [
      "-><function roll_dice at 0x7f8bc8365ee0>([RollDie(sides=6), RollDie(sides=6), RollDie(sides=6)]) = 7\n",
      "  ->RollDie(sides=6)(None) = 4\n",
      "  ->RollDie(sides=6)(None) = 2\n",
      "  ->RollDie(sides=6)(None) = 1\n"
     ]
    }
   ],
   "source": [
    "with store:\n",
    "  invocation = enact.invoke(roll_dice, args=([RollDie(), RollDie(), RollDie()],))\n",
    "  print(enact.invocation_summary(invocation))"
   ]
  },
  {
   "cell_type": "markdown",
   "metadata": {},
   "source": [
    "Invocations can be used as _replay templates_ for other invocations, in which\n",
    "case memorized results will be returned for a function if available."
   ]
  },
  {
   "cell_type": "code",
   "execution_count": 16,
   "metadata": {},
   "outputs": [
    {
     "name": "stdout",
     "output_type": "stream",
     "text": [
      "-><function roll_dice at 0x7f8bc8365ee0>([RollDie(sides=6), RollDie(sides=6), RollDie(sides=6)]) = 9\n",
      "  ->RollDie(sides=6)(None) = 4\n",
      "  ->RollDie(sides=6)(None) = 2\n",
      "  ->RollDie(sides=6)(None) = 3\n"
     ]
    }
   ],
   "source": [
    "with store:\n",
    "  with invocation.response.modify() as response:\n",
    "    # Delete the output.\n",
    "    response.output = None\n",
    "    # Remove the last die roll.\n",
    "    response.children.pop()\n",
    "  # Replay last die roll.\n",
    "  invocation = invocation.replay()\n",
    "  print(enact.invocation_summary(invocation))"
   ]
  },
  {
   "cell_type": "markdown",
   "metadata": {},
   "source": [
    "The `rewind` function can be used to remove a selected number of calls from the\n",
    "top-level invocation."
   ]
  },
  {
   "cell_type": "code",
   "execution_count": 17,
   "metadata": {},
   "outputs": [
    {
     "name": "stdout",
     "output_type": "stream",
     "text": [
      "-><function roll_dice at 0x7f8bc8365ee0>([RollDie(sides=6), RollDie(sides=6), RollDie(sides=6)]) = 12\n",
      "  ->RollDie(sides=6)(None) = 4\n",
      "  ->RollDie(sides=6)(None) = 2\n",
      "  ->RollDie(sides=6)(None) = 6\n"
     ]
    }
   ],
   "source": [
    "with store:\n",
    "  print(enact.invocation_summary(invocation.rewind().replay()))"
   ]
  },
  {
   "cell_type": "markdown",
   "metadata": {},
   "source": [
    "## Advanced concepts\n",
    "\n",
    "### Storage model\n",
    "\n",
    "When committing a resource, the returned reference refers to a cryptographic\n",
    "digest of the resource type and it's content. \n",
    "\n",
    "This means that when committing an identical resource instance twice, the same\n",
    "reference is returned:"
   ]
  },
  {
   "cell_type": "code",
   "execution_count": 18,
   "metadata": {},
   "outputs": [
    {
     "name": "stdout",
     "output_type": "stream",
     "text": [
      "True\n"
     ]
    }
   ],
   "source": [
    "with store:\n",
    "  r1 = enact.commit(MyResource('hello', 42))\n",
    "  r2 = enact.commit(MyResource('hello', 42))\n",
    "  print(r1 == r2)"
   ]
  },
  {
   "cell_type": "markdown",
   "metadata": {},
   "source": [
    "Conceptually, stores can be viewed as hashtables which, due to their use of long\n",
    "hash digests, have very low collision probability. This means that separate enact\n",
    "stores containing different data, can be interpreted as providing partial views \n",
    "on the same global 'address space'.\n",
    "\n",
    "Stores contain resources that may contain references to other resources. They\n",
    "can therefore be interpreted as directed graphs. For example, invocations\n",
    "point at the input and output resources.\n",
    "\n",
    "Note that it is not possible to commit two resources that reference each other:\n",
    "Taking a reference requires creating a cryptographic digest of resource\n",
    "contents, including all of its own reference fields. Therefore, to compute the\n",
    "digest of the first resource, we would need to first compute the digest of the\n",
    "second - but this would in turn require computing the digest of the first:"
   ]
  },
  {
   "cell_type": "code",
   "execution_count": 19,
   "metadata": {},
   "outputs": [
    {
     "name": "stdout",
     "output_type": "stream",
     "text": [
      "-> LinkedList#0b182f:\n",
      "  value: 1\n",
      "  next:\n",
      "    -> LinkedList#0f9059:\n",
      "      value: 2\n",
      "      next: -> LinkedList(value=1, next=None)#dd2ab0\n"
     ]
    }
   ],
   "source": [
    "with store:\n",
    "  l1 = LinkedList(value=1, next=None)\n",
    "  l2 = LinkedList(value=2, next=enact.commit(l1))\n",
    "\n",
    "  # This does not create a cycle, since l2 points at the previously committed\n",
    "  # version of l1.\n",
    "  l1.next = enact.commit(l2)\n",
    "\n",
    "  # We now have list of length 3 instead of a cycle:\n",
    "  enact.pprint(enact.commit(l1))"
   ]
  },
  {
   "cell_type": "markdown",
   "metadata": {},
   "source": [
    "Notice that the digest (after the `#` symbol) is different for the three linked\n",
    "list nodes.\n",
    "\n",
    "Since resources can't reference each other store graphs are acyclic, which means\n",
    "that they form a _directed acyclic graph_ (DAG). DAGs that employ this form of\n",
    "hashing are known as Merkle DAGs or hash DAGs. Hash DAGs are generalizations of\n",
    "data structures such as Merkle trees and block chains."
   ]
  },
  {
   "cell_type": "markdown",
   "metadata": {},
   "source": [
    "### Replays and non-determinism"
   ]
  },
  {
   "cell_type": "markdown",
   "metadata": {},
   "source": [
    "Replays work by reexecuting invokables that have no known output in the \n",
    "replayed invocation. During reexecution, calls to child invokables must \n",
    "be matched to the recorded calls in order to see if an output can be replayed.\n",
    "Therefore, for the replay functionality to work properly, the next call to a\n",
    "subinvokable must be a deterministic function of the invokable input and the\n",
    "return values of previous subinvokables.\n",
    "\n",
    "The following example shows what happens when this property is violated."
   ]
  },
  {
   "cell_type": "code",
   "execution_count": 20,
   "metadata": {},
   "outputs": [
    {
     "name": "stdout",
     "output_type": "stream",
     "text": [
      "Got error: Expected invocation format_timestamp(CallArgs(args=[1695248783.3895218], kwargs={})) but got <function format_timestamp at 0x7f8bec63fee0>(CallArgs(args=[1695248783.3859076], kwargs={})).\n",
      "Ensure that calls to subinvokables are deterministic or use strict=False.\n"
     ]
    }
   ],
   "source": [
    "import datetime\n",
    "import time\n",
    "\n",
    "@enact.register\n",
    "def format_timestamp(timestamp: float) -> str:\n",
    "  return str(datetime.datetime.fromtimestamp(timestamp))\n",
    "\n",
    "@enact.register\n",
    "class FormatCurrentTime(enact.Invokable):\n",
    "  \"\"\"Return the current time as a string.\"\"\"\n",
    "  \n",
    "  def call(self) -> str:\n",
    "    now = time.time()\n",
    "    # ERROR: Non-deterministic call argument to subinvokable:\n",
    "    return format_timestamp(now)\n",
    "\n",
    "with store:\n",
    "  invocation = FormatCurrentTime().invoke()\n",
    "  # Delete only the output to force reexecution.\n",
    "  invocation = invocation.rewind(num_calls=0)\n",
    "  try:\n",
    "    invocation.replay()\n",
    "  except enact.ReplayError as e:\n",
    "    print(f'Got error: {e}')"
   ]
  },
  {
   "cell_type": "markdown",
   "metadata": {},
   "source": [
    "To fix the above example, we could either wrap `time.time()` in a registered\n",
    "function, alternatively, leave `format_timestamp` unregistered."
   ]
  },
  {
   "cell_type": "markdown",
   "metadata": {},
   "source": [
    "### Input Requests\n",
    "\n",
    "Input requests are a mechanism for interrupting an ongoing execution in order to\n",
    "collect external input from a user or system. (This is conceptually\n",
    "similar to generators or continuations).\n",
    "\n",
    "Input requests can be generated by calling the `request_input` function, which\n",
    "takes as arguments a resource type that is requested, an optional resource for\n",
    "which input is requested and a context for the request (e.g., instructions to \n",
    "a user).\n"
   ]
  },
  {
   "cell_type": "code",
   "execution_count": 21,
   "metadata": {},
   "outputs": [],
   "source": [
    "@enact.register\n",
    "def call_dice_confirm_with_user(num_calls: int) -> int:\n",
    "  roll_die = RollDie()\n",
    "  total = 0\n",
    "  for i in range(num_calls):\n",
    "    while True:\n",
    "      score = roll_die()\n",
    "      if enact.request_input(\n",
    "          requested_type=str,\n",
    "          for_value=score,\n",
    "          context=f'Should I reroll die #{i}?') == 'yes':\n",
    "        continue\n",
    "      break\n",
    "    total += score\n",
    "  return total"
   ]
  },
  {
   "cell_type": "markdown",
   "metadata": {},
   "source": [
    "The `InvocationGenerator` class provides a python `Generator` interface for\n",
    "processing an invocation step by step, stopping at InputRequests."
   ]
  },
  {
   "cell_type": "code",
   "execution_count": 22,
   "metadata": {},
   "outputs": [
    {
     "name": "stdout",
     "output_type": "stream",
     "text": [
      "Total score: 16\n",
      "  Die roll: 1\n",
      "   -Rerolled? yes\n",
      "  Die roll: 1\n",
      "   -Rerolled? yes\n",
      "  Die roll: 2\n",
      "   -Rerolled? yes\n",
      "  Die roll: 3\n",
      "   -Rerolled? yes\n",
      "  Die roll: 5\n",
      "   -Rerolled? no\n",
      "  Die roll: 2\n",
      "   -Rerolled? yes\n",
      "  Die roll: 4\n",
      "   -Rerolled? yes\n",
      "  Die roll: 5\n",
      "   -Rerolled? no\n",
      "  Die roll: 6\n",
      "   -Rerolled? no\n"
     ]
    }
   ],
   "source": [
    "with store:\n",
    "  inv_gen = enact.InvocationGenerator.from_callable(\n",
    "    call_dice_confirm_with_user, args=(3,))\n",
    "  \n",
    "  for input_request in inv_gen:\n",
    "    roll = input_request.for_value()\n",
    "    if roll < 5:\n",
    "      inv_gen.set_input('yes')\n",
    "    else:\n",
    "      inv_gen.set_input('no')\n",
    "  \n",
    "  # Print invocation history:\n",
    "  invocation = inv_gen.invocation\n",
    "  print('Total score:', invocation.get_output())\n",
    "  for child in invocation.get_children():\n",
    "    output = child.get_output()\n",
    "    if isinstance(output, int):\n",
    "      print('  Die roll:', output)\n",
    "    else:\n",
    "      print('   -Rerolled?', output)"
   ]
  },
  {
   "cell_type": "markdown",
   "metadata": {},
   "source": [
    "### Modifying references"
   ]
  },
  {
   "cell_type": "markdown",
   "metadata": {},
   "source": [
    "While references point to immutable snapshots of resource objects, it is\n",
    "possibly to change which resource a given `Ref` object points to using the\n",
    "`modify()` context manager:"
   ]
  },
  {
   "cell_type": "code",
   "execution_count": 23,
   "metadata": {},
   "outputs": [
    {
     "name": "stdout",
     "output_type": "stream",
     "text": [
      "ref points at new resource:\n",
      "  MyResource(my_field='hello', my_other_field=69)\n",
      "but the old resource is still intact:\n",
      "  MyResource(my_field='hello', my_other_field=42)\n"
     ]
    }
   ],
   "source": [
    "with store:\n",
    "  ref = enact.commit(MyResource('hello', 42))\n",
    "  ref_copy = ref.deepcopy_resource()\n",
    "  with ref.modify() as my_resource:\n",
    "    my_resource.my_other_field = 69\n",
    "  print(f'ref points at new resource:\\n  {ref()}')\n",
    "  print(f'but the old resource is still intact:\\n  {ref_copy()}')\n",
    "  "
   ]
  },
  {
   "cell_type": "markdown",
   "metadata": {},
   "source": [
    "### Custom store backends and reference types\n",
    "\n",
    "A store is connected to a backend which defines how resources are actually\n",
    "stored. Calling `InMemoryStore()` is equivalent to calling\n",
    "`Store(InMemoryBackend())`, and similarly, `FileStore(root_dir)` is equivalent\n",
    "to `Store(FileBackend(root_dir))`.\n",
    "\n",
    "New storage backends can be created by implementing the following interface:\n",
    "\n",
    "```python\n",
    "class StorageBackend(abc.ABC):\n",
    "  \"\"\"A storage backend.\"\"\"\n",
    "\n",
    "  @abc.abstractmethod\n",
    "  def commit(self, packed_resource: PackedResource):\n",
    "    \"\"\"Stores a packed resource.\"\"\"\n",
    "\n",
    "  @abc.abstractmethod\n",
    "  def has(self, ref: Ref) -> bool:\n",
    "    \"\"\"Returns whether the storage backend has the resource.\"\"\"\n",
    "\n",
    "  @abc.abstractmethod\n",
    "  def get(self, ref: Ref) -> Optional[interfaces.ResourceDict]:\n",
    "    \"\"\"Returns the packed resource or None if not available.\"\"\"\n",
    "```\n",
    "\n",
    "Resources are _packed_ into serializable dictionaries before being committed.\n",
    "This additional step can be overriden in custom `Ref` subclasses in order to\n",
    "support advanced functionality such as compression or end-to-end encryption of\n",
    "resources.\n"
   ]
  },
  {
   "cell_type": "markdown",
   "metadata": {},
   "source": [
    "### Meta-invocations and higher-order functions.\n",
    "\n",
    "Invokables support two core operations:\n",
    "1. They can be _called_, like a normal python callable.\n",
    "2. They can be _invoked_, which corresponds to a journaled execution.\n",
    "\n",
    "Typically, invokables will _call_ other invokables, but they may also _invoke_\n",
    "them, which is useful if an invokable wants to study the execution path of\n",
    "another invokable.\n",
    "\n",
    "This is useful, for example, when dealing with AI-generated code, since the\n",
    "the execution trace of a generated function can be used as feedback to the\n",
    "generation process.\n",
    "\n",
    "We illustrate the concept of meta-invocation with a simple example using dice\n",
    "wherein we create an invokable that analyzes another invokable's execution to\n",
    "determine the number of execution steps."
   ]
  },
  {
   "cell_type": "code",
   "execution_count": 29,
   "metadata": {},
   "outputs": [
    {
     "name": "stdout",
     "output_type": "stream",
     "text": [
      "Rolls until prime: 22\n",
      "The prime that was rolled: 83\n"
     ]
    }
   ],
   "source": [
    "@enact.register\n",
    "def roll_until_prime(die: RollDie):\n",
    "  \"\"\"Rolls a die until the sum of the rolls is prime.\"\"\"\n",
    "  total = 0\n",
    "  def is_prime(n):\n",
    "    return n > 1 and all(n % i for i in range(2, n))\n",
    "  while not is_prime(total):\n",
    "    total += die()\n",
    "  return total\n",
    "\n",
    "@enact.register\n",
    "def meta_invoke(fun, args=(), kwargs=None) -> enact.Invocation:\n",
    "  \"\"\"Register a function that invokes another.\"\"\"\n",
    "  return enact.invoke(fun, args, kwargs)\n",
    " \n",
    "\n",
    "@enact.register\n",
    "def count_rolls(die: RollDie) -> int:\n",
    "  invocation = meta_invoke(roll_until_prime, (die,))\n",
    "  return len(list(invocation.get_children()))\n",
    "\n",
    "\n",
    "with store:\n",
    "  invocation = enact.invoke(count_rolls, (RollDie(6),))\n",
    "  print(f'Rolls until prime: {invocation.get_output()}')\n",
    "  # Get output of call to invoke(...)\n",
    "  meta_invocation = invocation.get_child(0).get_output()\n",
    "  print(f'The prime that was rolled: {meta_invocation.get_output()}')\n"
   ]
  },
  {
   "cell_type": "markdown",
   "metadata": {},
   "source": [
    "### Support for asyncio\n",
    "\n",
    "Python coroutines provide a model for concurrent execution of python code. This\n",
    "is useful in cases where, e.g., a generative component needs to query multiple\n",
    "APIs. Instead of waiting on the output of one call before executing the next,\n",
    "both calls can be issued concurrently, e.g.:\n",
    "\n",
    "```python\n",
    "import asyncio\n",
    "\n",
    "# Define a coroutine using the 'async' keyword.\n",
    "async def wait_on_api_calls():\n",
    "  # Use the 'await' keyword to suspend execution until both the api_call1 and\n",
    "  # the api_call2 coroutines have completed.\n",
    "  result = await asyncio.gather(api_call1(), api_call2())\n",
    "  return result\n",
    "\n",
    "def main():\n",
    "  asyncio.run(wait_on_api_calls())  # Run the coroutine in an event loop.\n",
    "```\n",
    "\n",
    "For more information on `async`, see the [python documentation](https://docs.python.org/3.8/library/asyncio.html).\n",
    "\n",
    "Enact supports asyncio components through the `AsyncInvokable` base class. \n",
    "Working with `AsyncInvokable` components is similar to working with `Invokable`\n",
    "components, except that the `call` and `invoke` functions are both\n",
    "coroutines defined using the `async` keyword."
   ]
  },
  {
   "cell_type": "code",
   "execution_count": 32,
   "metadata": {},
   "outputs": [
    {
     "name": "stdout",
     "output_type": "stream",
     "text": [
      "Rolling die nr 0.\n",
      "Rolling die nr 1.\n",
      "Rolling die nr 2.\n",
      "Got result for die nr 1: 1\n",
      "Got result for die nr 0: 1\n",
      "Got result for die nr 2: 6\n",
      "Sum: 8\n",
      "\n",
      "Replay last roll:\n",
      "Rolling die nr 2.\n",
      "Got result for die nr 2: 6\n",
      "Sum: 8\n"
     ]
    }
   ],
   "source": [
    "import asyncio\n",
    "\n",
    "@enact.typed_invokable(type(None), int)\n",
    "@dataclasses.dataclass\n",
    "class AsyncDieRoll(enact.AsyncInvokable):\n",
    "  \"\"\"Asynchronously rolls a die and returns the result.\"\"\"\n",
    "  dice_nr: int\n",
    "\n",
    "  async def api_call(self) -> int:\n",
    "    \"\"\"Mimic calling into an API to obtain roll result.\"\"\"\n",
    "    print(f'Rolling die nr {self.dice_nr}.')\n",
    "    await asyncio.sleep(random.random() * 0.1)\n",
    "    result = random.randint(1, 6)\n",
    "    print(f'Got result for die nr {self.dice_nr}: {result}')\n",
    "    return result\n",
    "\n",
    "  async def call(self) -> int:\n",
    "    return await self.api_call()\n",
    "\n",
    "\n",
    "@enact.typed_invokable(int, int)\n",
    "class AsyncDiceRoll(enact.AsyncInvokable):\n",
    "  \"\"\"Asynchronously rolls the requested number of dice.\"\"\"\n",
    "\n",
    "  async def call(self, num_dice: int) -> int:\n",
    "    \"\"\"Roll the requested number of dice concurrently.\"\"\"\n",
    "    dice = [AsyncDieRoll(i) for i in range(num_dice)]\n",
    "    rolls = [die() for die in dice]\n",
    "    return sum(await asyncio.gather(*rolls))\n",
    "\n",
    "with store:\n",
    "  # Jupyter notebooks have their own event loop, so we can use await rather than\n",
    "  # asyncio.run:\n",
    "  num_rolls = enact.commit(3)\n",
    "  invocation = await AsyncDiceRoll().invoke(num_rolls)\n",
    "  print(f'Sum: {invocation.get_output()}')\n",
    "  \n",
    "  print(f'\\nReplay last roll:')\n",
    "  invocation = invocation.rewind()  # Rewind the last call.\n",
    "  invocation = await invocation.replay_async()\n",
    "  print(f'Sum: {invocation.get_output()}')"
   ]
  },
  {
   "cell_type": "markdown",
   "metadata": {},
   "source": [
    "Python coroutines allow scheduling background tasks, which execute outside\n",
    "of their calling context. Since enact needs to track the results of\n",
    "subinvocations, this is not supported and will raise an error."
   ]
  },
  {
   "cell_type": "code",
   "execution_count": 33,
   "metadata": {},
   "outputs": [
    {
     "name": "stdout",
     "output_type": "stream",
     "text": [
      "Rolling die nr 0.\n",
      "Rolling die nr 1.\n",
      "Rolling die nr 2.\n",
      "Got result for die nr 2: 5\n",
      "Invocation failed: Subinvocation 0 did not complete during invocation of parent: AsyncDieRoll(dice_nr=0) invoked on None\n"
     ]
    },
    {
     "name": "stdout",
     "output_type": "stream",
     "text": [
      "Got result for die nr 0: 1\n",
      "Got result for die nr 1: 1\n"
     ]
    }
   ],
   "source": [
    "@enact.typed_invokable(int, int)\n",
    "class WaitForFirstResult(enact.AsyncInvokable):\n",
    "  \"\"\"Rolls the requested number of dice and waits on the first result.\"\"\"\n",
    "\n",
    "  async def call(self, num_dice: int) -> int:\n",
    "    \"\"\"Roll the requested number of dice concurrently.\"\"\"\n",
    "    loop = asyncio.get_running_loop()\n",
    "    # Create background tasks for each die roll.\n",
    "    tasks = [loop.create_task(AsyncDieRoll(i)()) for i in range(num_dice)]\n",
    "    # Wait for the first result.\n",
    "    done, pending = await asyncio.wait(tasks, return_when=asyncio.FIRST_COMPLETED) \n",
    "    # Leave pending tasks running.\n",
    "    return await done[0]\n",
    "\n",
    "with store:\n",
    "  try:\n",
    "    invocation = await WaitForFirstResult().invoke(num_rolls)\n",
    "  except enact.IncompleteSubinvocationError as e:\n",
    "    print(f\"Invocation failed: {e}\")"
   ]
  },
  {
   "cell_type": "markdown",
   "metadata": {},
   "source": [
    "#### Requesting and resolving multiple inputs.\n",
    "\n",
    "Note that `async` can be used to request multiple inputs from external sources at once:"
   ]
  },
  {
   "cell_type": "code",
   "execution_count": null,
   "metadata": {},
   "outputs": [
    {
     "name": "stdout",
     "output_type": "stream",
     "text": [
      "Got result for die nr 0: 6\n",
      "injecting input 1 for roll 0\n",
      "injecting input 2 for roll 1\n",
      "injecting input 3 for roll 2\n",
      "injecting input 4 for roll 3\n",
      "injecting input 5 for roll 4\n",
      "injecting input 6 for roll 5\n",
      "injecting input 7 for roll 6\n",
      "injecting input 1 for roll 7\n",
      "injecting input 2 for roll 8\n",
      "injecting input 3 for roll 9\n",
      "Got result for die nr 1: 3\n",
      "result: 34\n"
     ]
    }
   ],
   "source": [
    "@enact.typed_invokable(type(None), int)\n",
    "@dataclasses.dataclass\n",
    "class AsyncUserRoll(enact.AsyncInvokable):\n",
    "  roll_id: int\n",
    "  async def call(self):\n",
    "    # We provide the roll ID so that we can later distinguish between different\n",
    "    # input requests.\n",
    "    return enact.request_input(int, for_value=self.roll_id)\n",
    "\n",
    "@enact.typed_invokable(type(None), int)\n",
    "class CrowdSourcedDiceRoll(enact.AsyncInvokable):\n",
    "  \"\"\"Generates a batch of input requests for each dice roll.\"\"\"\n",
    "  async def call(self):\n",
    "    rolls = [AsyncUserRoll(roll_id=i) for i in range(10)]\n",
    "    # Wait for all rolls to complete\n",
    "    results = await asyncio.gather(*[r() for r in rolls], return_exceptions=True)\n",
    "    for r in results:\n",
    "      if isinstance(r, Exception):\n",
    "        raise r\n",
    "    return sum(results)\n",
    "\n",
    "with store:\n",
    "  invocation = await CrowdSourcedDiceRoll().invoke()\n",
    "  assert isinstance(invocation.get_raised(), enact.InputRequest)\n",
    "\n",
    "  def provide_input(exception_ref):\n",
    "    \"\"\"Resolves an InputRequest exception by providing a dice roll.\"\"\"\n",
    "    input_request = exception_ref()\n",
    "    assert isinstance(input_request, enact.InputRequest)\n",
    "    roll_id = input_request.for_value()\n",
    "    roll = (roll_id % 7) + 1\n",
    "    print(f'injecting input {roll} for roll {input_request.for_value()}')\n",
    "    return roll\n",
    "  \n",
    "  invocation = await invocation.replay_async(exception_override=provide_input)\n",
    "  print(f'result: {invocation.get_output()}')\n"
   ]
  }
 ],
 "metadata": {
  "kernelspec": {
   "display_name": ".venv",
   "language": "python",
   "name": "python3"
  },
  "language_info": {
   "codemirror_mode": {
    "name": "ipython",
    "version": 3
   },
   "file_extension": ".py",
   "mimetype": "text/x-python",
   "name": "python",
   "nbconvert_exporter": "python",
   "pygments_lexer": "ipython3",
   "version": "3.8.10"
  },
  "orig_nbformat": 4
 },
 "nbformat": 4,
 "nbformat_minor": 2
}
