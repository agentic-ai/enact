{
 "cells": [
  {
   "cell_type": "markdown",
   "metadata": {},
   "source": [
    "# Enact Tutorial\n",
    "\n",
    "## Resources\n",
    "\n",
    "Enact is a framework for writing generative software. At the core of the\n",
    "framework is the notion of a `Resource`, which represents a JSON serializable\n",
    "data object with named fields and field values. Examples of resources include:\n",
    "* Input and output data,\n",
    "* callable components called `Invokables`, e.g., a representation of an API\n",
    "  call into an LLM, together with parameters such as temperature settings,\n",
    "* call traces of executions called `Invocations`.\n",
    "\n",
    "Custom resources can be defined by extending the `enact.Resource` class,\n",
    "which is implemented as a python dataclass:"
   ]
  },
  {
   "cell_type": "code",
   "execution_count": 1,
   "metadata": {},
   "outputs": [
    {
     "name": "stdout",
     "output_type": "stream",
     "text": [
      "Unique type identifier: '{\"digest\": \"a46cd7bf341ef134fe8fd7e97e564f0f84425c747c3c55850cd599f1249b97f5\", \"name\": \"__main__.MyResource\"}'\n",
      "Fields of the resource: ['my_field', 'my_other_field']\n"
     ]
    }
   ],
   "source": [
    "import enact\n",
    "\n",
    "import dataclasses\n",
    "\n",
    "@dataclasses.dataclass\n",
    "class MyResource(enact.Resource):\n",
    "  my_field: str\n",
    "  my_other_field: int\n",
    "\n",
    "print(f'Unique type identifier: {repr(MyResource.type_id())}')\n",
    "print(f'Fields of the resource: {list(MyResource.field_names())}')"
   ]
  },
  {
   "cell_type": "markdown",
   "metadata": {},
   "source": [
    "As seen above, `Resource` classes are associated with a list of field\n",
    "names and a type identifier, which consists of a digest of field names \n",
    "and a class name. Resource instances expose a simple interface for \n",
    "accessing field values:"
   ]
  },
  {
   "cell_type": "code",
   "execution_count": 2,
   "metadata": {},
   "outputs": [
    {
     "name": "stdout",
     "output_type": "stream",
     "text": [
      "hello\n",
      "42\n",
      "Field values of the resource: ['hello', 42]\n",
      "Field items: [('my_field', 'hello'), ('my_other_field', 42)]\n"
     ]
    }
   ],
   "source": [
    "my_resource = MyResource('hello', 42)\n",
    "print(my_resource.my_field)\n",
    "print(my_resource.my_other_field)\n",
    "print(f'Field values of the resource: {list(my_resource.field_values())}')\n",
    "print(f'Field items: {list(my_resource.field_items())}')"
   ]
  },
  {
   "cell_type": "markdown",
   "metadata": {},
   "source": [
    "The `enact.Resource` class is an implementation of the resource base class\n",
    "`enact.ResourceBase`. In some cases, it can be preferable to directly inherit\n",
    "from `ResourceBase` and implement the required functions:"
   ]
  },
  {
   "cell_type": "code",
   "execution_count": 3,
   "metadata": {},
   "outputs": [
    {
     "data": {
      "text/plain": [
       "{'value': 5}"
      ]
     },
     "execution_count": 3,
     "metadata": {},
     "output_type": "execute_result"
    }
   ],
   "source": [
    "class MyIntResource(enact.ResourceBase, int):\n",
    "\n",
    "  @classmethod\n",
    "  def from_fields(cls, field_dict) -> 'MyIntResource':\n",
    "    return cls(field_dict['value'])\n",
    "\n",
    "  @classmethod\n",
    "  def field_names(cls):\n",
    "    yield 'value'\n",
    "\n",
    "  def field_values(self):\n",
    "    yield int(self)\n",
    "\n",
    "MyIntResource(5).to_resource_dict()"
   ]
  },
  {
   "cell_type": "markdown",
   "metadata": {},
   "source": [
    "Resources may be nested and they can contain maps and lists, but the\n",
    "leaf types are limited to:\n",
    "* the Python primitives of type `int`, `float`, `bool`, `str`, `bytes`, `bool`,\n",
    "* the `None` value,\n",
    "* other resources (i.e., instances of `ResourceBase`),\n",
    "* types of resources (i.e., subclasses of `ResourceBase`).\n",
    "\n",
    "Python maps and lists are allowed and may be nested, but map keys must be of type `str`."
   ]
  },
  {
   "cell_type": "code",
   "execution_count": 4,
   "metadata": {},
   "outputs": [
    {
     "data": {
      "text/plain": [
       "{'primitives': [1, 2.0, False, None, 'test', b'bytes'],\n",
       " 'map_value': {'hello': {'my_field': 'hello', 'my_other_field': 69}},\n",
       " 'nested_resource': {'my_field': 'hola', 'my_other_field': 42},\n",
       " 'resource_type': __main__.MyResource}"
      ]
     },
     "execution_count": 4,
     "metadata": {},
     "output_type": "execute_result"
    }
   ],
   "source": [
    "from typing import Dict, List, Union, Type\n",
    "\n",
    "@dataclasses.dataclass\n",
    "class ComplexResource(enact.Resource):\n",
    "  primitives: List[Union[int, float, bool, str, bytes, bool, type(None)]]\n",
    "  map_value: Dict[str, MyResource]\n",
    "  nested_resource: MyResource\n",
    "  resource_type: Type[MyResource]\n",
    "\n",
    "ComplexResource(\n",
    "  primitives=[1, 2.0, False, None, 'test', b'bytes'],\n",
    "  map_value={'hello': MyResource('hello', 69)},\n",
    "  nested_resource=MyResource('hola', 42),\n",
    "  resource_type=MyResource).to_resource_dict()"
   ]
  },
  {
   "cell_type": "markdown",
   "metadata": {},
   "source": [
    "Violating these type constraints will lead to runtime errors:"
   ]
  },
  {
   "cell_type": "code",
   "execution_count": 5,
   "metadata": {},
   "outputs": [
    {
     "name": "stdout",
     "output_type": "stream",
     "text": [
      "Got error: Encountered unsupported field type <class '__main__.NotAResource'>: <__main__.NotAResource object at 0x7f902cbc14c0>\n"
     ]
    }
   ],
   "source": [
    "class NotAResource:\n",
    "  pass\n",
    "\n",
    "@dataclasses.dataclass\n",
    "class InvalidResource(enact.Resource):\n",
    "  x: NotAResource\n",
    "\n",
    "try:\n",
    "  InvalidResource(NotAResource()).to_resource_dict()\n",
    "except enact.FieldTypeError as e:\n",
    "  print(f'Got error: {e}')"
   ]
  },
  {
   "cell_type": "markdown",
   "metadata": {},
   "source": [
    "## Registering and serializing resources\n",
    "\n",
    "Resources can be serialized to, and deserialized from JSON. When\n",
    "serializing, a reference to the type id of the resource is stored\n",
    "in the output. In order to be able to deserialize resources, we need\n",
    "to register resource types with the framework, which can be \n",
    "accomplished with the `enact.register` decorator."
   ]
  },
  {
   "cell_type": "code",
   "execution_count": 6,
   "metadata": {},
   "outputs": [
    {
     "name": "stdout",
     "output_type": "stream",
     "text": [
      "<class '__main__.ResourceToSerialize'>\n",
      "serialized: b'{\"#res\": \"{\\\\\"digest\\\\\": \\\\\"828bfb94333b141b83518e5a89ee13babbee6ebee3a9b4f52e692400ce31d722\\\\\", \\\\\"name\\\\\": \\\\\"__main__.ResourceToSerialize\\\\\"}\", \"value\": 42}'\n",
      "ResourceToSerialize(value=42)\n"
     ]
    }
   ],
   "source": [
    "@enact.register\n",
    "@dataclasses.dataclass\n",
    "class ResourceToSerialize(enact.Resource):\n",
    "  value: int\n",
    "\n",
    "# After registration we can look up the type by its type_id:\n",
    "print(enact.Registry.get().lookup(ResourceToSerialize.type_id()))\n",
    "\n",
    "serialized = enact.JsonSerializer().serialize(\n",
    "    ResourceToSerialize(42).to_resource_dict())\n",
    "print(f'serialized: {serialized}')\n",
    "\n",
    "# Since the resource is registered, we can deserialize it without specifying its\n",
    "# type.\n",
    "print(enact.JsonSerializer().deserialize(serialized).to_resource())"
   ]
  },
  {
   "cell_type": "markdown",
   "metadata": {},
   "source": [
    "## Resource stores and references\n",
    "\n",
    "The enact framework allows committing resources to a store, which will return a special\n",
    "type of resource called a reference. References refer to a resource via a\n",
    "cryptographic hash digest, that comprises its type information as well as its\n",
    "contents. This means that two identical instances of a resource will return the\n",
    "same reference.\n",
    "\n",
    "Using a store is accomplished by entering its context, which will make it the active\n",
    "store instance. The `enact.commit` function will commit a resource to the active store\n",
    "and return a reference."
   ]
  },
  {
   "cell_type": "code",
   "execution_count": 7,
   "metadata": {},
   "outputs": [
    {
     "name": "stdout",
     "output_type": "stream",
     "text": [
      "<Ref: 947051f773d0e01ed76be7506fe4cfde5be54d35eef91f10b488d3e8b789ee3b>\n",
      "<Ref: 947051f773d0e01ed76be7506fe4cfde5be54d35eef91f10b488d3e8b789ee3b>\n",
      "ref1 and ref2 are identical? True\n",
      "<Ref: e3c81261835f94086c039fadeed74169a6e3afc70733f003ea4484dc3b7ffa79>\n",
      "ref1 and ref3 are identical? False\n"
     ]
    }
   ],
   "source": [
    "# Create an ephemeral in-memory store:\n",
    "with enact.Store() as store:\n",
    "  my_resource = MyResource('hello', 42)\n",
    "  identical_resource = MyResource('hello', 42)\n",
    "  different_resource = MyResource('hello', 43)\n",
    "  \n",
    "  ref1: enact.Ref[MyResource] = enact.commit(my_resource)\n",
    "  ref2: enact.Ref[MyResource] = enact.commit(identical_resource)\n",
    "  print(ref1)\n",
    "  print(ref2)\n",
    "  print(f'ref1 and ref2 are identical? {ref1 == ref2}')\n",
    "  ref3: enact.Ref[MyResource] = enact.commit(different_resource)\n",
    "  print(ref3)\n",
    "  print(f'ref1 and ref3 are identical? {ref1 == ref3}')"
   ]
  },
  {
   "cell_type": "markdown",
   "metadata": {},
   "source": [
    "A `Ref` object `r` can be dereferenced using the `r.get()` function\n",
    "or, more simply, by simply calling `r()`."
   ]
  },
  {
   "cell_type": "code",
   "execution_count": 8,
   "metadata": {},
   "outputs": [
    {
     "name": "stdout",
     "output_type": "stream",
     "text": [
      "MyResource(my_field='hello', my_other_field=42)\n",
      "MyResource(my_field='hello', my_other_field=42)\n"
     ]
    }
   ],
   "source": [
    "with store:\n",
    "  # Must enter context where resource is stored.\n",
    "  print(ref1.get())\n",
    "  # This is equivalent to the above:\n",
    "  print(ref1())"
   ]
  },
  {
   "cell_type": "markdown",
   "metadata": {},
   "source": [
    "Please be aware that that any modifications to a dereferenced resource will not\n",
    "alter the original resource to which the reference points. Conceptually,\n",
    "dereferencing returns a copy of the referenced resource.\n",
    "\n",
    "In order to alter which resource a reference points at, the `modify` context\n",
    "manager may be used:"
   ]
  },
  {
   "cell_type": "code",
   "execution_count": 9,
   "metadata": {},
   "outputs": [
    {
     "name": "stdout",
     "output_type": "stream",
     "text": [
      "Referenced resource:\n",
      "  MyResource(my_field='hello', my_other_field=42)\n",
      "\n",
      "Referenced resource after local change:\n",
      "  MyResource(my_field='hello', my_other_field=42)\n",
      "\n",
      "Reference to new resource after call to modify:\n",
      "  MyResource(my_field='changed again', my_other_field=42)\n"
     ]
    }
   ],
   "source": [
    "with store:\n",
    "  print(f'Referenced resource:\\n  {ref1()}\\n')\n",
    "  resource: MyResource = ref1()\n",
    "  resource.my_field = 'changed'\n",
    "  print(f'Referenced resource after local change:\\n  {ref1()}\\n')\n",
    "  \n",
    "  with ref1.modify() as resource:\n",
    "    resource.my_field = 'changed again'\n",
    "\n",
    "  print(f'Reference to new resource after call to modify:\\n  {ref1()}')"
   ]
  },
  {
   "cell_type": "markdown",
   "metadata": {},
   "source": [
    "### Store backends\n",
    "\n",
    "A store is connected to a backend. The default backend is\n",
    "`enact.InMemoryBackend`, which means that the store has the same lifetime as the\n",
    "process.\n",
    "\n",
    "\n",
    "For persistent storage in the file system, the `FileBackend`\n",
    "can be used:"
   ]
  },
  {
   "cell_type": "code",
   "execution_count": 10,
   "metadata": {},
   "outputs": [
    {
     "name": "stdout",
     "output_type": "stream",
     "text": [
      "MyResource(my_field='hello', my_other_field=42)\n"
     ]
    }
   ],
   "source": [
    "import tempfile\n",
    "\n",
    "# File storage requires that we register the types we want to store\n",
    "# since serialization and deserialization is required to store the data.\n",
    "enact.register(MyResource)\n",
    "\n",
    "with tempfile.TemporaryDirectory() as root_dir:\n",
    "  with enact.Store(enact.FileBackend(root_dir)) as file_store:\n",
    "    ref = enact.commit(MyResource('hello', 42))\n",
    "\n",
    "  del file_store  # Remove reference to file store\n",
    "\n",
    "  with enact.Store(enact.FileBackend(root_dir)) as file_store:\n",
    "    # The resource is still available.\n",
    "    print(ref())"
   ]
  },
  {
   "cell_type": "markdown",
   "metadata": {},
   "source": [
    "New storage backends can be created by implementing the following interface:\n",
    "\n",
    "```python\n",
    "class StorageBackend(abc.ABC):\n",
    "  \"\"\"A storage backend.\"\"\"\n",
    "\n",
    "  @abc.abstractmethod\n",
    "  def commit(self, packed_resource: PackedResource):\n",
    "    \"\"\"Stores a packed resource.\"\"\"\n",
    "\n",
    "  @abc.abstractmethod\n",
    "  def has(self, ref: Ref) -> bool:\n",
    "    \"\"\"Returns whether the storage backend has the resource.\"\"\"\n",
    "\n",
    "  @abc.abstractmethod\n",
    "  def get(self, ref: Ref) -> Optional[interfaces.ResourceDict]:\n",
    "    \"\"\"Returns the packed resource or None if not available.\"\"\"\n",
    "```\n",
    "\n",
    "Resources are _packed_ into serializable dictionaries before being committed.\n",
    "This additional step can be overriden in custom `Ref` subclasses in order to\n",
    "support advanced functionality such as compression or encryption of resources."
   ]
  },
  {
   "cell_type": "markdown",
   "metadata": {},
   "source": [
    "### Stores are hash DAGs\n",
    "\n",
    "Stores contain resources that may contain references to other resources. They\n",
    "can therefore be interpreted as directed graphs.\n",
    "\n",
    "Note that it is not possible to commit two resources that reference each other:\n",
    "Taking a reference requires creating a cryptographic digest of the contents of\n",
    "the resource, including all of its own references. Therefore, to compute the\n",
    "digest of the first resource, we would need to first compute the digest of\n",
    "the second - but this would in turn require computing the digest of the first.\n",
    "\n",
    "Since resources can't reference each other we can conclude that the graph is\n",
    "acyclic, which means that they form a _directed acyclic graph_ (DAG). DAGs that\n",
    "employ this form of hashing are known as Merkle DAGs or hash DAGs. Hash DAGs are\n",
    "generalizations of data structures such as Merkle trees and block chains."
   ]
  },
  {
   "cell_type": "markdown",
   "metadata": {},
   "source": [
    "## Invokables and Invocations\n",
    "\n",
    "`Invokables` are special types of resources that define a `call` function and\n",
    "may optionally be annotated with input and output resource types using the \n",
    "`enact.typed_invokable(input_type, output_type)` decorator. Invokables are\n",
    "callable objects and users should take care to execute them via\n",
    "`my_invokable(input)` rather than via `my_invokable.call(input)`"
   ]
  },
  {
   "cell_type": "code",
   "execution_count": 11,
   "metadata": {},
   "outputs": [
    {
     "data": {
      "text/plain": [
       "'Hello World!'"
      ]
     },
     "execution_count": 11,
     "metadata": {},
     "output_type": "execute_result"
    }
   ],
   "source": [
    "@enact.typed_invokable(enact.Str, enact.Str)  # Will also register the resource.\n",
    "@dataclasses.dataclass\n",
    "class HelloEnact(enact.Invokable):\n",
    "  greeting: str = 'Hello'\n",
    "\n",
    "  def call(self, name: enact.Str) -> enact.Str:\n",
    "    # enact.Str wraps python str in a Resource interface.\n",
    "    return enact.Str(f'{self.greeting} {name}!')\n",
    "\n",
    "greeter = HelloEnact()\n",
    "greeter('World')"
   ]
  },
  {
   "cell_type": "markdown",
   "metadata": {},
   "source": [
    "Similar to the case of resources, `enact.Invokable` is a convenience\n",
    "implementation of the `enact.InvokableBase` base class using dataclasses, and it\n",
    "may be preferable to directly inherit from the latter in some situations.\n",
    "\n",
    "Invokables allow for _tracked executions_ that return a special `Invocation`\n",
    "resource. Invocation must be done in the context of a store and expects\n",
    "a reference to an input:"
   ]
  },
  {
   "cell_type": "code",
   "execution_count": 12,
   "metadata": {},
   "outputs": [
    {
     "name": "stdout",
     "output_type": "stream",
     "text": [
      "Invocation:\n",
      "  request:\n",
      "    -> Request#33f761:\n",
      "      invokable: -> HelloEnact(greeting='Hello')#b408cb\n",
      "      input: -> 'World'#ae44ee\n",
      "  response:\n",
      "    -> Response#1f41be:\n",
      "      invokable: -> HelloEnact(greeting='Hello')#b408cb\n",
      "      output: -> 'Hello World!'#72ff74\n",
      "      raised: None\n",
      "      raised_here: False\n",
      "      children: []\n"
     ]
    }
   ],
   "source": [
    "with store:\n",
    "  input_ref = enact.commit(enact.Str('World'))\n",
    "  invocation = greeter.invoke(input_ref)\n",
    "  enact.pprint(invocation)"
   ]
  },
  {
   "cell_type": "markdown",
   "metadata": {},
   "source": [
    "Note that invoking a resource will recursively track subinvocations; that is, an\n",
    "invocation is a full record of the input, output and any raised exceptions of\n",
    "invokables that participated in the call."
   ]
  },
  {
   "cell_type": "code",
   "execution_count": 13,
   "metadata": {},
   "outputs": [
    {
     "name": "stdout",
     "output_type": "stream",
     "text": [
      "Output: Hello World\n",
      "Invocation:\n",
      "  request:\n",
      "    -> Request#a9e685:\n",
      "      invokable:\n",
      "        -> SampleAndGreet#7f701a:\n",
      "          greeting_sampler:\n",
      "            Sampler:\n",
      "              options:\n",
      "                [\n",
      "                  'Hello'\n",
      "                  'Hi'\n",
      "                  'Greetings']\n",
      "      input: -> 'World'#ae44ee\n",
      "  response:\n",
      "    -> Response#26ab61:\n",
      "      invokable:\n",
      "        -> SampleAndGreet#7f701a:\n",
      "          greeting_sampler:\n",
      "            Sampler:\n",
      "              options:\n",
      "                [\n",
      "                  'Hello'\n",
      "                  'Hi'\n",
      "                  'Greetings']\n",
      "      output: -> 'Hello World'#8d9c46\n",
      "      raised: None\n",
      "      raised_here: False\n",
      "      children:\n",
      "        [\n",
      "          -> Invocation#486f38:\n",
      "            request:\n",
      "              -> Request#fe5514:\n",
      "                invokable:\n",
      "                  -> Sampler#e4a93e:\n",
      "                    options:\n",
      "                      [\n",
      "                        'Hello'\n",
      "                        'Hi'\n",
      "                        'Greetings']\n",
      "                input: -> NoneResource()#4c96e8\n",
      "            response:\n",
      "              -> Response#6bb7bb:\n",
      "                invokable:\n",
      "                  -> Sampler#e4a93e:\n",
      "                    options:\n",
      "                      [\n",
      "                        'Hello'\n",
      "                        'Hi'\n",
      "                        'Greetings']\n",
      "                output: -> 'Hello'#1b6765\n",
      "                raised: None\n",
      "                raised_here: False\n",
      "                children: []]\n"
     ]
    }
   ],
   "source": [
    "import random\n",
    "\n",
    "@enact.typed_invokable(enact.NoneResource, enact.Str)\n",
    "@dataclasses.dataclass\n",
    "class Sampler(enact.Invokable):\n",
    "  options: List[str]\n",
    "\n",
    "  def call(self):\n",
    "   return enact.Str(random.choice(self.options))\n",
    "\n",
    "@enact.typed_invokable(enact.Str, enact.Str)\n",
    "@dataclasses.dataclass\n",
    "class SampleAndGreet(enact.Invokable):\n",
    "  greeting_sampler: Sampler\n",
    "\n",
    "  def call(self, name: enact.Str):\n",
    "    return enact.Str(self.greeting_sampler() + ' ' + name)\n",
    "\n",
    "with store:\n",
    "  sampler = Sampler(options=['Hello', 'Hi', 'Greetings'])\n",
    "  sample_and_greet = SampleAndGreet(greeting_sampler=sampler)\n",
    "  input_ref = enact.commit(enact.Str('World'))\n",
    "  invocation = sample_and_greet.invoke(input_ref)\n",
    "  print(f'Output: {invocation.response().output()}')\n",
    "  enact.pprint(invocation)"
   ]
  },
  {
   "cell_type": "markdown",
   "metadata": {},
   "source": [
    "### Replaying invocations\n",
    "\n",
    "In generative software, it can be useful to partially replay previous\n",
    "executions, e.g., to reuse certain generative outputs but resample others.  To\n",
    "this end, invocations support a replay functionality. By default, a replay will\n",
    "reuse previous execution outputs rather than reexecuting them (additionally, it\n",
    "will attempt to replay any modifications to the invokable during the call), but\n",
    "if a previous invocation raised an exception, or if the invocation is missing an\n",
    "output, it will reexecute the invokable:"
   ]
  },
  {
   "cell_type": "code",
   "execution_count": 14,
   "metadata": {},
   "outputs": [
    {
     "name": "stdout",
     "output_type": "stream",
     "text": [
      "Roll 1: 2\n",
      "Roll 2: 6\n",
      "Result: 8\n",
      "\n",
      "=== Partial replay:\n",
      "Replayed roll 1: 2\n",
      "Rerolled roll 2: 3\n",
      "Result: 5\n"
     ]
    }
   ],
   "source": [
    "@enact.typed_invokable(enact.NoneResource, enact.Int)\n",
    "@dataclasses.dataclass\n",
    "class RollDie(enact.Invokable):\n",
    "  \"\"\"Rolls a die and returns the result.\"\"\"\n",
    "  sides: int = 6\n",
    "\n",
    "  def call(self) -> enact.Int:\n",
    "    return enact.Int(random.randint(1, self.sides))\n",
    "\n",
    "@enact.typed_invokable(enact.NoneResource, enact.Int)\n",
    "@dataclasses.dataclass\n",
    "class RollTwice(enact.Invokable):\n",
    "  \"\"\"Rolls a die twice and returns the sum.\"\"\"\n",
    "  sides: int = 6\n",
    "\n",
    "  def call(self) -> enact.Int:\n",
    "    return enact.Int(RollDie(sides=self.sides)() +\n",
    "                     RollDie(sides=self.sides)())\n",
    "\n",
    "with store:\n",
    "  invocation = RollTwice().invoke()\n",
    "  print(f'Roll 1: {invocation.response().children[0]().get_output()}')\n",
    "  print(f'Roll 2: {invocation.response().children[1]().get_output()}')\n",
    "  print(f'Result: {invocation.get_output()}')\n",
    "\n",
    "  with invocation.response.modify() as response:\n",
    "    # Remove the output of the top level invocation to trigger\n",
    "    # recomputation of RollTwice.\n",
    "    response.output = None\n",
    "    with response.children[1].modify() as child:\n",
    "      # Remove the output of the second dice roll to trigger\n",
    "      # recomputation of the the second call to RollDie.\n",
    "      with child.response.modify() as response:\n",
    "        response.output = None\n",
    "\n",
    "  print(f'\\n=== Partial replay:')\n",
    "  # Replay the partial invocation.\n",
    "  invocation = invocation.replay()\n",
    "  print(f'Replayed roll 1: {invocation.response().children[0]().get_output()}')\n",
    "  print(f'Rerolled roll 2: {invocation.response().children[1]().get_output()}')\n",
    "  print(f'Result: {invocation.get_output()}')\n"
   ]
  },
  {
   "cell_type": "markdown",
   "metadata": {},
   "source": [
    "### Exception overrides\n",
    "\n",
    "The invoke function supports an `exception_override` argument, which allows the\n",
    "injection of resources during a replay in place of an exception that was\n",
    "previously raised. This mechanism can be used to halt an execution to query an\n",
    "external user or data source and then resume with the new value."
   ]
  },
  {
   "cell_type": "code",
   "execution_count": 15,
   "metadata": {},
   "outputs": [
    {
     "name": "stdout",
     "output_type": "stream",
     "text": [
      "Raised: HumanRequired('I am not a user')\n",
      "Injecting value 'Hi' into replay\n",
      "Hi World\n"
     ]
    }
   ],
   "source": [
    "class HumanRequired(enact.ExceptionResource):\n",
    "  pass\n",
    "\n",
    "@enact.typed_invokable(enact.NoneResource, enact.Str)\n",
    "class AskUser(enact.Invokable):\n",
    "  def call(self):\n",
    "    raise HumanRequired('I am not a user')\n",
    "\n",
    "with store:\n",
    "  greeter = SampleAndGreet(AskUser())\n",
    "  input_ref = enact.commit(enact.Str('World'))\n",
    "  invocation = greeter.invoke(input_ref)\n",
    "  print(f'Raised: {repr(invocation.response().raised())}')\n",
    "\n",
    "  def exception_override(exception_ref):\n",
    "    if isinstance(exception_ref(), HumanRequired):\n",
    "      print('Injecting value \\'Hi\\' into replay')\n",
    "      return enact.Str('Hi')\n",
    "\n",
    "  invocation = invocation.replay(\n",
    "      exception_override=exception_override)\n",
    "  print(invocation.get_output())\n",
    "  "
   ]
  },
  {
   "cell_type": "markdown",
   "metadata": {},
   "source": [
    "There is special support in enact to simplify this type of flow.\n",
    "The `request_input` function can be used to raise an `InputRequired`\n",
    "exception, which provides a convenient `continue_invocation` function\n",
    "to resume the replay:"
   ]
  },
  {
   "cell_type": "code",
   "execution_count": 16,
   "metadata": {},
   "outputs": [
    {
     "name": "stdout",
     "output_type": "stream",
     "text": [
      "== First input request:\n",
      "Context: Please provide input\n",
      "== Second input request:\n",
      "Context: Please provide a string to append to the previous input\n",
      "Input: Hello \n",
      "== Result:\n",
      "'Hello World'\n"
     ]
    }
   ],
   "source": [
    "@enact.typed_invokable(enact.NoneResource, enact.Str)\n",
    "class ConcatUserInputs(enact.Invokable):\n",
    "  def call(self):\n",
    "    str1 = enact.request_input(enact.Str, context='Please provide input')\n",
    "    str2 = enact.request_input(\n",
    "      enact.Str,\n",
    "      for_resource=str1,\n",
    "      context='Please provide a string to append to the previous input')\n",
    "    return enact.Str(str1 + str2)\n",
    "\n",
    "with store:\n",
    "  concat = ConcatUserInputs()\n",
    "  invocation = concat.invoke()\n",
    "  print('== First input request:')\n",
    "  print(f'Context: {invocation.get_raised().context}')\n",
    "  invocation = invocation.get_raised().continue_invocation(\n",
    "    invocation,\n",
    "    enact.Str('Hello '))\n",
    "  print('== Second input request:')\n",
    "  print(f'Context: {invocation.get_raised().context}')\n",
    "  print(f'Input: {invocation.get_raised().input()}')\n",
    "  invocation = invocation.get_raised().continue_invocation(\n",
    "    invocation,\n",
    "    enact.Str('World'))\n",
    "  print('== Result:')\n",
    "  enact.pprint(invocation.get_output())\n"
   ]
  },
  {
   "cell_type": "markdown",
   "metadata": {},
   "source": [
    "### Replays and determinism\n",
    "\n",
    "Replays require that the only parts of the code that behave\n",
    "non-deterministically (in the sense of depending on system\n",
    "state or randomness) are wrapped in `Invokable` objects. Python\n",
    "level non-determinism raises an error during replays:"
   ]
  },
  {
   "cell_type": "code",
   "execution_count": 17,
   "metadata": {},
   "outputs": [
    {
     "name": "stdout",
     "output_type": "stream",
     "text": [
      "Current time: 1690854863.451003. Hello World!\n",
      "Got replay error: Expected invocation HelloEnact(greeting='Current time: 1690854863.4521444. Hello')(World) but got HelloEnact(greeting='Current time: 1690854863.451003. Hello')(World).\n",
      "Ensure that all non-deterministic functions are wrapped in invokables or use strict=False.\n"
     ]
    }
   ],
   "source": [
    "import time\n",
    "\n",
    "@enact.typed_invokable(enact.Str, enact.Str)\n",
    "class BadGreeter(enact.Invokable):\n",
    "  \"\"\"A bad greeter that executes non-deterministically.\"\"\"\n",
    "\n",
    "  def call(self, name: enact.Str) -> enact.Str:\n",
    "    \"\"\"Call the greeter.\"\"\"\n",
    "    # Non-determinism originating from a python function rather than a\n",
    "    # subinvocation:\n",
    "    greeting = f'Current time: {time.time()}. Hello'\n",
    "    greeter = HelloEnact(greeting)\n",
    "    return greeter(name)\n",
    "\n",
    "with store:\n",
    "  input_ref = enact.commit(enact.Str('World'))\n",
    "  invocation = BadGreeter().invoke(input_ref)\n",
    "  print(invocation.get_output())\n",
    "  \n",
    "  # Force reexecution of the top-level invokable by deleting its output.\n",
    "  with invocation.response.modify() as response:\n",
    "    response.output = None\n",
    "  \n",
    "  try:\n",
    "    invocation = invocation.replay()\n",
    "  except enact.ReplayError as e:\n",
    "    print(f'Got replay error: {e}')"
   ]
  },
  {
   "cell_type": "markdown",
   "metadata": {},
   "source": [
    "The code above can be fixed by introducing an explicit invokable to determine\n",
    "current time. This allows the replay to reuse the previously generated output."
   ]
  },
  {
   "cell_type": "code",
   "execution_count": 18,
   "metadata": {},
   "outputs": [
    {
     "name": "stdout",
     "output_type": "stream",
     "text": [
      "Current time: 1690854863.501931. Hello World!\n",
      "Current time: 1690854863.501931. Hello World!\n"
     ]
    }
   ],
   "source": [
    "@enact.typed_invokable(enact.NoneResource, enact.Float)\n",
    "class CurrentTime(enact.Invokable):\n",
    "  \"\"\"Returns the current time in seconds since epoch.\"\"\"\n",
    "\n",
    "  def call(self) -> enact.Float:\n",
    "    \"\"\"Return the time.\"\"\"\n",
    "    return enact.Float(time.time())\n",
    "\n",
    "@enact.typed_invokable(enact.Str, enact.Str)\n",
    "class TimeGreeter(enact.Invokable):\n",
    "  \"\"\"A greeter that includes the current time.\"\"\"\n",
    "\n",
    "  def call(self, name: enact.Str) -> enact.Str:\n",
    "    \"\"\"Call the greeter.\"\"\"\n",
    "    timer = CurrentTime()  # Non-determinism wrapped inside invokable.\n",
    "    greeting = f'Current time: {timer()}. Hello'\n",
    "    greeter = HelloEnact(greeting)\n",
    "    return greeter(name)\n",
    "\n",
    "with store:\n",
    "  input_ref = enact.commit(enact.Str('World'))\n",
    "  invocation = TimeGreeter().invoke(input_ref)\n",
    "  print(invocation.get_output())\n",
    "  \n",
    "  # Force reexecution of the top-level invokable by deleting its output.\n",
    "  with invocation.response.modify() as response:\n",
    "    response.output = None\n",
    "  invocation = invocation.replay()\n",
    "  print(invocation.get_output())"
   ]
  }
 ],
 "metadata": {
  "kernelspec": {
   "display_name": ".venv",
   "language": "python",
   "name": "python3"
  },
  "language_info": {
   "codemirror_mode": {
    "name": "ipython",
    "version": 3
   },
   "file_extension": ".py",
   "mimetype": "text/x-python",
   "name": "python",
   "nbconvert_exporter": "python",
   "pygments_lexer": "ipython3",
   "version": "3.8.10"
  },
  "orig_nbformat": 4
 },
 "nbformat": 4,
 "nbformat_minor": 2
}
