{
 "cells": [
  {
   "cell_type": "markdown",
   "metadata": {},
   "source": [
    "# Quickstart\n",
    "\n",
    "This notebook contains the code examples from the [readme](../README.md)."
   ]
  },
  {
   "cell_type": "code",
   "execution_count": null,
   "metadata": {},
   "outputs": [],
   "source": [
    "import enact\n",
    "import dataclasses\n",
    "\n",
    "# Allow re-registration of resources to avoid errors when re-running cells.\n",
    "enact.Registry.get().allow_reregistration = True"
   ]
  },
  {
   "cell_type": "markdown",
   "metadata": {},
   "source": [
    "## Defining and storing custom resources"
   ]
  },
  {
   "cell_type": "code",
   "execution_count": null,
   "metadata": {},
   "outputs": [],
   "source": [
    "@enact.register\n",
    "@dataclasses.dataclass\n",
    "class MyResource(enact.Resource):\n",
    "  x: int\n",
    "  y: float\n",
    "\n",
    "with enact.Store() as store:\n",
    "  ref = enact.commit(MyResource(42, 69.0))\n",
    "  print(ref.id)\n",
    "  print(ref.get())"
   ]
  },
  {
   "cell_type": "markdown",
   "metadata": {},
   "source": [
    "## Invoking resources"
   ]
  },
  {
   "cell_type": "code",
   "execution_count": null,
   "metadata": {},
   "outputs": [],
   "source": [
    "@enact.typed_invokable(input_type=enact.NoneResource, output_type=MyResource)\n",
    "class MyInvokable(enact.Invokable):\n",
    "\n",
    "  def call(self):\n",
    "    return MyResource(42, 69.0)\n",
    "\n",
    "with store:\n",
    "  my_invokable = MyInvokable()\n",
    "  # Simple execution:\n",
    "  print(my_invokable())  # Prints \"MyResource(x=42, y=69.0)\".\n",
    "  # Tracked execution:\n",
    "  invocation = my_invokable.invoke()\n",
    "  enact.pprint(invocation)"
   ]
  },
  {
   "cell_type": "markdown",
   "metadata": {},
   "source": [
    "## Creating UIs"
   ]
  },
  {
   "cell_type": "code",
   "execution_count": null,
   "metadata": {},
   "outputs": [],
   "source": [
    "with store:\n",
    "  ref = enact.commit(my_invokable)\n",
    "  enact.GUI(ref).launch(share=True)"
   ]
  },
  {
   "cell_type": "markdown",
   "metadata": {},
   "source": [
    "### Requesting inputs and replaying invocations"
   ]
  },
  {
   "cell_type": "code",
   "execution_count": null,
   "metadata": {},
   "outputs": [],
   "source": [
    "@enact.typed_invokable(input_type=enact.NoneResource, output_type=MyResource)\n",
    "class SampleFromHuman(enact.Invokable):\n",
    "\n",
    "  def call(self):\n",
    "    request_int = enact.RequestInput(enact.Int)\n",
    "    request_float = enact.RequestInput(enact.Float)\n",
    "    return MyResource(\n",
    "      x=request_int(enact.Str('Please provide an x-value for MyResource.')),\n",
    "      y=request_float(enact.Str('Please provide a y-value for MyResource.')))\n",
    "\n",
    "with store:\n",
    "  h = SampleFromHuman()\n",
    "  # Run until first input request.\n",
    "  invocation = h.invoke()\n",
    "  # Access InputRequest exception.\n",
    "  input_request = invocation.response().raised()\n",
    "  print(input_request.input())  # Prints 'Please provide an x-value ...'.\n",
    "  # Run until second input request.\n",
    "  invocation = input_request.continue_invocation(invocation, enact.Int(42))\n",
    "  # Access InputRequest exception.\n",
    "  input_request = invocation.response().raised()\n",
    "  print(input_request.input())  # Prints 'Please provide a y-value ...'.\n",
    "  # Run until completion.\n",
    "  invocation = input_request.continue_invocation(invocation, enact.Float(69.0))\n",
    "  print(invocation.response().output())  # Prints 'MyResource(x=42, y=69.0)'."
   ]
  },
  {
   "cell_type": "markdown",
   "metadata": {},
   "source": [
    "The above is roughly equivalent to:"
   ]
  },
  {
   "cell_type": "code",
   "execution_count": null,
   "metadata": {},
   "outputs": [],
   "source": [
    "with store:\n",
    "  # Run until first exception.\n",
    "  invocation = h.invoke()\n",
    "  def override_exception(exc_ref):\n",
    "    if exc_ref().requested_type == enact.Int:\n",
    "      return enact.Int(42)\n",
    "    if exc_ref().requested_type == enact.Float:\n",
    "      return enact.Float(69.0)\n",
    "  # Inject first value and run until second exception.\n",
    "  invocation = invocation.replay(override_exception)\n",
    "  # Inject second value and run until completion.\n",
    "  invocation = invocation.replay(override_exception)\n",
    "  print(invocation.response().output())  # Prints 'MyResource(x=42, y=69.0)'."
   ]
  },
  {
   "cell_type": "markdown",
   "metadata": {},
   "source": [
    "UIs can handle input requests automatically. The required types needs to be\n",
    "specified on launch."
   ]
  },
  {
   "cell_type": "code",
   "execution_count": null,
   "metadata": {},
   "outputs": [],
   "source": [
    "with store:\n",
    "  ref = enact.commit(h)\n",
    "  enact.GUI(ref, input_required_inputs=[enact.Int, enact.Float]).launch(\n",
    "    share=True)"
   ]
  }
 ],
 "metadata": {
  "kernelspec": {
   "display_name": ".venv",
   "language": "python",
   "name": "python3"
  },
  "language_info": {
   "codemirror_mode": {
    "name": "ipython",
    "version": 3
   },
   "file_extension": ".py",
   "mimetype": "text/x-python",
   "name": "python",
   "nbconvert_exporter": "python",
   "pygments_lexer": "ipython3",
   "version": "3.8.10"
  },
  "orig_nbformat": 4
 },
 "nbformat": 4,
 "nbformat_minor": 2
}
