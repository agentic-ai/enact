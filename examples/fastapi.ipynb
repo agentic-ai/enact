{
 "cells": [
  {
   "cell_type": "markdown",
   "metadata": {},
   "source": [
    "# Invokable Endpoints \n",
    "\n",
    "This example demonstrates how to quickly convert an invokable into a REST API\n",
    "endpoint via fastapi and the enact.fastapi integration package."
   ]
  },
  {
   "cell_type": "code",
   "execution_count": null,
   "metadata": {},
   "outputs": [],
   "source": [
    "import dataclasses\n",
    "import fastapi\n",
    "import random\n",
    "\n",
    "import enact\n",
    "import enact.fastapi\n",
    "\n",
    "@enact.register\n",
    "@dataclasses.dataclass\n",
    "class MyResource(enact.Resource):\n",
    "  x: int\n",
    "  y: float\n",
    "\n",
    "@enact.typed_invokable(input_type=enact.NoneResource, output_type=MyResource)\n",
    "class MyInvokable(enact.Invokable):\n",
    "  \"\"\"Generates a resource with random values.\"\"\"\n",
    "  def call(self):\n",
    "    return MyResource(random.randint(0, 100), random.random())\n",
    "\n",
    "app = fastapi.FastAPI()\n",
    "\n",
    "with enact.Store() as store:\n",
    "  my_invokable = MyInvokable()\n",
    "  enact.fastapi.get(app, '/invoke/', my_invokable, store)\n"
   ]
  }
 ],
 "metadata": {
  "kernelspec": {
   "display_name": ".venv",
   "language": "python",
   "name": "python3"
  },
  "language_info": {
   "name": "python",
   "version": "3.8.10"
  },
  "orig_nbformat": 4
 },
 "nbformat": 4,
 "nbformat_minor": 2
}
