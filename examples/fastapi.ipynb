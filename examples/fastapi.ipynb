{
 "cells": [
  {
   "cell_type": "markdown",
   "metadata": {},
   "source": [
    "   # Invokable Endpoints\n",
    "   \n",
    "   This example demonstrates how to quickly convert an invokable into a REST API\n",
    "   endpoint via fastapi and the enact.fastapi integration package."
   ]
  },
  {
   "cell_type": "code",
   "execution_count": 1,
   "metadata": {},
   "outputs": [],
   "source": [
    "import asyncio\n",
    "import uvicorn\n",
    "import dataclasses\n",
    "import fastapi\n",
    "import random\n",
    "\n",
    "import enact\n",
    "import enact.fastapi\n",
    "\n",
    "@enact.register\n",
    "@dataclasses.dataclass\n",
    "class MyResource(enact.Resource):\n",
    "  x: int\n",
    "  y: float\n",
    "\n",
    "@enact.typed_invokable(input_type=MyResource, output_type=MyResource)\n",
    "class MyInvokable(enact.Invokable):\n",
    "  \"\"\"Generates a resource with random values.\"\"\"\n",
    "  def call(self, max: MyResource):\n",
    "    return MyResource(random.randint(0, max.x), random.random() * max.y)\n",
    "\n",
    "app = fastapi.FastAPI()\n",
    "my_invokable = MyInvokable()\n",
    "store = enact.Store()\n",
    "enact.fastapi.post(app, '/my_invokable/', my_invokable, store)\n"
   ]
  },
  {
   "cell_type": "markdown",
   "metadata": {},
   "source": [
    "Deploy app using uvicorn:"
   ]
  },
  {
   "cell_type": "code",
   "execution_count": 2,
   "metadata": {},
   "outputs": [
    {
     "name": "stderr",
     "output_type": "stream",
     "text": [
      "INFO:     Started server process [3136122]\n",
      "INFO:     Waiting for application startup.\n",
      "INFO:     Application startup complete.\n",
      "INFO:     Uvicorn running on http://127.0.0.1:8000 (Press CTRL+C to quit)\n"
     ]
    }
   ],
   "source": [
    "config = uvicorn.Config(app)\n",
    "server = uvicorn.Server(config)\n",
    "\n",
    "# run server in background\n",
    "serving_task = asyncio.create_task(server.serve())\n",
    "await asyncio.sleep(1.0)  # Wait a second for startup"
   ]
  },
  {
   "cell_type": "markdown",
   "metadata": {},
   "source": [
    "Access the server using a get requests:"
   ]
  },
  {
   "cell_type": "code",
   "execution_count": 3,
   "metadata": {},
   "outputs": [
    {
     "name": "stdout",
     "output_type": "stream",
     "text": [
      "INFO:     127.0.0.1:56710 - \"POST /my_invokable/ HTTP/1.1\" 200 OK\n"
     ]
    },
    {
     "name": "stdout",
     "output_type": "stream",
     "text": [
      "{'x': 2, 'y': 2.9223888043227157}\n"
     ]
    }
   ],
   "source": [
    "import aiohttp\n",
    "\n",
    "address = 'http://127.0.0.1:8000/my_invokable/'\n",
    "async with aiohttp.ClientSession() as session:\n",
    "  async with session.post(address, json={'x': 5, 'y': 3.0}) as resp:\n",
    "    print(await resp.json())"
   ]
  },
  {
   "cell_type": "markdown",
   "metadata": {},
   "source": [
    "Shut down the server:"
   ]
  },
  {
   "cell_type": "code",
   "execution_count": 4,
   "metadata": {},
   "outputs": [
    {
     "name": "stderr",
     "output_type": "stream",
     "text": [
      "INFO:     Shutting down\n",
      "INFO:     Waiting for application shutdown.\n",
      "INFO:     Application shutdown complete.\n"
     ]
    }
   ],
   "source": [
    "serving_task.cancel()\n",
    "try:\n",
    "  await serving_task\n",
    "except asyncio.CancelledError:\n",
    "  pass\n",
    "await server.shutdown()"
   ]
  }
 ],
 "metadata": {
  "kernelspec": {
   "display_name": ".venv",
   "language": "python",
   "name": "python3"
  },
  "language_info": {
   "codemirror_mode": {
    "name": "ipython",
    "version": 3
   },
   "file_extension": ".py",
   "mimetype": "text/x-python",
   "name": "python",
   "nbconvert_exporter": "python",
   "pygments_lexer": "ipython3",
   "version": "3.8.10"
  },
  "orig_nbformat": 4
 },
 "nbformat": 4,
 "nbformat_minor": 2
}
