{
 "cells": [
  {
   "cell_type": "code",
   "execution_count": null,
   "metadata": {},
   "outputs": [],
   "source": [
    "import enact\n",
    "import chat"
   ]
  },
  {
   "cell_type": "code",
   "execution_count": null,
   "metadata": {},
   "outputs": [],
   "source": [
    "hello_bot = chat.PromptedChatbot(\n",
    "  current_goal='Introduce yourself to the user and ask how they\\'re doing.',\n",
    "  examples=['Howdy, partner! What\\'s up?',\n",
    "            'Hey ho, pirate, how\\'s it hanging?',\n",
    "            'Oi! How\\'s it going?'])\n",
    "\n",
    "whats_up_bot = chat.PromptedChatbot(\n",
    "  current_goal='Ask the user what they want.',\n",
    "  examples=['How can I help you today?'])\n",
    "\n",
    "make_excuses = chat.PromptedChatbot(\n",
    "  current_goal='Make an excuse as to why you can\\'t help the user and end the conversation.',\n",
    "  examples=[\n",
    "    'I\\'m sorry Dave I can\\'t do that, it violates the prime directive. I have to go now.',\n",
    "    'I\\'m sorry, but this goes against my programming.'])\n",
    "\n",
    "chain = chat.ChatbotChain(\n",
    "  [hello_bot, whats_up_bot, make_excuses])\n",
    "\n",
    "store = enact.Store()\n",
    "with store:\n",
    "  enact.GUI(enact.commit(chain)).launch(share=True)"
   ]
  },
  {
   "cell_type": "code",
   "execution_count": null,
   "metadata": {},
   "outputs": [],
   "source": [
    "trainable_chain = chat.ChatbotChain(\n",
    "  [chat.PromptedChatbot(training=True) for _ in range(3)])\n",
    "with store:\n",
    "  enact.GUI(enact.commit(trainable_chain)).launch(share=True)"
   ]
  }
 ],
 "metadata": {
  "kernelspec": {
   "display_name": ".venv",
   "language": "python",
   "name": "python3"
  },
  "language_info": {
   "codemirror_mode": {
    "name": "ipython",
    "version": 3
   },
   "file_extension": ".py",
   "mimetype": "text/x-python",
   "name": "python",
   "nbconvert_exporter": "python",
   "pygments_lexer": "ipython3",
   "version": "3.8.10"
  },
  "orig_nbformat": 4
 },
 "nbformat": 4,
 "nbformat_minor": 2
}
