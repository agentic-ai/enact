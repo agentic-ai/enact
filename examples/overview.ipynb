{
 "cells": [
  {
   "cell_type": "markdown",
   "metadata": {},
   "source": [
    "# Overview\n",
    "\n",
    "These are the code examples from the [README](../README.md)."
   ]
  },
  {
   "cell_type": "code",
   "execution_count": 1,
   "metadata": {},
   "outputs": [
    {
     "name": "stdout",
     "output_type": "stream",
     "text": [
      "->roll_sum(2) = 10\n",
      "  ->roll_die(6) = 4\n",
      "  ->roll_die(6) = 6\n"
     ]
    }
   ],
   "source": [
    "import enact\n",
    "import random\n",
    "\n",
    "@enact.register\n",
    "def roll_die(sides: int) -> int:\n",
    "  \"\"\"Roll a die.\"\"\"\n",
    "  return random.randint(1, sides)\n",
    "\n",
    "@enact.register\n",
    "def roll_sum(num_rolls: int) -> int:\n",
    "  \"\"\"Roll dice.\"\"\"\n",
    "  return sum(roll_die(6) for _ in range(num_rolls))\n",
    "\n",
    "with enact.InMemoryStore() as store:\n",
    "  invocation = enact.invoke(roll_sum, (2,))\n",
    "  print(enact.invocation_summary(invocation))\n"
   ]
  },
  {
   "cell_type": "code",
   "execution_count": 2,
   "metadata": {},
   "outputs": [
    {
     "name": "stdout",
     "output_type": "stream",
     "text": [
      "Partial invocation: \n",
      "->roll_sum(2) incomplete\n",
      "  ->roll_die(6) = 4\n",
      "\n",
      "Replayed invocation: \n",
      "->roll_sum(2) = 9\n",
      "  ->roll_die(6) = 4\n",
      "  ->roll_die(6) = 5\n"
     ]
    }
   ],
   "source": [
    "with store:\n",
    "  first_roll = invocation.rewind(1)    # Rewind by one roll.\n",
    "  print('Partial invocation: ')\n",
    "  print(enact.invocation_summary(first_roll))\n",
    "  reroll_second = first_roll.replay()  # Replay the second die roll.\n",
    "  print('\\nReplayed invocation: ')\n",
    "  print(enact.invocation_summary(reroll_second))"
   ]
  },
  {
   "cell_type": "code",
   "execution_count": 3,
   "metadata": {},
   "outputs": [
    {
     "name": "stdout",
     "output_type": "stream",
     "text": [
      "->roll_dice_user_flow() = 18\n",
      "  ->RequestInput(requested_type=<class 'int'>, context=None)(Total number of rolls?) = 3\n",
      "  ->human_rolls_die() = 6\n",
      "    ->RequestInput(requested_type=<class 'int'>, context=None)(Please roll a die.) = 6\n",
      "  ->human_rolls_die() = 6\n",
      "    ->RequestInput(requested_type=<class 'int'>, context=None)(Please roll a die.) = 6\n",
      "  ->human_rolls_die() = 6\n",
      "    ->RequestInput(requested_type=<class 'int'>, context=None)(Please roll a die.) = 6\n"
     ]
    }
   ],
   "source": [
    "@enact.register\n",
    "def human_rolls_die():\n",
    "  \"\"\"Query the user for a die roll.\"\"\"\n",
    "  return enact.request_input(requested_type=int, for_value='Please roll a die.')\n",
    "\n",
    "@enact.register\n",
    "def roll_dice_user_flow():\n",
    "  \"\"\"Request the number of die to roll and optionally sample die rolls.\"\"\"\n",
    "  num_rolls = enact.request_input(requested_type=int, for_value='Total number of rolls?')\n",
    "  return sum(human_rolls_die() for _ in range(num_rolls))\n",
    "\n",
    "request_responses = {\n",
    "  'Total number of rolls?': 3,  # Roll 3 dice.\n",
    "  'Please roll a die.': 6,      # Humans cheat\n",
    "}\n",
    "\n",
    "with store:\n",
    "  invocation_gen = enact.InvocationGenerator.from_callable(\n",
    "    roll_dice_user_flow)\n",
    "  # Process all user input requests in order.\n",
    "  for input_request in invocation_gen:\n",
    "    invocation_gen.set_input(request_responses[input_request.for_value()])\n",
    "  print(enact.invocation_summary(invocation_gen.invocation))"
   ]
  },
  {
   "cell_type": "code",
   "execution_count": 4,
   "metadata": {},
   "outputs": [
    {
     "name": "stdout",
     "output_type": "stream",
     "text": [
      "MyResource(x=1, y=[2, 3])\n"
     ]
    }
   ],
   "source": [
    "import dataclasses\n",
    "\n",
    "@enact.register\n",
    "@dataclasses.dataclass\n",
    "class MyResource(enact.Resource):\n",
    "  x: int\n",
    "  y: list = dataclasses.field(default_factory=list)\n",
    "  \n",
    "with store:\n",
    "  # Commit your resource to the store, obtain a reference.\n",
    "  ref = enact.commit(MyResource(x=1, y=[2, 3]))\n",
    "  # Check out your reference.\n",
    "  print(ref.checkout())  # Equivalent to ref()\n",
    "  "
   ]
  },
  {
   "cell_type": "code",
   "execution_count": 5,
   "metadata": {},
   "outputs": [
    {
     "name": "stdout",
     "output_type": "stream",
     "text": [
      "-><__main__.Die object at 0x7f39383ce880>.roll() = 3\n"
     ]
    }
   ],
   "source": [
    "class Die:\n",
    "  \"\"\"Non-enact python type.\"\"\"\n",
    "  def __init__(self, sides):\n",
    "    self.sides = sides\n",
    "  \n",
    "  @enact.register\n",
    "  def roll(self):\n",
    "    return random.randint(1, self.sides)\n",
    "\n",
    "@enact.register\n",
    "@dataclasses.dataclass\n",
    "class DieWrapper(enact.ResourceWrapper[Die]):\n",
    "  \"\"\"Wrapper for Die.\"\"\"\n",
    "  sides: int\n",
    "\n",
    "  @classmethod\n",
    "  def wrapped_type(cls):\n",
    "    return Die\n",
    "\n",
    "  @classmethod\n",
    "  def wrap(cls, value: Die):\n",
    "    \"\"\"Translate to enact wrapper.\"\"\"\n",
    "    return DieWrapper(value.sides)\n",
    "  \n",
    "  def unwrap(self) -> Die:\n",
    "    \"\"\"Translate to basic python type.\"\"\"\n",
    "    return Die(self.sides)\n",
    "\n",
    "with store:\n",
    "  die = Die(sides=6)\n",
    "  invocation = enact.invoke(die.roll)\n",
    "  print(enact.invocation_summary(invocation))"
   ]
  }
 ],
 "metadata": {
  "kernelspec": {
   "display_name": ".venv",
   "language": "python",
   "name": "python3"
  },
  "language_info": {
   "codemirror_mode": {
    "name": "ipython",
    "version": 3
   },
   "file_extension": ".py",
   "mimetype": "text/x-python",
   "name": "python",
   "nbconvert_exporter": "python",
   "pygments_lexer": "ipython3",
   "version": "3.8.10"
  },
  "orig_nbformat": 4
 },
 "nbformat": 4,
 "nbformat_minor": 2
}
