{
 "cells": [
  {
   "cell_type": "code",
   "execution_count": null,
   "metadata": {},
   "outputs": [],
   "source": [
    "import asteroids"
   ]
  },
  {
   "cell_type": "code",
   "execution_count": null,
   "metadata": {},
   "outputs": [],
   "source": [
    "class ControlAPI:\n",
    "\n",
    "  def __init__(self, state: asteroids.State):\n",
    "    self.state = state\n",
    "    self.action = asteroids.Action()\n",
    "\n",
    "  def step(self):\n",
    "    yield\n",
    "    self.action = asteroids.Action()\n",
    "\n",
    "  def thrust(self, amount: float):\n",
    "    self.action.thrust = amount\n",
    "\n",
    "  def torque(self, amount: float):\n",
    "    self.action.torque = amount\n",
    "  \n",
    "  def create_policy(self, generator_fun):\n",
    "    policy_gen = generator_fun(self)\n",
    "    def policy(s: asteroids.State) -> asteroids.Action:\n",
    "      self.state = s\n",
    "      try:\n",
    "        next(policy_gen)\n",
    "      finally:\n",
    "        return self.action\n",
    "    return policy"
   ]
  },
  {
   "cell_type": "code",
   "execution_count": null,
   "metadata": {},
   "outputs": [],
   "source": [
    "def policy_gen(api: ControlAPI):\n",
    "  for _ in range(20):\n",
    "    api.thrust(0.5)\n",
    "    api.torque(-0.3)\n",
    "    yield from api.step()\n",
    "  for _ in range(20):\n",
    "    api.thrust(0.5)\n",
    "    api.torque(0.3)\n",
    "    yield from api.step()\n",
    "    \n",
    "def long_policy_gen(api: ControlAPI):\n",
    "  while True:\n",
    "    yield from policy_gen(api)"
   ]
  },
  {
   "cell_type": "code",
   "execution_count": null,
   "metadata": {},
   "outputs": [],
   "source": [
    "c = ControlAPI(asteroids.State())\n",
    "p = c.create_policy(long_policy_gen)\n",
    "\n",
    "asteroids.plot_trajectory(asteroids.create_trajectory(p, ()))"
   ]
  }
 ],
 "metadata": {
  "kernelspec": {
   "display_name": ".venv",
   "language": "python",
   "name": "python3"
  },
  "language_info": {
   "codemirror_mode": {
    "name": "ipython",
    "version": 3
   },
   "file_extension": ".py",
   "mimetype": "text/x-python",
   "name": "python",
   "nbconvert_exporter": "python",
   "pygments_lexer": "ipython3",
   "version": "3.8.10"
  },
  "orig_nbformat": 4
 },
 "nbformat": 4,
 "nbformat_minor": 2
}
